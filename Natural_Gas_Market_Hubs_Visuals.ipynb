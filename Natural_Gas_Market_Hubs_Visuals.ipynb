{
 "cells": [
  {
   "cell_type": "markdown",
   "id": "5489cb4d",
   "metadata": {},
   "source": [
    "# Import Libraries "
   ]
  },
  {
   "cell_type": "code",
   "execution_count": 79,
   "id": "c0ebe1d9",
   "metadata": {},
   "outputs": [],
   "source": [
    "import pandas as pd\n",
    "import numpy as np\n",
    "import matplotlib.pyplot as plt\n",
    "import plotly.express as px\n",
    "\n",
    "import geopandas as gdp\n",
    "import folium\n",
    "import mapclassify"
   ]
  },
  {
   "cell_type": "markdown",
   "id": "b63db754",
   "metadata": {},
   "source": [
    "# Load DataSet"
   ]
  },
  {
   "cell_type": "code",
   "execution_count": 21,
   "id": "ac49002f",
   "metadata": {},
   "outputs": [
    {
     "data": {
      "text/html": [
       "<div>\n",
       "<style scoped>\n",
       "    .dataframe tbody tr th:only-of-type {\n",
       "        vertical-align: middle;\n",
       "    }\n",
       "\n",
       "    .dataframe tbody tr th {\n",
       "        vertical-align: top;\n",
       "    }\n",
       "\n",
       "    .dataframe thead th {\n",
       "        text-align: right;\n",
       "    }\n",
       "</style>\n",
       "<table border=\"1\" class=\"dataframe\">\n",
       "  <thead>\n",
       "    <tr style=\"text-align: right;\">\n",
       "      <th></th>\n",
       "      <th>X</th>\n",
       "      <th>Y</th>\n",
       "      <th>FID</th>\n",
       "      <th>Region</th>\n",
       "      <th>State</th>\n",
       "      <th>Hub_name</th>\n",
       "      <th>Adminstr</th>\n",
       "      <th>Operator</th>\n",
       "      <th>Typeoper</th>\n",
       "      <th>Yr_activat</th>\n",
       "      <th>...</th>\n",
       "      <th>Notes</th>\n",
       "      <th>City</th>\n",
       "      <th>County_1</th>\n",
       "      <th>County_2</th>\n",
       "      <th>Authority</th>\n",
       "      <th>Rates</th>\n",
       "      <th>Platform</th>\n",
       "      <th>Yearofdata</th>\n",
       "      <th>Latitude</th>\n",
       "      <th>Longitude</th>\n",
       "    </tr>\n",
       "  </thead>\n",
       "  <tbody>\n",
       "    <tr>\n",
       "      <th>0</th>\n",
       "      <td>-107.956990</td>\n",
       "      <td>36.686394</td>\n",
       "      <td>1</td>\n",
       "      <td>Southwest</td>\n",
       "      <td>NM</td>\n",
       "      <td>Blanco Hub</td>\n",
       "      <td>Transwestern Gas Pipeline Co</td>\n",
       "      <td>Transwestern Gas Pipeline Co</td>\n",
       "      <td>Production Hub</td>\n",
       "      <td>1993</td>\n",
       "      <td>...</td>\n",
       "      <td>Growth since 03: 77% in avg daily &amp; 22% interc...</td>\n",
       "      <td></td>\n",
       "      <td>San Juan</td>\n",
       "      <td></td>\n",
       "      <td>NGA Section 7</td>\n",
       "      <td>Max - Discount</td>\n",
       "      <td>Intercontinental Exch (San Juan)</td>\n",
       "      <td>2009</td>\n",
       "      <td>36.6864</td>\n",
       "      <td>-107.9570</td>\n",
       "    </tr>\n",
       "    <tr>\n",
       "      <th>1</th>\n",
       "      <td>-100.458991</td>\n",
       "      <td>35.833694</td>\n",
       "      <td>2</td>\n",
       "      <td>Southwest</td>\n",
       "      <td>TX</td>\n",
       "      <td>Buffalo Wallow Center</td>\n",
       "      <td>KM Interstate Gas Transmission co</td>\n",
       "      <td>KM Interstate Gas Transmission co</td>\n",
       "      <td>Market Center</td>\n",
       "      <td>1994</td>\n",
       "      <td>...</td>\n",
       "      <td>Routes flows southward (through WAHA to East T...</td>\n",
       "      <td></td>\n",
       "      <td>Hemphill</td>\n",
       "      <td></td>\n",
       "      <td>FERC Section 311</td>\n",
       "      <td>Max - Discount</td>\n",
       "      <td>No</td>\n",
       "      <td>1999</td>\n",
       "      <td>35.8337</td>\n",
       "      <td>-100.4590</td>\n",
       "    </tr>\n",
       "    <tr>\n",
       "      <th>2</th>\n",
       "      <td>-94.278893</td>\n",
       "      <td>32.159594</td>\n",
       "      <td>3</td>\n",
       "      <td>Southwest</td>\n",
       "      <td>TX</td>\n",
       "      <td>Carthage Hub</td>\n",
       "      <td>DCP Midstream Partners LP</td>\n",
       "      <td>DCP Midstream Inc</td>\n",
       "      <td>Production Hub</td>\n",
       "      <td>1990</td>\n",
       "      <td>...</td>\n",
       "      <td>Site primarily delivers processed gas from Eas...</td>\n",
       "      <td></td>\n",
       "      <td>Panola</td>\n",
       "      <td></td>\n",
       "      <td>FERC Section 311 &amp; State</td>\n",
       "      <td>Max - Discount</td>\n",
       "      <td>Intercontinental Exchange</td>\n",
       "      <td>2008</td>\n",
       "      <td>32.1596</td>\n",
       "      <td>-94.2789</td>\n",
       "    </tr>\n",
       "    <tr>\n",
       "      <th>3</th>\n",
       "      <td>-88.263894</td>\n",
       "      <td>41.500192</td>\n",
       "      <td>4</td>\n",
       "      <td>Midwest</td>\n",
       "      <td>IL</td>\n",
       "      <td>Chicago Hub</td>\n",
       "      <td>Enerchange Inc</td>\n",
       "      <td>Northern Illinois Gas Co  (Nicor)</td>\n",
       "      <td>Market Center</td>\n",
       "      <td>1993</td>\n",
       "      <td>...</td>\n",
       "      <td>Nicor Enerchange Hub Administration, commonly ...</td>\n",
       "      <td>NaN</td>\n",
       "      <td>Various</td>\n",
       "      <td></td>\n",
       "      <td>FERC Section 311</td>\n",
       "      <td>Max - Discount</td>\n",
       "      <td>NGX, Intercontinental Exchange</td>\n",
       "      <td>2008</td>\n",
       "      <td>41.5002</td>\n",
       "      <td>-88.2639</td>\n",
       "    </tr>\n",
       "    <tr>\n",
       "      <th>4</th>\n",
       "      <td>-77.789997</td>\n",
       "      <td>41.397892</td>\n",
       "      <td>5</td>\n",
       "      <td>Northeast</td>\n",
       "      <td>PA</td>\n",
       "      <td>Ellisburg-Leidy Center</td>\n",
       "      <td>National Fuel Gas Supply Co</td>\n",
       "      <td>National Fuel Gas Supply Co</td>\n",
       "      <td>Market Center</td>\n",
       "      <td>1993</td>\n",
       "      <td>...</td>\n",
       "      <td>No longer a formal market center although hub ...</td>\n",
       "      <td></td>\n",
       "      <td>Potter</td>\n",
       "      <td>Clinton</td>\n",
       "      <td>FERC Section 311</td>\n",
       "      <td>Max - Discount</td>\n",
       "      <td>Gas Daily</td>\n",
       "      <td>2008</td>\n",
       "      <td>41.3979</td>\n",
       "      <td>-77.7900</td>\n",
       "    </tr>\n",
       "  </tbody>\n",
       "</table>\n",
       "<p>5 rows × 24 columns</p>\n",
       "</div>"
      ],
      "text/plain": [
       "            X          Y  FID     Region State                Hub_name  \\\n",
       "0 -107.956990  36.686394    1  Southwest    NM              Blanco Hub   \n",
       "1 -100.458991  35.833694    2  Southwest    TX   Buffalo Wallow Center   \n",
       "2  -94.278893  32.159594    3  Southwest    TX            Carthage Hub   \n",
       "3  -88.263894  41.500192    4    Midwest    IL             Chicago Hub   \n",
       "4  -77.789997  41.397892    5  Northeast    PA  Ellisburg-Leidy Center   \n",
       "\n",
       "                            Adminstr                           Operator  \\\n",
       "0       Transwestern Gas Pipeline Co       Transwestern Gas Pipeline Co   \n",
       "1  KM Interstate Gas Transmission co  KM Interstate Gas Transmission co   \n",
       "2          DCP Midstream Partners LP                  DCP Midstream Inc   \n",
       "3                     Enerchange Inc  Northern Illinois Gas Co  (Nicor)   \n",
       "4        National Fuel Gas Supply Co        National Fuel Gas Supply Co   \n",
       "\n",
       "         Typeoper  Yr_activat  ...  \\\n",
       "0  Production Hub        1993  ...   \n",
       "1   Market Center        1994  ...   \n",
       "2  Production Hub        1990  ...   \n",
       "3   Market Center        1993  ...   \n",
       "4   Market Center        1993  ...   \n",
       "\n",
       "                                               Notes  City  County_1 County_2  \\\n",
       "0  Growth since 03: 77% in avg daily & 22% interc...        San Juan            \n",
       "1  Routes flows southward (through WAHA to East T...        Hemphill            \n",
       "2  Site primarily delivers processed gas from Eas...          Panola            \n",
       "3  Nicor Enerchange Hub Administration, commonly ...   NaN   Various            \n",
       "4  No longer a formal market center although hub ...          Potter  Clinton   \n",
       "\n",
       "                  Authority           Rates                          Platform  \\\n",
       "0             NGA Section 7  Max - Discount  Intercontinental Exch (San Juan)   \n",
       "1          FERC Section 311  Max - Discount                                No   \n",
       "2  FERC Section 311 & State  Max - Discount         Intercontinental Exchange   \n",
       "3          FERC Section 311  Max - Discount    NGX, Intercontinental Exchange   \n",
       "4          FERC Section 311  Max - Discount                         Gas Daily   \n",
       "\n",
       "  Yearofdata Latitude Longitude  \n",
       "0       2009  36.6864 -107.9570  \n",
       "1       1999  35.8337 -100.4590  \n",
       "2       2008  32.1596  -94.2789  \n",
       "3       2008  41.5002  -88.2639  \n",
       "4       2008  41.3979  -77.7900  \n",
       "\n",
       "[5 rows x 24 columns]"
      ]
     },
     "execution_count": 21,
     "metadata": {},
     "output_type": "execute_result"
    }
   ],
   "source": [
    "df = pd.read_csv('Data/Natural_Gas_Market_Hubs.csv')\n",
    "df.head()"
   ]
  },
  {
   "cell_type": "markdown",
   "id": "68b3f7e9",
   "metadata": {},
   "source": [
    "# Data Analysis "
   ]
  },
  {
   "cell_type": "code",
   "execution_count": 22,
   "id": "7d9ceb35",
   "metadata": {},
   "outputs": [
    {
     "name": "stdout",
     "output_type": "stream",
     "text": [
      "<class 'pandas.core.frame.DataFrame'>\n",
      "RangeIndex: 58 entries, 0 to 57\n",
      "Data columns (total 24 columns):\n",
      " #   Column      Non-Null Count  Dtype  \n",
      "---  ------      --------------  -----  \n",
      " 0   X           58 non-null     float64\n",
      " 1   Y           58 non-null     float64\n",
      " 2   FID         58 non-null     int64  \n",
      " 3   Region      58 non-null     object \n",
      " 4   State       58 non-null     object \n",
      " 5   Hub_name    58 non-null     object \n",
      " 6   Adminstr    58 non-null     object \n",
      " 7   Operator    56 non-null     object \n",
      " 8   Typeoper    58 non-null     object \n",
      " 9   Yr_activat  58 non-null     int64  \n",
      " 10  Maxthru     58 non-null     int64  \n",
      " 11  Avgdaily    58 non-null     int64  \n",
      " 12  Numcust     58 non-null     int64  \n",
      " 13  Status      58 non-null     object \n",
      " 14  Notes       58 non-null     object \n",
      " 15  City        53 non-null     object \n",
      " 16  County_1    50 non-null     object \n",
      " 17  County_2    58 non-null     object \n",
      " 18  Authority   58 non-null     object \n",
      " 19  Rates       57 non-null     object \n",
      " 20  Platform    58 non-null     object \n",
      " 21  Yearofdata  58 non-null     int64  \n",
      " 22  Latitude    58 non-null     float64\n",
      " 23  Longitude   58 non-null     float64\n",
      "dtypes: float64(4), int64(6), object(14)\n",
      "memory usage: 11.0+ KB\n"
     ]
    }
   ],
   "source": [
    "df.info()"
   ]
  },
  {
   "cell_type": "code",
   "execution_count": 23,
   "id": "a74b0f82",
   "metadata": {
    "scrolled": true
   },
   "outputs": [
    {
     "data": {
      "text/html": [
       "<div>\n",
       "<style scoped>\n",
       "    .dataframe tbody tr th:only-of-type {\n",
       "        vertical-align: middle;\n",
       "    }\n",
       "\n",
       "    .dataframe tbody tr th {\n",
       "        vertical-align: top;\n",
       "    }\n",
       "\n",
       "    .dataframe thead th {\n",
       "        text-align: right;\n",
       "    }\n",
       "</style>\n",
       "<table border=\"1\" class=\"dataframe\">\n",
       "  <thead>\n",
       "    <tr style=\"text-align: right;\">\n",
       "      <th></th>\n",
       "      <th>X</th>\n",
       "      <th>Y</th>\n",
       "      <th>FID</th>\n",
       "      <th>Yr_activat</th>\n",
       "      <th>Maxthru</th>\n",
       "      <th>Avgdaily</th>\n",
       "      <th>Numcust</th>\n",
       "      <th>Yearofdata</th>\n",
       "      <th>Latitude</th>\n",
       "      <th>Longitude</th>\n",
       "    </tr>\n",
       "  </thead>\n",
       "  <tbody>\n",
       "    <tr>\n",
       "      <th>count</th>\n",
       "      <td>58.000000</td>\n",
       "      <td>58.000000</td>\n",
       "      <td>58.000000</td>\n",
       "      <td>58.000000</td>\n",
       "      <td>58.000000</td>\n",
       "      <td>58.000000</td>\n",
       "      <td>58.000000</td>\n",
       "      <td>58.000000</td>\n",
       "      <td>58.000000</td>\n",
       "      <td>58.000000</td>\n",
       "    </tr>\n",
       "    <tr>\n",
       "      <th>mean</th>\n",
       "      <td>-97.508868</td>\n",
       "      <td>35.796658</td>\n",
       "      <td>29.500000</td>\n",
       "      <td>1825.103448</td>\n",
       "      <td>961.586207</td>\n",
       "      <td>545.637931</td>\n",
       "      <td>49.155172</td>\n",
       "      <td>2005.431034</td>\n",
       "      <td>35.796664</td>\n",
       "      <td>-97.508876</td>\n",
       "    </tr>\n",
       "    <tr>\n",
       "      <th>std</th>\n",
       "      <td>12.623782</td>\n",
       "      <td>5.605500</td>\n",
       "      <td>16.886879</td>\n",
       "      <td>565.500173</td>\n",
       "      <td>883.622886</td>\n",
       "      <td>714.481107</td>\n",
       "      <td>106.990539</td>\n",
       "      <td>4.333112</td>\n",
       "      <td>5.605500</td>\n",
       "      <td>12.623786</td>\n",
       "    </tr>\n",
       "    <tr>\n",
       "      <th>min</th>\n",
       "      <td>-122.219985</td>\n",
       "      <td>27.548795</td>\n",
       "      <td>1.000000</td>\n",
       "      <td>0.000000</td>\n",
       "      <td>0.000000</td>\n",
       "      <td>0.000000</td>\n",
       "      <td>0.000000</td>\n",
       "      <td>1996.000000</td>\n",
       "      <td>27.548800</td>\n",
       "      <td>-122.220000</td>\n",
       "    </tr>\n",
       "    <tr>\n",
       "      <th>25%</th>\n",
       "      <td>-107.166740</td>\n",
       "      <td>30.576070</td>\n",
       "      <td>15.250000</td>\n",
       "      <td>1994.000000</td>\n",
       "      <td>337.500000</td>\n",
       "      <td>0.000000</td>\n",
       "      <td>0.000000</td>\n",
       "      <td>2003.000000</td>\n",
       "      <td>30.576075</td>\n",
       "      <td>-107.166750</td>\n",
       "    </tr>\n",
       "    <tr>\n",
       "      <th>50%</th>\n",
       "      <td>-94.818543</td>\n",
       "      <td>34.706595</td>\n",
       "      <td>29.500000</td>\n",
       "      <td>1995.000000</td>\n",
       "      <td>615.000000</td>\n",
       "      <td>300.000000</td>\n",
       "      <td>8.500000</td>\n",
       "      <td>2008.000000</td>\n",
       "      <td>34.706600</td>\n",
       "      <td>-94.818550</td>\n",
       "    </tr>\n",
       "    <tr>\n",
       "      <th>75%</th>\n",
       "      <td>-90.734894</td>\n",
       "      <td>41.091367</td>\n",
       "      <td>43.750000</td>\n",
       "      <td>1998.000000</td>\n",
       "      <td>1675.000000</td>\n",
       "      <td>850.000000</td>\n",
       "      <td>50.000000</td>\n",
       "      <td>2008.000000</td>\n",
       "      <td>41.091375</td>\n",
       "      <td>-90.734900</td>\n",
       "    </tr>\n",
       "    <tr>\n",
       "      <th>max</th>\n",
       "      <td>-74.178498</td>\n",
       "      <td>49.000494</td>\n",
       "      <td>58.000000</td>\n",
       "      <td>2012.000000</td>\n",
       "      <td>3100.000000</td>\n",
       "      <td>2500.000000</td>\n",
       "      <td>660.000000</td>\n",
       "      <td>2009.000000</td>\n",
       "      <td>49.000500</td>\n",
       "      <td>-74.178500</td>\n",
       "    </tr>\n",
       "  </tbody>\n",
       "</table>\n",
       "</div>"
      ],
      "text/plain": [
       "                X          Y        FID   Yr_activat      Maxthru  \\\n",
       "count   58.000000  58.000000  58.000000    58.000000    58.000000   \n",
       "mean   -97.508868  35.796658  29.500000  1825.103448   961.586207   \n",
       "std     12.623782   5.605500  16.886879   565.500173   883.622886   \n",
       "min   -122.219985  27.548795   1.000000     0.000000     0.000000   \n",
       "25%   -107.166740  30.576070  15.250000  1994.000000   337.500000   \n",
       "50%    -94.818543  34.706595  29.500000  1995.000000   615.000000   \n",
       "75%    -90.734894  41.091367  43.750000  1998.000000  1675.000000   \n",
       "max    -74.178498  49.000494  58.000000  2012.000000  3100.000000   \n",
       "\n",
       "          Avgdaily     Numcust   Yearofdata   Latitude   Longitude  \n",
       "count    58.000000   58.000000    58.000000  58.000000   58.000000  \n",
       "mean    545.637931   49.155172  2005.431034  35.796664  -97.508876  \n",
       "std     714.481107  106.990539     4.333112   5.605500   12.623786  \n",
       "min       0.000000    0.000000  1996.000000  27.548800 -122.220000  \n",
       "25%       0.000000    0.000000  2003.000000  30.576075 -107.166750  \n",
       "50%     300.000000    8.500000  2008.000000  34.706600  -94.818550  \n",
       "75%     850.000000   50.000000  2008.000000  41.091375  -90.734900  \n",
       "max    2500.000000  660.000000  2009.000000  49.000500  -74.178500  "
      ]
     },
     "execution_count": 23,
     "metadata": {},
     "output_type": "execute_result"
    }
   ],
   "source": [
    "df.describe()"
   ]
  },
  {
   "cell_type": "code",
   "execution_count": 24,
   "id": "22d23518",
   "metadata": {},
   "outputs": [
    {
     "data": {
      "text/plain": [
       "Region\n",
       "Southwest    26\n",
       "Central       9\n",
       "Northeast     7\n",
       "Western       7\n",
       "Midwest       4\n",
       "Southeast     4\n",
       "Canada        1\n",
       "dtype: int64"
      ]
     },
     "execution_count": 24,
     "metadata": {},
     "output_type": "execute_result"
    }
   ],
   "source": [
    "df.value_counts('Region')"
   ]
  },
  {
   "cell_type": "code",
   "execution_count": 25,
   "id": "b83ccee2",
   "metadata": {},
   "outputs": [
    {
     "data": {
      "text/plain": [
       "State\n",
       "TX    15\n",
       "LA    10\n",
       "PA     6\n",
       "CA     4\n",
       "CO     4\n",
       "WY     3\n",
       "MS     3\n",
       "IL     2\n",
       "KS     2\n",
       "OR     2\n",
       "OH     1\n",
       "AL     1\n",
       "NY     1\n",
       "NM     1\n",
       "BC     1\n",
       "ID     1\n",
       "MI     1\n",
       "dtype: int64"
      ]
     },
     "execution_count": 25,
     "metadata": {},
     "output_type": "execute_result"
    }
   ],
   "source": [
    "df.value_counts('State')"
   ]
  },
  {
   "cell_type": "code",
   "execution_count": 72,
   "id": "55280126",
   "metadata": {},
   "outputs": [
    {
     "data": {
      "text/plain": [
       "Rates\n",
       "Max - Discount    27\n",
       "Market Based      11\n",
       "                  10\n",
       "FERC Tariff        3\n",
       "FERC/State Tif     1\n",
       "Market & Tarif     1\n",
       "Market Based R     1\n",
       "Market-based       1\n",
       "NEB Tariff         1\n",
       "State Tariff       1\n",
       "dtype: int64"
      ]
     },
     "execution_count": 72,
     "metadata": {},
     "output_type": "execute_result"
    }
   ],
   "source": [
    "df.value_counts('Rates')"
   ]
  },
  {
   "cell_type": "code",
   "execution_count": 27,
   "id": "0d4bfbc2",
   "metadata": {},
   "outputs": [
    {
     "data": {
      "text/plain": [
       "X             0\n",
       "Y             0\n",
       "FID           0\n",
       "Region        0\n",
       "State         0\n",
       "Hub_name      0\n",
       "Adminstr      0\n",
       "Operator      2\n",
       "Typeoper      0\n",
       "Yr_activat    0\n",
       "Maxthru       0\n",
       "Avgdaily      0\n",
       "Numcust       0\n",
       "Status        0\n",
       "Notes         0\n",
       "City          5\n",
       "County_1      8\n",
       "County_2      0\n",
       "Authority     0\n",
       "Rates         1\n",
       "Platform      0\n",
       "Yearofdata    0\n",
       "Latitude      0\n",
       "Longitude     0\n",
       "dtype: int64"
      ]
     },
     "execution_count": 27,
     "metadata": {},
     "output_type": "execute_result"
    }
   ],
   "source": [
    "df.isnull().sum()"
   ]
  },
  {
   "cell_type": "code",
   "execution_count": 28,
   "id": "cc2e63d2",
   "metadata": {},
   "outputs": [
    {
     "data": {
      "text/plain": [
       "0"
      ]
     },
     "execution_count": 28,
     "metadata": {},
     "output_type": "execute_result"
    }
   ],
   "source": [
    "df.duplicated().sum()"
   ]
  },
  {
   "cell_type": "markdown",
   "id": "18f3e947",
   "metadata": {},
   "source": [
    "# Visuals\n"
   ]
  },
  {
   "cell_type": "code",
   "execution_count": 29,
   "id": "a6e98400",
   "metadata": {},
   "outputs": [
    {
     "data": {
      "application/vnd.plotly.v1+json": {
       "config": {
        "plotlyServerURL": "https://plot.ly"
       },
       "data": [
        {
         "geo": "geo",
         "hovertemplate": "<b>%{hovertext}</b><br><br>Region=Southwest<br>Avgdaily=%{marker.size}<br>Latitude=%{lat}<br>Longitude=%{lon}<extra></extra>",
         "hovertext": [
          "Blanco Hub",
          "Buffalo Wallow Center",
          "Carthage Hub",
          "Spindletop Storage Hub",
          "Houston Hub",
          "Katy (DCP) Hub",
          "Louisiana Hub",
          "Moss Bluff  Hub",
          "Perryville (Ouachita) Hub",
          "Texaco Gulf Star Center",
          "Waha (Atmos) Hub",
          "Waha (DCP/Atmos) Hub",
          "Egan Hub",
          "Louisiana Intrastate Gas Center",
          "Katy Storage Center",
          "Waha  (ENSTOR) Hub",
          "Aqua Dulce Hub",
          "Perryville Hub",
          "Waha (Encina) Hub",
          "Nautilus Hub",
          "Henry Hub",
          "Houston Hub & Transportation",
          "Waha  (EPGT) Texas Hub",
          "Eagle Hub",
          "Southeast Hub",
          "Jefferson Island Storage Hub"
         ],
         "lat": [
          36.6864,
          35.8337,
          32.1596,
          29.831,
          29.774,
          29.8331,
          29.964,
          30.1568,
          32.7035,
          29.9707,
          31.629,
          31.2251,
          30.2695,
          30.9118,
          29.7501,
          30.8163,
          27.5488,
          32.4354,
          31.2367,
          29.7248,
          29.8955,
          30.1063,
          31.0533,
          32.5077,
          30.1297,
          29.9762
         ],
         "legendgroup": "Southwest",
         "lon": [
          -107.957,
          -100.459,
          -94.2789,
          -94.1679,
          -95.3936,
          -95.8512,
          -92.4296,
          -94.8578,
          -92.0616,
          -91.1768,
          -103.109,
          -103.113,
          -92.3574,
          -92.5285,
          -95.7861,
          -102.331,
          -97.6003,
          -91.5186,
          -103.169,
          -91.4846,
          -92.0631,
          -94.7793,
          -102.842,
          -91.591,
          -93.8421,
          -91.9863
         ],
         "marker": {
          "color": "#636efa",
          "size": [
           1200,
           0,
           600,
           700,
           0,
           300,
           0,
           1600,
           0,
           0,
           300,
           300,
           2000,
           0,
           1400,
           450,
           400,
           1800,
           25,
           350,
           600,
           1000,
           250,
           2000,
           0,
           500
          ],
          "sizemode": "area",
          "sizeref": 6.25,
          "symbol": "circle"
         },
         "mode": "markers",
         "name": "Southwest",
         "showlegend": true,
         "type": "scattergeo"
        },
        {
         "geo": "geo",
         "hovertemplate": "<b>%{hovertext}</b><br><br>Region=Midwest<br>Avgdaily=%{marker.size}<br>Latitude=%{lat}<br>Longitude=%{lon}<extra></extra>",
         "hovertext": [
          "Chicago Hub",
          "Lebanon Hub",
          "Grand Lacs Hub",
          "ANR Joliet Hub"
         ],
         "lat": [
          41.5002,
          39.4159,
          42.2222,
          41.4577
         ],
         "legendgroup": "Midwest",
         "lon": [
          -88.2639,
          -84.1811,
          -83.4014,
          -88.132
         ],
         "marker": {
          "color": "#EF553B",
          "size": [
           100,
           0,
           0,
           600
          ],
          "sizemode": "area",
          "sizeref": 6.25,
          "symbol": "diamond"
         },
         "mode": "markers",
         "name": "Midwest",
         "showlegend": true,
         "type": "scattergeo"
        },
        {
         "geo": "geo",
         "hovertemplate": "<b>%{hovertext}</b><br><br>Region=Northeast<br>Avgdaily=%{marker.size}<br>Latitude=%{lat}<br>Longitude=%{lon}<extra></extra>",
         "hovertext": [
          "Ellisburg-Leidy Center",
          "Dominion Hub",
          "Columbia Gas Center",
          "Avoca Hub",
          "Iroquois Center",
          "Tioga Hub",
          "Marcellus Eastern Access Hub"
         ],
         "lat": [
          41.3979,
          40.5819,
          41.1416,
          42.4401,
          42.6581,
          41.9222,
          40.6563
         ],
         "legendgroup": "Northeast",
         "lon": [
          -77.79,
          -78.1274,
          -78.9074,
          -77.461,
          -74.1785,
          -77.1315,
          -80.0855
         ],
         "marker": {
          "color": "#00cc96",
          "size": [
           432,
           2500,
           0,
           0,
           1400,
           0,
           0
          ],
          "sizemode": "area",
          "sizeref": 6.25,
          "symbol": "square"
         },
         "mode": "markers",
         "name": "Northeast",
         "showlegend": true,
         "type": "scattergeo"
        },
        {
         "geo": "geo",
         "hovertemplate": "<b>%{hovertext}</b><br><br>Region=Central<br>Avgdaily=%{marker.size}<br>Latitude=%{lat}<br>Longitude=%{lon}<extra></extra>",
         "hovertext": [
          "Mid-Continent Center",
          "Rocky Mountain Center",
          "Western Center",
          "Kiowa Hub",
          "Cheyenne Hub",
          "Opal Hub",
          "White River Hub",
          "Greasewood Hub",
          "Meeker Hub"
         ],
         "lat": [
          37.8699,
          41.7912,
          41.2974,
          37.5565,
          40.9407,
          41.7684,
          40.0895,
          40.0377,
          39.9523
         ],
         "legendgroup": "Central",
         "lon": [
          -97.7721,
          -110.306,
          -110.508,
          -99.2558,
          -104.796,
          -110.399,
          -108.17,
          -108.2,
          -108.189
         ],
         "marker": {
          "color": "#ab63fa",
          "size": [
           340,
           0,
           0,
           0,
           1800,
           1450,
           0,
           0,
           0
          ],
          "sizemode": "area",
          "sizeref": 6.25,
          "symbol": "x"
         },
         "mode": "markers",
         "name": "Central",
         "showlegend": true,
         "type": "scattergeo"
        },
        {
         "geo": "geo",
         "hovertemplate": "<b>%{hovertext}</b><br><br>Region=Western<br>Avgdaily=%{marker.size}<br>Latitude=%{lat}<br>Longitude=%{lon}<extra></extra>",
         "hovertext": [
          "California Energy Hub",
          "GTNW Market Center",
          "Ten Section Hub",
          "Mojave Center",
          "Golden Gate Center",
          "Malin Center",
          "Kingsgate Center"
         ],
         "lat": [
          35.8263,
          44.6846,
          34.6888,
          34.7244,
          38.4049,
          42.0338,
          48.9958
         ],
         "legendgroup": "Western",
         "lon": [
          -119.373,
          -121.002,
          -119.368,
          -114.513,
          -121.914,
          -121.372,
          -116.188
         ],
         "marker": {
          "color": "#FFA15A",
          "size": [
           900,
           2300,
           0,
           450,
           2000,
           0,
           0
          ],
          "sizemode": "area",
          "sizeref": 6.25,
          "symbol": "cross"
         },
         "mode": "markers",
         "name": "Western",
         "showlegend": true,
         "type": "scattergeo"
        },
        {
         "geo": "geo",
         "hovertemplate": "<b>%{hovertext}</b><br><br>Region=Canada<br>Avgdaily=%{marker.size}<br>Latitude=%{lat}<br>Longitude=%{lon}<extra></extra>",
         "hovertext": [
          "Sumas Center"
         ],
         "lat": [
          49.0005
         ],
         "legendgroup": "Canada",
         "lon": [
          -122.22
         ],
         "marker": {
          "color": "#19d3f3",
          "size": [
           1000
          ],
          "sizemode": "area",
          "sizeref": 6.25,
          "symbol": "circle"
         },
         "mode": "markers",
         "name": "Canada",
         "showlegend": true,
         "type": "scattergeo"
        },
        {
         "geo": "geo",
         "hovertemplate": "<b>%{hovertext}</b><br><br>Region=Southeast<br>Avgdaily=%{marker.size}<br>Latitude=%{lat}<br>Longitude=%{lon}<extra></extra>",
         "hovertext": [
          "Mobay Storage Hub",
          "Mississippi Hub",
          "Copiah Storage Hub",
          "Southeast Storage Hub"
         ],
         "lat": [
          30.496,
          31.2929,
          31.9134,
          31.3184
         ],
         "legendgroup": "Southeast",
         "lon": [
          -88.2277,
          -88.0739,
          -90.5876,
          -88.6853
         ],
         "marker": {
          "color": "#FF6692",
          "size": [
           0,
           0,
           0,
           600
          ],
          "sizemode": "area",
          "sizeref": 6.25,
          "symbol": "diamond"
         },
         "mode": "markers",
         "name": "Southeast",
         "showlegend": true,
         "type": "scattergeo"
        }
       ],
       "layout": {
        "geo": {
         "center": {},
         "domain": {
          "x": [
           0,
           1
          ],
          "y": [
           0,
           1
          ]
         },
         "scope": "usa"
        },
        "legend": {
         "itemsizing": "constant",
         "title": {
          "text": "Region"
         },
         "tracegroupgap": 0
        },
        "margin": {
         "t": 60
        },
        "template": {
         "data": {
          "bar": [
           {
            "error_x": {
             "color": "#2a3f5f"
            },
            "error_y": {
             "color": "#2a3f5f"
            },
            "marker": {
             "line": {
              "color": "#E5ECF6",
              "width": 0.5
             },
             "pattern": {
              "fillmode": "overlay",
              "size": 10,
              "solidity": 0.2
             }
            },
            "type": "bar"
           }
          ],
          "barpolar": [
           {
            "marker": {
             "line": {
              "color": "#E5ECF6",
              "width": 0.5
             },
             "pattern": {
              "fillmode": "overlay",
              "size": 10,
              "solidity": 0.2
             }
            },
            "type": "barpolar"
           }
          ],
          "carpet": [
           {
            "aaxis": {
             "endlinecolor": "#2a3f5f",
             "gridcolor": "white",
             "linecolor": "white",
             "minorgridcolor": "white",
             "startlinecolor": "#2a3f5f"
            },
            "baxis": {
             "endlinecolor": "#2a3f5f",
             "gridcolor": "white",
             "linecolor": "white",
             "minorgridcolor": "white",
             "startlinecolor": "#2a3f5f"
            },
            "type": "carpet"
           }
          ],
          "choropleth": [
           {
            "colorbar": {
             "outlinewidth": 0,
             "ticks": ""
            },
            "type": "choropleth"
           }
          ],
          "contour": [
           {
            "colorbar": {
             "outlinewidth": 0,
             "ticks": ""
            },
            "colorscale": [
             [
              0,
              "#0d0887"
             ],
             [
              0.1111111111111111,
              "#46039f"
             ],
             [
              0.2222222222222222,
              "#7201a8"
             ],
             [
              0.3333333333333333,
              "#9c179e"
             ],
             [
              0.4444444444444444,
              "#bd3786"
             ],
             [
              0.5555555555555556,
              "#d8576b"
             ],
             [
              0.6666666666666666,
              "#ed7953"
             ],
             [
              0.7777777777777778,
              "#fb9f3a"
             ],
             [
              0.8888888888888888,
              "#fdca26"
             ],
             [
              1,
              "#f0f921"
             ]
            ],
            "type": "contour"
           }
          ],
          "contourcarpet": [
           {
            "colorbar": {
             "outlinewidth": 0,
             "ticks": ""
            },
            "type": "contourcarpet"
           }
          ],
          "heatmap": [
           {
            "colorbar": {
             "outlinewidth": 0,
             "ticks": ""
            },
            "colorscale": [
             [
              0,
              "#0d0887"
             ],
             [
              0.1111111111111111,
              "#46039f"
             ],
             [
              0.2222222222222222,
              "#7201a8"
             ],
             [
              0.3333333333333333,
              "#9c179e"
             ],
             [
              0.4444444444444444,
              "#bd3786"
             ],
             [
              0.5555555555555556,
              "#d8576b"
             ],
             [
              0.6666666666666666,
              "#ed7953"
             ],
             [
              0.7777777777777778,
              "#fb9f3a"
             ],
             [
              0.8888888888888888,
              "#fdca26"
             ],
             [
              1,
              "#f0f921"
             ]
            ],
            "type": "heatmap"
           }
          ],
          "heatmapgl": [
           {
            "colorbar": {
             "outlinewidth": 0,
             "ticks": ""
            },
            "colorscale": [
             [
              0,
              "#0d0887"
             ],
             [
              0.1111111111111111,
              "#46039f"
             ],
             [
              0.2222222222222222,
              "#7201a8"
             ],
             [
              0.3333333333333333,
              "#9c179e"
             ],
             [
              0.4444444444444444,
              "#bd3786"
             ],
             [
              0.5555555555555556,
              "#d8576b"
             ],
             [
              0.6666666666666666,
              "#ed7953"
             ],
             [
              0.7777777777777778,
              "#fb9f3a"
             ],
             [
              0.8888888888888888,
              "#fdca26"
             ],
             [
              1,
              "#f0f921"
             ]
            ],
            "type": "heatmapgl"
           }
          ],
          "histogram": [
           {
            "marker": {
             "pattern": {
              "fillmode": "overlay",
              "size": 10,
              "solidity": 0.2
             }
            },
            "type": "histogram"
           }
          ],
          "histogram2d": [
           {
            "colorbar": {
             "outlinewidth": 0,
             "ticks": ""
            },
            "colorscale": [
             [
              0,
              "#0d0887"
             ],
             [
              0.1111111111111111,
              "#46039f"
             ],
             [
              0.2222222222222222,
              "#7201a8"
             ],
             [
              0.3333333333333333,
              "#9c179e"
             ],
             [
              0.4444444444444444,
              "#bd3786"
             ],
             [
              0.5555555555555556,
              "#d8576b"
             ],
             [
              0.6666666666666666,
              "#ed7953"
             ],
             [
              0.7777777777777778,
              "#fb9f3a"
             ],
             [
              0.8888888888888888,
              "#fdca26"
             ],
             [
              1,
              "#f0f921"
             ]
            ],
            "type": "histogram2d"
           }
          ],
          "histogram2dcontour": [
           {
            "colorbar": {
             "outlinewidth": 0,
             "ticks": ""
            },
            "colorscale": [
             [
              0,
              "#0d0887"
             ],
             [
              0.1111111111111111,
              "#46039f"
             ],
             [
              0.2222222222222222,
              "#7201a8"
             ],
             [
              0.3333333333333333,
              "#9c179e"
             ],
             [
              0.4444444444444444,
              "#bd3786"
             ],
             [
              0.5555555555555556,
              "#d8576b"
             ],
             [
              0.6666666666666666,
              "#ed7953"
             ],
             [
              0.7777777777777778,
              "#fb9f3a"
             ],
             [
              0.8888888888888888,
              "#fdca26"
             ],
             [
              1,
              "#f0f921"
             ]
            ],
            "type": "histogram2dcontour"
           }
          ],
          "mesh3d": [
           {
            "colorbar": {
             "outlinewidth": 0,
             "ticks": ""
            },
            "type": "mesh3d"
           }
          ],
          "parcoords": [
           {
            "line": {
             "colorbar": {
              "outlinewidth": 0,
              "ticks": ""
             }
            },
            "type": "parcoords"
           }
          ],
          "pie": [
           {
            "automargin": true,
            "type": "pie"
           }
          ],
          "scatter": [
           {
            "fillpattern": {
             "fillmode": "overlay",
             "size": 10,
             "solidity": 0.2
            },
            "type": "scatter"
           }
          ],
          "scatter3d": [
           {
            "line": {
             "colorbar": {
              "outlinewidth": 0,
              "ticks": ""
             }
            },
            "marker": {
             "colorbar": {
              "outlinewidth": 0,
              "ticks": ""
             }
            },
            "type": "scatter3d"
           }
          ],
          "scattercarpet": [
           {
            "marker": {
             "colorbar": {
              "outlinewidth": 0,
              "ticks": ""
             }
            },
            "type": "scattercarpet"
           }
          ],
          "scattergeo": [
           {
            "marker": {
             "colorbar": {
              "outlinewidth": 0,
              "ticks": ""
             }
            },
            "type": "scattergeo"
           }
          ],
          "scattergl": [
           {
            "marker": {
             "colorbar": {
              "outlinewidth": 0,
              "ticks": ""
             }
            },
            "type": "scattergl"
           }
          ],
          "scattermapbox": [
           {
            "marker": {
             "colorbar": {
              "outlinewidth": 0,
              "ticks": ""
             }
            },
            "type": "scattermapbox"
           }
          ],
          "scatterpolar": [
           {
            "marker": {
             "colorbar": {
              "outlinewidth": 0,
              "ticks": ""
             }
            },
            "type": "scatterpolar"
           }
          ],
          "scatterpolargl": [
           {
            "marker": {
             "colorbar": {
              "outlinewidth": 0,
              "ticks": ""
             }
            },
            "type": "scatterpolargl"
           }
          ],
          "scatterternary": [
           {
            "marker": {
             "colorbar": {
              "outlinewidth": 0,
              "ticks": ""
             }
            },
            "type": "scatterternary"
           }
          ],
          "surface": [
           {
            "colorbar": {
             "outlinewidth": 0,
             "ticks": ""
            },
            "colorscale": [
             [
              0,
              "#0d0887"
             ],
             [
              0.1111111111111111,
              "#46039f"
             ],
             [
              0.2222222222222222,
              "#7201a8"
             ],
             [
              0.3333333333333333,
              "#9c179e"
             ],
             [
              0.4444444444444444,
              "#bd3786"
             ],
             [
              0.5555555555555556,
              "#d8576b"
             ],
             [
              0.6666666666666666,
              "#ed7953"
             ],
             [
              0.7777777777777778,
              "#fb9f3a"
             ],
             [
              0.8888888888888888,
              "#fdca26"
             ],
             [
              1,
              "#f0f921"
             ]
            ],
            "type": "surface"
           }
          ],
          "table": [
           {
            "cells": {
             "fill": {
              "color": "#EBF0F8"
             },
             "line": {
              "color": "white"
             }
            },
            "header": {
             "fill": {
              "color": "#C8D4E3"
             },
             "line": {
              "color": "white"
             }
            },
            "type": "table"
           }
          ]
         },
         "layout": {
          "annotationdefaults": {
           "arrowcolor": "#2a3f5f",
           "arrowhead": 0,
           "arrowwidth": 1
          },
          "autotypenumbers": "strict",
          "coloraxis": {
           "colorbar": {
            "outlinewidth": 0,
            "ticks": ""
           }
          },
          "colorscale": {
           "diverging": [
            [
             0,
             "#8e0152"
            ],
            [
             0.1,
             "#c51b7d"
            ],
            [
             0.2,
             "#de77ae"
            ],
            [
             0.3,
             "#f1b6da"
            ],
            [
             0.4,
             "#fde0ef"
            ],
            [
             0.5,
             "#f7f7f7"
            ],
            [
             0.6,
             "#e6f5d0"
            ],
            [
             0.7,
             "#b8e186"
            ],
            [
             0.8,
             "#7fbc41"
            ],
            [
             0.9,
             "#4d9221"
            ],
            [
             1,
             "#276419"
            ]
           ],
           "sequential": [
            [
             0,
             "#0d0887"
            ],
            [
             0.1111111111111111,
             "#46039f"
            ],
            [
             0.2222222222222222,
             "#7201a8"
            ],
            [
             0.3333333333333333,
             "#9c179e"
            ],
            [
             0.4444444444444444,
             "#bd3786"
            ],
            [
             0.5555555555555556,
             "#d8576b"
            ],
            [
             0.6666666666666666,
             "#ed7953"
            ],
            [
             0.7777777777777778,
             "#fb9f3a"
            ],
            [
             0.8888888888888888,
             "#fdca26"
            ],
            [
             1,
             "#f0f921"
            ]
           ],
           "sequentialminus": [
            [
             0,
             "#0d0887"
            ],
            [
             0.1111111111111111,
             "#46039f"
            ],
            [
             0.2222222222222222,
             "#7201a8"
            ],
            [
             0.3333333333333333,
             "#9c179e"
            ],
            [
             0.4444444444444444,
             "#bd3786"
            ],
            [
             0.5555555555555556,
             "#d8576b"
            ],
            [
             0.6666666666666666,
             "#ed7953"
            ],
            [
             0.7777777777777778,
             "#fb9f3a"
            ],
            [
             0.8888888888888888,
             "#fdca26"
            ],
            [
             1,
             "#f0f921"
            ]
           ]
          },
          "colorway": [
           "#636efa",
           "#EF553B",
           "#00cc96",
           "#ab63fa",
           "#FFA15A",
           "#19d3f3",
           "#FF6692",
           "#B6E880",
           "#FF97FF",
           "#FECB52"
          ],
          "font": {
           "color": "#2a3f5f"
          },
          "geo": {
           "bgcolor": "white",
           "lakecolor": "white",
           "landcolor": "#E5ECF6",
           "showlakes": true,
           "showland": true,
           "subunitcolor": "white"
          },
          "hoverlabel": {
           "align": "left"
          },
          "hovermode": "closest",
          "mapbox": {
           "style": "light"
          },
          "paper_bgcolor": "white",
          "plot_bgcolor": "#E5ECF6",
          "polar": {
           "angularaxis": {
            "gridcolor": "white",
            "linecolor": "white",
            "ticks": ""
           },
           "bgcolor": "#E5ECF6",
           "radialaxis": {
            "gridcolor": "white",
            "linecolor": "white",
            "ticks": ""
           }
          },
          "scene": {
           "xaxis": {
            "backgroundcolor": "#E5ECF6",
            "gridcolor": "white",
            "gridwidth": 2,
            "linecolor": "white",
            "showbackground": true,
            "ticks": "",
            "zerolinecolor": "white"
           },
           "yaxis": {
            "backgroundcolor": "#E5ECF6",
            "gridcolor": "white",
            "gridwidth": 2,
            "linecolor": "white",
            "showbackground": true,
            "ticks": "",
            "zerolinecolor": "white"
           },
           "zaxis": {
            "backgroundcolor": "#E5ECF6",
            "gridcolor": "white",
            "gridwidth": 2,
            "linecolor": "white",
            "showbackground": true,
            "ticks": "",
            "zerolinecolor": "white"
           }
          },
          "shapedefaults": {
           "line": {
            "color": "#2a3f5f"
           }
          },
          "ternary": {
           "aaxis": {
            "gridcolor": "white",
            "linecolor": "white",
            "ticks": ""
           },
           "baxis": {
            "gridcolor": "white",
            "linecolor": "white",
            "ticks": ""
           },
           "bgcolor": "#E5ECF6",
           "caxis": {
            "gridcolor": "white",
            "linecolor": "white",
            "ticks": ""
           }
          },
          "title": {
           "x": 0.05
          },
          "xaxis": {
           "automargin": true,
           "gridcolor": "white",
           "linecolor": "white",
           "ticks": "",
           "title": {
            "standoff": 15
           },
           "zerolinecolor": "white",
           "zerolinewidth": 2
          },
          "yaxis": {
           "automargin": true,
           "gridcolor": "white",
           "linecolor": "white",
           "ticks": "",
           "title": {
            "standoff": 15
           },
           "zerolinecolor": "white",
           "zerolinewidth": 2
          }
         }
        },
        "title": {
         "font": {
          "family": "Overpass",
          "size": 21
         },
         "text": "Natural Gas Transmission Hubs in the United States (2009)<br><sup>*Data Source: Homeland Infrastructure Foundation</sup><br><sup>Px Geo Map: Shape Size Based on Customers Avg. Daily Usage.</sup>"
        }
       }
      },
      "text/html": [
       "<div>                            <div id=\"50d93916-290f-449f-994b-d103c17bbc95\" class=\"plotly-graph-div\" style=\"height:525px; width:100%;\"></div>            <script type=\"text/javascript\">                require([\"plotly\"], function(Plotly) {                    window.PLOTLYENV=window.PLOTLYENV || {};                                    if (document.getElementById(\"50d93916-290f-449f-994b-d103c17bbc95\")) {                    Plotly.newPlot(                        \"50d93916-290f-449f-994b-d103c17bbc95\",                        [{\"geo\":\"geo\",\"hovertemplate\":\"<b>%{hovertext}</b><br><br>Region=Southwest<br>Avgdaily=%{marker.size}<br>Latitude=%{lat}<br>Longitude=%{lon}<extra></extra>\",\"hovertext\":[\"Blanco Hub\",\"Buffalo Wallow Center\",\"Carthage Hub\",\"Spindletop Storage Hub\",\"Houston Hub\",\"Katy (DCP) Hub\",\"Louisiana Hub\",\"Moss Bluff  Hub\",\"Perryville (Ouachita) Hub\",\"Texaco Gulf Star Center\",\"Waha (Atmos) Hub\",\"Waha (DCP/Atmos) Hub\",\"Egan Hub\",\"Louisiana Intrastate Gas Center\",\"Katy Storage Center\",\"Waha  (ENSTOR) Hub\",\"Aqua Dulce Hub\",\"Perryville Hub\",\"Waha (Encina) Hub\",\"Nautilus Hub\",\"Henry Hub\",\"Houston Hub & Transportation\",\"Waha  (EPGT) Texas Hub\",\"Eagle Hub\",\"Southeast Hub\",\"Jefferson Island Storage Hub\"],\"lat\":[36.6864,35.8337,32.1596,29.831,29.774,29.8331,29.964,30.1568,32.7035,29.9707,31.629,31.2251,30.2695,30.9118,29.7501,30.8163,27.5488,32.4354,31.2367,29.7248,29.8955,30.1063,31.0533,32.5077,30.1297,29.9762],\"legendgroup\":\"Southwest\",\"lon\":[-107.957,-100.459,-94.2789,-94.1679,-95.3936,-95.8512,-92.4296,-94.8578,-92.0616,-91.1768,-103.109,-103.113,-92.3574,-92.5285,-95.7861,-102.331,-97.6003,-91.5186,-103.169,-91.4846,-92.0631,-94.7793,-102.842,-91.591,-93.8421,-91.9863],\"marker\":{\"color\":\"#636efa\",\"size\":[1200,0,600,700,0,300,0,1600,0,0,300,300,2000,0,1400,450,400,1800,25,350,600,1000,250,2000,0,500],\"sizemode\":\"area\",\"sizeref\":6.25,\"symbol\":\"circle\"},\"mode\":\"markers\",\"name\":\"Southwest\",\"showlegend\":true,\"type\":\"scattergeo\"},{\"geo\":\"geo\",\"hovertemplate\":\"<b>%{hovertext}</b><br><br>Region=Midwest<br>Avgdaily=%{marker.size}<br>Latitude=%{lat}<br>Longitude=%{lon}<extra></extra>\",\"hovertext\":[\"Chicago Hub\",\"Lebanon Hub\",\"Grand Lacs Hub\",\"ANR Joliet Hub\"],\"lat\":[41.5002,39.4159,42.2222,41.4577],\"legendgroup\":\"Midwest\",\"lon\":[-88.2639,-84.1811,-83.4014,-88.132],\"marker\":{\"color\":\"#EF553B\",\"size\":[100,0,0,600],\"sizemode\":\"area\",\"sizeref\":6.25,\"symbol\":\"diamond\"},\"mode\":\"markers\",\"name\":\"Midwest\",\"showlegend\":true,\"type\":\"scattergeo\"},{\"geo\":\"geo\",\"hovertemplate\":\"<b>%{hovertext}</b><br><br>Region=Northeast<br>Avgdaily=%{marker.size}<br>Latitude=%{lat}<br>Longitude=%{lon}<extra></extra>\",\"hovertext\":[\"Ellisburg-Leidy Center\",\"Dominion Hub\",\"Columbia Gas Center\",\"Avoca Hub\",\"Iroquois Center\",\"Tioga Hub\",\"Marcellus Eastern Access Hub\"],\"lat\":[41.3979,40.5819,41.1416,42.4401,42.6581,41.9222,40.6563],\"legendgroup\":\"Northeast\",\"lon\":[-77.79,-78.1274,-78.9074,-77.461,-74.1785,-77.1315,-80.0855],\"marker\":{\"color\":\"#00cc96\",\"size\":[432,2500,0,0,1400,0,0],\"sizemode\":\"area\",\"sizeref\":6.25,\"symbol\":\"square\"},\"mode\":\"markers\",\"name\":\"Northeast\",\"showlegend\":true,\"type\":\"scattergeo\"},{\"geo\":\"geo\",\"hovertemplate\":\"<b>%{hovertext}</b><br><br>Region=Central<br>Avgdaily=%{marker.size}<br>Latitude=%{lat}<br>Longitude=%{lon}<extra></extra>\",\"hovertext\":[\"Mid-Continent Center\",\"Rocky Mountain Center\",\"Western Center\",\"Kiowa Hub\",\"Cheyenne Hub\",\"Opal Hub\",\"White River Hub\",\"Greasewood Hub\",\"Meeker Hub\"],\"lat\":[37.8699,41.7912,41.2974,37.5565,40.9407,41.7684,40.0895,40.0377,39.9523],\"legendgroup\":\"Central\",\"lon\":[-97.7721,-110.306,-110.508,-99.2558,-104.796,-110.399,-108.17,-108.2,-108.189],\"marker\":{\"color\":\"#ab63fa\",\"size\":[340,0,0,0,1800,1450,0,0,0],\"sizemode\":\"area\",\"sizeref\":6.25,\"symbol\":\"x\"},\"mode\":\"markers\",\"name\":\"Central\",\"showlegend\":true,\"type\":\"scattergeo\"},{\"geo\":\"geo\",\"hovertemplate\":\"<b>%{hovertext}</b><br><br>Region=Western<br>Avgdaily=%{marker.size}<br>Latitude=%{lat}<br>Longitude=%{lon}<extra></extra>\",\"hovertext\":[\"California Energy Hub\",\"GTNW Market Center\",\"Ten Section Hub\",\"Mojave Center\",\"Golden Gate Center\",\"Malin Center\",\"Kingsgate Center\"],\"lat\":[35.8263,44.6846,34.6888,34.7244,38.4049,42.0338,48.9958],\"legendgroup\":\"Western\",\"lon\":[-119.373,-121.002,-119.368,-114.513,-121.914,-121.372,-116.188],\"marker\":{\"color\":\"#FFA15A\",\"size\":[900,2300,0,450,2000,0,0],\"sizemode\":\"area\",\"sizeref\":6.25,\"symbol\":\"cross\"},\"mode\":\"markers\",\"name\":\"Western\",\"showlegend\":true,\"type\":\"scattergeo\"},{\"geo\":\"geo\",\"hovertemplate\":\"<b>%{hovertext}</b><br><br>Region=Canada<br>Avgdaily=%{marker.size}<br>Latitude=%{lat}<br>Longitude=%{lon}<extra></extra>\",\"hovertext\":[\"Sumas Center\"],\"lat\":[49.0005],\"legendgroup\":\"Canada\",\"lon\":[-122.22],\"marker\":{\"color\":\"#19d3f3\",\"size\":[1000],\"sizemode\":\"area\",\"sizeref\":6.25,\"symbol\":\"circle\"},\"mode\":\"markers\",\"name\":\"Canada\",\"showlegend\":true,\"type\":\"scattergeo\"},{\"geo\":\"geo\",\"hovertemplate\":\"<b>%{hovertext}</b><br><br>Region=Southeast<br>Avgdaily=%{marker.size}<br>Latitude=%{lat}<br>Longitude=%{lon}<extra></extra>\",\"hovertext\":[\"Mobay Storage Hub\",\"Mississippi Hub\",\"Copiah Storage Hub\",\"Southeast Storage Hub\"],\"lat\":[30.496,31.2929,31.9134,31.3184],\"legendgroup\":\"Southeast\",\"lon\":[-88.2277,-88.0739,-90.5876,-88.6853],\"marker\":{\"color\":\"#FF6692\",\"size\":[0,0,0,600],\"sizemode\":\"area\",\"sizeref\":6.25,\"symbol\":\"diamond\"},\"mode\":\"markers\",\"name\":\"Southeast\",\"showlegend\":true,\"type\":\"scattergeo\"}],                        {\"template\":{\"data\":{\"histogram2dcontour\":[{\"type\":\"histogram2dcontour\",\"colorbar\":{\"outlinewidth\":0,\"ticks\":\"\"},\"colorscale\":[[0.0,\"#0d0887\"],[0.1111111111111111,\"#46039f\"],[0.2222222222222222,\"#7201a8\"],[0.3333333333333333,\"#9c179e\"],[0.4444444444444444,\"#bd3786\"],[0.5555555555555556,\"#d8576b\"],[0.6666666666666666,\"#ed7953\"],[0.7777777777777778,\"#fb9f3a\"],[0.8888888888888888,\"#fdca26\"],[1.0,\"#f0f921\"]]}],\"choropleth\":[{\"type\":\"choropleth\",\"colorbar\":{\"outlinewidth\":0,\"ticks\":\"\"}}],\"histogram2d\":[{\"type\":\"histogram2d\",\"colorbar\":{\"outlinewidth\":0,\"ticks\":\"\"},\"colorscale\":[[0.0,\"#0d0887\"],[0.1111111111111111,\"#46039f\"],[0.2222222222222222,\"#7201a8\"],[0.3333333333333333,\"#9c179e\"],[0.4444444444444444,\"#bd3786\"],[0.5555555555555556,\"#d8576b\"],[0.6666666666666666,\"#ed7953\"],[0.7777777777777778,\"#fb9f3a\"],[0.8888888888888888,\"#fdca26\"],[1.0,\"#f0f921\"]]}],\"heatmap\":[{\"type\":\"heatmap\",\"colorbar\":{\"outlinewidth\":0,\"ticks\":\"\"},\"colorscale\":[[0.0,\"#0d0887\"],[0.1111111111111111,\"#46039f\"],[0.2222222222222222,\"#7201a8\"],[0.3333333333333333,\"#9c179e\"],[0.4444444444444444,\"#bd3786\"],[0.5555555555555556,\"#d8576b\"],[0.6666666666666666,\"#ed7953\"],[0.7777777777777778,\"#fb9f3a\"],[0.8888888888888888,\"#fdca26\"],[1.0,\"#f0f921\"]]}],\"heatmapgl\":[{\"type\":\"heatmapgl\",\"colorbar\":{\"outlinewidth\":0,\"ticks\":\"\"},\"colorscale\":[[0.0,\"#0d0887\"],[0.1111111111111111,\"#46039f\"],[0.2222222222222222,\"#7201a8\"],[0.3333333333333333,\"#9c179e\"],[0.4444444444444444,\"#bd3786\"],[0.5555555555555556,\"#d8576b\"],[0.6666666666666666,\"#ed7953\"],[0.7777777777777778,\"#fb9f3a\"],[0.8888888888888888,\"#fdca26\"],[1.0,\"#f0f921\"]]}],\"contourcarpet\":[{\"type\":\"contourcarpet\",\"colorbar\":{\"outlinewidth\":0,\"ticks\":\"\"}}],\"contour\":[{\"type\":\"contour\",\"colorbar\":{\"outlinewidth\":0,\"ticks\":\"\"},\"colorscale\":[[0.0,\"#0d0887\"],[0.1111111111111111,\"#46039f\"],[0.2222222222222222,\"#7201a8\"],[0.3333333333333333,\"#9c179e\"],[0.4444444444444444,\"#bd3786\"],[0.5555555555555556,\"#d8576b\"],[0.6666666666666666,\"#ed7953\"],[0.7777777777777778,\"#fb9f3a\"],[0.8888888888888888,\"#fdca26\"],[1.0,\"#f0f921\"]]}],\"surface\":[{\"type\":\"surface\",\"colorbar\":{\"outlinewidth\":0,\"ticks\":\"\"},\"colorscale\":[[0.0,\"#0d0887\"],[0.1111111111111111,\"#46039f\"],[0.2222222222222222,\"#7201a8\"],[0.3333333333333333,\"#9c179e\"],[0.4444444444444444,\"#bd3786\"],[0.5555555555555556,\"#d8576b\"],[0.6666666666666666,\"#ed7953\"],[0.7777777777777778,\"#fb9f3a\"],[0.8888888888888888,\"#fdca26\"],[1.0,\"#f0f921\"]]}],\"mesh3d\":[{\"type\":\"mesh3d\",\"colorbar\":{\"outlinewidth\":0,\"ticks\":\"\"}}],\"scatter\":[{\"fillpattern\":{\"fillmode\":\"overlay\",\"size\":10,\"solidity\":0.2},\"type\":\"scatter\"}],\"parcoords\":[{\"type\":\"parcoords\",\"line\":{\"colorbar\":{\"outlinewidth\":0,\"ticks\":\"\"}}}],\"scatterpolargl\":[{\"type\":\"scatterpolargl\",\"marker\":{\"colorbar\":{\"outlinewidth\":0,\"ticks\":\"\"}}}],\"bar\":[{\"error_x\":{\"color\":\"#2a3f5f\"},\"error_y\":{\"color\":\"#2a3f5f\"},\"marker\":{\"line\":{\"color\":\"#E5ECF6\",\"width\":0.5},\"pattern\":{\"fillmode\":\"overlay\",\"size\":10,\"solidity\":0.2}},\"type\":\"bar\"}],\"scattergeo\":[{\"type\":\"scattergeo\",\"marker\":{\"colorbar\":{\"outlinewidth\":0,\"ticks\":\"\"}}}],\"scatterpolar\":[{\"type\":\"scatterpolar\",\"marker\":{\"colorbar\":{\"outlinewidth\":0,\"ticks\":\"\"}}}],\"histogram\":[{\"marker\":{\"pattern\":{\"fillmode\":\"overlay\",\"size\":10,\"solidity\":0.2}},\"type\":\"histogram\"}],\"scattergl\":[{\"type\":\"scattergl\",\"marker\":{\"colorbar\":{\"outlinewidth\":0,\"ticks\":\"\"}}}],\"scatter3d\":[{\"type\":\"scatter3d\",\"line\":{\"colorbar\":{\"outlinewidth\":0,\"ticks\":\"\"}},\"marker\":{\"colorbar\":{\"outlinewidth\":0,\"ticks\":\"\"}}}],\"scattermapbox\":[{\"type\":\"scattermapbox\",\"marker\":{\"colorbar\":{\"outlinewidth\":0,\"ticks\":\"\"}}}],\"scatterternary\":[{\"type\":\"scatterternary\",\"marker\":{\"colorbar\":{\"outlinewidth\":0,\"ticks\":\"\"}}}],\"scattercarpet\":[{\"type\":\"scattercarpet\",\"marker\":{\"colorbar\":{\"outlinewidth\":0,\"ticks\":\"\"}}}],\"carpet\":[{\"aaxis\":{\"endlinecolor\":\"#2a3f5f\",\"gridcolor\":\"white\",\"linecolor\":\"white\",\"minorgridcolor\":\"white\",\"startlinecolor\":\"#2a3f5f\"},\"baxis\":{\"endlinecolor\":\"#2a3f5f\",\"gridcolor\":\"white\",\"linecolor\":\"white\",\"minorgridcolor\":\"white\",\"startlinecolor\":\"#2a3f5f\"},\"type\":\"carpet\"}],\"table\":[{\"cells\":{\"fill\":{\"color\":\"#EBF0F8\"},\"line\":{\"color\":\"white\"}},\"header\":{\"fill\":{\"color\":\"#C8D4E3\"},\"line\":{\"color\":\"white\"}},\"type\":\"table\"}],\"barpolar\":[{\"marker\":{\"line\":{\"color\":\"#E5ECF6\",\"width\":0.5},\"pattern\":{\"fillmode\":\"overlay\",\"size\":10,\"solidity\":0.2}},\"type\":\"barpolar\"}],\"pie\":[{\"automargin\":true,\"type\":\"pie\"}]},\"layout\":{\"autotypenumbers\":\"strict\",\"colorway\":[\"#636efa\",\"#EF553B\",\"#00cc96\",\"#ab63fa\",\"#FFA15A\",\"#19d3f3\",\"#FF6692\",\"#B6E880\",\"#FF97FF\",\"#FECB52\"],\"font\":{\"color\":\"#2a3f5f\"},\"hovermode\":\"closest\",\"hoverlabel\":{\"align\":\"left\"},\"paper_bgcolor\":\"white\",\"plot_bgcolor\":\"#E5ECF6\",\"polar\":{\"bgcolor\":\"#E5ECF6\",\"angularaxis\":{\"gridcolor\":\"white\",\"linecolor\":\"white\",\"ticks\":\"\"},\"radialaxis\":{\"gridcolor\":\"white\",\"linecolor\":\"white\",\"ticks\":\"\"}},\"ternary\":{\"bgcolor\":\"#E5ECF6\",\"aaxis\":{\"gridcolor\":\"white\",\"linecolor\":\"white\",\"ticks\":\"\"},\"baxis\":{\"gridcolor\":\"white\",\"linecolor\":\"white\",\"ticks\":\"\"},\"caxis\":{\"gridcolor\":\"white\",\"linecolor\":\"white\",\"ticks\":\"\"}},\"coloraxis\":{\"colorbar\":{\"outlinewidth\":0,\"ticks\":\"\"}},\"colorscale\":{\"sequential\":[[0.0,\"#0d0887\"],[0.1111111111111111,\"#46039f\"],[0.2222222222222222,\"#7201a8\"],[0.3333333333333333,\"#9c179e\"],[0.4444444444444444,\"#bd3786\"],[0.5555555555555556,\"#d8576b\"],[0.6666666666666666,\"#ed7953\"],[0.7777777777777778,\"#fb9f3a\"],[0.8888888888888888,\"#fdca26\"],[1.0,\"#f0f921\"]],\"sequentialminus\":[[0.0,\"#0d0887\"],[0.1111111111111111,\"#46039f\"],[0.2222222222222222,\"#7201a8\"],[0.3333333333333333,\"#9c179e\"],[0.4444444444444444,\"#bd3786\"],[0.5555555555555556,\"#d8576b\"],[0.6666666666666666,\"#ed7953\"],[0.7777777777777778,\"#fb9f3a\"],[0.8888888888888888,\"#fdca26\"],[1.0,\"#f0f921\"]],\"diverging\":[[0,\"#8e0152\"],[0.1,\"#c51b7d\"],[0.2,\"#de77ae\"],[0.3,\"#f1b6da\"],[0.4,\"#fde0ef\"],[0.5,\"#f7f7f7\"],[0.6,\"#e6f5d0\"],[0.7,\"#b8e186\"],[0.8,\"#7fbc41\"],[0.9,\"#4d9221\"],[1,\"#276419\"]]},\"xaxis\":{\"gridcolor\":\"white\",\"linecolor\":\"white\",\"ticks\":\"\",\"title\":{\"standoff\":15},\"zerolinecolor\":\"white\",\"automargin\":true,\"zerolinewidth\":2},\"yaxis\":{\"gridcolor\":\"white\",\"linecolor\":\"white\",\"ticks\":\"\",\"title\":{\"standoff\":15},\"zerolinecolor\":\"white\",\"automargin\":true,\"zerolinewidth\":2},\"scene\":{\"xaxis\":{\"backgroundcolor\":\"#E5ECF6\",\"gridcolor\":\"white\",\"linecolor\":\"white\",\"showbackground\":true,\"ticks\":\"\",\"zerolinecolor\":\"white\",\"gridwidth\":2},\"yaxis\":{\"backgroundcolor\":\"#E5ECF6\",\"gridcolor\":\"white\",\"linecolor\":\"white\",\"showbackground\":true,\"ticks\":\"\",\"zerolinecolor\":\"white\",\"gridwidth\":2},\"zaxis\":{\"backgroundcolor\":\"#E5ECF6\",\"gridcolor\":\"white\",\"linecolor\":\"white\",\"showbackground\":true,\"ticks\":\"\",\"zerolinecolor\":\"white\",\"gridwidth\":2}},\"shapedefaults\":{\"line\":{\"color\":\"#2a3f5f\"}},\"annotationdefaults\":{\"arrowcolor\":\"#2a3f5f\",\"arrowhead\":0,\"arrowwidth\":1},\"geo\":{\"bgcolor\":\"white\",\"landcolor\":\"#E5ECF6\",\"subunitcolor\":\"white\",\"showland\":true,\"showlakes\":true,\"lakecolor\":\"white\"},\"title\":{\"x\":0.05},\"mapbox\":{\"style\":\"light\"}}},\"geo\":{\"domain\":{\"x\":[0.0,1.0],\"y\":[0.0,1.0]},\"center\":{},\"scope\":\"usa\"},\"legend\":{\"title\":{\"text\":\"Region\"},\"tracegroupgap\":0,\"itemsizing\":\"constant\"},\"margin\":{\"t\":60},\"title\":{\"text\":\"Natural Gas Transmission Hubs in the United States (2009)<br><sup>*Data Source: Homeland Infrastructure Foundation</sup><br><sup>Px Geo Map: Shape Size Based on Customers Avg. Daily Usage.</sup>\",\"font\":{\"family\":\"Overpass\",\"size\":21}}},                        {\"responsive\": true}                    ).then(function(){\n",
       "                            \n",
       "var gd = document.getElementById('50d93916-290f-449f-994b-d103c17bbc95');\n",
       "var x = new MutationObserver(function (mutations, observer) {{\n",
       "        var display = window.getComputedStyle(gd).display;\n",
       "        if (!display || display === 'none') {{\n",
       "            console.log([gd, 'removed!']);\n",
       "            Plotly.purge(gd);\n",
       "            observer.disconnect();\n",
       "        }}\n",
       "}});\n",
       "\n",
       "// Listen for the removal of the full notebook cells\n",
       "var notebookContainer = gd.closest('#notebook-container');\n",
       "if (notebookContainer) {{\n",
       "    x.observe(notebookContainer, {childList: true});\n",
       "}}\n",
       "\n",
       "// Listen for the clearing of the current output cell\n",
       "var outputEl = gd.closest('.output');\n",
       "if (outputEl) {{\n",
       "    x.observe(outputEl, {childList: true});\n",
       "}}\n",
       "\n",
       "                        })                };                });            </script>        </div>"
      ]
     },
     "metadata": {},
     "output_type": "display_data"
    }
   ],
   "source": [
    "fig = px.scatter_geo(df, lat='Latitude', lon='Longitude', \n",
    "                     scope = 'usa', hover_name='Hub_name', \n",
    "                     size='Avgdaily', color='Region', symbol=\"Region\")\n",
    "\n",
    "fig.update_layout(\n",
    "        title = 'Natural Gas Transmission Hubs in the United States (2009)<br><sup>*Data Source: Homeland Infrastructure Foundation</sup><br><sup>Px Geo Map: Shape Size Based on Customers Avg. Daily Usage.</sup>'\n",
    "    , title_font_family=\"Overpass\", title_font_size=21,)\n",
    "\n",
    "\n",
    "fig.show()\n",
    "\n"
   ]
  },
  {
   "cell_type": "code",
   "execution_count": 30,
   "id": "72adf824",
   "metadata": {},
   "outputs": [
    {
     "data": {
      "application/vnd.plotly.v1+json": {
       "config": {
        "plotlyServerURL": "https://plot.ly"
       },
       "data": [
        {
         "geo": "geo",
         "hovertemplate": "<b>%{hovertext}</b><br><br>Numcust=%{marker.size}<br>Latitude=%{lat}<br>Longitude=%{lon}<br>Avgdaily=%{marker.color}<extra></extra>",
         "hovertext": [
          "Blanco Hub",
          "Buffalo Wallow Center",
          "Carthage Hub",
          "Chicago Hub",
          "Ellisburg-Leidy Center",
          "Spindletop Storage Hub",
          "Houston Hub",
          "Katy (DCP) Hub",
          "Lebanon Hub",
          "Louisiana Hub",
          "Moss Bluff  Hub",
          "Perryville (Ouachita) Hub",
          "Texaco Gulf Star Center",
          "Waha (Atmos) Hub",
          "Waha (DCP/Atmos) Hub",
          "Egan Hub",
          "Louisiana Intrastate Gas Center",
          "Katy Storage Center",
          "Waha  (ENSTOR) Hub",
          "Aqua Dulce Hub",
          "Grand Lacs Hub",
          "Mid-Continent Center",
          "Dominion Hub",
          "Columbia Gas Center",
          "Rocky Mountain Center",
          "Western Center",
          "California Energy Hub",
          "GTNW Market Center",
          "Ten Section Hub",
          "Perryville Hub",
          "Avoca Hub",
          "Iroquois Center",
          "Tioga Hub",
          "Mojave Center",
          "Golden Gate Center",
          "Sumas Center",
          "Waha (Encina) Hub",
          "Kiowa Hub",
          "Mobay Storage Hub",
          "Cheyenne Hub",
          "Nautilus Hub",
          "Malin Center",
          "ANR Joliet Hub",
          "Mississippi Hub",
          "Henry Hub",
          "Copiah Storage Hub",
          "Kingsgate Center",
          "Opal Hub",
          "Southeast Storage Hub",
          "Houston Hub & Transportation",
          "Waha  (EPGT) Texas Hub",
          "White River Hub",
          "Eagle Hub",
          "Marcellus Eastern Access Hub",
          "Southeast Hub",
          "Greasewood Hub",
          "Meeker Hub",
          "Jefferson Island Storage Hub"
         ],
         "lat": [
          36.6864,
          35.8337,
          32.1596,
          41.5002,
          41.3979,
          29.831,
          29.774,
          29.8331,
          39.4159,
          29.964,
          30.1568,
          32.7035,
          29.9707,
          31.629,
          31.2251,
          30.2695,
          30.9118,
          29.7501,
          30.8163,
          27.5488,
          42.2222,
          37.8699,
          40.5819,
          41.1416,
          41.7912,
          41.2974,
          35.8263,
          44.6846,
          34.6888,
          32.4354,
          42.4401,
          42.6581,
          41.9222,
          34.7244,
          38.4049,
          49.0005,
          31.2367,
          37.5565,
          30.496,
          40.9407,
          29.7248,
          42.0338,
          41.4577,
          31.2929,
          29.8955,
          31.9134,
          48.9958,
          41.7684,
          31.3184,
          30.1063,
          31.0533,
          40.0895,
          32.5077,
          40.6563,
          30.1297,
          40.0377,
          39.9523,
          29.9762
         ],
         "legendgroup": "",
         "lon": [
          -107.957,
          -100.459,
          -94.2789,
          -88.2639,
          -77.79,
          -94.1679,
          -95.3936,
          -95.8512,
          -84.1811,
          -92.4296,
          -94.8578,
          -92.0616,
          -91.1768,
          -103.109,
          -103.113,
          -92.3574,
          -92.5285,
          -95.7861,
          -102.331,
          -97.6003,
          -83.4014,
          -97.7721,
          -78.1274,
          -78.9074,
          -110.306,
          -110.508,
          -119.373,
          -121.002,
          -119.368,
          -91.5186,
          -77.461,
          -74.1785,
          -77.1315,
          -114.513,
          -121.914,
          -122.22,
          -103.169,
          -99.2558,
          -88.2277,
          -104.796,
          -91.4846,
          -121.372,
          -88.132,
          -88.0739,
          -92.0631,
          -90.5876,
          -116.188,
          -110.399,
          -88.6853,
          -94.7793,
          -102.842,
          -108.17,
          -91.591,
          -80.0855,
          -93.8421,
          -108.2,
          -108.189,
          -91.9863
         ],
         "marker": {
          "color": [
           1200,
           0,
           600,
           100,
           432,
           700,
           0,
           300,
           0,
           0,
           1600,
           0,
           0,
           300,
           300,
           2000,
           0,
           1400,
           450,
           400,
           0,
           340,
           2500,
           0,
           0,
           0,
           900,
           2300,
           0,
           1800,
           0,
           1400,
           0,
           450,
           2000,
           1000,
           25,
           0,
           0,
           1800,
           350,
           0,
           600,
           0,
           600,
           0,
           0,
           1450,
           600,
           1000,
           250,
           0,
           2000,
           0,
           0,
           0,
           0,
           500
          ],
          "coloraxis": "coloraxis",
          "size": [
           40,
           20,
           200,
           10,
           85,
           20,
           200,
           12,
           0,
           0,
           40,
           0,
           350,
           50,
           62,
           40,
           50,
           30,
           0,
           0,
           0,
           10,
           250,
           50,
           0,
           0,
           60,
           660,
           0,
           0,
           0,
           55,
           0,
           7,
           20,
           120,
           0,
           0,
           0,
           40,
           14,
           0,
           60,
           0,
           180,
           0,
           0,
           80,
           0,
           0,
           30,
           6,
           0,
           0,
           0,
           0,
           0,
           0
          ],
          "sizemode": "area",
          "sizeref": 1.65,
          "symbol": "circle"
         },
         "mode": "markers",
         "name": "",
         "showlegend": false,
         "type": "scattergeo"
        }
       ],
       "layout": {
        "coloraxis": {
         "colorbar": {
          "title": {
           "text": "Avgdaily"
          }
         },
         "colorscale": [
          [
           0,
           "#0d0887"
          ],
          [
           0.1111111111111111,
           "#46039f"
          ],
          [
           0.2222222222222222,
           "#7201a8"
          ],
          [
           0.3333333333333333,
           "#9c179e"
          ],
          [
           0.4444444444444444,
           "#bd3786"
          ],
          [
           0.5555555555555556,
           "#d8576b"
          ],
          [
           0.6666666666666666,
           "#ed7953"
          ],
          [
           0.7777777777777778,
           "#fb9f3a"
          ],
          [
           0.8888888888888888,
           "#fdca26"
          ],
          [
           1,
           "#f0f921"
          ]
         ]
        },
        "geo": {
         "center": {},
         "countrycolor": "Black",
         "domain": {
          "x": [
           0,
           1
          ],
          "y": [
           0,
           1
          ]
         },
         "landcolor": "LightGreen",
         "lataxis": {
          "showgrid": true
         },
         "lonaxis": {
          "showgrid": true
         },
         "resolution": 110,
         "scope": "usa",
         "showcountries": true,
         "showland": true,
         "showsubunits": true,
         "subunitcolor": "Black",
         "visible": false
        },
        "legend": {
         "itemsizing": "constant",
         "tracegroupgap": 0
        },
        "margin": {
         "t": 60
        },
        "template": {
         "data": {
          "bar": [
           {
            "error_x": {
             "color": "#2a3f5f"
            },
            "error_y": {
             "color": "#2a3f5f"
            },
            "marker": {
             "line": {
              "color": "#E5ECF6",
              "width": 0.5
             },
             "pattern": {
              "fillmode": "overlay",
              "size": 10,
              "solidity": 0.2
             }
            },
            "type": "bar"
           }
          ],
          "barpolar": [
           {
            "marker": {
             "line": {
              "color": "#E5ECF6",
              "width": 0.5
             },
             "pattern": {
              "fillmode": "overlay",
              "size": 10,
              "solidity": 0.2
             }
            },
            "type": "barpolar"
           }
          ],
          "carpet": [
           {
            "aaxis": {
             "endlinecolor": "#2a3f5f",
             "gridcolor": "white",
             "linecolor": "white",
             "minorgridcolor": "white",
             "startlinecolor": "#2a3f5f"
            },
            "baxis": {
             "endlinecolor": "#2a3f5f",
             "gridcolor": "white",
             "linecolor": "white",
             "minorgridcolor": "white",
             "startlinecolor": "#2a3f5f"
            },
            "type": "carpet"
           }
          ],
          "choropleth": [
           {
            "colorbar": {
             "outlinewidth": 0,
             "ticks": ""
            },
            "type": "choropleth"
           }
          ],
          "contour": [
           {
            "colorbar": {
             "outlinewidth": 0,
             "ticks": ""
            },
            "colorscale": [
             [
              0,
              "#0d0887"
             ],
             [
              0.1111111111111111,
              "#46039f"
             ],
             [
              0.2222222222222222,
              "#7201a8"
             ],
             [
              0.3333333333333333,
              "#9c179e"
             ],
             [
              0.4444444444444444,
              "#bd3786"
             ],
             [
              0.5555555555555556,
              "#d8576b"
             ],
             [
              0.6666666666666666,
              "#ed7953"
             ],
             [
              0.7777777777777778,
              "#fb9f3a"
             ],
             [
              0.8888888888888888,
              "#fdca26"
             ],
             [
              1,
              "#f0f921"
             ]
            ],
            "type": "contour"
           }
          ],
          "contourcarpet": [
           {
            "colorbar": {
             "outlinewidth": 0,
             "ticks": ""
            },
            "type": "contourcarpet"
           }
          ],
          "heatmap": [
           {
            "colorbar": {
             "outlinewidth": 0,
             "ticks": ""
            },
            "colorscale": [
             [
              0,
              "#0d0887"
             ],
             [
              0.1111111111111111,
              "#46039f"
             ],
             [
              0.2222222222222222,
              "#7201a8"
             ],
             [
              0.3333333333333333,
              "#9c179e"
             ],
             [
              0.4444444444444444,
              "#bd3786"
             ],
             [
              0.5555555555555556,
              "#d8576b"
             ],
             [
              0.6666666666666666,
              "#ed7953"
             ],
             [
              0.7777777777777778,
              "#fb9f3a"
             ],
             [
              0.8888888888888888,
              "#fdca26"
             ],
             [
              1,
              "#f0f921"
             ]
            ],
            "type": "heatmap"
           }
          ],
          "heatmapgl": [
           {
            "colorbar": {
             "outlinewidth": 0,
             "ticks": ""
            },
            "colorscale": [
             [
              0,
              "#0d0887"
             ],
             [
              0.1111111111111111,
              "#46039f"
             ],
             [
              0.2222222222222222,
              "#7201a8"
             ],
             [
              0.3333333333333333,
              "#9c179e"
             ],
             [
              0.4444444444444444,
              "#bd3786"
             ],
             [
              0.5555555555555556,
              "#d8576b"
             ],
             [
              0.6666666666666666,
              "#ed7953"
             ],
             [
              0.7777777777777778,
              "#fb9f3a"
             ],
             [
              0.8888888888888888,
              "#fdca26"
             ],
             [
              1,
              "#f0f921"
             ]
            ],
            "type": "heatmapgl"
           }
          ],
          "histogram": [
           {
            "marker": {
             "pattern": {
              "fillmode": "overlay",
              "size": 10,
              "solidity": 0.2
             }
            },
            "type": "histogram"
           }
          ],
          "histogram2d": [
           {
            "colorbar": {
             "outlinewidth": 0,
             "ticks": ""
            },
            "colorscale": [
             [
              0,
              "#0d0887"
             ],
             [
              0.1111111111111111,
              "#46039f"
             ],
             [
              0.2222222222222222,
              "#7201a8"
             ],
             [
              0.3333333333333333,
              "#9c179e"
             ],
             [
              0.4444444444444444,
              "#bd3786"
             ],
             [
              0.5555555555555556,
              "#d8576b"
             ],
             [
              0.6666666666666666,
              "#ed7953"
             ],
             [
              0.7777777777777778,
              "#fb9f3a"
             ],
             [
              0.8888888888888888,
              "#fdca26"
             ],
             [
              1,
              "#f0f921"
             ]
            ],
            "type": "histogram2d"
           }
          ],
          "histogram2dcontour": [
           {
            "colorbar": {
             "outlinewidth": 0,
             "ticks": ""
            },
            "colorscale": [
             [
              0,
              "#0d0887"
             ],
             [
              0.1111111111111111,
              "#46039f"
             ],
             [
              0.2222222222222222,
              "#7201a8"
             ],
             [
              0.3333333333333333,
              "#9c179e"
             ],
             [
              0.4444444444444444,
              "#bd3786"
             ],
             [
              0.5555555555555556,
              "#d8576b"
             ],
             [
              0.6666666666666666,
              "#ed7953"
             ],
             [
              0.7777777777777778,
              "#fb9f3a"
             ],
             [
              0.8888888888888888,
              "#fdca26"
             ],
             [
              1,
              "#f0f921"
             ]
            ],
            "type": "histogram2dcontour"
           }
          ],
          "mesh3d": [
           {
            "colorbar": {
             "outlinewidth": 0,
             "ticks": ""
            },
            "type": "mesh3d"
           }
          ],
          "parcoords": [
           {
            "line": {
             "colorbar": {
              "outlinewidth": 0,
              "ticks": ""
             }
            },
            "type": "parcoords"
           }
          ],
          "pie": [
           {
            "automargin": true,
            "type": "pie"
           }
          ],
          "scatter": [
           {
            "fillpattern": {
             "fillmode": "overlay",
             "size": 10,
             "solidity": 0.2
            },
            "type": "scatter"
           }
          ],
          "scatter3d": [
           {
            "line": {
             "colorbar": {
              "outlinewidth": 0,
              "ticks": ""
             }
            },
            "marker": {
             "colorbar": {
              "outlinewidth": 0,
              "ticks": ""
             }
            },
            "type": "scatter3d"
           }
          ],
          "scattercarpet": [
           {
            "marker": {
             "colorbar": {
              "outlinewidth": 0,
              "ticks": ""
             }
            },
            "type": "scattercarpet"
           }
          ],
          "scattergeo": [
           {
            "marker": {
             "colorbar": {
              "outlinewidth": 0,
              "ticks": ""
             }
            },
            "type": "scattergeo"
           }
          ],
          "scattergl": [
           {
            "marker": {
             "colorbar": {
              "outlinewidth": 0,
              "ticks": ""
             }
            },
            "type": "scattergl"
           }
          ],
          "scattermapbox": [
           {
            "marker": {
             "colorbar": {
              "outlinewidth": 0,
              "ticks": ""
             }
            },
            "type": "scattermapbox"
           }
          ],
          "scatterpolar": [
           {
            "marker": {
             "colorbar": {
              "outlinewidth": 0,
              "ticks": ""
             }
            },
            "type": "scatterpolar"
           }
          ],
          "scatterpolargl": [
           {
            "marker": {
             "colorbar": {
              "outlinewidth": 0,
              "ticks": ""
             }
            },
            "type": "scatterpolargl"
           }
          ],
          "scatterternary": [
           {
            "marker": {
             "colorbar": {
              "outlinewidth": 0,
              "ticks": ""
             }
            },
            "type": "scatterternary"
           }
          ],
          "surface": [
           {
            "colorbar": {
             "outlinewidth": 0,
             "ticks": ""
            },
            "colorscale": [
             [
              0,
              "#0d0887"
             ],
             [
              0.1111111111111111,
              "#46039f"
             ],
             [
              0.2222222222222222,
              "#7201a8"
             ],
             [
              0.3333333333333333,
              "#9c179e"
             ],
             [
              0.4444444444444444,
              "#bd3786"
             ],
             [
              0.5555555555555556,
              "#d8576b"
             ],
             [
              0.6666666666666666,
              "#ed7953"
             ],
             [
              0.7777777777777778,
              "#fb9f3a"
             ],
             [
              0.8888888888888888,
              "#fdca26"
             ],
             [
              1,
              "#f0f921"
             ]
            ],
            "type": "surface"
           }
          ],
          "table": [
           {
            "cells": {
             "fill": {
              "color": "#EBF0F8"
             },
             "line": {
              "color": "white"
             }
            },
            "header": {
             "fill": {
              "color": "#C8D4E3"
             },
             "line": {
              "color": "white"
             }
            },
            "type": "table"
           }
          ]
         },
         "layout": {
          "annotationdefaults": {
           "arrowcolor": "#2a3f5f",
           "arrowhead": 0,
           "arrowwidth": 1
          },
          "autotypenumbers": "strict",
          "coloraxis": {
           "colorbar": {
            "outlinewidth": 0,
            "ticks": ""
           }
          },
          "colorscale": {
           "diverging": [
            [
             0,
             "#8e0152"
            ],
            [
             0.1,
             "#c51b7d"
            ],
            [
             0.2,
             "#de77ae"
            ],
            [
             0.3,
             "#f1b6da"
            ],
            [
             0.4,
             "#fde0ef"
            ],
            [
             0.5,
             "#f7f7f7"
            ],
            [
             0.6,
             "#e6f5d0"
            ],
            [
             0.7,
             "#b8e186"
            ],
            [
             0.8,
             "#7fbc41"
            ],
            [
             0.9,
             "#4d9221"
            ],
            [
             1,
             "#276419"
            ]
           ],
           "sequential": [
            [
             0,
             "#0d0887"
            ],
            [
             0.1111111111111111,
             "#46039f"
            ],
            [
             0.2222222222222222,
             "#7201a8"
            ],
            [
             0.3333333333333333,
             "#9c179e"
            ],
            [
             0.4444444444444444,
             "#bd3786"
            ],
            [
             0.5555555555555556,
             "#d8576b"
            ],
            [
             0.6666666666666666,
             "#ed7953"
            ],
            [
             0.7777777777777778,
             "#fb9f3a"
            ],
            [
             0.8888888888888888,
             "#fdca26"
            ],
            [
             1,
             "#f0f921"
            ]
           ],
           "sequentialminus": [
            [
             0,
             "#0d0887"
            ],
            [
             0.1111111111111111,
             "#46039f"
            ],
            [
             0.2222222222222222,
             "#7201a8"
            ],
            [
             0.3333333333333333,
             "#9c179e"
            ],
            [
             0.4444444444444444,
             "#bd3786"
            ],
            [
             0.5555555555555556,
             "#d8576b"
            ],
            [
             0.6666666666666666,
             "#ed7953"
            ],
            [
             0.7777777777777778,
             "#fb9f3a"
            ],
            [
             0.8888888888888888,
             "#fdca26"
            ],
            [
             1,
             "#f0f921"
            ]
           ]
          },
          "colorway": [
           "#636efa",
           "#EF553B",
           "#00cc96",
           "#ab63fa",
           "#FFA15A",
           "#19d3f3",
           "#FF6692",
           "#B6E880",
           "#FF97FF",
           "#FECB52"
          ],
          "font": {
           "color": "#2a3f5f"
          },
          "geo": {
           "bgcolor": "white",
           "lakecolor": "white",
           "landcolor": "#E5ECF6",
           "showlakes": true,
           "showland": true,
           "subunitcolor": "white"
          },
          "hoverlabel": {
           "align": "left"
          },
          "hovermode": "closest",
          "mapbox": {
           "style": "light"
          },
          "paper_bgcolor": "white",
          "plot_bgcolor": "#E5ECF6",
          "polar": {
           "angularaxis": {
            "gridcolor": "white",
            "linecolor": "white",
            "ticks": ""
           },
           "bgcolor": "#E5ECF6",
           "radialaxis": {
            "gridcolor": "white",
            "linecolor": "white",
            "ticks": ""
           }
          },
          "scene": {
           "xaxis": {
            "backgroundcolor": "#E5ECF6",
            "gridcolor": "white",
            "gridwidth": 2,
            "linecolor": "white",
            "showbackground": true,
            "ticks": "",
            "zerolinecolor": "white"
           },
           "yaxis": {
            "backgroundcolor": "#E5ECF6",
            "gridcolor": "white",
            "gridwidth": 2,
            "linecolor": "white",
            "showbackground": true,
            "ticks": "",
            "zerolinecolor": "white"
           },
           "zaxis": {
            "backgroundcolor": "#E5ECF6",
            "gridcolor": "white",
            "gridwidth": 2,
            "linecolor": "white",
            "showbackground": true,
            "ticks": "",
            "zerolinecolor": "white"
           }
          },
          "shapedefaults": {
           "line": {
            "color": "#2a3f5f"
           }
          },
          "ternary": {
           "aaxis": {
            "gridcolor": "white",
            "linecolor": "white",
            "ticks": ""
           },
           "baxis": {
            "gridcolor": "white",
            "linecolor": "white",
            "ticks": ""
           },
           "bgcolor": "#E5ECF6",
           "caxis": {
            "gridcolor": "white",
            "linecolor": "white",
            "ticks": ""
           }
          },
          "title": {
           "x": 0.05
          },
          "xaxis": {
           "automargin": true,
           "gridcolor": "white",
           "linecolor": "white",
           "ticks": "",
           "title": {
            "standoff": 15
           },
           "zerolinecolor": "white",
           "zerolinewidth": 2
          },
          "yaxis": {
           "automargin": true,
           "gridcolor": "white",
           "linecolor": "white",
           "ticks": "",
           "title": {
            "standoff": 15
           },
           "zerolinecolor": "white",
           "zerolinewidth": 2
          }
         }
        },
        "title": {
         "font": {
          "color": "Purple",
          "family": "PT Sans Narrow",
          "size": 21
         },
         "text": "Natural Gas Transmission Hubs in the United States (2009)<br><sup>*Data Source: Homeland Infrastructure Foundation</sup><br><sup>Scatter-Geo Map: Circle Size Based on Number of Customers.</sup>"
        }
       }
      },
      "text/html": [
       "<div>                            <div id=\"22668402-8dec-405c-acdf-d026a84a5a90\" class=\"plotly-graph-div\" style=\"height:525px; width:100%;\"></div>            <script type=\"text/javascript\">                require([\"plotly\"], function(Plotly) {                    window.PLOTLYENV=window.PLOTLYENV || {};                                    if (document.getElementById(\"22668402-8dec-405c-acdf-d026a84a5a90\")) {                    Plotly.newPlot(                        \"22668402-8dec-405c-acdf-d026a84a5a90\",                        [{\"geo\":\"geo\",\"hovertemplate\":\"<b>%{hovertext}</b><br><br>Numcust=%{marker.size}<br>Latitude=%{lat}<br>Longitude=%{lon}<br>Avgdaily=%{marker.color}<extra></extra>\",\"hovertext\":[\"Blanco Hub\",\"Buffalo Wallow Center\",\"Carthage Hub\",\"Chicago Hub\",\"Ellisburg-Leidy Center\",\"Spindletop Storage Hub\",\"Houston Hub\",\"Katy (DCP) Hub\",\"Lebanon Hub\",\"Louisiana Hub\",\"Moss Bluff  Hub\",\"Perryville (Ouachita) Hub\",\"Texaco Gulf Star Center\",\"Waha (Atmos) Hub\",\"Waha (DCP/Atmos) Hub\",\"Egan Hub\",\"Louisiana Intrastate Gas Center\",\"Katy Storage Center\",\"Waha  (ENSTOR) Hub\",\"Aqua Dulce Hub\",\"Grand Lacs Hub\",\"Mid-Continent Center\",\"Dominion Hub\",\"Columbia Gas Center\",\"Rocky Mountain Center\",\"Western Center\",\"California Energy Hub\",\"GTNW Market Center\",\"Ten Section Hub\",\"Perryville Hub\",\"Avoca Hub\",\"Iroquois Center\",\"Tioga Hub\",\"Mojave Center\",\"Golden Gate Center\",\"Sumas Center\",\"Waha (Encina) Hub\",\"Kiowa Hub\",\"Mobay Storage Hub\",\"Cheyenne Hub\",\"Nautilus Hub\",\"Malin Center\",\"ANR Joliet Hub\",\"Mississippi Hub\",\"Henry Hub\",\"Copiah Storage Hub\",\"Kingsgate Center\",\"Opal Hub\",\"Southeast Storage Hub\",\"Houston Hub & Transportation\",\"Waha  (EPGT) Texas Hub\",\"White River Hub\",\"Eagle Hub\",\"Marcellus Eastern Access Hub\",\"Southeast Hub\",\"Greasewood Hub\",\"Meeker Hub\",\"Jefferson Island Storage Hub\"],\"lat\":[36.6864,35.8337,32.1596,41.5002,41.3979,29.831,29.774,29.8331,39.4159,29.964,30.1568,32.7035,29.9707,31.629,31.2251,30.2695,30.9118,29.7501,30.8163,27.5488,42.2222,37.8699,40.5819,41.1416,41.7912,41.2974,35.8263,44.6846,34.6888,32.4354,42.4401,42.6581,41.9222,34.7244,38.4049,49.0005,31.2367,37.5565,30.496,40.9407,29.7248,42.0338,41.4577,31.2929,29.8955,31.9134,48.9958,41.7684,31.3184,30.1063,31.0533,40.0895,32.5077,40.6563,30.1297,40.0377,39.9523,29.9762],\"legendgroup\":\"\",\"lon\":[-107.957,-100.459,-94.2789,-88.2639,-77.79,-94.1679,-95.3936,-95.8512,-84.1811,-92.4296,-94.8578,-92.0616,-91.1768,-103.109,-103.113,-92.3574,-92.5285,-95.7861,-102.331,-97.6003,-83.4014,-97.7721,-78.1274,-78.9074,-110.306,-110.508,-119.373,-121.002,-119.368,-91.5186,-77.461,-74.1785,-77.1315,-114.513,-121.914,-122.22,-103.169,-99.2558,-88.2277,-104.796,-91.4846,-121.372,-88.132,-88.0739,-92.0631,-90.5876,-116.188,-110.399,-88.6853,-94.7793,-102.842,-108.17,-91.591,-80.0855,-93.8421,-108.2,-108.189,-91.9863],\"marker\":{\"color\":[1200,0,600,100,432,700,0,300,0,0,1600,0,0,300,300,2000,0,1400,450,400,0,340,2500,0,0,0,900,2300,0,1800,0,1400,0,450,2000,1000,25,0,0,1800,350,0,600,0,600,0,0,1450,600,1000,250,0,2000,0,0,0,0,500],\"coloraxis\":\"coloraxis\",\"size\":[40,20,200,10,85,20,200,12,0,0,40,0,350,50,62,40,50,30,0,0,0,10,250,50,0,0,60,660,0,0,0,55,0,7,20,120,0,0,0,40,14,0,60,0,180,0,0,80,0,0,30,6,0,0,0,0,0,0],\"sizemode\":\"area\",\"sizeref\":1.65,\"symbol\":\"circle\"},\"mode\":\"markers\",\"name\":\"\",\"showlegend\":false,\"type\":\"scattergeo\"}],                        {\"template\":{\"data\":{\"histogram2dcontour\":[{\"type\":\"histogram2dcontour\",\"colorbar\":{\"outlinewidth\":0,\"ticks\":\"\"},\"colorscale\":[[0.0,\"#0d0887\"],[0.1111111111111111,\"#46039f\"],[0.2222222222222222,\"#7201a8\"],[0.3333333333333333,\"#9c179e\"],[0.4444444444444444,\"#bd3786\"],[0.5555555555555556,\"#d8576b\"],[0.6666666666666666,\"#ed7953\"],[0.7777777777777778,\"#fb9f3a\"],[0.8888888888888888,\"#fdca26\"],[1.0,\"#f0f921\"]]}],\"choropleth\":[{\"type\":\"choropleth\",\"colorbar\":{\"outlinewidth\":0,\"ticks\":\"\"}}],\"histogram2d\":[{\"type\":\"histogram2d\",\"colorbar\":{\"outlinewidth\":0,\"ticks\":\"\"},\"colorscale\":[[0.0,\"#0d0887\"],[0.1111111111111111,\"#46039f\"],[0.2222222222222222,\"#7201a8\"],[0.3333333333333333,\"#9c179e\"],[0.4444444444444444,\"#bd3786\"],[0.5555555555555556,\"#d8576b\"],[0.6666666666666666,\"#ed7953\"],[0.7777777777777778,\"#fb9f3a\"],[0.8888888888888888,\"#fdca26\"],[1.0,\"#f0f921\"]]}],\"heatmap\":[{\"type\":\"heatmap\",\"colorbar\":{\"outlinewidth\":0,\"ticks\":\"\"},\"colorscale\":[[0.0,\"#0d0887\"],[0.1111111111111111,\"#46039f\"],[0.2222222222222222,\"#7201a8\"],[0.3333333333333333,\"#9c179e\"],[0.4444444444444444,\"#bd3786\"],[0.5555555555555556,\"#d8576b\"],[0.6666666666666666,\"#ed7953\"],[0.7777777777777778,\"#fb9f3a\"],[0.8888888888888888,\"#fdca26\"],[1.0,\"#f0f921\"]]}],\"heatmapgl\":[{\"type\":\"heatmapgl\",\"colorbar\":{\"outlinewidth\":0,\"ticks\":\"\"},\"colorscale\":[[0.0,\"#0d0887\"],[0.1111111111111111,\"#46039f\"],[0.2222222222222222,\"#7201a8\"],[0.3333333333333333,\"#9c179e\"],[0.4444444444444444,\"#bd3786\"],[0.5555555555555556,\"#d8576b\"],[0.6666666666666666,\"#ed7953\"],[0.7777777777777778,\"#fb9f3a\"],[0.8888888888888888,\"#fdca26\"],[1.0,\"#f0f921\"]]}],\"contourcarpet\":[{\"type\":\"contourcarpet\",\"colorbar\":{\"outlinewidth\":0,\"ticks\":\"\"}}],\"contour\":[{\"type\":\"contour\",\"colorbar\":{\"outlinewidth\":0,\"ticks\":\"\"},\"colorscale\":[[0.0,\"#0d0887\"],[0.1111111111111111,\"#46039f\"],[0.2222222222222222,\"#7201a8\"],[0.3333333333333333,\"#9c179e\"],[0.4444444444444444,\"#bd3786\"],[0.5555555555555556,\"#d8576b\"],[0.6666666666666666,\"#ed7953\"],[0.7777777777777778,\"#fb9f3a\"],[0.8888888888888888,\"#fdca26\"],[1.0,\"#f0f921\"]]}],\"surface\":[{\"type\":\"surface\",\"colorbar\":{\"outlinewidth\":0,\"ticks\":\"\"},\"colorscale\":[[0.0,\"#0d0887\"],[0.1111111111111111,\"#46039f\"],[0.2222222222222222,\"#7201a8\"],[0.3333333333333333,\"#9c179e\"],[0.4444444444444444,\"#bd3786\"],[0.5555555555555556,\"#d8576b\"],[0.6666666666666666,\"#ed7953\"],[0.7777777777777778,\"#fb9f3a\"],[0.8888888888888888,\"#fdca26\"],[1.0,\"#f0f921\"]]}],\"mesh3d\":[{\"type\":\"mesh3d\",\"colorbar\":{\"outlinewidth\":0,\"ticks\":\"\"}}],\"scatter\":[{\"fillpattern\":{\"fillmode\":\"overlay\",\"size\":10,\"solidity\":0.2},\"type\":\"scatter\"}],\"parcoords\":[{\"type\":\"parcoords\",\"line\":{\"colorbar\":{\"outlinewidth\":0,\"ticks\":\"\"}}}],\"scatterpolargl\":[{\"type\":\"scatterpolargl\",\"marker\":{\"colorbar\":{\"outlinewidth\":0,\"ticks\":\"\"}}}],\"bar\":[{\"error_x\":{\"color\":\"#2a3f5f\"},\"error_y\":{\"color\":\"#2a3f5f\"},\"marker\":{\"line\":{\"color\":\"#E5ECF6\",\"width\":0.5},\"pattern\":{\"fillmode\":\"overlay\",\"size\":10,\"solidity\":0.2}},\"type\":\"bar\"}],\"scattergeo\":[{\"type\":\"scattergeo\",\"marker\":{\"colorbar\":{\"outlinewidth\":0,\"ticks\":\"\"}}}],\"scatterpolar\":[{\"type\":\"scatterpolar\",\"marker\":{\"colorbar\":{\"outlinewidth\":0,\"ticks\":\"\"}}}],\"histogram\":[{\"marker\":{\"pattern\":{\"fillmode\":\"overlay\",\"size\":10,\"solidity\":0.2}},\"type\":\"histogram\"}],\"scattergl\":[{\"type\":\"scattergl\",\"marker\":{\"colorbar\":{\"outlinewidth\":0,\"ticks\":\"\"}}}],\"scatter3d\":[{\"type\":\"scatter3d\",\"line\":{\"colorbar\":{\"outlinewidth\":0,\"ticks\":\"\"}},\"marker\":{\"colorbar\":{\"outlinewidth\":0,\"ticks\":\"\"}}}],\"scattermapbox\":[{\"type\":\"scattermapbox\",\"marker\":{\"colorbar\":{\"outlinewidth\":0,\"ticks\":\"\"}}}],\"scatterternary\":[{\"type\":\"scatterternary\",\"marker\":{\"colorbar\":{\"outlinewidth\":0,\"ticks\":\"\"}}}],\"scattercarpet\":[{\"type\":\"scattercarpet\",\"marker\":{\"colorbar\":{\"outlinewidth\":0,\"ticks\":\"\"}}}],\"carpet\":[{\"aaxis\":{\"endlinecolor\":\"#2a3f5f\",\"gridcolor\":\"white\",\"linecolor\":\"white\",\"minorgridcolor\":\"white\",\"startlinecolor\":\"#2a3f5f\"},\"baxis\":{\"endlinecolor\":\"#2a3f5f\",\"gridcolor\":\"white\",\"linecolor\":\"white\",\"minorgridcolor\":\"white\",\"startlinecolor\":\"#2a3f5f\"},\"type\":\"carpet\"}],\"table\":[{\"cells\":{\"fill\":{\"color\":\"#EBF0F8\"},\"line\":{\"color\":\"white\"}},\"header\":{\"fill\":{\"color\":\"#C8D4E3\"},\"line\":{\"color\":\"white\"}},\"type\":\"table\"}],\"barpolar\":[{\"marker\":{\"line\":{\"color\":\"#E5ECF6\",\"width\":0.5},\"pattern\":{\"fillmode\":\"overlay\",\"size\":10,\"solidity\":0.2}},\"type\":\"barpolar\"}],\"pie\":[{\"automargin\":true,\"type\":\"pie\"}]},\"layout\":{\"autotypenumbers\":\"strict\",\"colorway\":[\"#636efa\",\"#EF553B\",\"#00cc96\",\"#ab63fa\",\"#FFA15A\",\"#19d3f3\",\"#FF6692\",\"#B6E880\",\"#FF97FF\",\"#FECB52\"],\"font\":{\"color\":\"#2a3f5f\"},\"hovermode\":\"closest\",\"hoverlabel\":{\"align\":\"left\"},\"paper_bgcolor\":\"white\",\"plot_bgcolor\":\"#E5ECF6\",\"polar\":{\"bgcolor\":\"#E5ECF6\",\"angularaxis\":{\"gridcolor\":\"white\",\"linecolor\":\"white\",\"ticks\":\"\"},\"radialaxis\":{\"gridcolor\":\"white\",\"linecolor\":\"white\",\"ticks\":\"\"}},\"ternary\":{\"bgcolor\":\"#E5ECF6\",\"aaxis\":{\"gridcolor\":\"white\",\"linecolor\":\"white\",\"ticks\":\"\"},\"baxis\":{\"gridcolor\":\"white\",\"linecolor\":\"white\",\"ticks\":\"\"},\"caxis\":{\"gridcolor\":\"white\",\"linecolor\":\"white\",\"ticks\":\"\"}},\"coloraxis\":{\"colorbar\":{\"outlinewidth\":0,\"ticks\":\"\"}},\"colorscale\":{\"sequential\":[[0.0,\"#0d0887\"],[0.1111111111111111,\"#46039f\"],[0.2222222222222222,\"#7201a8\"],[0.3333333333333333,\"#9c179e\"],[0.4444444444444444,\"#bd3786\"],[0.5555555555555556,\"#d8576b\"],[0.6666666666666666,\"#ed7953\"],[0.7777777777777778,\"#fb9f3a\"],[0.8888888888888888,\"#fdca26\"],[1.0,\"#f0f921\"]],\"sequentialminus\":[[0.0,\"#0d0887\"],[0.1111111111111111,\"#46039f\"],[0.2222222222222222,\"#7201a8\"],[0.3333333333333333,\"#9c179e\"],[0.4444444444444444,\"#bd3786\"],[0.5555555555555556,\"#d8576b\"],[0.6666666666666666,\"#ed7953\"],[0.7777777777777778,\"#fb9f3a\"],[0.8888888888888888,\"#fdca26\"],[1.0,\"#f0f921\"]],\"diverging\":[[0,\"#8e0152\"],[0.1,\"#c51b7d\"],[0.2,\"#de77ae\"],[0.3,\"#f1b6da\"],[0.4,\"#fde0ef\"],[0.5,\"#f7f7f7\"],[0.6,\"#e6f5d0\"],[0.7,\"#b8e186\"],[0.8,\"#7fbc41\"],[0.9,\"#4d9221\"],[1,\"#276419\"]]},\"xaxis\":{\"gridcolor\":\"white\",\"linecolor\":\"white\",\"ticks\":\"\",\"title\":{\"standoff\":15},\"zerolinecolor\":\"white\",\"automargin\":true,\"zerolinewidth\":2},\"yaxis\":{\"gridcolor\":\"white\",\"linecolor\":\"white\",\"ticks\":\"\",\"title\":{\"standoff\":15},\"zerolinecolor\":\"white\",\"automargin\":true,\"zerolinewidth\":2},\"scene\":{\"xaxis\":{\"backgroundcolor\":\"#E5ECF6\",\"gridcolor\":\"white\",\"linecolor\":\"white\",\"showbackground\":true,\"ticks\":\"\",\"zerolinecolor\":\"white\",\"gridwidth\":2},\"yaxis\":{\"backgroundcolor\":\"#E5ECF6\",\"gridcolor\":\"white\",\"linecolor\":\"white\",\"showbackground\":true,\"ticks\":\"\",\"zerolinecolor\":\"white\",\"gridwidth\":2},\"zaxis\":{\"backgroundcolor\":\"#E5ECF6\",\"gridcolor\":\"white\",\"linecolor\":\"white\",\"showbackground\":true,\"ticks\":\"\",\"zerolinecolor\":\"white\",\"gridwidth\":2}},\"shapedefaults\":{\"line\":{\"color\":\"#2a3f5f\"}},\"annotationdefaults\":{\"arrowcolor\":\"#2a3f5f\",\"arrowhead\":0,\"arrowwidth\":1},\"geo\":{\"bgcolor\":\"white\",\"landcolor\":\"#E5ECF6\",\"subunitcolor\":\"white\",\"showland\":true,\"showlakes\":true,\"lakecolor\":\"white\"},\"title\":{\"x\":0.05},\"mapbox\":{\"style\":\"light\"}}},\"geo\":{\"domain\":{\"x\":[0.0,1.0],\"y\":[0.0,1.0]},\"center\":{},\"scope\":\"usa\",\"lataxis\":{\"showgrid\":true},\"lonaxis\":{\"showgrid\":true},\"visible\":false,\"resolution\":110,\"showcountries\":true,\"countrycolor\":\"Black\",\"showsubunits\":true,\"subunitcolor\":\"Black\",\"showland\":true,\"landcolor\":\"LightGreen\"},\"coloraxis\":{\"colorbar\":{\"title\":{\"text\":\"Avgdaily\"}},\"colorscale\":[[0.0,\"#0d0887\"],[0.1111111111111111,\"#46039f\"],[0.2222222222222222,\"#7201a8\"],[0.3333333333333333,\"#9c179e\"],[0.4444444444444444,\"#bd3786\"],[0.5555555555555556,\"#d8576b\"],[0.6666666666666666,\"#ed7953\"],[0.7777777777777778,\"#fb9f3a\"],[0.8888888888888888,\"#fdca26\"],[1.0,\"#f0f921\"]]},\"legend\":{\"tracegroupgap\":0,\"itemsizing\":\"constant\"},\"margin\":{\"t\":60},\"title\":{\"text\":\"Natural Gas Transmission Hubs in the United States (2009)<br><sup>*Data Source: Homeland Infrastructure Foundation</sup><br><sup>Scatter-Geo Map: Circle Size Based on Number of Customers.</sup>\",\"font\":{\"family\":\"PT Sans Narrow\",\"size\":21,\"color\":\"Purple\"}}},                        {\"responsive\": true}                    ).then(function(){\n",
       "                            \n",
       "var gd = document.getElementById('22668402-8dec-405c-acdf-d026a84a5a90');\n",
       "var x = new MutationObserver(function (mutations, observer) {{\n",
       "        var display = window.getComputedStyle(gd).display;\n",
       "        if (!display || display === 'none') {{\n",
       "            console.log([gd, 'removed!']);\n",
       "            Plotly.purge(gd);\n",
       "            observer.disconnect();\n",
       "        }}\n",
       "}});\n",
       "\n",
       "// Listen for the removal of the full notebook cells\n",
       "var notebookContainer = gd.closest('#notebook-container');\n",
       "if (notebookContainer) {{\n",
       "    x.observe(notebookContainer, {childList: true});\n",
       "}}\n",
       "\n",
       "// Listen for the clearing of the current output cell\n",
       "var outputEl = gd.closest('.output');\n",
       "if (outputEl) {{\n",
       "    x.observe(outputEl, {childList: true});\n",
       "}}\n",
       "\n",
       "                        })                };                });            </script>        </div>"
      ]
     },
     "metadata": {},
     "output_type": "display_data"
    }
   ],
   "source": [
    "fig = px.scatter_geo(df, lat='Latitude', lon='Longitude', \n",
    "                     scope = 'usa', hover_name='Hub_name', \n",
    "                     size='Numcust', color='Avgdaily')\n",
    "\n",
    "fig.update_geos(\n",
    "    visible=False, resolution=110, scope=\"usa\",\n",
    "    showcountries=True, countrycolor=\"Black\",\n",
    "    showsubunits=True, subunitcolor=\"Black\", \n",
    "    lataxis_showgrid=True, lonaxis_showgrid=True,\n",
    "    showland=True, landcolor=\"LightGreen\")\n",
    "\n",
    "fig.update_layout(\n",
    "        title = 'Natural Gas Transmission Hubs in the United States (2009)<br><sup>*Data Source: Homeland Infrastructure Foundation</sup><br><sup>Scatter-Geo Map: Circle Size Based on Number of Customers.</sup>'\n",
    "    , title_font_family=\"PT Sans Narrow\", title_font_size=21, title_font_color='Purple')\n",
    "\n",
    "\n",
    "fig.show()"
   ]
  },
  {
   "cell_type": "code",
   "execution_count": 31,
   "id": "e00498d0",
   "metadata": {
    "scrolled": true
   },
   "outputs": [
    {
     "data": {
      "application/vnd.plotly.v1+json": {
       "config": {
        "plotlyServerURL": "https://plot.ly"
       },
       "data": [
        {
         "coloraxis": "coloraxis",
         "hovertemplate": "<b>%{hovertext}</b><br><br>Numcust=%{z}<br>Latitude=%{lat}<br>Longitude=%{lon}<extra></extra>",
         "hovertext": [
          "Blanco Hub",
          "Buffalo Wallow Center",
          "Carthage Hub",
          "Chicago Hub",
          "Ellisburg-Leidy Center",
          "Spindletop Storage Hub",
          "Houston Hub",
          "Katy (DCP) Hub",
          "Lebanon Hub",
          "Louisiana Hub",
          "Moss Bluff  Hub",
          "Perryville (Ouachita) Hub",
          "Texaco Gulf Star Center",
          "Waha (Atmos) Hub",
          "Waha (DCP/Atmos) Hub",
          "Egan Hub",
          "Louisiana Intrastate Gas Center",
          "Katy Storage Center",
          "Waha  (ENSTOR) Hub",
          "Aqua Dulce Hub",
          "Grand Lacs Hub",
          "Mid-Continent Center",
          "Dominion Hub",
          "Columbia Gas Center",
          "Rocky Mountain Center",
          "Western Center",
          "California Energy Hub",
          "GTNW Market Center",
          "Ten Section Hub",
          "Perryville Hub",
          "Avoca Hub",
          "Iroquois Center",
          "Tioga Hub",
          "Mojave Center",
          "Golden Gate Center",
          "Sumas Center",
          "Waha (Encina) Hub",
          "Kiowa Hub",
          "Mobay Storage Hub",
          "Cheyenne Hub",
          "Nautilus Hub",
          "Malin Center",
          "ANR Joliet Hub",
          "Mississippi Hub",
          "Henry Hub",
          "Copiah Storage Hub",
          "Kingsgate Center",
          "Opal Hub",
          "Southeast Storage Hub",
          "Houston Hub & Transportation",
          "Waha  (EPGT) Texas Hub",
          "White River Hub",
          "Eagle Hub",
          "Marcellus Eastern Access Hub",
          "Southeast Hub",
          "Greasewood Hub",
          "Meeker Hub",
          "Jefferson Island Storage Hub"
         ],
         "lat": [
          36.6864,
          35.8337,
          32.1596,
          41.5002,
          41.3979,
          29.831,
          29.774,
          29.8331,
          39.4159,
          29.964,
          30.1568,
          32.7035,
          29.9707,
          31.629,
          31.2251,
          30.2695,
          30.9118,
          29.7501,
          30.8163,
          27.5488,
          42.2222,
          37.8699,
          40.5819,
          41.1416,
          41.7912,
          41.2974,
          35.8263,
          44.6846,
          34.6888,
          32.4354,
          42.4401,
          42.6581,
          41.9222,
          34.7244,
          38.4049,
          49.0005,
          31.2367,
          37.5565,
          30.496,
          40.9407,
          29.7248,
          42.0338,
          41.4577,
          31.2929,
          29.8955,
          31.9134,
          48.9958,
          41.7684,
          31.3184,
          30.1063,
          31.0533,
          40.0895,
          32.5077,
          40.6563,
          30.1297,
          40.0377,
          39.9523,
          29.9762
         ],
         "lon": [
          -107.957,
          -100.459,
          -94.2789,
          -88.2639,
          -77.79,
          -94.1679,
          -95.3936,
          -95.8512,
          -84.1811,
          -92.4296,
          -94.8578,
          -92.0616,
          -91.1768,
          -103.109,
          -103.113,
          -92.3574,
          -92.5285,
          -95.7861,
          -102.331,
          -97.6003,
          -83.4014,
          -97.7721,
          -78.1274,
          -78.9074,
          -110.306,
          -110.508,
          -119.373,
          -121.002,
          -119.368,
          -91.5186,
          -77.461,
          -74.1785,
          -77.1315,
          -114.513,
          -121.914,
          -122.22,
          -103.169,
          -99.2558,
          -88.2277,
          -104.796,
          -91.4846,
          -121.372,
          -88.132,
          -88.0739,
          -92.0631,
          -90.5876,
          -116.188,
          -110.399,
          -88.6853,
          -94.7793,
          -102.842,
          -108.17,
          -91.591,
          -80.0855,
          -93.8421,
          -108.2,
          -108.189,
          -91.9863
         ],
         "name": "",
         "opacity": 0.95,
         "radius": 25,
         "subplot": "mapbox",
         "type": "densitymapbox",
         "z": [
          40,
          20,
          200,
          10,
          85,
          20,
          200,
          12,
          0,
          0,
          40,
          0,
          350,
          50,
          62,
          40,
          50,
          30,
          0,
          0,
          0,
          10,
          250,
          50,
          0,
          0,
          60,
          660,
          0,
          0,
          0,
          55,
          0,
          7,
          20,
          120,
          0,
          0,
          0,
          40,
          14,
          0,
          60,
          0,
          180,
          0,
          0,
          80,
          0,
          0,
          30,
          6,
          0,
          0,
          0,
          0,
          0,
          0
         ]
        }
       ],
       "layout": {
        "coloraxis": {
         "colorbar": {
          "title": {
           "text": "Numcust"
          }
         },
         "colorscale": [
          [
           0,
           "#0d0887"
          ],
          [
           0.1111111111111111,
           "#46039f"
          ],
          [
           0.2222222222222222,
           "#7201a8"
          ],
          [
           0.3333333333333333,
           "#9c179e"
          ],
          [
           0.4444444444444444,
           "#bd3786"
          ],
          [
           0.5555555555555556,
           "#d8576b"
          ],
          [
           0.6666666666666666,
           "#ed7953"
          ],
          [
           0.7777777777777778,
           "#fb9f3a"
          ],
          [
           0.8888888888888888,
           "#fdca26"
          ],
          [
           1,
           "#f0f921"
          ]
         ]
        },
        "legend": {
         "tracegroupgap": 0
        },
        "mapbox": {
         "center": {
          "lat": 40,
          "lon": -100
         },
         "domain": {
          "x": [
           0,
           1
          ],
          "y": [
           0,
           1
          ]
         },
         "style": "stamen-terrain",
         "zoom": 2.5
        },
        "template": {
         "data": {
          "bar": [
           {
            "error_x": {
             "color": "#2a3f5f"
            },
            "error_y": {
             "color": "#2a3f5f"
            },
            "marker": {
             "line": {
              "color": "#E5ECF6",
              "width": 0.5
             },
             "pattern": {
              "fillmode": "overlay",
              "size": 10,
              "solidity": 0.2
             }
            },
            "type": "bar"
           }
          ],
          "barpolar": [
           {
            "marker": {
             "line": {
              "color": "#E5ECF6",
              "width": 0.5
             },
             "pattern": {
              "fillmode": "overlay",
              "size": 10,
              "solidity": 0.2
             }
            },
            "type": "barpolar"
           }
          ],
          "carpet": [
           {
            "aaxis": {
             "endlinecolor": "#2a3f5f",
             "gridcolor": "white",
             "linecolor": "white",
             "minorgridcolor": "white",
             "startlinecolor": "#2a3f5f"
            },
            "baxis": {
             "endlinecolor": "#2a3f5f",
             "gridcolor": "white",
             "linecolor": "white",
             "minorgridcolor": "white",
             "startlinecolor": "#2a3f5f"
            },
            "type": "carpet"
           }
          ],
          "choropleth": [
           {
            "colorbar": {
             "outlinewidth": 0,
             "ticks": ""
            },
            "type": "choropleth"
           }
          ],
          "contour": [
           {
            "colorbar": {
             "outlinewidth": 0,
             "ticks": ""
            },
            "colorscale": [
             [
              0,
              "#0d0887"
             ],
             [
              0.1111111111111111,
              "#46039f"
             ],
             [
              0.2222222222222222,
              "#7201a8"
             ],
             [
              0.3333333333333333,
              "#9c179e"
             ],
             [
              0.4444444444444444,
              "#bd3786"
             ],
             [
              0.5555555555555556,
              "#d8576b"
             ],
             [
              0.6666666666666666,
              "#ed7953"
             ],
             [
              0.7777777777777778,
              "#fb9f3a"
             ],
             [
              0.8888888888888888,
              "#fdca26"
             ],
             [
              1,
              "#f0f921"
             ]
            ],
            "type": "contour"
           }
          ],
          "contourcarpet": [
           {
            "colorbar": {
             "outlinewidth": 0,
             "ticks": ""
            },
            "type": "contourcarpet"
           }
          ],
          "heatmap": [
           {
            "colorbar": {
             "outlinewidth": 0,
             "ticks": ""
            },
            "colorscale": [
             [
              0,
              "#0d0887"
             ],
             [
              0.1111111111111111,
              "#46039f"
             ],
             [
              0.2222222222222222,
              "#7201a8"
             ],
             [
              0.3333333333333333,
              "#9c179e"
             ],
             [
              0.4444444444444444,
              "#bd3786"
             ],
             [
              0.5555555555555556,
              "#d8576b"
             ],
             [
              0.6666666666666666,
              "#ed7953"
             ],
             [
              0.7777777777777778,
              "#fb9f3a"
             ],
             [
              0.8888888888888888,
              "#fdca26"
             ],
             [
              1,
              "#f0f921"
             ]
            ],
            "type": "heatmap"
           }
          ],
          "heatmapgl": [
           {
            "colorbar": {
             "outlinewidth": 0,
             "ticks": ""
            },
            "colorscale": [
             [
              0,
              "#0d0887"
             ],
             [
              0.1111111111111111,
              "#46039f"
             ],
             [
              0.2222222222222222,
              "#7201a8"
             ],
             [
              0.3333333333333333,
              "#9c179e"
             ],
             [
              0.4444444444444444,
              "#bd3786"
             ],
             [
              0.5555555555555556,
              "#d8576b"
             ],
             [
              0.6666666666666666,
              "#ed7953"
             ],
             [
              0.7777777777777778,
              "#fb9f3a"
             ],
             [
              0.8888888888888888,
              "#fdca26"
             ],
             [
              1,
              "#f0f921"
             ]
            ],
            "type": "heatmapgl"
           }
          ],
          "histogram": [
           {
            "marker": {
             "pattern": {
              "fillmode": "overlay",
              "size": 10,
              "solidity": 0.2
             }
            },
            "type": "histogram"
           }
          ],
          "histogram2d": [
           {
            "colorbar": {
             "outlinewidth": 0,
             "ticks": ""
            },
            "colorscale": [
             [
              0,
              "#0d0887"
             ],
             [
              0.1111111111111111,
              "#46039f"
             ],
             [
              0.2222222222222222,
              "#7201a8"
             ],
             [
              0.3333333333333333,
              "#9c179e"
             ],
             [
              0.4444444444444444,
              "#bd3786"
             ],
             [
              0.5555555555555556,
              "#d8576b"
             ],
             [
              0.6666666666666666,
              "#ed7953"
             ],
             [
              0.7777777777777778,
              "#fb9f3a"
             ],
             [
              0.8888888888888888,
              "#fdca26"
             ],
             [
              1,
              "#f0f921"
             ]
            ],
            "type": "histogram2d"
           }
          ],
          "histogram2dcontour": [
           {
            "colorbar": {
             "outlinewidth": 0,
             "ticks": ""
            },
            "colorscale": [
             [
              0,
              "#0d0887"
             ],
             [
              0.1111111111111111,
              "#46039f"
             ],
             [
              0.2222222222222222,
              "#7201a8"
             ],
             [
              0.3333333333333333,
              "#9c179e"
             ],
             [
              0.4444444444444444,
              "#bd3786"
             ],
             [
              0.5555555555555556,
              "#d8576b"
             ],
             [
              0.6666666666666666,
              "#ed7953"
             ],
             [
              0.7777777777777778,
              "#fb9f3a"
             ],
             [
              0.8888888888888888,
              "#fdca26"
             ],
             [
              1,
              "#f0f921"
             ]
            ],
            "type": "histogram2dcontour"
           }
          ],
          "mesh3d": [
           {
            "colorbar": {
             "outlinewidth": 0,
             "ticks": ""
            },
            "type": "mesh3d"
           }
          ],
          "parcoords": [
           {
            "line": {
             "colorbar": {
              "outlinewidth": 0,
              "ticks": ""
             }
            },
            "type": "parcoords"
           }
          ],
          "pie": [
           {
            "automargin": true,
            "type": "pie"
           }
          ],
          "scatter": [
           {
            "fillpattern": {
             "fillmode": "overlay",
             "size": 10,
             "solidity": 0.2
            },
            "type": "scatter"
           }
          ],
          "scatter3d": [
           {
            "line": {
             "colorbar": {
              "outlinewidth": 0,
              "ticks": ""
             }
            },
            "marker": {
             "colorbar": {
              "outlinewidth": 0,
              "ticks": ""
             }
            },
            "type": "scatter3d"
           }
          ],
          "scattercarpet": [
           {
            "marker": {
             "colorbar": {
              "outlinewidth": 0,
              "ticks": ""
             }
            },
            "type": "scattercarpet"
           }
          ],
          "scattergeo": [
           {
            "marker": {
             "colorbar": {
              "outlinewidth": 0,
              "ticks": ""
             }
            },
            "type": "scattergeo"
           }
          ],
          "scattergl": [
           {
            "marker": {
             "colorbar": {
              "outlinewidth": 0,
              "ticks": ""
             }
            },
            "type": "scattergl"
           }
          ],
          "scattermapbox": [
           {
            "marker": {
             "colorbar": {
              "outlinewidth": 0,
              "ticks": ""
             }
            },
            "type": "scattermapbox"
           }
          ],
          "scatterpolar": [
           {
            "marker": {
             "colorbar": {
              "outlinewidth": 0,
              "ticks": ""
             }
            },
            "type": "scatterpolar"
           }
          ],
          "scatterpolargl": [
           {
            "marker": {
             "colorbar": {
              "outlinewidth": 0,
              "ticks": ""
             }
            },
            "type": "scatterpolargl"
           }
          ],
          "scatterternary": [
           {
            "marker": {
             "colorbar": {
              "outlinewidth": 0,
              "ticks": ""
             }
            },
            "type": "scatterternary"
           }
          ],
          "surface": [
           {
            "colorbar": {
             "outlinewidth": 0,
             "ticks": ""
            },
            "colorscale": [
             [
              0,
              "#0d0887"
             ],
             [
              0.1111111111111111,
              "#46039f"
             ],
             [
              0.2222222222222222,
              "#7201a8"
             ],
             [
              0.3333333333333333,
              "#9c179e"
             ],
             [
              0.4444444444444444,
              "#bd3786"
             ],
             [
              0.5555555555555556,
              "#d8576b"
             ],
             [
              0.6666666666666666,
              "#ed7953"
             ],
             [
              0.7777777777777778,
              "#fb9f3a"
             ],
             [
              0.8888888888888888,
              "#fdca26"
             ],
             [
              1,
              "#f0f921"
             ]
            ],
            "type": "surface"
           }
          ],
          "table": [
           {
            "cells": {
             "fill": {
              "color": "#EBF0F8"
             },
             "line": {
              "color": "white"
             }
            },
            "header": {
             "fill": {
              "color": "#C8D4E3"
             },
             "line": {
              "color": "white"
             }
            },
            "type": "table"
           }
          ]
         },
         "layout": {
          "annotationdefaults": {
           "arrowcolor": "#2a3f5f",
           "arrowhead": 0,
           "arrowwidth": 1
          },
          "autotypenumbers": "strict",
          "coloraxis": {
           "colorbar": {
            "outlinewidth": 0,
            "ticks": ""
           }
          },
          "colorscale": {
           "diverging": [
            [
             0,
             "#8e0152"
            ],
            [
             0.1,
             "#c51b7d"
            ],
            [
             0.2,
             "#de77ae"
            ],
            [
             0.3,
             "#f1b6da"
            ],
            [
             0.4,
             "#fde0ef"
            ],
            [
             0.5,
             "#f7f7f7"
            ],
            [
             0.6,
             "#e6f5d0"
            ],
            [
             0.7,
             "#b8e186"
            ],
            [
             0.8,
             "#7fbc41"
            ],
            [
             0.9,
             "#4d9221"
            ],
            [
             1,
             "#276419"
            ]
           ],
           "sequential": [
            [
             0,
             "#0d0887"
            ],
            [
             0.1111111111111111,
             "#46039f"
            ],
            [
             0.2222222222222222,
             "#7201a8"
            ],
            [
             0.3333333333333333,
             "#9c179e"
            ],
            [
             0.4444444444444444,
             "#bd3786"
            ],
            [
             0.5555555555555556,
             "#d8576b"
            ],
            [
             0.6666666666666666,
             "#ed7953"
            ],
            [
             0.7777777777777778,
             "#fb9f3a"
            ],
            [
             0.8888888888888888,
             "#fdca26"
            ],
            [
             1,
             "#f0f921"
            ]
           ],
           "sequentialminus": [
            [
             0,
             "#0d0887"
            ],
            [
             0.1111111111111111,
             "#46039f"
            ],
            [
             0.2222222222222222,
             "#7201a8"
            ],
            [
             0.3333333333333333,
             "#9c179e"
            ],
            [
             0.4444444444444444,
             "#bd3786"
            ],
            [
             0.5555555555555556,
             "#d8576b"
            ],
            [
             0.6666666666666666,
             "#ed7953"
            ],
            [
             0.7777777777777778,
             "#fb9f3a"
            ],
            [
             0.8888888888888888,
             "#fdca26"
            ],
            [
             1,
             "#f0f921"
            ]
           ]
          },
          "colorway": [
           "#636efa",
           "#EF553B",
           "#00cc96",
           "#ab63fa",
           "#FFA15A",
           "#19d3f3",
           "#FF6692",
           "#B6E880",
           "#FF97FF",
           "#FECB52"
          ],
          "font": {
           "color": "#2a3f5f"
          },
          "geo": {
           "bgcolor": "white",
           "lakecolor": "white",
           "landcolor": "#E5ECF6",
           "showlakes": true,
           "showland": true,
           "subunitcolor": "white"
          },
          "hoverlabel": {
           "align": "left"
          },
          "hovermode": "closest",
          "mapbox": {
           "style": "light"
          },
          "paper_bgcolor": "white",
          "plot_bgcolor": "#E5ECF6",
          "polar": {
           "angularaxis": {
            "gridcolor": "white",
            "linecolor": "white",
            "ticks": ""
           },
           "bgcolor": "#E5ECF6",
           "radialaxis": {
            "gridcolor": "white",
            "linecolor": "white",
            "ticks": ""
           }
          },
          "scene": {
           "xaxis": {
            "backgroundcolor": "#E5ECF6",
            "gridcolor": "white",
            "gridwidth": 2,
            "linecolor": "white",
            "showbackground": true,
            "ticks": "",
            "zerolinecolor": "white"
           },
           "yaxis": {
            "backgroundcolor": "#E5ECF6",
            "gridcolor": "white",
            "gridwidth": 2,
            "linecolor": "white",
            "showbackground": true,
            "ticks": "",
            "zerolinecolor": "white"
           },
           "zaxis": {
            "backgroundcolor": "#E5ECF6",
            "gridcolor": "white",
            "gridwidth": 2,
            "linecolor": "white",
            "showbackground": true,
            "ticks": "",
            "zerolinecolor": "white"
           }
          },
          "shapedefaults": {
           "line": {
            "color": "#2a3f5f"
           }
          },
          "ternary": {
           "aaxis": {
            "gridcolor": "white",
            "linecolor": "white",
            "ticks": ""
           },
           "baxis": {
            "gridcolor": "white",
            "linecolor": "white",
            "ticks": ""
           },
           "bgcolor": "#E5ECF6",
           "caxis": {
            "gridcolor": "white",
            "linecolor": "white",
            "ticks": ""
           }
          },
          "title": {
           "x": 0.05
          },
          "xaxis": {
           "automargin": true,
           "gridcolor": "white",
           "linecolor": "white",
           "ticks": "",
           "title": {
            "standoff": 15
           },
           "zerolinecolor": "white",
           "zerolinewidth": 2
          },
          "yaxis": {
           "automargin": true,
           "gridcolor": "white",
           "linecolor": "white",
           "ticks": "",
           "title": {
            "standoff": 15
           },
           "zerolinecolor": "white",
           "zerolinewidth": 2
          }
         }
        },
        "title": {
         "text": "Natural Gas Transmission Hubs in the United States (2009)<br><sup>*Data Source: Homeland Infrastructure Foundation</sup><br><sup>Stamen Terrain Heat Map: Based on Customer Size.</sup>"
        }
       }
      },
      "text/html": [
       "<div>                            <div id=\"a1e03dd6-d3b3-435e-b268-c3e8d5345e42\" class=\"plotly-graph-div\" style=\"height:525px; width:100%;\"></div>            <script type=\"text/javascript\">                require([\"plotly\"], function(Plotly) {                    window.PLOTLYENV=window.PLOTLYENV || {};                                    if (document.getElementById(\"a1e03dd6-d3b3-435e-b268-c3e8d5345e42\")) {                    Plotly.newPlot(                        \"a1e03dd6-d3b3-435e-b268-c3e8d5345e42\",                        [{\"coloraxis\":\"coloraxis\",\"hovertemplate\":\"<b>%{hovertext}</b><br><br>Numcust=%{z}<br>Latitude=%{lat}<br>Longitude=%{lon}<extra></extra>\",\"hovertext\":[\"Blanco Hub\",\"Buffalo Wallow Center\",\"Carthage Hub\",\"Chicago Hub\",\"Ellisburg-Leidy Center\",\"Spindletop Storage Hub\",\"Houston Hub\",\"Katy (DCP) Hub\",\"Lebanon Hub\",\"Louisiana Hub\",\"Moss Bluff  Hub\",\"Perryville (Ouachita) Hub\",\"Texaco Gulf Star Center\",\"Waha (Atmos) Hub\",\"Waha (DCP/Atmos) Hub\",\"Egan Hub\",\"Louisiana Intrastate Gas Center\",\"Katy Storage Center\",\"Waha  (ENSTOR) Hub\",\"Aqua Dulce Hub\",\"Grand Lacs Hub\",\"Mid-Continent Center\",\"Dominion Hub\",\"Columbia Gas Center\",\"Rocky Mountain Center\",\"Western Center\",\"California Energy Hub\",\"GTNW Market Center\",\"Ten Section Hub\",\"Perryville Hub\",\"Avoca Hub\",\"Iroquois Center\",\"Tioga Hub\",\"Mojave Center\",\"Golden Gate Center\",\"Sumas Center\",\"Waha (Encina) Hub\",\"Kiowa Hub\",\"Mobay Storage Hub\",\"Cheyenne Hub\",\"Nautilus Hub\",\"Malin Center\",\"ANR Joliet Hub\",\"Mississippi Hub\",\"Henry Hub\",\"Copiah Storage Hub\",\"Kingsgate Center\",\"Opal Hub\",\"Southeast Storage Hub\",\"Houston Hub & Transportation\",\"Waha  (EPGT) Texas Hub\",\"White River Hub\",\"Eagle Hub\",\"Marcellus Eastern Access Hub\",\"Southeast Hub\",\"Greasewood Hub\",\"Meeker Hub\",\"Jefferson Island Storage Hub\"],\"lat\":[36.6864,35.8337,32.1596,41.5002,41.3979,29.831,29.774,29.8331,39.4159,29.964,30.1568,32.7035,29.9707,31.629,31.2251,30.2695,30.9118,29.7501,30.8163,27.5488,42.2222,37.8699,40.5819,41.1416,41.7912,41.2974,35.8263,44.6846,34.6888,32.4354,42.4401,42.6581,41.9222,34.7244,38.4049,49.0005,31.2367,37.5565,30.496,40.9407,29.7248,42.0338,41.4577,31.2929,29.8955,31.9134,48.9958,41.7684,31.3184,30.1063,31.0533,40.0895,32.5077,40.6563,30.1297,40.0377,39.9523,29.9762],\"lon\":[-107.957,-100.459,-94.2789,-88.2639,-77.79,-94.1679,-95.3936,-95.8512,-84.1811,-92.4296,-94.8578,-92.0616,-91.1768,-103.109,-103.113,-92.3574,-92.5285,-95.7861,-102.331,-97.6003,-83.4014,-97.7721,-78.1274,-78.9074,-110.306,-110.508,-119.373,-121.002,-119.368,-91.5186,-77.461,-74.1785,-77.1315,-114.513,-121.914,-122.22,-103.169,-99.2558,-88.2277,-104.796,-91.4846,-121.372,-88.132,-88.0739,-92.0631,-90.5876,-116.188,-110.399,-88.6853,-94.7793,-102.842,-108.17,-91.591,-80.0855,-93.8421,-108.2,-108.189,-91.9863],\"name\":\"\",\"opacity\":0.95,\"radius\":25,\"subplot\":\"mapbox\",\"z\":[40,20,200,10,85,20,200,12,0,0,40,0,350,50,62,40,50,30,0,0,0,10,250,50,0,0,60,660,0,0,0,55,0,7,20,120,0,0,0,40,14,0,60,0,180,0,0,80,0,0,30,6,0,0,0,0,0,0],\"type\":\"densitymapbox\"}],                        {\"template\":{\"data\":{\"histogram2dcontour\":[{\"type\":\"histogram2dcontour\",\"colorbar\":{\"outlinewidth\":0,\"ticks\":\"\"},\"colorscale\":[[0.0,\"#0d0887\"],[0.1111111111111111,\"#46039f\"],[0.2222222222222222,\"#7201a8\"],[0.3333333333333333,\"#9c179e\"],[0.4444444444444444,\"#bd3786\"],[0.5555555555555556,\"#d8576b\"],[0.6666666666666666,\"#ed7953\"],[0.7777777777777778,\"#fb9f3a\"],[0.8888888888888888,\"#fdca26\"],[1.0,\"#f0f921\"]]}],\"choropleth\":[{\"type\":\"choropleth\",\"colorbar\":{\"outlinewidth\":0,\"ticks\":\"\"}}],\"histogram2d\":[{\"type\":\"histogram2d\",\"colorbar\":{\"outlinewidth\":0,\"ticks\":\"\"},\"colorscale\":[[0.0,\"#0d0887\"],[0.1111111111111111,\"#46039f\"],[0.2222222222222222,\"#7201a8\"],[0.3333333333333333,\"#9c179e\"],[0.4444444444444444,\"#bd3786\"],[0.5555555555555556,\"#d8576b\"],[0.6666666666666666,\"#ed7953\"],[0.7777777777777778,\"#fb9f3a\"],[0.8888888888888888,\"#fdca26\"],[1.0,\"#f0f921\"]]}],\"heatmap\":[{\"type\":\"heatmap\",\"colorbar\":{\"outlinewidth\":0,\"ticks\":\"\"},\"colorscale\":[[0.0,\"#0d0887\"],[0.1111111111111111,\"#46039f\"],[0.2222222222222222,\"#7201a8\"],[0.3333333333333333,\"#9c179e\"],[0.4444444444444444,\"#bd3786\"],[0.5555555555555556,\"#d8576b\"],[0.6666666666666666,\"#ed7953\"],[0.7777777777777778,\"#fb9f3a\"],[0.8888888888888888,\"#fdca26\"],[1.0,\"#f0f921\"]]}],\"heatmapgl\":[{\"type\":\"heatmapgl\",\"colorbar\":{\"outlinewidth\":0,\"ticks\":\"\"},\"colorscale\":[[0.0,\"#0d0887\"],[0.1111111111111111,\"#46039f\"],[0.2222222222222222,\"#7201a8\"],[0.3333333333333333,\"#9c179e\"],[0.4444444444444444,\"#bd3786\"],[0.5555555555555556,\"#d8576b\"],[0.6666666666666666,\"#ed7953\"],[0.7777777777777778,\"#fb9f3a\"],[0.8888888888888888,\"#fdca26\"],[1.0,\"#f0f921\"]]}],\"contourcarpet\":[{\"type\":\"contourcarpet\",\"colorbar\":{\"outlinewidth\":0,\"ticks\":\"\"}}],\"contour\":[{\"type\":\"contour\",\"colorbar\":{\"outlinewidth\":0,\"ticks\":\"\"},\"colorscale\":[[0.0,\"#0d0887\"],[0.1111111111111111,\"#46039f\"],[0.2222222222222222,\"#7201a8\"],[0.3333333333333333,\"#9c179e\"],[0.4444444444444444,\"#bd3786\"],[0.5555555555555556,\"#d8576b\"],[0.6666666666666666,\"#ed7953\"],[0.7777777777777778,\"#fb9f3a\"],[0.8888888888888888,\"#fdca26\"],[1.0,\"#f0f921\"]]}],\"surface\":[{\"type\":\"surface\",\"colorbar\":{\"outlinewidth\":0,\"ticks\":\"\"},\"colorscale\":[[0.0,\"#0d0887\"],[0.1111111111111111,\"#46039f\"],[0.2222222222222222,\"#7201a8\"],[0.3333333333333333,\"#9c179e\"],[0.4444444444444444,\"#bd3786\"],[0.5555555555555556,\"#d8576b\"],[0.6666666666666666,\"#ed7953\"],[0.7777777777777778,\"#fb9f3a\"],[0.8888888888888888,\"#fdca26\"],[1.0,\"#f0f921\"]]}],\"mesh3d\":[{\"type\":\"mesh3d\",\"colorbar\":{\"outlinewidth\":0,\"ticks\":\"\"}}],\"scatter\":[{\"fillpattern\":{\"fillmode\":\"overlay\",\"size\":10,\"solidity\":0.2},\"type\":\"scatter\"}],\"parcoords\":[{\"type\":\"parcoords\",\"line\":{\"colorbar\":{\"outlinewidth\":0,\"ticks\":\"\"}}}],\"scatterpolargl\":[{\"type\":\"scatterpolargl\",\"marker\":{\"colorbar\":{\"outlinewidth\":0,\"ticks\":\"\"}}}],\"bar\":[{\"error_x\":{\"color\":\"#2a3f5f\"},\"error_y\":{\"color\":\"#2a3f5f\"},\"marker\":{\"line\":{\"color\":\"#E5ECF6\",\"width\":0.5},\"pattern\":{\"fillmode\":\"overlay\",\"size\":10,\"solidity\":0.2}},\"type\":\"bar\"}],\"scattergeo\":[{\"type\":\"scattergeo\",\"marker\":{\"colorbar\":{\"outlinewidth\":0,\"ticks\":\"\"}}}],\"scatterpolar\":[{\"type\":\"scatterpolar\",\"marker\":{\"colorbar\":{\"outlinewidth\":0,\"ticks\":\"\"}}}],\"histogram\":[{\"marker\":{\"pattern\":{\"fillmode\":\"overlay\",\"size\":10,\"solidity\":0.2}},\"type\":\"histogram\"}],\"scattergl\":[{\"type\":\"scattergl\",\"marker\":{\"colorbar\":{\"outlinewidth\":0,\"ticks\":\"\"}}}],\"scatter3d\":[{\"type\":\"scatter3d\",\"line\":{\"colorbar\":{\"outlinewidth\":0,\"ticks\":\"\"}},\"marker\":{\"colorbar\":{\"outlinewidth\":0,\"ticks\":\"\"}}}],\"scattermapbox\":[{\"type\":\"scattermapbox\",\"marker\":{\"colorbar\":{\"outlinewidth\":0,\"ticks\":\"\"}}}],\"scatterternary\":[{\"type\":\"scatterternary\",\"marker\":{\"colorbar\":{\"outlinewidth\":0,\"ticks\":\"\"}}}],\"scattercarpet\":[{\"type\":\"scattercarpet\",\"marker\":{\"colorbar\":{\"outlinewidth\":0,\"ticks\":\"\"}}}],\"carpet\":[{\"aaxis\":{\"endlinecolor\":\"#2a3f5f\",\"gridcolor\":\"white\",\"linecolor\":\"white\",\"minorgridcolor\":\"white\",\"startlinecolor\":\"#2a3f5f\"},\"baxis\":{\"endlinecolor\":\"#2a3f5f\",\"gridcolor\":\"white\",\"linecolor\":\"white\",\"minorgridcolor\":\"white\",\"startlinecolor\":\"#2a3f5f\"},\"type\":\"carpet\"}],\"table\":[{\"cells\":{\"fill\":{\"color\":\"#EBF0F8\"},\"line\":{\"color\":\"white\"}},\"header\":{\"fill\":{\"color\":\"#C8D4E3\"},\"line\":{\"color\":\"white\"}},\"type\":\"table\"}],\"barpolar\":[{\"marker\":{\"line\":{\"color\":\"#E5ECF6\",\"width\":0.5},\"pattern\":{\"fillmode\":\"overlay\",\"size\":10,\"solidity\":0.2}},\"type\":\"barpolar\"}],\"pie\":[{\"automargin\":true,\"type\":\"pie\"}]},\"layout\":{\"autotypenumbers\":\"strict\",\"colorway\":[\"#636efa\",\"#EF553B\",\"#00cc96\",\"#ab63fa\",\"#FFA15A\",\"#19d3f3\",\"#FF6692\",\"#B6E880\",\"#FF97FF\",\"#FECB52\"],\"font\":{\"color\":\"#2a3f5f\"},\"hovermode\":\"closest\",\"hoverlabel\":{\"align\":\"left\"},\"paper_bgcolor\":\"white\",\"plot_bgcolor\":\"#E5ECF6\",\"polar\":{\"bgcolor\":\"#E5ECF6\",\"angularaxis\":{\"gridcolor\":\"white\",\"linecolor\":\"white\",\"ticks\":\"\"},\"radialaxis\":{\"gridcolor\":\"white\",\"linecolor\":\"white\",\"ticks\":\"\"}},\"ternary\":{\"bgcolor\":\"#E5ECF6\",\"aaxis\":{\"gridcolor\":\"white\",\"linecolor\":\"white\",\"ticks\":\"\"},\"baxis\":{\"gridcolor\":\"white\",\"linecolor\":\"white\",\"ticks\":\"\"},\"caxis\":{\"gridcolor\":\"white\",\"linecolor\":\"white\",\"ticks\":\"\"}},\"coloraxis\":{\"colorbar\":{\"outlinewidth\":0,\"ticks\":\"\"}},\"colorscale\":{\"sequential\":[[0.0,\"#0d0887\"],[0.1111111111111111,\"#46039f\"],[0.2222222222222222,\"#7201a8\"],[0.3333333333333333,\"#9c179e\"],[0.4444444444444444,\"#bd3786\"],[0.5555555555555556,\"#d8576b\"],[0.6666666666666666,\"#ed7953\"],[0.7777777777777778,\"#fb9f3a\"],[0.8888888888888888,\"#fdca26\"],[1.0,\"#f0f921\"]],\"sequentialminus\":[[0.0,\"#0d0887\"],[0.1111111111111111,\"#46039f\"],[0.2222222222222222,\"#7201a8\"],[0.3333333333333333,\"#9c179e\"],[0.4444444444444444,\"#bd3786\"],[0.5555555555555556,\"#d8576b\"],[0.6666666666666666,\"#ed7953\"],[0.7777777777777778,\"#fb9f3a\"],[0.8888888888888888,\"#fdca26\"],[1.0,\"#f0f921\"]],\"diverging\":[[0,\"#8e0152\"],[0.1,\"#c51b7d\"],[0.2,\"#de77ae\"],[0.3,\"#f1b6da\"],[0.4,\"#fde0ef\"],[0.5,\"#f7f7f7\"],[0.6,\"#e6f5d0\"],[0.7,\"#b8e186\"],[0.8,\"#7fbc41\"],[0.9,\"#4d9221\"],[1,\"#276419\"]]},\"xaxis\":{\"gridcolor\":\"white\",\"linecolor\":\"white\",\"ticks\":\"\",\"title\":{\"standoff\":15},\"zerolinecolor\":\"white\",\"automargin\":true,\"zerolinewidth\":2},\"yaxis\":{\"gridcolor\":\"white\",\"linecolor\":\"white\",\"ticks\":\"\",\"title\":{\"standoff\":15},\"zerolinecolor\":\"white\",\"automargin\":true,\"zerolinewidth\":2},\"scene\":{\"xaxis\":{\"backgroundcolor\":\"#E5ECF6\",\"gridcolor\":\"white\",\"linecolor\":\"white\",\"showbackground\":true,\"ticks\":\"\",\"zerolinecolor\":\"white\",\"gridwidth\":2},\"yaxis\":{\"backgroundcolor\":\"#E5ECF6\",\"gridcolor\":\"white\",\"linecolor\":\"white\",\"showbackground\":true,\"ticks\":\"\",\"zerolinecolor\":\"white\",\"gridwidth\":2},\"zaxis\":{\"backgroundcolor\":\"#E5ECF6\",\"gridcolor\":\"white\",\"linecolor\":\"white\",\"showbackground\":true,\"ticks\":\"\",\"zerolinecolor\":\"white\",\"gridwidth\":2}},\"shapedefaults\":{\"line\":{\"color\":\"#2a3f5f\"}},\"annotationdefaults\":{\"arrowcolor\":\"#2a3f5f\",\"arrowhead\":0,\"arrowwidth\":1},\"geo\":{\"bgcolor\":\"white\",\"landcolor\":\"#E5ECF6\",\"subunitcolor\":\"white\",\"showland\":true,\"showlakes\":true,\"lakecolor\":\"white\"},\"title\":{\"x\":0.05},\"mapbox\":{\"style\":\"light\"}}},\"mapbox\":{\"domain\":{\"x\":[0.0,1.0],\"y\":[0.0,1.0]},\"center\":{\"lat\":40,\"lon\":-100},\"zoom\":2.5,\"style\":\"stamen-terrain\"},\"coloraxis\":{\"colorbar\":{\"title\":{\"text\":\"Numcust\"}},\"colorscale\":[[0.0,\"#0d0887\"],[0.1111111111111111,\"#46039f\"],[0.2222222222222222,\"#7201a8\"],[0.3333333333333333,\"#9c179e\"],[0.4444444444444444,\"#bd3786\"],[0.5555555555555556,\"#d8576b\"],[0.6666666666666666,\"#ed7953\"],[0.7777777777777778,\"#fb9f3a\"],[0.8888888888888888,\"#fdca26\"],[1.0,\"#f0f921\"]]},\"legend\":{\"tracegroupgap\":0},\"title\":{\"text\":\"Natural Gas Transmission Hubs in the United States (2009)<br><sup>*Data Source: Homeland Infrastructure Foundation</sup><br><sup>Stamen Terrain Heat Map: Based on Customer Size.</sup>\"}},                        {\"responsive\": true}                    ).then(function(){\n",
       "                            \n",
       "var gd = document.getElementById('a1e03dd6-d3b3-435e-b268-c3e8d5345e42');\n",
       "var x = new MutationObserver(function (mutations, observer) {{\n",
       "        var display = window.getComputedStyle(gd).display;\n",
       "        if (!display || display === 'none') {{\n",
       "            console.log([gd, 'removed!']);\n",
       "            Plotly.purge(gd);\n",
       "            observer.disconnect();\n",
       "        }}\n",
       "}});\n",
       "\n",
       "// Listen for the removal of the full notebook cells\n",
       "var notebookContainer = gd.closest('#notebook-container');\n",
       "if (notebookContainer) {{\n",
       "    x.observe(notebookContainer, {childList: true});\n",
       "}}\n",
       "\n",
       "// Listen for the clearing of the current output cell\n",
       "var outputEl = gd.closest('.output');\n",
       "if (outputEl) {{\n",
       "    x.observe(outputEl, {childList: true});\n",
       "}}\n",
       "\n",
       "                        })                };                });            </script>        </div>"
      ]
     },
     "metadata": {},
     "output_type": "display_data"
    }
   ],
   "source": [
    "fig = px.density_mapbox(df, z=\"Numcust\", lat=\"Latitude\", lon=\"Longitude\", radius=25, \n",
    "                       center=dict(lat=40,lon=-100), zoom=2.5,\n",
    "                       mapbox_style=\"stamen-terrain\", hover_name=\"Hub_name\",\n",
    "                       labels=\"Hub_name\", opacity=0.95, \n",
    "                        title=\"Natural Gas Transmission Hubs in the United States (2009)<br><sup>*Data Source: Homeland Infrastructure Foundation</sup><br><sup>Stamen Terrain Heat Map: Based on Customer Size.</sup>\")\n",
    "\n",
    "fig.show()"
   ]
  },
  {
   "cell_type": "markdown",
   "id": "d91336ef",
   "metadata": {},
   "source": [
    "# Visuals p.2"
   ]
  },
  {
   "cell_type": "code",
   "execution_count": 65,
   "id": "161addea",
   "metadata": {},
   "outputs": [
    {
     "data": {
      "text/html": [
       "<div>\n",
       "<style scoped>\n",
       "    .dataframe tbody tr th:only-of-type {\n",
       "        vertical-align: middle;\n",
       "    }\n",
       "\n",
       "    .dataframe tbody tr th {\n",
       "        vertical-align: top;\n",
       "    }\n",
       "\n",
       "    .dataframe thead th {\n",
       "        text-align: right;\n",
       "    }\n",
       "</style>\n",
       "<table border=\"1\" class=\"dataframe\">\n",
       "  <thead>\n",
       "    <tr style=\"text-align: right;\">\n",
       "      <th></th>\n",
       "      <th>X</th>\n",
       "      <th>Y</th>\n",
       "      <th>FID</th>\n",
       "      <th>Region</th>\n",
       "      <th>State</th>\n",
       "      <th>Hub_name</th>\n",
       "      <th>Adminstr</th>\n",
       "      <th>Operator</th>\n",
       "      <th>Typeoper</th>\n",
       "      <th>Yr_activat</th>\n",
       "      <th>...</th>\n",
       "      <th>City</th>\n",
       "      <th>County_1</th>\n",
       "      <th>County_2</th>\n",
       "      <th>Authority</th>\n",
       "      <th>Rates</th>\n",
       "      <th>Platform</th>\n",
       "      <th>Yearofdata</th>\n",
       "      <th>Latitude</th>\n",
       "      <th>Longitude</th>\n",
       "      <th>geometry</th>\n",
       "    </tr>\n",
       "  </thead>\n",
       "  <tbody>\n",
       "    <tr>\n",
       "      <th>0</th>\n",
       "      <td>-107.956990</td>\n",
       "      <td>36.686394</td>\n",
       "      <td>1</td>\n",
       "      <td>Southwest</td>\n",
       "      <td>NM</td>\n",
       "      <td>Blanco Hub</td>\n",
       "      <td>Transwestern Gas Pipeline Co</td>\n",
       "      <td>Transwestern Gas Pipeline Co</td>\n",
       "      <td>Production Hub</td>\n",
       "      <td>1993</td>\n",
       "      <td>...</td>\n",
       "      <td></td>\n",
       "      <td>San Juan</td>\n",
       "      <td></td>\n",
       "      <td>NGA Section 7</td>\n",
       "      <td>Max - Discount</td>\n",
       "      <td>Intercontinental Exch (San Juan)</td>\n",
       "      <td>2009</td>\n",
       "      <td>36.6864</td>\n",
       "      <td>-107.9570</td>\n",
       "      <td>POINT (-107.95700 36.68640)</td>\n",
       "    </tr>\n",
       "    <tr>\n",
       "      <th>1</th>\n",
       "      <td>-100.458991</td>\n",
       "      <td>35.833694</td>\n",
       "      <td>2</td>\n",
       "      <td>Southwest</td>\n",
       "      <td>TX</td>\n",
       "      <td>Buffalo Wallow Center</td>\n",
       "      <td>KM Interstate Gas Transmission co</td>\n",
       "      <td>KM Interstate Gas Transmission co</td>\n",
       "      <td>Market Center</td>\n",
       "      <td>1994</td>\n",
       "      <td>...</td>\n",
       "      <td></td>\n",
       "      <td>Hemphill</td>\n",
       "      <td></td>\n",
       "      <td>FERC Section 311</td>\n",
       "      <td>Max - Discount</td>\n",
       "      <td>No</td>\n",
       "      <td>1999</td>\n",
       "      <td>35.8337</td>\n",
       "      <td>-100.4590</td>\n",
       "      <td>POINT (-100.45900 35.83370)</td>\n",
       "    </tr>\n",
       "    <tr>\n",
       "      <th>2</th>\n",
       "      <td>-94.278893</td>\n",
       "      <td>32.159594</td>\n",
       "      <td>3</td>\n",
       "      <td>Southwest</td>\n",
       "      <td>TX</td>\n",
       "      <td>Carthage Hub</td>\n",
       "      <td>DCP Midstream Partners LP</td>\n",
       "      <td>DCP Midstream Inc</td>\n",
       "      <td>Production Hub</td>\n",
       "      <td>1990</td>\n",
       "      <td>...</td>\n",
       "      <td></td>\n",
       "      <td>Panola</td>\n",
       "      <td></td>\n",
       "      <td>FERC Section 311 &amp; State</td>\n",
       "      <td>Max - Discount</td>\n",
       "      <td>Intercontinental Exchange</td>\n",
       "      <td>2008</td>\n",
       "      <td>32.1596</td>\n",
       "      <td>-94.2789</td>\n",
       "      <td>POINT (-94.27890 32.15960)</td>\n",
       "    </tr>\n",
       "    <tr>\n",
       "      <th>3</th>\n",
       "      <td>-88.263894</td>\n",
       "      <td>41.500192</td>\n",
       "      <td>4</td>\n",
       "      <td>Midwest</td>\n",
       "      <td>IL</td>\n",
       "      <td>Chicago Hub</td>\n",
       "      <td>Enerchange Inc</td>\n",
       "      <td>Northern Illinois Gas Co  (Nicor)</td>\n",
       "      <td>Market Center</td>\n",
       "      <td>1993</td>\n",
       "      <td>...</td>\n",
       "      <td>NaN</td>\n",
       "      <td>Various</td>\n",
       "      <td></td>\n",
       "      <td>FERC Section 311</td>\n",
       "      <td>Max - Discount</td>\n",
       "      <td>NGX, Intercontinental Exchange</td>\n",
       "      <td>2008</td>\n",
       "      <td>41.5002</td>\n",
       "      <td>-88.2639</td>\n",
       "      <td>POINT (-88.26390 41.50020)</td>\n",
       "    </tr>\n",
       "    <tr>\n",
       "      <th>4</th>\n",
       "      <td>-77.789997</td>\n",
       "      <td>41.397892</td>\n",
       "      <td>5</td>\n",
       "      <td>Northeast</td>\n",
       "      <td>PA</td>\n",
       "      <td>Ellisburg-Leidy Center</td>\n",
       "      <td>National Fuel Gas Supply Co</td>\n",
       "      <td>National Fuel Gas Supply Co</td>\n",
       "      <td>Market Center</td>\n",
       "      <td>1993</td>\n",
       "      <td>...</td>\n",
       "      <td></td>\n",
       "      <td>Potter</td>\n",
       "      <td>Clinton</td>\n",
       "      <td>FERC Section 311</td>\n",
       "      <td>Max - Discount</td>\n",
       "      <td>Gas Daily</td>\n",
       "      <td>2008</td>\n",
       "      <td>41.3979</td>\n",
       "      <td>-77.7900</td>\n",
       "      <td>POINT (-77.79000 41.39790)</td>\n",
       "    </tr>\n",
       "    <tr>\n",
       "      <th>5</th>\n",
       "      <td>-94.167893</td>\n",
       "      <td>29.830995</td>\n",
       "      <td>6</td>\n",
       "      <td>Southwest</td>\n",
       "      <td>TX</td>\n",
       "      <td>Spindletop Storage Hub</td>\n",
       "      <td>Centana Intrastate Pipeline Co</td>\n",
       "      <td>Centana Intrastate Pipeline Co</td>\n",
       "      <td>Storage Hub</td>\n",
       "      <td>1998</td>\n",
       "      <td>...</td>\n",
       "      <td></td>\n",
       "      <td>Jefferson</td>\n",
       "      <td></td>\n",
       "      <td>FERC Section 311</td>\n",
       "      <td>Max - Discount</td>\n",
       "      <td>No</td>\n",
       "      <td>2008</td>\n",
       "      <td>29.8310</td>\n",
       "      <td>-94.1679</td>\n",
       "      <td>POINT (-94.16790 29.83100)</td>\n",
       "    </tr>\n",
       "    <tr>\n",
       "      <th>6</th>\n",
       "      <td>-95.393593</td>\n",
       "      <td>29.773995</td>\n",
       "      <td>7</td>\n",
       "      <td>Southwest</td>\n",
       "      <td>TX</td>\n",
       "      <td>Houston Hub</td>\n",
       "      <td>EL Paso Field Services Co</td>\n",
       "      <td>EL Paso Field Services Co</td>\n",
       "      <td>Market Hub</td>\n",
       "      <td>1992</td>\n",
       "      <td>...</td>\n",
       "      <td>Houston</td>\n",
       "      <td>Harris</td>\n",
       "      <td></td>\n",
       "      <td>FERC Section 311</td>\n",
       "      <td>Max - Discount</td>\n",
       "      <td>Not applicable</td>\n",
       "      <td>2003</td>\n",
       "      <td>29.7740</td>\n",
       "      <td>-95.3936</td>\n",
       "      <td>POINT (-95.39360 29.77400)</td>\n",
       "    </tr>\n",
       "    <tr>\n",
       "      <th>7</th>\n",
       "      <td>-95.851193</td>\n",
       "      <td>29.833095</td>\n",
       "      <td>8</td>\n",
       "      <td>Southwest</td>\n",
       "      <td>TX</td>\n",
       "      <td>Katy (DCP) Hub</td>\n",
       "      <td>DCP Midstream LP</td>\n",
       "      <td>Guadalupe Pipeline Co</td>\n",
       "      <td>Production Hub</td>\n",
       "      <td>1995</td>\n",
       "      <td>...</td>\n",
       "      <td></td>\n",
       "      <td>Waller</td>\n",
       "      <td></td>\n",
       "      <td>Texas Railroad Comm</td>\n",
       "      <td>Market Based</td>\n",
       "      <td>No</td>\n",
       "      <td>2003</td>\n",
       "      <td>29.8331</td>\n",
       "      <td>-95.8512</td>\n",
       "      <td>POINT (-95.85120 29.83310)</td>\n",
       "    </tr>\n",
       "    <tr>\n",
       "      <th>8</th>\n",
       "      <td>-84.181095</td>\n",
       "      <td>39.415892</td>\n",
       "      <td>9</td>\n",
       "      <td>Midwest</td>\n",
       "      <td>OH</td>\n",
       "      <td>Lebanon Hub</td>\n",
       "      <td>East Ohio Gas Co</td>\n",
       "      <td>East Ohio Gas Co</td>\n",
       "      <td>Market Hub</td>\n",
       "      <td>1994</td>\n",
       "      <td>...</td>\n",
       "      <td></td>\n",
       "      <td>Warren</td>\n",
       "      <td></td>\n",
       "      <td>FERC Section 311</td>\n",
       "      <td>Max - Discount</td>\n",
       "      <td>Not applicable</td>\n",
       "      <td>1998</td>\n",
       "      <td>39.4159</td>\n",
       "      <td>-84.1811</td>\n",
       "      <td>POINT (-84.18110 39.41590)</td>\n",
       "    </tr>\n",
       "    <tr>\n",
       "      <th>9</th>\n",
       "      <td>-92.429594</td>\n",
       "      <td>29.963995</td>\n",
       "      <td>10</td>\n",
       "      <td>Southwest</td>\n",
       "      <td>LA</td>\n",
       "      <td>Louisiana Hub</td>\n",
       "      <td>Bridgeline Storage Co</td>\n",
       "      <td>Bridgeline Storage Co</td>\n",
       "      <td>Market Center</td>\n",
       "      <td>1994</td>\n",
       "      <td>...</td>\n",
       "      <td></td>\n",
       "      <td>Assumption</td>\n",
       "      <td>Cameron</td>\n",
       "      <td>FERC Section 311</td>\n",
       "      <td>Market Based</td>\n",
       "      <td>Not applicable</td>\n",
       "      <td>1996</td>\n",
       "      <td>29.9640</td>\n",
       "      <td>-92.4296</td>\n",
       "      <td>POINT (-92.42960 29.96400)</td>\n",
       "    </tr>\n",
       "    <tr>\n",
       "      <th>10</th>\n",
       "      <td>-94.857793</td>\n",
       "      <td>30.156795</td>\n",
       "      <td>11</td>\n",
       "      <td>Southwest</td>\n",
       "      <td>TX</td>\n",
       "      <td>Moss Bluff  Hub</td>\n",
       "      <td>Moss Bluff Hub Partners LP</td>\n",
       "      <td>Market Hub Partners Inc</td>\n",
       "      <td>Storage Hub</td>\n",
       "      <td>1994</td>\n",
       "      <td>...</td>\n",
       "      <td></td>\n",
       "      <td>Liberty</td>\n",
       "      <td></td>\n",
       "      <td>NGA Section 7</td>\n",
       "      <td>Market Based</td>\n",
       "      <td>No</td>\n",
       "      <td>2008</td>\n",
       "      <td>30.1568</td>\n",
       "      <td>-94.8578</td>\n",
       "      <td>POINT (-94.85780 30.15680)</td>\n",
       "    </tr>\n",
       "    <tr>\n",
       "      <th>11</th>\n",
       "      <td>-92.061594</td>\n",
       "      <td>32.703494</td>\n",
       "      <td>12</td>\n",
       "      <td>Southwest</td>\n",
       "      <td>LA</td>\n",
       "      <td>Perryville (Ouachita) Hub</td>\n",
       "      <td>Ouachita River Gas Storage Co</td>\n",
       "      <td>Ouachita River Gas Storage Co</td>\n",
       "      <td>Market Hub</td>\n",
       "      <td>1997</td>\n",
       "      <td>...</td>\n",
       "      <td>Perryville</td>\n",
       "      <td>Quachita</td>\n",
       "      <td></td>\n",
       "      <td>NGA Section 7</td>\n",
       "      <td></td>\n",
       "      <td>Not applicable</td>\n",
       "      <td>1998</td>\n",
       "      <td>32.7035</td>\n",
       "      <td>-92.0616</td>\n",
       "      <td>POINT (-92.06160 32.70350)</td>\n",
       "    </tr>\n",
       "    <tr>\n",
       "      <th>12</th>\n",
       "      <td>-91.176794</td>\n",
       "      <td>29.970695</td>\n",
       "      <td>13</td>\n",
       "      <td>Southwest</td>\n",
       "      <td>LA</td>\n",
       "      <td>Texaco Gulf Star Center</td>\n",
       "      <td>Texaco Inc</td>\n",
       "      <td>Texaco Inc</td>\n",
       "      <td>Market Center</td>\n",
       "      <td>1993</td>\n",
       "      <td>...</td>\n",
       "      <td></td>\n",
       "      <td>NaN</td>\n",
       "      <td></td>\n",
       "      <td>FERC Section 311</td>\n",
       "      <td>Max - Discount</td>\n",
       "      <td>Not applicable</td>\n",
       "      <td>2003</td>\n",
       "      <td>29.9707</td>\n",
       "      <td>-91.1768</td>\n",
       "      <td>POINT (-91.17680 29.97070)</td>\n",
       "    </tr>\n",
       "    <tr>\n",
       "      <th>13</th>\n",
       "      <td>-103.108991</td>\n",
       "      <td>31.628995</td>\n",
       "      <td>14</td>\n",
       "      <td>Southwest</td>\n",
       "      <td>TX</td>\n",
       "      <td>Waha (Atmos) Hub</td>\n",
       "      <td>Atmos Pipeline - Texas</td>\n",
       "      <td>Atmos Pipeline - Texas</td>\n",
       "      <td>Market Hub</td>\n",
       "      <td>1995</td>\n",
       "      <td>...</td>\n",
       "      <td></td>\n",
       "      <td>Pecos</td>\n",
       "      <td></td>\n",
       "      <td>FERC Section 311 &amp; State</td>\n",
       "      <td>Max - Discount</td>\n",
       "      <td>No</td>\n",
       "      <td>2008</td>\n",
       "      <td>31.6290</td>\n",
       "      <td>-103.1090</td>\n",
       "      <td>POINT (-103.10900 31.62900)</td>\n",
       "    </tr>\n",
       "    <tr>\n",
       "      <th>14</th>\n",
       "      <td>-103.112991</td>\n",
       "      <td>31.225095</td>\n",
       "      <td>15</td>\n",
       "      <td>Southwest</td>\n",
       "      <td>TX</td>\n",
       "      <td>Waha (DCP/Atmos) Hub</td>\n",
       "      <td>DCP Midstream LP</td>\n",
       "      <td>Atmos Pipeline - Texas</td>\n",
       "      <td>Production Hub</td>\n",
       "      <td>1995</td>\n",
       "      <td>...</td>\n",
       "      <td></td>\n",
       "      <td>Pecos</td>\n",
       "      <td></td>\n",
       "      <td>FERC Section 311 &amp; State</td>\n",
       "      <td>Max - Discount</td>\n",
       "      <td>No</td>\n",
       "      <td>2008</td>\n",
       "      <td>31.2251</td>\n",
       "      <td>-103.1130</td>\n",
       "      <td>POINT (-103.11300 31.22510)</td>\n",
       "    </tr>\n",
       "    <tr>\n",
       "      <th>15</th>\n",
       "      <td>-92.357394</td>\n",
       "      <td>30.269495</td>\n",
       "      <td>16</td>\n",
       "      <td>Southwest</td>\n",
       "      <td>LA</td>\n",
       "      <td>Egan Hub</td>\n",
       "      <td>Egan Hub Partners LP</td>\n",
       "      <td>Market Hub Partners Inc</td>\n",
       "      <td>Storage Hub</td>\n",
       "      <td>1995</td>\n",
       "      <td>...</td>\n",
       "      <td></td>\n",
       "      <td>Acadia</td>\n",
       "      <td></td>\n",
       "      <td>NGA Section 7</td>\n",
       "      <td>Market Based</td>\n",
       "      <td>No</td>\n",
       "      <td>2008</td>\n",
       "      <td>30.2695</td>\n",
       "      <td>-92.3574</td>\n",
       "      <td>POINT (-92.35740 30.26950)</td>\n",
       "    </tr>\n",
       "    <tr>\n",
       "      <th>16</th>\n",
       "      <td>-92.528494</td>\n",
       "      <td>30.911794</td>\n",
       "      <td>17</td>\n",
       "      <td>Southwest</td>\n",
       "      <td>LA</td>\n",
       "      <td>Louisiana Intrastate Gas Center</td>\n",
       "      <td>Louisiana Intratstate Gas Co</td>\n",
       "      <td>Louisiana Intratstate Gas Co</td>\n",
       "      <td>Market Hub</td>\n",
       "      <td>1999</td>\n",
       "      <td>...</td>\n",
       "      <td></td>\n",
       "      <td>Iberia</td>\n",
       "      <td>Vermillion</td>\n",
       "      <td>Section 311 Cost</td>\n",
       "      <td>Market Based</td>\n",
       "      <td>Not applicable</td>\n",
       "      <td>1996</td>\n",
       "      <td>30.9118</td>\n",
       "      <td>-92.5285</td>\n",
       "      <td>POINT (-92.52850 30.91180)</td>\n",
       "    </tr>\n",
       "    <tr>\n",
       "      <th>17</th>\n",
       "      <td>-95.786093</td>\n",
       "      <td>29.750095</td>\n",
       "      <td>18</td>\n",
       "      <td>Southwest</td>\n",
       "      <td>TX</td>\n",
       "      <td>Katy Storage Center</td>\n",
       "      <td>ENSTOR Energy Inc</td>\n",
       "      <td>ENSTOR Energy Inc</td>\n",
       "      <td>Storage Hub</td>\n",
       "      <td>1993</td>\n",
       "      <td>...</td>\n",
       "      <td>Houston</td>\n",
       "      <td>Fort Bend</td>\n",
       "      <td>Weller</td>\n",
       "      <td>FERC Section 311</td>\n",
       "      <td>Max - Discount</td>\n",
       "      <td>Intercontinental Exchange</td>\n",
       "      <td>2008</td>\n",
       "      <td>29.7501</td>\n",
       "      <td>-95.7861</td>\n",
       "      <td>POINT (-95.78610 29.75010)</td>\n",
       "    </tr>\n",
       "    <tr>\n",
       "      <th>18</th>\n",
       "      <td>-102.330991</td>\n",
       "      <td>30.816295</td>\n",
       "      <td>19</td>\n",
       "      <td>Southwest</td>\n",
       "      <td>TX</td>\n",
       "      <td>Waha  (ENSTOR) Hub</td>\n",
       "      <td>ENSTOR Energy Inc</td>\n",
       "      <td>ENSTOR Energy Inc</td>\n",
       "      <td>Storage Hub</td>\n",
       "      <td>2009</td>\n",
       "      <td>...</td>\n",
       "      <td></td>\n",
       "      <td>Pecos</td>\n",
       "      <td></td>\n",
       "      <td>FERC Section 311 &amp; State</td>\n",
       "      <td></td>\n",
       "      <td>No</td>\n",
       "      <td>2008</td>\n",
       "      <td>30.8163</td>\n",
       "      <td>-102.3310</td>\n",
       "      <td>POINT (-102.33100 30.81630)</td>\n",
       "    </tr>\n",
       "    <tr>\n",
       "      <th>19</th>\n",
       "      <td>-97.600293</td>\n",
       "      <td>27.548795</td>\n",
       "      <td>20</td>\n",
       "      <td>Southwest</td>\n",
       "      <td>TX</td>\n",
       "      <td>Aqua Dulce Hub</td>\n",
       "      <td>ConocoPhillips Inc</td>\n",
       "      <td>ConocoPhillips Inc</td>\n",
       "      <td>Production Hub</td>\n",
       "      <td>1990</td>\n",
       "      <td>...</td>\n",
       "      <td></td>\n",
       "      <td>Nueces</td>\n",
       "      <td>Jim Wells</td>\n",
       "      <td>Texas Railroad Comm</td>\n",
       "      <td>State Tariff</td>\n",
       "      <td>No</td>\n",
       "      <td>2008</td>\n",
       "      <td>27.5488</td>\n",
       "      <td>-97.6003</td>\n",
       "      <td>POINT (-97.60030 27.54880)</td>\n",
       "    </tr>\n",
       "    <tr>\n",
       "      <th>20</th>\n",
       "      <td>-83.401395</td>\n",
       "      <td>42.222192</td>\n",
       "      <td>21</td>\n",
       "      <td>Midwest</td>\n",
       "      <td>MI</td>\n",
       "      <td>Grand Lacs Hub</td>\n",
       "      <td>CMS Gas Transmission and Storage</td>\n",
       "      <td>CMS Gas Transmission and Storage</td>\n",
       "      <td>Market Hub</td>\n",
       "      <td>1995</td>\n",
       "      <td>...</td>\n",
       "      <td>Marysville</td>\n",
       "      <td>St Cair</td>\n",
       "      <td></td>\n",
       "      <td></td>\n",
       "      <td>Market Based</td>\n",
       "      <td>Not applicable</td>\n",
       "      <td>1999</td>\n",
       "      <td>42.2222</td>\n",
       "      <td>-83.4014</td>\n",
       "      <td>POINT (-83.40140 42.22220)</td>\n",
       "    </tr>\n",
       "    <tr>\n",
       "      <th>21</th>\n",
       "      <td>-97.772092</td>\n",
       "      <td>37.869893</td>\n",
       "      <td>22</td>\n",
       "      <td>Central</td>\n",
       "      <td>KS</td>\n",
       "      <td>Mid-Continent Center</td>\n",
       "      <td>Mid-Continent Market Services</td>\n",
       "      <td>Oneok Gas Transportation LLC</td>\n",
       "      <td>Market Center</td>\n",
       "      <td>1995</td>\n",
       "      <td>...</td>\n",
       "      <td></td>\n",
       "      <td>NaN</td>\n",
       "      <td></td>\n",
       "      <td>FERC Section 311</td>\n",
       "      <td>Max - Discount</td>\n",
       "      <td>No</td>\n",
       "      <td>2008</td>\n",
       "      <td>37.8699</td>\n",
       "      <td>-97.7721</td>\n",
       "      <td>POINT (-97.77210 37.86990)</td>\n",
       "    </tr>\n",
       "    <tr>\n",
       "      <th>22</th>\n",
       "      <td>-78.127397</td>\n",
       "      <td>40.581892</td>\n",
       "      <td>23</td>\n",
       "      <td>Northeast</td>\n",
       "      <td>PA</td>\n",
       "      <td>Dominion Hub</td>\n",
       "      <td>Dominion Transmission Inc</td>\n",
       "      <td>Dominion Transmission Inc</td>\n",
       "      <td>Market Center</td>\n",
       "      <td>1994</td>\n",
       "      <td>...</td>\n",
       "      <td>Various</td>\n",
       "      <td>NaN</td>\n",
       "      <td></td>\n",
       "      <td>FERC Section 311</td>\n",
       "      <td>Market Based</td>\n",
       "      <td>Gas Daily, ICE</td>\n",
       "      <td>2008</td>\n",
       "      <td>40.5819</td>\n",
       "      <td>-78.1274</td>\n",
       "      <td>POINT (-78.12740 40.58190)</td>\n",
       "    </tr>\n",
       "    <tr>\n",
       "      <th>23</th>\n",
       "      <td>-78.907397</td>\n",
       "      <td>41.141592</td>\n",
       "      <td>24</td>\n",
       "      <td>Northeast</td>\n",
       "      <td>PA</td>\n",
       "      <td>Columbia Gas Center</td>\n",
       "      <td>Columbia Energy Services</td>\n",
       "      <td>Columbia Energy Services (gone)</td>\n",
       "      <td>Market Center</td>\n",
       "      <td>1995</td>\n",
       "      <td>...</td>\n",
       "      <td></td>\n",
       "      <td>NaN</td>\n",
       "      <td></td>\n",
       "      <td>NGA Section 7</td>\n",
       "      <td>Max - Discount</td>\n",
       "      <td>Not applicable</td>\n",
       "      <td>2003</td>\n",
       "      <td>41.1416</td>\n",
       "      <td>-78.9074</td>\n",
       "      <td>POINT (-78.90740 41.14160)</td>\n",
       "    </tr>\n",
       "    <tr>\n",
       "      <th>24</th>\n",
       "      <td>-110.305988</td>\n",
       "      <td>41.791194</td>\n",
       "      <td>25</td>\n",
       "      <td>Central</td>\n",
       "      <td>WY</td>\n",
       "      <td>Rocky Mountain Center</td>\n",
       "      <td>Altra  Energy Technologies LLC</td>\n",
       "      <td>Northwest Pipeline Co</td>\n",
       "      <td>Market Center</td>\n",
       "      <td>1995</td>\n",
       "      <td>...</td>\n",
       "      <td>Opal</td>\n",
       "      <td>Lincoln</td>\n",
       "      <td></td>\n",
       "      <td>NGA Section 7</td>\n",
       "      <td>Max - Discount</td>\n",
       "      <td>Not applicable</td>\n",
       "      <td>1999</td>\n",
       "      <td>41.7912</td>\n",
       "      <td>-110.3060</td>\n",
       "      <td>POINT (-110.30600 41.79120)</td>\n",
       "    </tr>\n",
       "    <tr>\n",
       "      <th>25</th>\n",
       "      <td>-110.507988</td>\n",
       "      <td>41.297394</td>\n",
       "      <td>26</td>\n",
       "      <td>Central</td>\n",
       "      <td>WY</td>\n",
       "      <td>Western Center</td>\n",
       "      <td>Overland Trail Transmission Co</td>\n",
       "      <td>Overland Trail Transmission Co</td>\n",
       "      <td>Market Center</td>\n",
       "      <td>1995</td>\n",
       "      <td>...</td>\n",
       "      <td>Muddy Creek</td>\n",
       "      <td>Unita</td>\n",
       "      <td>Sweetwater</td>\n",
       "      <td>FERC Section 311</td>\n",
       "      <td>Max - Discount</td>\n",
       "      <td>Not applicable</td>\n",
       "      <td>1999</td>\n",
       "      <td>41.2974</td>\n",
       "      <td>-110.5080</td>\n",
       "      <td>POINT (-110.50800 41.29740)</td>\n",
       "    </tr>\n",
       "    <tr>\n",
       "      <th>26</th>\n",
       "      <td>-119.372987</td>\n",
       "      <td>35.826295</td>\n",
       "      <td>27</td>\n",
       "      <td>Western</td>\n",
       "      <td>CA</td>\n",
       "      <td>California Energy Hub</td>\n",
       "      <td>Southern California Gas Co</td>\n",
       "      <td>Southern California Gas Co</td>\n",
       "      <td>Market Center</td>\n",
       "      <td>1994</td>\n",
       "      <td>...</td>\n",
       "      <td>NaN</td>\n",
       "      <td>NaN</td>\n",
       "      <td></td>\n",
       "      <td>FERC Section 311 &amp; State</td>\n",
       "      <td>FERC/State Tif</td>\n",
       "      <td>No</td>\n",
       "      <td>2008</td>\n",
       "      <td>35.8263</td>\n",
       "      <td>-119.3730</td>\n",
       "      <td>POINT (-119.37300 35.82630)</td>\n",
       "    </tr>\n",
       "    <tr>\n",
       "      <th>27</th>\n",
       "      <td>-121.001986</td>\n",
       "      <td>44.684594</td>\n",
       "      <td>28</td>\n",
       "      <td>Western</td>\n",
       "      <td>OR</td>\n",
       "      <td>GTNW Market Center</td>\n",
       "      <td>Gas Transmission - NW</td>\n",
       "      <td>Gas Transmission - NW</td>\n",
       "      <td>Market Center</td>\n",
       "      <td>1994</td>\n",
       "      <td>...</td>\n",
       "      <td>NaN</td>\n",
       "      <td>NaN</td>\n",
       "      <td></td>\n",
       "      <td>FERC Section 311</td>\n",
       "      <td>FERC Tariff</td>\n",
       "      <td>Intercontinental Exch</td>\n",
       "      <td>2008</td>\n",
       "      <td>44.6846</td>\n",
       "      <td>-121.0020</td>\n",
       "      <td>POINT (-121.00200 44.68460)</td>\n",
       "    </tr>\n",
       "    <tr>\n",
       "      <th>28</th>\n",
       "      <td>-119.367988</td>\n",
       "      <td>34.688795</td>\n",
       "      <td>29</td>\n",
       "      <td>Western</td>\n",
       "      <td>CA</td>\n",
       "      <td>Ten Section Hub</td>\n",
       "      <td>Mcfarland Energy Co</td>\n",
       "      <td>Mcfarland Energy Co</td>\n",
       "      <td>Market Hub</td>\n",
       "      <td>1998</td>\n",
       "      <td>...</td>\n",
       "      <td></td>\n",
       "      <td>Kern</td>\n",
       "      <td></td>\n",
       "      <td></td>\n",
       "      <td></td>\n",
       "      <td>Not applicable</td>\n",
       "      <td>1996</td>\n",
       "      <td>34.6888</td>\n",
       "      <td>-119.3680</td>\n",
       "      <td>POINT (-119.36800 34.68880)</td>\n",
       "    </tr>\n",
       "    <tr>\n",
       "      <th>29</th>\n",
       "      <td>-91.518594</td>\n",
       "      <td>32.435394</td>\n",
       "      <td>30</td>\n",
       "      <td>Southwest</td>\n",
       "      <td>LA</td>\n",
       "      <td>Perryville Hub</td>\n",
       "      <td>Centerpoint Energy Gas Trans co</td>\n",
       "      <td>Centerpoint Energy Gas Trans co</td>\n",
       "      <td>Market Center</td>\n",
       "      <td>1994</td>\n",
       "      <td>...</td>\n",
       "      <td>Perryville</td>\n",
       "      <td>Richland</td>\n",
       "      <td></td>\n",
       "      <td>FERC Section 311</td>\n",
       "      <td>Max - Discount</td>\n",
       "      <td>No</td>\n",
       "      <td>2008</td>\n",
       "      <td>32.4354</td>\n",
       "      <td>-91.5186</td>\n",
       "      <td>POINT (-91.51860 32.43540)</td>\n",
       "    </tr>\n",
       "    <tr>\n",
       "      <th>30</th>\n",
       "      <td>-77.460997</td>\n",
       "      <td>42.440092</td>\n",
       "      <td>31</td>\n",
       "      <td>Northeast</td>\n",
       "      <td>PA</td>\n",
       "      <td>Avoca Hub</td>\n",
       "      <td>Bowdin Storage Services</td>\n",
       "      <td>Bowdin Storage Services</td>\n",
       "      <td>Market Hub</td>\n",
       "      <td>1997</td>\n",
       "      <td>...</td>\n",
       "      <td></td>\n",
       "      <td>Steuben</td>\n",
       "      <td></td>\n",
       "      <td>NGA Section 7</td>\n",
       "      <td>Market Based</td>\n",
       "      <td>Not applicable</td>\n",
       "      <td>1996</td>\n",
       "      <td>42.4401</td>\n",
       "      <td>-77.4610</td>\n",
       "      <td>POINT (-77.46100 42.44010)</td>\n",
       "    </tr>\n",
       "    <tr>\n",
       "      <th>31</th>\n",
       "      <td>-74.178498</td>\n",
       "      <td>42.658091</td>\n",
       "      <td>32</td>\n",
       "      <td>Northeast</td>\n",
       "      <td>NY</td>\n",
       "      <td>Iroquois Center</td>\n",
       "      <td>Iroquois Gas Trans Co</td>\n",
       "      <td>Iroquois Gas Trans Co</td>\n",
       "      <td>Market Center</td>\n",
       "      <td>1996</td>\n",
       "      <td>...</td>\n",
       "      <td></td>\n",
       "      <td>NaN</td>\n",
       "      <td></td>\n",
       "      <td>NGA Section 284</td>\n",
       "      <td>Max - Discount</td>\n",
       "      <td>Gas Daily, NGX Trading System</td>\n",
       "      <td>2008</td>\n",
       "      <td>42.6581</td>\n",
       "      <td>-74.1785</td>\n",
       "      <td>POINT (-74.17850 42.65810)</td>\n",
       "    </tr>\n",
       "    <tr>\n",
       "      <th>32</th>\n",
       "      <td>-77.131497</td>\n",
       "      <td>41.922192</td>\n",
       "      <td>33</td>\n",
       "      <td>Northeast</td>\n",
       "      <td>PA</td>\n",
       "      <td>Tioga Hub</td>\n",
       "      <td>Northeast Hub Partners, LP</td>\n",
       "      <td>Northeast Hub Partners, LP</td>\n",
       "      <td>Market Hub</td>\n",
       "      <td>1997</td>\n",
       "      <td>...</td>\n",
       "      <td></td>\n",
       "      <td>Tioga</td>\n",
       "      <td></td>\n",
       "      <td>NGA Section 7</td>\n",
       "      <td>Max - Discount</td>\n",
       "      <td>Not applicable</td>\n",
       "      <td>1996</td>\n",
       "      <td>41.9222</td>\n",
       "      <td>-77.1315</td>\n",
       "      <td>POINT (-77.13150 41.92220)</td>\n",
       "    </tr>\n",
       "    <tr>\n",
       "      <th>33</th>\n",
       "      <td>-114.512988</td>\n",
       "      <td>34.724395</td>\n",
       "      <td>34</td>\n",
       "      <td>Western</td>\n",
       "      <td>CA</td>\n",
       "      <td>Mojave Center</td>\n",
       "      <td>Mojave Pipeline Co</td>\n",
       "      <td>Mojave Pipeline Co</td>\n",
       "      <td>Market Center</td>\n",
       "      <td>1996</td>\n",
       "      <td>...</td>\n",
       "      <td>NaN</td>\n",
       "      <td>NaN</td>\n",
       "      <td></td>\n",
       "      <td>NGA Section 7</td>\n",
       "      <td>Max - Discount</td>\n",
       "      <td>No</td>\n",
       "      <td>2003</td>\n",
       "      <td>34.7244</td>\n",
       "      <td>-114.5130</td>\n",
       "      <td>POINT (-114.51300 34.72440)</td>\n",
       "    </tr>\n",
       "    <tr>\n",
       "      <th>34</th>\n",
       "      <td>-121.913987</td>\n",
       "      <td>38.404895</td>\n",
       "      <td>35</td>\n",
       "      <td>Western</td>\n",
       "      <td>CA</td>\n",
       "      <td>Golden Gate Center</td>\n",
       "      <td>California Gas Transmission Co</td>\n",
       "      <td>California Gas Transmission Co</td>\n",
       "      <td>Market Center</td>\n",
       "      <td>1996</td>\n",
       "      <td>...</td>\n",
       "      <td>NaN</td>\n",
       "      <td>Various</td>\n",
       "      <td></td>\n",
       "      <td>State</td>\n",
       "      <td>Max - Discount</td>\n",
       "      <td>NGI, Gas Daily PG&amp;E Citygate</td>\n",
       "      <td>2008</td>\n",
       "      <td>38.4049</td>\n",
       "      <td>-121.9140</td>\n",
       "      <td>POINT (-121.91400 38.40490)</td>\n",
       "    </tr>\n",
       "    <tr>\n",
       "      <th>35</th>\n",
       "      <td>-122.219985</td>\n",
       "      <td>49.000494</td>\n",
       "      <td>36</td>\n",
       "      <td>Canada</td>\n",
       "      <td>BC</td>\n",
       "      <td>Sumas Center</td>\n",
       "      <td>Spectra Energy Corp</td>\n",
       "      <td>Spectra Energy Transmission Co</td>\n",
       "      <td>Market Hub</td>\n",
       "      <td>1994</td>\n",
       "      <td>...</td>\n",
       "      <td>Sumas</td>\n",
       "      <td>British Columbia</td>\n",
       "      <td></td>\n",
       "      <td>NEB of Canada</td>\n",
       "      <td>NEB Tariff</td>\n",
       "      <td>Intercontinental Exch</td>\n",
       "      <td>2008</td>\n",
       "      <td>49.0005</td>\n",
       "      <td>-122.2200</td>\n",
       "      <td>POINT (-122.22000 49.00050)</td>\n",
       "    </tr>\n",
       "    <tr>\n",
       "      <th>36</th>\n",
       "      <td>-103.168991</td>\n",
       "      <td>31.236695</td>\n",
       "      <td>37</td>\n",
       "      <td>Southwest</td>\n",
       "      <td>TX</td>\n",
       "      <td>Waha (Encina) Hub</td>\n",
       "      <td>Sid Richardson Gas Co</td>\n",
       "      <td>Sid Richardson Gas Co</td>\n",
       "      <td>Production Hub</td>\n",
       "      <td>1995</td>\n",
       "      <td>...</td>\n",
       "      <td></td>\n",
       "      <td>Reeves</td>\n",
       "      <td></td>\n",
       "      <td>FERC Section 311 &amp; State</td>\n",
       "      <td>Max - Discount</td>\n",
       "      <td>No</td>\n",
       "      <td>2008</td>\n",
       "      <td>31.2367</td>\n",
       "      <td>-103.1690</td>\n",
       "      <td>POINT (-103.16900 31.23670)</td>\n",
       "    </tr>\n",
       "    <tr>\n",
       "      <th>37</th>\n",
       "      <td>-99.255791</td>\n",
       "      <td>37.556494</td>\n",
       "      <td>38</td>\n",
       "      <td>Central</td>\n",
       "      <td>KS</td>\n",
       "      <td>Kiowa Hub</td>\n",
       "      <td>Williams Underground Gas Storage</td>\n",
       "      <td>Williams Underground Gas Storage</td>\n",
       "      <td>Market Hub</td>\n",
       "      <td>0</td>\n",
       "      <td>...</td>\n",
       "      <td></td>\n",
       "      <td>Kiowa</td>\n",
       "      <td></td>\n",
       "      <td></td>\n",
       "      <td></td>\n",
       "      <td>Not applicable</td>\n",
       "      <td>1999</td>\n",
       "      <td>37.5565</td>\n",
       "      <td>-99.2558</td>\n",
       "      <td>POINT (-99.25580 37.55650)</td>\n",
       "    </tr>\n",
       "    <tr>\n",
       "      <th>38</th>\n",
       "      <td>-88.227695</td>\n",
       "      <td>30.495994</td>\n",
       "      <td>39</td>\n",
       "      <td>Southeast</td>\n",
       "      <td>AL</td>\n",
       "      <td>Mobay Storage Hub</td>\n",
       "      <td>Falcon Gas Storage Inc</td>\n",
       "      <td>Falcon Gas Storage Inc</td>\n",
       "      <td>Storage Hub</td>\n",
       "      <td>2012</td>\n",
       "      <td>...</td>\n",
       "      <td></td>\n",
       "      <td>Mobile</td>\n",
       "      <td></td>\n",
       "      <td></td>\n",
       "      <td></td>\n",
       "      <td>Not applicable</td>\n",
       "      <td>2008</td>\n",
       "      <td>30.4960</td>\n",
       "      <td>-88.2277</td>\n",
       "      <td>POINT (-88.22770 30.49600)</td>\n",
       "    </tr>\n",
       "    <tr>\n",
       "      <th>39</th>\n",
       "      <td>-104.795990</td>\n",
       "      <td>40.940693</td>\n",
       "      <td>40</td>\n",
       "      <td>Central</td>\n",
       "      <td>CO</td>\n",
       "      <td>Cheyenne Hub</td>\n",
       "      <td>Colorado Interstate Gas Co</td>\n",
       "      <td>Colorado Interstate Gas Co</td>\n",
       "      <td>Market Hub</td>\n",
       "      <td>2000</td>\n",
       "      <td>...</td>\n",
       "      <td>Fort Collins</td>\n",
       "      <td>Weld</td>\n",
       "      <td></td>\n",
       "      <td>FERC Section 311</td>\n",
       "      <td>Max - Discount</td>\n",
       "      <td>Gas Daily, NGI, ICE</td>\n",
       "      <td>2008</td>\n",
       "      <td>40.9407</td>\n",
       "      <td>-104.7960</td>\n",
       "      <td>POINT (-104.79600 40.94070)</td>\n",
       "    </tr>\n",
       "    <tr>\n",
       "      <th>40</th>\n",
       "      <td>-91.484594</td>\n",
       "      <td>29.724795</td>\n",
       "      <td>41</td>\n",
       "      <td>Southwest</td>\n",
       "      <td>LA</td>\n",
       "      <td>Nautilus Hub</td>\n",
       "      <td>Enbridge Offsore Pipelines</td>\n",
       "      <td>Nautilus Pipeline Co</td>\n",
       "      <td>Production Hub</td>\n",
       "      <td>2000</td>\n",
       "      <td>...</td>\n",
       "      <td></td>\n",
       "      <td>St Mary</td>\n",
       "      <td></td>\n",
       "      <td>FERC Tariff</td>\n",
       "      <td>Max - Discount</td>\n",
       "      <td>No</td>\n",
       "      <td>2008</td>\n",
       "      <td>29.7248</td>\n",
       "      <td>-91.4846</td>\n",
       "      <td>POINT (-91.48460 29.72480)</td>\n",
       "    </tr>\n",
       "    <tr>\n",
       "      <th>41</th>\n",
       "      <td>-121.371986</td>\n",
       "      <td>42.033795</td>\n",
       "      <td>42</td>\n",
       "      <td>Western</td>\n",
       "      <td>OR</td>\n",
       "      <td>Malin Center</td>\n",
       "      <td>Gas Transmission - NW</td>\n",
       "      <td>PG&amp;E Gas Transmission - NW</td>\n",
       "      <td>Market Center</td>\n",
       "      <td>1994</td>\n",
       "      <td>...</td>\n",
       "      <td>Malin</td>\n",
       "      <td>Klamath</td>\n",
       "      <td></td>\n",
       "      <td>FERC Section 311</td>\n",
       "      <td>FERC Tariff</td>\n",
       "      <td>Intercontinental Exch</td>\n",
       "      <td>2008</td>\n",
       "      <td>42.0338</td>\n",
       "      <td>-121.3720</td>\n",
       "      <td>POINT (-121.37200 42.03380)</td>\n",
       "    </tr>\n",
       "    <tr>\n",
       "      <th>42</th>\n",
       "      <td>-88.131994</td>\n",
       "      <td>41.457692</td>\n",
       "      <td>43</td>\n",
       "      <td>Midwest</td>\n",
       "      <td>IL</td>\n",
       "      <td>ANR Joliet Hub</td>\n",
       "      <td>ANR Pipeline Co</td>\n",
       "      <td>ANR Pipeline Co</td>\n",
       "      <td>Market Center</td>\n",
       "      <td>2003</td>\n",
       "      <td>...</td>\n",
       "      <td>Joliet</td>\n",
       "      <td>Will</td>\n",
       "      <td>Various</td>\n",
       "      <td>FERC Section 311</td>\n",
       "      <td>Market &amp; Tarif</td>\n",
       "      <td>Intercontinental Exch (San Juan)</td>\n",
       "      <td>2008</td>\n",
       "      <td>41.4577</td>\n",
       "      <td>-88.1320</td>\n",
       "      <td>POINT (-88.13200 41.45770)</td>\n",
       "    </tr>\n",
       "    <tr>\n",
       "      <th>43</th>\n",
       "      <td>-88.073895</td>\n",
       "      <td>31.292894</td>\n",
       "      <td>44</td>\n",
       "      <td>Southeast</td>\n",
       "      <td>MS</td>\n",
       "      <td>Mississippi Hub</td>\n",
       "      <td>Bay Gas Storage Co</td>\n",
       "      <td>Bay Gas Storage Co</td>\n",
       "      <td>Storage Hub</td>\n",
       "      <td>2009</td>\n",
       "      <td>...</td>\n",
       "      <td></td>\n",
       "      <td>Washington</td>\n",
       "      <td></td>\n",
       "      <td>FERC Section 7c</td>\n",
       "      <td>Market-based</td>\n",
       "      <td>Not applicable</td>\n",
       "      <td>2008</td>\n",
       "      <td>31.2929</td>\n",
       "      <td>-88.0739</td>\n",
       "      <td>POINT (-88.07390 31.29290)</td>\n",
       "    </tr>\n",
       "    <tr>\n",
       "      <th>44</th>\n",
       "      <td>-92.063094</td>\n",
       "      <td>29.895495</td>\n",
       "      <td>45</td>\n",
       "      <td>Southwest</td>\n",
       "      <td>LA</td>\n",
       "      <td>Henry Hub</td>\n",
       "      <td>Sabine Hub Services Inc</td>\n",
       "      <td>Sabine Pipeline Co</td>\n",
       "      <td>Market Center</td>\n",
       "      <td>1988</td>\n",
       "      <td>...</td>\n",
       "      <td>Erath</td>\n",
       "      <td>Vermillion</td>\n",
       "      <td></td>\n",
       "      <td>FERC Section 311</td>\n",
       "      <td>Max - Discount</td>\n",
       "      <td>Intercontinental Exchange</td>\n",
       "      <td>2008</td>\n",
       "      <td>29.8955</td>\n",
       "      <td>-92.0631</td>\n",
       "      <td>POINT (-92.06310 29.89550)</td>\n",
       "    </tr>\n",
       "    <tr>\n",
       "      <th>45</th>\n",
       "      <td>-90.587594</td>\n",
       "      <td>31.913394</td>\n",
       "      <td>46</td>\n",
       "      <td>Southeast</td>\n",
       "      <td>MS</td>\n",
       "      <td>Copiah Storage Hub</td>\n",
       "      <td>Market Hub Partners Inc</td>\n",
       "      <td>Market Hub Partners Inc</td>\n",
       "      <td>Storage Hub</td>\n",
       "      <td>2012</td>\n",
       "      <td>...</td>\n",
       "      <td></td>\n",
       "      <td>Copiah</td>\n",
       "      <td></td>\n",
       "      <td></td>\n",
       "      <td></td>\n",
       "      <td>Not applicable</td>\n",
       "      <td>2008</td>\n",
       "      <td>31.9134</td>\n",
       "      <td>-90.5876</td>\n",
       "      <td>POINT (-90.58760 31.91340)</td>\n",
       "    </tr>\n",
       "    <tr>\n",
       "      <th>46</th>\n",
       "      <td>-116.187986</td>\n",
       "      <td>48.995794</td>\n",
       "      <td>47</td>\n",
       "      <td>Western</td>\n",
       "      <td>ID</td>\n",
       "      <td>Kingsgate Center</td>\n",
       "      <td>Gas Transmission - NW</td>\n",
       "      <td>Gas Transmission - NW</td>\n",
       "      <td>Market Center</td>\n",
       "      <td>1994</td>\n",
       "      <td>...</td>\n",
       "      <td>Kingsgate</td>\n",
       "      <td>Boundary</td>\n",
       "      <td></td>\n",
       "      <td>FERC Section 311</td>\n",
       "      <td>FERC Tariff</td>\n",
       "      <td>Gas Daily</td>\n",
       "      <td>2009</td>\n",
       "      <td>48.9958</td>\n",
       "      <td>-116.1880</td>\n",
       "      <td>POINT (-116.18800 48.99580)</td>\n",
       "    </tr>\n",
       "    <tr>\n",
       "      <th>47</th>\n",
       "      <td>-110.398988</td>\n",
       "      <td>41.768394</td>\n",
       "      <td>48</td>\n",
       "      <td>Central</td>\n",
       "      <td>WY</td>\n",
       "      <td>Opal Hub</td>\n",
       "      <td>Williams Field Services Co</td>\n",
       "      <td>Williams Field Services Co</td>\n",
       "      <td>Production Hub</td>\n",
       "      <td>1999</td>\n",
       "      <td>...</td>\n",
       "      <td></td>\n",
       "      <td>Lincoln</td>\n",
       "      <td></td>\n",
       "      <td>State of Wyoming</td>\n",
       "      <td>NaN</td>\n",
       "      <td>Company</td>\n",
       "      <td>2008</td>\n",
       "      <td>41.7684</td>\n",
       "      <td>-110.3990</td>\n",
       "      <td>POINT (-110.39900 41.76840)</td>\n",
       "    </tr>\n",
       "    <tr>\n",
       "      <th>48</th>\n",
       "      <td>-88.685295</td>\n",
       "      <td>31.318394</td>\n",
       "      <td>49</td>\n",
       "      <td>Southeast</td>\n",
       "      <td>MS</td>\n",
       "      <td>Southeast Storage Hub</td>\n",
       "      <td>Spectra Energy Corp</td>\n",
       "      <td>Spectra Energy Corp</td>\n",
       "      <td>Market Center</td>\n",
       "      <td>2007</td>\n",
       "      <td>...</td>\n",
       "      <td></td>\n",
       "      <td>Greene</td>\n",
       "      <td></td>\n",
       "      <td>FERC Section 7c</td>\n",
       "      <td></td>\n",
       "      <td>No</td>\n",
       "      <td>2008</td>\n",
       "      <td>31.3184</td>\n",
       "      <td>-88.6853</td>\n",
       "      <td>POINT (-88.68530 31.31840)</td>\n",
       "    </tr>\n",
       "    <tr>\n",
       "      <th>49</th>\n",
       "      <td>-94.779293</td>\n",
       "      <td>30.106295</td>\n",
       "      <td>50</td>\n",
       "      <td>Southwest</td>\n",
       "      <td>TX</td>\n",
       "      <td>Houston Hub &amp; Transportation</td>\n",
       "      <td>ENSTOR Energy Inc</td>\n",
       "      <td>ENSTOR Energy Inc</td>\n",
       "      <td>Storage Hub</td>\n",
       "      <td>2010</td>\n",
       "      <td>...</td>\n",
       "      <td>Houston</td>\n",
       "      <td>Liberty</td>\n",
       "      <td></td>\n",
       "      <td>FERC/TX RRC</td>\n",
       "      <td></td>\n",
       "      <td></td>\n",
       "      <td>2008</td>\n",
       "      <td>30.1063</td>\n",
       "      <td>-94.7793</td>\n",
       "      <td>POINT (-94.77930 30.10630)</td>\n",
       "    </tr>\n",
       "    <tr>\n",
       "      <th>50</th>\n",
       "      <td>-102.841991</td>\n",
       "      <td>31.053295</td>\n",
       "      <td>51</td>\n",
       "      <td>Southwest</td>\n",
       "      <td>TX</td>\n",
       "      <td>Waha  (EPGT) Texas Hub</td>\n",
       "      <td>Enterprise Products Pipeline LP</td>\n",
       "      <td>Enterprise Products Pipeline LP</td>\n",
       "      <td>Production Hub</td>\n",
       "      <td>1995</td>\n",
       "      <td>...</td>\n",
       "      <td></td>\n",
       "      <td>Pecos</td>\n",
       "      <td></td>\n",
       "      <td>FERC Section 311 &amp; State</td>\n",
       "      <td>Max - Discount</td>\n",
       "      <td>No</td>\n",
       "      <td>2008</td>\n",
       "      <td>31.0533</td>\n",
       "      <td>-102.8420</td>\n",
       "      <td>POINT (-102.84200 31.05330)</td>\n",
       "    </tr>\n",
       "    <tr>\n",
       "      <th>51</th>\n",
       "      <td>-108.169989</td>\n",
       "      <td>40.089494</td>\n",
       "      <td>52</td>\n",
       "      <td>Central</td>\n",
       "      <td>CO</td>\n",
       "      <td>White River Hub</td>\n",
       "      <td>White River Hub LLC</td>\n",
       "      <td>Questar Pipeline Co</td>\n",
       "      <td>Production Hub</td>\n",
       "      <td>2008</td>\n",
       "      <td>...</td>\n",
       "      <td>Meeker</td>\n",
       "      <td>Rio Blanco</td>\n",
       "      <td></td>\n",
       "      <td>FERC Section 311</td>\n",
       "      <td>Market Based</td>\n",
       "      <td></td>\n",
       "      <td>2008</td>\n",
       "      <td>40.0895</td>\n",
       "      <td>-108.1700</td>\n",
       "      <td>POINT (-108.17000 40.08950)</td>\n",
       "    </tr>\n",
       "    <tr>\n",
       "      <th>52</th>\n",
       "      <td>-91.590994</td>\n",
       "      <td>32.507694</td>\n",
       "      <td>53</td>\n",
       "      <td>Southwest</td>\n",
       "      <td>LA</td>\n",
       "      <td>Eagle Hub</td>\n",
       "      <td>Electricite de France</td>\n",
       "      <td>Eagle Energy Partners</td>\n",
       "      <td>Market Hub</td>\n",
       "      <td>0</td>\n",
       "      <td>...</td>\n",
       "      <td>Perryville</td>\n",
       "      <td>Richland</td>\n",
       "      <td></td>\n",
       "      <td>FERC Section 7c</td>\n",
       "      <td></td>\n",
       "      <td>No</td>\n",
       "      <td>2007</td>\n",
       "      <td>32.5077</td>\n",
       "      <td>-91.5910</td>\n",
       "      <td>POINT (-91.59100 32.50770)</td>\n",
       "    </tr>\n",
       "    <tr>\n",
       "      <th>53</th>\n",
       "      <td>-80.085497</td>\n",
       "      <td>40.656292</td>\n",
       "      <td>54</td>\n",
       "      <td>Northeast</td>\n",
       "      <td>PA</td>\n",
       "      <td>Marcellus Eastern Access Hub</td>\n",
       "      <td>Equitable Midstream LP</td>\n",
       "      <td>Equitable Midstream LP</td>\n",
       "      <td>Market Center</td>\n",
       "      <td>2011</td>\n",
       "      <td>...</td>\n",
       "      <td></td>\n",
       "      <td></td>\n",
       "      <td></td>\n",
       "      <td></td>\n",
       "      <td></td>\n",
       "      <td></td>\n",
       "      <td>2008</td>\n",
       "      <td>40.6563</td>\n",
       "      <td>-80.0855</td>\n",
       "      <td>POINT (-80.08550 40.65630)</td>\n",
       "    </tr>\n",
       "    <tr>\n",
       "      <th>54</th>\n",
       "      <td>-93.842093</td>\n",
       "      <td>30.129695</td>\n",
       "      <td>55</td>\n",
       "      <td>Southwest</td>\n",
       "      <td>TX</td>\n",
       "      <td>Southeast Hub</td>\n",
       "      <td>Enbridge Pipelines Inc</td>\n",
       "      <td>Enbridge Pipelines Inc</td>\n",
       "      <td>Market Hub</td>\n",
       "      <td>0</td>\n",
       "      <td>...</td>\n",
       "      <td></td>\n",
       "      <td>Orange</td>\n",
       "      <td></td>\n",
       "      <td>FERC Section 311</td>\n",
       "      <td>Max - Discount</td>\n",
       "      <td>No</td>\n",
       "      <td>2008</td>\n",
       "      <td>30.1297</td>\n",
       "      <td>-93.8421</td>\n",
       "      <td>POINT (-93.84210 30.12970)</td>\n",
       "    </tr>\n",
       "    <tr>\n",
       "      <th>55</th>\n",
       "      <td>-108.199989</td>\n",
       "      <td>40.037694</td>\n",
       "      <td>56</td>\n",
       "      <td>Central</td>\n",
       "      <td>CO</td>\n",
       "      <td>Greasewood Hub</td>\n",
       "      <td>Various</td>\n",
       "      <td>NaN</td>\n",
       "      <td>Market Hub</td>\n",
       "      <td>0</td>\n",
       "      <td>...</td>\n",
       "      <td>Meeker</td>\n",
       "      <td>Rio Blanco</td>\n",
       "      <td></td>\n",
       "      <td>FERC Section 311</td>\n",
       "      <td>Market Based</td>\n",
       "      <td></td>\n",
       "      <td>2008</td>\n",
       "      <td>40.0377</td>\n",
       "      <td>-108.2000</td>\n",
       "      <td>POINT (-108.20000 40.03770)</td>\n",
       "    </tr>\n",
       "    <tr>\n",
       "      <th>56</th>\n",
       "      <td>-108.188989</td>\n",
       "      <td>39.952294</td>\n",
       "      <td>57</td>\n",
       "      <td>Central</td>\n",
       "      <td>CO</td>\n",
       "      <td>Meeker Hub</td>\n",
       "      <td>Various</td>\n",
       "      <td>NaN</td>\n",
       "      <td>Market Hub</td>\n",
       "      <td>0</td>\n",
       "      <td>...</td>\n",
       "      <td>Meeker</td>\n",
       "      <td>Rio Blanco</td>\n",
       "      <td></td>\n",
       "      <td></td>\n",
       "      <td>Market Based</td>\n",
       "      <td></td>\n",
       "      <td>2008</td>\n",
       "      <td>39.9523</td>\n",
       "      <td>-108.1890</td>\n",
       "      <td>POINT (-108.18900 39.95230)</td>\n",
       "    </tr>\n",
       "    <tr>\n",
       "      <th>57</th>\n",
       "      <td>-91.986294</td>\n",
       "      <td>29.976195</td>\n",
       "      <td>58</td>\n",
       "      <td>Southwest</td>\n",
       "      <td>LA</td>\n",
       "      <td>Jefferson Island Storage Hub</td>\n",
       "      <td>Jefferson Island Storage &amp; Hub LLC</td>\n",
       "      <td>Jefferson Island Storage &amp; Hub</td>\n",
       "      <td>Storage Hub</td>\n",
       "      <td>1998</td>\n",
       "      <td>...</td>\n",
       "      <td>Delcambre</td>\n",
       "      <td>Iberia</td>\n",
       "      <td></td>\n",
       "      <td>FERC Section 311</td>\n",
       "      <td>Market Based R</td>\n",
       "      <td></td>\n",
       "      <td>2008</td>\n",
       "      <td>29.9762</td>\n",
       "      <td>-91.9863</td>\n",
       "      <td>POINT (-91.98630 29.97620)</td>\n",
       "    </tr>\n",
       "  </tbody>\n",
       "</table>\n",
       "<p>58 rows × 25 columns</p>\n",
       "</div>"
      ],
      "text/plain": [
       "             X          Y  FID     Region State  \\\n",
       "0  -107.956990  36.686394    1  Southwest    NM   \n",
       "1  -100.458991  35.833694    2  Southwest    TX   \n",
       "2   -94.278893  32.159594    3  Southwest    TX   \n",
       "3   -88.263894  41.500192    4    Midwest    IL   \n",
       "4   -77.789997  41.397892    5  Northeast    PA   \n",
       "5   -94.167893  29.830995    6  Southwest    TX   \n",
       "6   -95.393593  29.773995    7  Southwest    TX   \n",
       "7   -95.851193  29.833095    8  Southwest    TX   \n",
       "8   -84.181095  39.415892    9    Midwest    OH   \n",
       "9   -92.429594  29.963995   10  Southwest    LA   \n",
       "10  -94.857793  30.156795   11  Southwest    TX   \n",
       "11  -92.061594  32.703494   12  Southwest    LA   \n",
       "12  -91.176794  29.970695   13  Southwest    LA   \n",
       "13 -103.108991  31.628995   14  Southwest    TX   \n",
       "14 -103.112991  31.225095   15  Southwest    TX   \n",
       "15  -92.357394  30.269495   16  Southwest    LA   \n",
       "16  -92.528494  30.911794   17  Southwest    LA   \n",
       "17  -95.786093  29.750095   18  Southwest    TX   \n",
       "18 -102.330991  30.816295   19  Southwest    TX   \n",
       "19  -97.600293  27.548795   20  Southwest    TX   \n",
       "20  -83.401395  42.222192   21    Midwest    MI   \n",
       "21  -97.772092  37.869893   22    Central    KS   \n",
       "22  -78.127397  40.581892   23  Northeast    PA   \n",
       "23  -78.907397  41.141592   24  Northeast    PA   \n",
       "24 -110.305988  41.791194   25    Central    WY   \n",
       "25 -110.507988  41.297394   26    Central    WY   \n",
       "26 -119.372987  35.826295   27    Western    CA   \n",
       "27 -121.001986  44.684594   28    Western    OR   \n",
       "28 -119.367988  34.688795   29    Western    CA   \n",
       "29  -91.518594  32.435394   30  Southwest    LA   \n",
       "30  -77.460997  42.440092   31  Northeast    PA   \n",
       "31  -74.178498  42.658091   32  Northeast    NY   \n",
       "32  -77.131497  41.922192   33  Northeast    PA   \n",
       "33 -114.512988  34.724395   34    Western    CA   \n",
       "34 -121.913987  38.404895   35    Western    CA   \n",
       "35 -122.219985  49.000494   36     Canada    BC   \n",
       "36 -103.168991  31.236695   37  Southwest    TX   \n",
       "37  -99.255791  37.556494   38    Central    KS   \n",
       "38  -88.227695  30.495994   39  Southeast    AL   \n",
       "39 -104.795990  40.940693   40    Central    CO   \n",
       "40  -91.484594  29.724795   41  Southwest    LA   \n",
       "41 -121.371986  42.033795   42    Western    OR   \n",
       "42  -88.131994  41.457692   43    Midwest    IL   \n",
       "43  -88.073895  31.292894   44  Southeast    MS   \n",
       "44  -92.063094  29.895495   45  Southwest    LA   \n",
       "45  -90.587594  31.913394   46  Southeast    MS   \n",
       "46 -116.187986  48.995794   47    Western    ID   \n",
       "47 -110.398988  41.768394   48    Central    WY   \n",
       "48  -88.685295  31.318394   49  Southeast    MS   \n",
       "49  -94.779293  30.106295   50  Southwest    TX   \n",
       "50 -102.841991  31.053295   51  Southwest    TX   \n",
       "51 -108.169989  40.089494   52    Central    CO   \n",
       "52  -91.590994  32.507694   53  Southwest    LA   \n",
       "53  -80.085497  40.656292   54  Northeast    PA   \n",
       "54  -93.842093  30.129695   55  Southwest    TX   \n",
       "55 -108.199989  40.037694   56    Central    CO   \n",
       "56 -108.188989  39.952294   57    Central    CO   \n",
       "57  -91.986294  29.976195   58  Southwest    LA   \n",
       "\n",
       "                           Hub_name                            Adminstr  \\\n",
       "0                        Blanco Hub        Transwestern Gas Pipeline Co   \n",
       "1             Buffalo Wallow Center   KM Interstate Gas Transmission co   \n",
       "2                      Carthage Hub           DCP Midstream Partners LP   \n",
       "3                       Chicago Hub                      Enerchange Inc   \n",
       "4            Ellisburg-Leidy Center         National Fuel Gas Supply Co   \n",
       "5            Spindletop Storage Hub      Centana Intrastate Pipeline Co   \n",
       "6                       Houston Hub           EL Paso Field Services Co   \n",
       "7                    Katy (DCP) Hub                    DCP Midstream LP   \n",
       "8                       Lebanon Hub                    East Ohio Gas Co   \n",
       "9                     Louisiana Hub               Bridgeline Storage Co   \n",
       "10                  Moss Bluff  Hub          Moss Bluff Hub Partners LP   \n",
       "11        Perryville (Ouachita) Hub       Ouachita River Gas Storage Co   \n",
       "12          Texaco Gulf Star Center                          Texaco Inc   \n",
       "13                 Waha (Atmos) Hub              Atmos Pipeline - Texas   \n",
       "14             Waha (DCP/Atmos) Hub                    DCP Midstream LP   \n",
       "15                         Egan Hub                Egan Hub Partners LP   \n",
       "16  Louisiana Intrastate Gas Center        Louisiana Intratstate Gas Co   \n",
       "17              Katy Storage Center                   ENSTOR Energy Inc   \n",
       "18               Waha  (ENSTOR) Hub                   ENSTOR Energy Inc   \n",
       "19                   Aqua Dulce Hub                  ConocoPhillips Inc   \n",
       "20                   Grand Lacs Hub    CMS Gas Transmission and Storage   \n",
       "21             Mid-Continent Center       Mid-Continent Market Services   \n",
       "22                     Dominion Hub           Dominion Transmission Inc   \n",
       "23              Columbia Gas Center            Columbia Energy Services   \n",
       "24            Rocky Mountain Center      Altra  Energy Technologies LLC   \n",
       "25                   Western Center      Overland Trail Transmission Co   \n",
       "26            California Energy Hub          Southern California Gas Co   \n",
       "27               GTNW Market Center               Gas Transmission - NW   \n",
       "28                  Ten Section Hub                 Mcfarland Energy Co   \n",
       "29                   Perryville Hub     Centerpoint Energy Gas Trans co   \n",
       "30                        Avoca Hub             Bowdin Storage Services   \n",
       "31                  Iroquois Center               Iroquois Gas Trans Co   \n",
       "32                        Tioga Hub          Northeast Hub Partners, LP   \n",
       "33                    Mojave Center                  Mojave Pipeline Co   \n",
       "34               Golden Gate Center      California Gas Transmission Co   \n",
       "35                     Sumas Center                 Spectra Energy Corp   \n",
       "36                Waha (Encina) Hub               Sid Richardson Gas Co   \n",
       "37                        Kiowa Hub    Williams Underground Gas Storage   \n",
       "38                Mobay Storage Hub              Falcon Gas Storage Inc   \n",
       "39                     Cheyenne Hub          Colorado Interstate Gas Co   \n",
       "40                     Nautilus Hub          Enbridge Offsore Pipelines   \n",
       "41                     Malin Center               Gas Transmission - NW   \n",
       "42                   ANR Joliet Hub                     ANR Pipeline Co   \n",
       "43                  Mississippi Hub                  Bay Gas Storage Co   \n",
       "44                        Henry Hub             Sabine Hub Services Inc   \n",
       "45               Copiah Storage Hub             Market Hub Partners Inc   \n",
       "46                 Kingsgate Center               Gas Transmission - NW   \n",
       "47                         Opal Hub          Williams Field Services Co   \n",
       "48            Southeast Storage Hub                 Spectra Energy Corp   \n",
       "49     Houston Hub & Transportation                   ENSTOR Energy Inc   \n",
       "50           Waha  (EPGT) Texas Hub     Enterprise Products Pipeline LP   \n",
       "51                  White River Hub                 White River Hub LLC   \n",
       "52                        Eagle Hub               Electricite de France   \n",
       "53     Marcellus Eastern Access Hub              Equitable Midstream LP   \n",
       "54                    Southeast Hub              Enbridge Pipelines Inc   \n",
       "55                   Greasewood Hub                             Various   \n",
       "56                       Meeker Hub                             Various   \n",
       "57     Jefferson Island Storage Hub  Jefferson Island Storage & Hub LLC   \n",
       "\n",
       "                             Operator        Typeoper  Yr_activat  ...  \\\n",
       "0        Transwestern Gas Pipeline Co  Production Hub        1993  ...   \n",
       "1   KM Interstate Gas Transmission co   Market Center        1994  ...   \n",
       "2                   DCP Midstream Inc  Production Hub        1990  ...   \n",
       "3   Northern Illinois Gas Co  (Nicor)   Market Center        1993  ...   \n",
       "4         National Fuel Gas Supply Co   Market Center        1993  ...   \n",
       "5      Centana Intrastate Pipeline Co     Storage Hub        1998  ...   \n",
       "6           EL Paso Field Services Co      Market Hub        1992  ...   \n",
       "7               Guadalupe Pipeline Co  Production Hub        1995  ...   \n",
       "8                    East Ohio Gas Co      Market Hub        1994  ...   \n",
       "9               Bridgeline Storage Co   Market Center        1994  ...   \n",
       "10            Market Hub Partners Inc     Storage Hub        1994  ...   \n",
       "11      Ouachita River Gas Storage Co      Market Hub        1997  ...   \n",
       "12                         Texaco Inc   Market Center        1993  ...   \n",
       "13             Atmos Pipeline - Texas      Market Hub        1995  ...   \n",
       "14             Atmos Pipeline - Texas  Production Hub        1995  ...   \n",
       "15            Market Hub Partners Inc     Storage Hub        1995  ...   \n",
       "16       Louisiana Intratstate Gas Co      Market Hub        1999  ...   \n",
       "17                  ENSTOR Energy Inc     Storage Hub        1993  ...   \n",
       "18                  ENSTOR Energy Inc     Storage Hub        2009  ...   \n",
       "19                 ConocoPhillips Inc  Production Hub        1990  ...   \n",
       "20   CMS Gas Transmission and Storage      Market Hub        1995  ...   \n",
       "21       Oneok Gas Transportation LLC   Market Center        1995  ...   \n",
       "22          Dominion Transmission Inc   Market Center        1994  ...   \n",
       "23    Columbia Energy Services (gone)   Market Center        1995  ...   \n",
       "24              Northwest Pipeline Co   Market Center        1995  ...   \n",
       "25     Overland Trail Transmission Co   Market Center        1995  ...   \n",
       "26         Southern California Gas Co   Market Center        1994  ...   \n",
       "27              Gas Transmission - NW   Market Center        1994  ...   \n",
       "28                Mcfarland Energy Co      Market Hub        1998  ...   \n",
       "29    Centerpoint Energy Gas Trans co   Market Center        1994  ...   \n",
       "30            Bowdin Storage Services      Market Hub        1997  ...   \n",
       "31              Iroquois Gas Trans Co   Market Center        1996  ...   \n",
       "32         Northeast Hub Partners, LP      Market Hub        1997  ...   \n",
       "33                 Mojave Pipeline Co   Market Center        1996  ...   \n",
       "34     California Gas Transmission Co   Market Center        1996  ...   \n",
       "35     Spectra Energy Transmission Co      Market Hub        1994  ...   \n",
       "36              Sid Richardson Gas Co  Production Hub        1995  ...   \n",
       "37   Williams Underground Gas Storage      Market Hub           0  ...   \n",
       "38             Falcon Gas Storage Inc     Storage Hub        2012  ...   \n",
       "39         Colorado Interstate Gas Co      Market Hub        2000  ...   \n",
       "40               Nautilus Pipeline Co  Production Hub        2000  ...   \n",
       "41         PG&E Gas Transmission - NW   Market Center        1994  ...   \n",
       "42                    ANR Pipeline Co   Market Center        2003  ...   \n",
       "43                 Bay Gas Storage Co     Storage Hub        2009  ...   \n",
       "44                 Sabine Pipeline Co   Market Center        1988  ...   \n",
       "45            Market Hub Partners Inc     Storage Hub        2012  ...   \n",
       "46              Gas Transmission - NW   Market Center        1994  ...   \n",
       "47         Williams Field Services Co  Production Hub        1999  ...   \n",
       "48                Spectra Energy Corp   Market Center        2007  ...   \n",
       "49                  ENSTOR Energy Inc     Storage Hub        2010  ...   \n",
       "50    Enterprise Products Pipeline LP  Production Hub        1995  ...   \n",
       "51                Questar Pipeline Co  Production Hub        2008  ...   \n",
       "52              Eagle Energy Partners      Market Hub           0  ...   \n",
       "53             Equitable Midstream LP   Market Center        2011  ...   \n",
       "54             Enbridge Pipelines Inc      Market Hub           0  ...   \n",
       "55                                NaN      Market Hub           0  ...   \n",
       "56                                NaN      Market Hub           0  ...   \n",
       "57     Jefferson Island Storage & Hub     Storage Hub        1998  ...   \n",
       "\n",
       "            City          County_1    County_2                 Authority  \\\n",
       "0                         San Juan                         NGA Section 7   \n",
       "1                         Hemphill                      FERC Section 311   \n",
       "2                           Panola              FERC Section 311 & State   \n",
       "3            NaN           Various                      FERC Section 311   \n",
       "4                           Potter     Clinton          FERC Section 311   \n",
       "5                        Jefferson                      FERC Section 311   \n",
       "6        Houston            Harris                      FERC Section 311   \n",
       "7                           Waller                   Texas Railroad Comm   \n",
       "8                           Warren                      FERC Section 311   \n",
       "9                       Assumption     Cameron          FERC Section 311   \n",
       "10                         Liberty                         NGA Section 7   \n",
       "11    Perryville          Quachita                         NGA Section 7   \n",
       "12                             NaN                      FERC Section 311   \n",
       "13                           Pecos              FERC Section 311 & State   \n",
       "14                           Pecos              FERC Section 311 & State   \n",
       "15                          Acadia                         NGA Section 7   \n",
       "16                          Iberia  Vermillion          Section 311 Cost   \n",
       "17       Houston         Fort Bend      Weller          FERC Section 311   \n",
       "18                           Pecos              FERC Section 311 & State   \n",
       "19                          Nueces   Jim Wells       Texas Railroad Comm   \n",
       "20    Marysville           St Cair                                         \n",
       "21                             NaN                      FERC Section 311   \n",
       "22       Various               NaN                      FERC Section 311   \n",
       "23                             NaN                         NGA Section 7   \n",
       "24          Opal           Lincoln                         NGA Section 7   \n",
       "25   Muddy Creek             Unita  Sweetwater          FERC Section 311   \n",
       "26           NaN               NaN              FERC Section 311 & State   \n",
       "27           NaN               NaN                      FERC Section 311   \n",
       "28                            Kern                                         \n",
       "29    Perryville          Richland                      FERC Section 311   \n",
       "30                         Steuben                         NGA Section 7   \n",
       "31                             NaN                       NGA Section 284   \n",
       "32                           Tioga                         NGA Section 7   \n",
       "33           NaN               NaN                         NGA Section 7   \n",
       "34           NaN           Various                                 State   \n",
       "35         Sumas  British Columbia                         NEB of Canada   \n",
       "36                          Reeves              FERC Section 311 & State   \n",
       "37                           Kiowa                                         \n",
       "38                          Mobile                                         \n",
       "39  Fort Collins              Weld                      FERC Section 311   \n",
       "40                         St Mary                           FERC Tariff   \n",
       "41         Malin           Klamath                      FERC Section 311   \n",
       "42        Joliet              Will     Various          FERC Section 311   \n",
       "43                      Washington                       FERC Section 7c   \n",
       "44         Erath        Vermillion                      FERC Section 311   \n",
       "45                          Copiah                                         \n",
       "46     Kingsgate          Boundary                      FERC Section 311   \n",
       "47                         Lincoln                      State of Wyoming   \n",
       "48                          Greene                       FERC Section 7c   \n",
       "49       Houston           Liberty                           FERC/TX RRC   \n",
       "50                           Pecos              FERC Section 311 & State   \n",
       "51        Meeker        Rio Blanco                      FERC Section 311   \n",
       "52    Perryville          Richland                       FERC Section 7c   \n",
       "53                                                                         \n",
       "54                          Orange                      FERC Section 311   \n",
       "55        Meeker        Rio Blanco                      FERC Section 311   \n",
       "56        Meeker        Rio Blanco                                         \n",
       "57     Delcambre            Iberia                      FERC Section 311   \n",
       "\n",
       "             Rates                          Platform Yearofdata Latitude  \\\n",
       "0   Max - Discount  Intercontinental Exch (San Juan)       2009  36.6864   \n",
       "1   Max - Discount                                No       1999  35.8337   \n",
       "2   Max - Discount         Intercontinental Exchange       2008  32.1596   \n",
       "3   Max - Discount    NGX, Intercontinental Exchange       2008  41.5002   \n",
       "4   Max - Discount                         Gas Daily       2008  41.3979   \n",
       "5   Max - Discount                                No       2008  29.8310   \n",
       "6   Max - Discount                    Not applicable       2003  29.7740   \n",
       "7     Market Based                                No       2003  29.8331   \n",
       "8   Max - Discount                    Not applicable       1998  39.4159   \n",
       "9     Market Based                    Not applicable       1996  29.9640   \n",
       "10    Market Based                                No       2008  30.1568   \n",
       "11                                    Not applicable       1998  32.7035   \n",
       "12  Max - Discount                    Not applicable       2003  29.9707   \n",
       "13  Max - Discount                                No       2008  31.6290   \n",
       "14  Max - Discount                                No       2008  31.2251   \n",
       "15    Market Based                                No       2008  30.2695   \n",
       "16    Market Based                    Not applicable       1996  30.9118   \n",
       "17  Max - Discount         Intercontinental Exchange       2008  29.7501   \n",
       "18                                                No       2008  30.8163   \n",
       "19    State Tariff                                No       2008  27.5488   \n",
       "20    Market Based                    Not applicable       1999  42.2222   \n",
       "21  Max - Discount                                No       2008  37.8699   \n",
       "22    Market Based                    Gas Daily, ICE       2008  40.5819   \n",
       "23  Max - Discount                    Not applicable       2003  41.1416   \n",
       "24  Max - Discount                    Not applicable       1999  41.7912   \n",
       "25  Max - Discount                    Not applicable       1999  41.2974   \n",
       "26  FERC/State Tif                                No       2008  35.8263   \n",
       "27     FERC Tariff             Intercontinental Exch       2008  44.6846   \n",
       "28                                    Not applicable       1996  34.6888   \n",
       "29  Max - Discount                                No       2008  32.4354   \n",
       "30    Market Based                    Not applicable       1996  42.4401   \n",
       "31  Max - Discount     Gas Daily, NGX Trading System       2008  42.6581   \n",
       "32  Max - Discount                    Not applicable       1996  41.9222   \n",
       "33  Max - Discount                                No       2003  34.7244   \n",
       "34  Max - Discount      NGI, Gas Daily PG&E Citygate       2008  38.4049   \n",
       "35      NEB Tariff             Intercontinental Exch       2008  49.0005   \n",
       "36  Max - Discount                                No       2008  31.2367   \n",
       "37                                    Not applicable       1999  37.5565   \n",
       "38                                    Not applicable       2008  30.4960   \n",
       "39  Max - Discount               Gas Daily, NGI, ICE       2008  40.9407   \n",
       "40  Max - Discount                                No       2008  29.7248   \n",
       "41     FERC Tariff             Intercontinental Exch       2008  42.0338   \n",
       "42  Market & Tarif  Intercontinental Exch (San Juan)       2008  41.4577   \n",
       "43    Market-based                    Not applicable       2008  31.2929   \n",
       "44  Max - Discount         Intercontinental Exchange       2008  29.8955   \n",
       "45                                    Not applicable       2008  31.9134   \n",
       "46     FERC Tariff                         Gas Daily       2009  48.9958   \n",
       "47             NaN                           Company       2008  41.7684   \n",
       "48                                                No       2008  31.3184   \n",
       "49                                                         2008  30.1063   \n",
       "50  Max - Discount                                No       2008  31.0533   \n",
       "51    Market Based                                         2008  40.0895   \n",
       "52                                                No       2007  32.5077   \n",
       "53                                                         2008  40.6563   \n",
       "54  Max - Discount                                No       2008  30.1297   \n",
       "55    Market Based                                         2008  40.0377   \n",
       "56    Market Based                                         2008  39.9523   \n",
       "57  Market Based R                                         2008  29.9762   \n",
       "\n",
       "   Longitude                     geometry  \n",
       "0  -107.9570  POINT (-107.95700 36.68640)  \n",
       "1  -100.4590  POINT (-100.45900 35.83370)  \n",
       "2   -94.2789   POINT (-94.27890 32.15960)  \n",
       "3   -88.2639   POINT (-88.26390 41.50020)  \n",
       "4   -77.7900   POINT (-77.79000 41.39790)  \n",
       "5   -94.1679   POINT (-94.16790 29.83100)  \n",
       "6   -95.3936   POINT (-95.39360 29.77400)  \n",
       "7   -95.8512   POINT (-95.85120 29.83310)  \n",
       "8   -84.1811   POINT (-84.18110 39.41590)  \n",
       "9   -92.4296   POINT (-92.42960 29.96400)  \n",
       "10  -94.8578   POINT (-94.85780 30.15680)  \n",
       "11  -92.0616   POINT (-92.06160 32.70350)  \n",
       "12  -91.1768   POINT (-91.17680 29.97070)  \n",
       "13 -103.1090  POINT (-103.10900 31.62900)  \n",
       "14 -103.1130  POINT (-103.11300 31.22510)  \n",
       "15  -92.3574   POINT (-92.35740 30.26950)  \n",
       "16  -92.5285   POINT (-92.52850 30.91180)  \n",
       "17  -95.7861   POINT (-95.78610 29.75010)  \n",
       "18 -102.3310  POINT (-102.33100 30.81630)  \n",
       "19  -97.6003   POINT (-97.60030 27.54880)  \n",
       "20  -83.4014   POINT (-83.40140 42.22220)  \n",
       "21  -97.7721   POINT (-97.77210 37.86990)  \n",
       "22  -78.1274   POINT (-78.12740 40.58190)  \n",
       "23  -78.9074   POINT (-78.90740 41.14160)  \n",
       "24 -110.3060  POINT (-110.30600 41.79120)  \n",
       "25 -110.5080  POINT (-110.50800 41.29740)  \n",
       "26 -119.3730  POINT (-119.37300 35.82630)  \n",
       "27 -121.0020  POINT (-121.00200 44.68460)  \n",
       "28 -119.3680  POINT (-119.36800 34.68880)  \n",
       "29  -91.5186   POINT (-91.51860 32.43540)  \n",
       "30  -77.4610   POINT (-77.46100 42.44010)  \n",
       "31  -74.1785   POINT (-74.17850 42.65810)  \n",
       "32  -77.1315   POINT (-77.13150 41.92220)  \n",
       "33 -114.5130  POINT (-114.51300 34.72440)  \n",
       "34 -121.9140  POINT (-121.91400 38.40490)  \n",
       "35 -122.2200  POINT (-122.22000 49.00050)  \n",
       "36 -103.1690  POINT (-103.16900 31.23670)  \n",
       "37  -99.2558   POINT (-99.25580 37.55650)  \n",
       "38  -88.2277   POINT (-88.22770 30.49600)  \n",
       "39 -104.7960  POINT (-104.79600 40.94070)  \n",
       "40  -91.4846   POINT (-91.48460 29.72480)  \n",
       "41 -121.3720  POINT (-121.37200 42.03380)  \n",
       "42  -88.1320   POINT (-88.13200 41.45770)  \n",
       "43  -88.0739   POINT (-88.07390 31.29290)  \n",
       "44  -92.0631   POINT (-92.06310 29.89550)  \n",
       "45  -90.5876   POINT (-90.58760 31.91340)  \n",
       "46 -116.1880  POINT (-116.18800 48.99580)  \n",
       "47 -110.3990  POINT (-110.39900 41.76840)  \n",
       "48  -88.6853   POINT (-88.68530 31.31840)  \n",
       "49  -94.7793   POINT (-94.77930 30.10630)  \n",
       "50 -102.8420  POINT (-102.84200 31.05330)  \n",
       "51 -108.1700  POINT (-108.17000 40.08950)  \n",
       "52  -91.5910   POINT (-91.59100 32.50770)  \n",
       "53  -80.0855   POINT (-80.08550 40.65630)  \n",
       "54  -93.8421   POINT (-93.84210 30.12970)  \n",
       "55 -108.2000  POINT (-108.20000 40.03770)  \n",
       "56 -108.1890  POINT (-108.18900 39.95230)  \n",
       "57  -91.9863   POINT (-91.98630 29.97620)  \n",
       "\n",
       "[58 rows x 25 columns]"
      ]
     },
     "execution_count": 65,
     "metadata": {},
     "output_type": "execute_result"
    }
   ],
   "source": [
    "gdf = gdp.GeoDataFrame(\n",
    "    df, geometry=geopandas.points_from_xy(df.Longitude, df.Latitude))\n",
    "gdf"
   ]
  },
  {
   "cell_type": "code",
   "execution_count": 150,
   "id": "b70149cc",
   "metadata": {},
   "outputs": [
    {
     "data": {
      "text/html": [
       "<div>\n",
       "<style scoped>\n",
       "    .dataframe tbody tr th:only-of-type {\n",
       "        vertical-align: middle;\n",
       "    }\n",
       "\n",
       "    .dataframe tbody tr th {\n",
       "        vertical-align: top;\n",
       "    }\n",
       "\n",
       "    .dataframe thead th {\n",
       "        text-align: right;\n",
       "    }\n",
       "</style>\n",
       "<table border=\"1\" class=\"dataframe\">\n",
       "  <thead>\n",
       "    <tr style=\"text-align: right;\">\n",
       "      <th></th>\n",
       "      <th>pop_est</th>\n",
       "      <th>continent</th>\n",
       "      <th>name</th>\n",
       "      <th>iso_a3</th>\n",
       "      <th>gdp_md_est</th>\n",
       "      <th>geometry</th>\n",
       "    </tr>\n",
       "  </thead>\n",
       "  <tbody>\n",
       "    <tr>\n",
       "      <th>0</th>\n",
       "      <td>889953.0</td>\n",
       "      <td>Oceania</td>\n",
       "      <td>Fiji</td>\n",
       "      <td>FJI</td>\n",
       "      <td>5496</td>\n",
       "      <td>MULTIPOLYGON (((180.00000 -16.06713, 180.00000...</td>\n",
       "    </tr>\n",
       "    <tr>\n",
       "      <th>1</th>\n",
       "      <td>58005463.0</td>\n",
       "      <td>Africa</td>\n",
       "      <td>Tanzania</td>\n",
       "      <td>TZA</td>\n",
       "      <td>63177</td>\n",
       "      <td>POLYGON ((33.90371 -0.95000, 34.07262 -1.05982...</td>\n",
       "    </tr>\n",
       "    <tr>\n",
       "      <th>2</th>\n",
       "      <td>603253.0</td>\n",
       "      <td>Africa</td>\n",
       "      <td>W. Sahara</td>\n",
       "      <td>ESH</td>\n",
       "      <td>907</td>\n",
       "      <td>POLYGON ((-8.66559 27.65643, -8.66512 27.58948...</td>\n",
       "    </tr>\n",
       "    <tr>\n",
       "      <th>3</th>\n",
       "      <td>37589262.0</td>\n",
       "      <td>North America</td>\n",
       "      <td>Canada</td>\n",
       "      <td>CAN</td>\n",
       "      <td>1736425</td>\n",
       "      <td>MULTIPOLYGON (((-122.84000 49.00000, -122.9742...</td>\n",
       "    </tr>\n",
       "    <tr>\n",
       "      <th>4</th>\n",
       "      <td>328239523.0</td>\n",
       "      <td>North America</td>\n",
       "      <td>United States of America</td>\n",
       "      <td>USA</td>\n",
       "      <td>21433226</td>\n",
       "      <td>MULTIPOLYGON (((-122.84000 49.00000, -120.0000...</td>\n",
       "    </tr>\n",
       "    <tr>\n",
       "      <th>...</th>\n",
       "      <td>...</td>\n",
       "      <td>...</td>\n",
       "      <td>...</td>\n",
       "      <td>...</td>\n",
       "      <td>...</td>\n",
       "      <td>...</td>\n",
       "    </tr>\n",
       "    <tr>\n",
       "      <th>172</th>\n",
       "      <td>6944975.0</td>\n",
       "      <td>Europe</td>\n",
       "      <td>Serbia</td>\n",
       "      <td>SRB</td>\n",
       "      <td>51475</td>\n",
       "      <td>POLYGON ((18.82982 45.90887, 18.82984 45.90888...</td>\n",
       "    </tr>\n",
       "    <tr>\n",
       "      <th>173</th>\n",
       "      <td>622137.0</td>\n",
       "      <td>Europe</td>\n",
       "      <td>Montenegro</td>\n",
       "      <td>MNE</td>\n",
       "      <td>5542</td>\n",
       "      <td>POLYGON ((20.07070 42.58863, 19.80161 42.50009...</td>\n",
       "    </tr>\n",
       "    <tr>\n",
       "      <th>174</th>\n",
       "      <td>1794248.0</td>\n",
       "      <td>Europe</td>\n",
       "      <td>Kosovo</td>\n",
       "      <td>-99</td>\n",
       "      <td>7926</td>\n",
       "      <td>POLYGON ((20.59025 41.85541, 20.52295 42.21787...</td>\n",
       "    </tr>\n",
       "    <tr>\n",
       "      <th>175</th>\n",
       "      <td>1394973.0</td>\n",
       "      <td>North America</td>\n",
       "      <td>Trinidad and Tobago</td>\n",
       "      <td>TTO</td>\n",
       "      <td>24269</td>\n",
       "      <td>POLYGON ((-61.68000 10.76000, -61.10500 10.890...</td>\n",
       "    </tr>\n",
       "    <tr>\n",
       "      <th>176</th>\n",
       "      <td>11062113.0</td>\n",
       "      <td>Africa</td>\n",
       "      <td>S. Sudan</td>\n",
       "      <td>SSD</td>\n",
       "      <td>11998</td>\n",
       "      <td>POLYGON ((30.83385 3.50917, 29.95350 4.17370, ...</td>\n",
       "    </tr>\n",
       "  </tbody>\n",
       "</table>\n",
       "<p>177 rows × 6 columns</p>\n",
       "</div>"
      ],
      "text/plain": [
       "         pop_est      continent                      name iso_a3  gdp_md_est  \\\n",
       "0       889953.0        Oceania                      Fiji    FJI        5496   \n",
       "1     58005463.0         Africa                  Tanzania    TZA       63177   \n",
       "2       603253.0         Africa                 W. Sahara    ESH         907   \n",
       "3     37589262.0  North America                    Canada    CAN     1736425   \n",
       "4    328239523.0  North America  United States of America    USA    21433226   \n",
       "..           ...            ...                       ...    ...         ...   \n",
       "172    6944975.0         Europe                    Serbia    SRB       51475   \n",
       "173     622137.0         Europe                Montenegro    MNE        5542   \n",
       "174    1794248.0         Europe                    Kosovo    -99        7926   \n",
       "175    1394973.0  North America       Trinidad and Tobago    TTO       24269   \n",
       "176   11062113.0         Africa                  S. Sudan    SSD       11998   \n",
       "\n",
       "                                              geometry  \n",
       "0    MULTIPOLYGON (((180.00000 -16.06713, 180.00000...  \n",
       "1    POLYGON ((33.90371 -0.95000, 34.07262 -1.05982...  \n",
       "2    POLYGON ((-8.66559 27.65643, -8.66512 27.58948...  \n",
       "3    MULTIPOLYGON (((-122.84000 49.00000, -122.9742...  \n",
       "4    MULTIPOLYGON (((-122.84000 49.00000, -120.0000...  \n",
       "..                                                 ...  \n",
       "172  POLYGON ((18.82982 45.90887, 18.82984 45.90888...  \n",
       "173  POLYGON ((20.07070 42.58863, 19.80161 42.50009...  \n",
       "174  POLYGON ((20.59025 41.85541, 20.52295 42.21787...  \n",
       "175  POLYGON ((-61.68000 10.76000, -61.10500 10.890...  \n",
       "176  POLYGON ((30.83385 3.50917, 29.95350 4.17370, ...  \n",
       "\n",
       "[177 rows x 6 columns]"
      ]
     },
     "execution_count": 150,
     "metadata": {},
     "output_type": "execute_result"
    }
   ],
   "source": [
    "world = geopandas.read_file(geopandas.datasets.get_path('naturalearth_lowres'))\n",
    "world"
   ]
  },
  {
   "cell_type": "code",
   "execution_count": 122,
   "id": "56dba5ba",
   "metadata": {},
   "outputs": [
    {
     "data": {
      "image/png": "[encoded data removed]",
      "text/plain": [
       "<Figure size 432x288 with 1 Axes>"
      ]
     },
     "metadata": {
      "needs_background": "light"
     },
     "output_type": "display_data"
    }
   ],
   "source": [
    "# restricting to North America.\n",
    "ax = world[world.continent == 'North America'].plot(\n",
    "    color='black', edgecolor='black')\n",
    "\n",
    "# now ploting ``GeoDataFrame``.\n",
    "gdf.plot(ax=ax, color='red', edgecolor='black', alpha=.8)\n",
    "\n",
    "plt.show()"
   ]
  },
  {
   "cell_type": "code",
   "execution_count": 190,
   "id": "dfd93689",
   "metadata": {
    "scrolled": false
   },
   "outputs": [
    {
     "data": {
      "text/html": [
       "<div style=\"width:100%;\"><div style=\"position:relative;width:100%;height:0;padding-bottom:60%;\"><span style=\"color:#565656\">Make this Notebook Trusted to load map: File -> Trust Notebook</span><iframe srcdoc=\"&lt;!DOCTYPE html&gt;\n",
       "&lt;html&gt;\n",
       "&lt;head&gt;\n",
       "    \n",
       "    &lt;meta http-equiv=&quot;content-type&quot; content=&quot;text/html; charset=UTF-8&quot; /&gt;\n",
       "    \n",
       "        &lt;script&gt;\n",
       "            L_NO_TOUCH = false;\n",
       "            L_DISABLE_3D = false;\n",
       "        &lt;/script&gt;\n",
       "    \n",
       "    &lt;style&gt;html, body {width: 100%;height: 100%;margin: 0;padding: 0;}&lt;/style&gt;\n",
       "    &lt;style&gt;#map {position:absolute;top:0;bottom:0;right:0;left:0;}&lt;/style&gt;\n",
       "    &lt;script src=&quot;https://cdn.jsdelivr.net/npm/leaflet@1.9.3/dist/leaflet.js&quot;&gt;&lt;/script&gt;\n",
       "    &lt;script src=&quot;https://code.jquery.com/jquery-1.12.4.min.js&quot;&gt;&lt;/script&gt;\n",
       "    &lt;script src=&quot;https://cdn.jsdelivr.net/npm/bootstrap@5.2.2/dist/js/bootstrap.bundle.min.js&quot;&gt;&lt;/script&gt;\n",
       "    &lt;script src=&quot;https://cdnjs.cloudflare.com/ajax/libs/Leaflet.awesome-markers/2.0.2/leaflet.awesome-markers.js&quot;&gt;&lt;/script&gt;\n",
       "    &lt;link rel=&quot;stylesheet&quot; href=&quot;https://cdn.jsdelivr.net/npm/leaflet@1.9.3/dist/leaflet.css&quot;/&gt;\n",
       "    &lt;link rel=&quot;stylesheet&quot; href=&quot;https://cdn.jsdelivr.net/npm/bootstrap@5.2.2/dist/css/bootstrap.min.css&quot;/&gt;\n",
       "    &lt;link rel=&quot;stylesheet&quot; href=&quot;https://netdna.bootstrapcdn.com/bootstrap/3.0.0/css/bootstrap.min.css&quot;/&gt;\n",
       "    &lt;link rel=&quot;stylesheet&quot; href=&quot;https://cdn.jsdelivr.net/npm/@fortawesome/fontawesome-free@6.2.0/css/all.min.css&quot;/&gt;\n",
       "    &lt;link rel=&quot;stylesheet&quot; href=&quot;https://cdnjs.cloudflare.com/ajax/libs/Leaflet.awesome-markers/2.0.2/leaflet.awesome-markers.css&quot;/&gt;\n",
       "    &lt;link rel=&quot;stylesheet&quot; href=&quot;https://cdn.jsdelivr.net/gh/python-visualization/folium/folium/templates/leaflet.awesome.rotate.min.css&quot;/&gt;\n",
       "    \n",
       "            &lt;meta name=&quot;viewport&quot; content=&quot;width=device-width,\n",
       "                initial-scale=1.0, maximum-scale=1.0, user-scalable=no&quot; /&gt;\n",
       "            &lt;style&gt;\n",
       "                #map_9754377a1ebf82ecd70186fc5d2eef1a {\n",
       "                    position: relative;\n",
       "                    width: 100.0%;\n",
       "                    height: 100.0%;\n",
       "                    left: 0.0%;\n",
       "                    top: 0.0%;\n",
       "                }\n",
       "                .leaflet-container { font-size: 1rem; }\n",
       "            &lt;/style&gt;\n",
       "        \n",
       "    \n",
       "                    &lt;style&gt;\n",
       "                        .foliumtooltip {\n",
       "                            \n",
       "                        }\n",
       "                       .foliumtooltip table{\n",
       "                            margin: auto;\n",
       "                        }\n",
       "                        .foliumtooltip tr{\n",
       "                            text-align: left;\n",
       "                        }\n",
       "                        .foliumtooltip th{\n",
       "                            padding: 2px; padding-right: 8px;\n",
       "                        }\n",
       "                    &lt;/style&gt;\n",
       "            \n",
       "    \n",
       "                    &lt;style&gt;\n",
       "                        .foliumpopup {\n",
       "                            margin: auto;\n",
       "                        }\n",
       "                       .foliumpopup table{\n",
       "                            margin: auto;\n",
       "                        }\n",
       "                        .foliumpopup tr{\n",
       "                            text-align: left;\n",
       "                        }\n",
       "                        .foliumpopup th{\n",
       "                            padding: 2px; padding-right: 8px;\n",
       "                        }\n",
       "                    &lt;/style&gt;\n",
       "            \n",
       "    \n",
       "    &lt;script src=&quot;https://code.jquery.com/ui/1.12.1/jquery-ui.js&quot;&gt;&lt;/script&gt;\n",
       "    &lt;script&gt;$( function() {\n",
       "        $( &quot;.maplegend&quot; ).draggable({\n",
       "            start: function (event, ui) {\n",
       "                $(this).css({\n",
       "                    right: &quot;auto&quot;,\n",
       "                    top: &quot;auto&quot;,\n",
       "                    bottom: &quot;auto&quot;\n",
       "                });\n",
       "            }\n",
       "        });\n",
       "    });\n",
       "    &lt;/script&gt;\n",
       "    &lt;style type=&#x27;text/css&#x27;&gt;\n",
       "      .maplegend {\n",
       "        position: absolute;\n",
       "        z-index:9999;\n",
       "        background-color: rgba(255, 255, 255, .8);\n",
       "        border-radius: 5px;\n",
       "        box-shadow: 0 0 15px rgba(0,0,0,0.2);\n",
       "        padding: 10px;\n",
       "        font: 12px/14px Arial, Helvetica, sans-serif;\n",
       "        right: 10px;\n",
       "        bottom: 20px;\n",
       "      }\n",
       "      .maplegend .legend-title {\n",
       "        text-align: left;\n",
       "        margin-bottom: 5px;\n",
       "        font-weight: bold;\n",
       "        }\n",
       "      .maplegend .legend-scale ul {\n",
       "        margin: 0;\n",
       "        margin-bottom: 0px;\n",
       "        padding: 0;\n",
       "        float: left;\n",
       "        list-style: none;\n",
       "        }\n",
       "      .maplegend .legend-scale ul li {\n",
       "        list-style: none;\n",
       "        margin-left: 0;\n",
       "        line-height: 16px;\n",
       "        margin-bottom: 2px;\n",
       "        }\n",
       "      .maplegend ul.legend-labels li span {\n",
       "        display: block;\n",
       "        float: left;\n",
       "        height: 14px;\n",
       "        width: 14px;\n",
       "        margin-right: 5px;\n",
       "        margin-left: 0;\n",
       "        border: 0px solid #ccc;\n",
       "        }\n",
       "      .maplegend .legend-source {\n",
       "        color: #777;\n",
       "        clear: both;\n",
       "        }\n",
       "      .maplegend a {\n",
       "        color: #777;\n",
       "        }\n",
       "    &lt;/style&gt;\n",
       "    \n",
       "&lt;/head&gt;\n",
       "&lt;body&gt;\n",
       "    \n",
       "    \n",
       "    &lt;div id=&#x27;maplegend Region&#x27; class=&#x27;maplegend&#x27;&gt;\n",
       "        &lt;div class=&#x27;legend-title&#x27;&gt;Region&lt;/div&gt;\n",
       "        &lt;div class=&#x27;legend-scale&#x27;&gt;\n",
       "            &lt;ul class=&#x27;legend-labels&#x27;&gt;\n",
       "                &lt;li&gt;&lt;span style=&#x27;background:#e41a1c&#x27;&gt;&lt;/span&gt;Canada&lt;/li&gt;\n",
       "                &lt;li&gt;&lt;span style=&#x27;background:#377eb8&#x27;&gt;&lt;/span&gt;Central&lt;/li&gt;\n",
       "                &lt;li&gt;&lt;span style=&#x27;background:#984ea3&#x27;&gt;&lt;/span&gt;Midwest&lt;/li&gt;\n",
       "                &lt;li&gt;&lt;span style=&#x27;background:#ff7f00&#x27;&gt;&lt;/span&gt;Northeast&lt;/li&gt;\n",
       "                &lt;li&gt;&lt;span style=&#x27;background:#a65628&#x27;&gt;&lt;/span&gt;Southeast&lt;/li&gt;\n",
       "                &lt;li&gt;&lt;span style=&#x27;background:#f781bf&#x27;&gt;&lt;/span&gt;Southwest&lt;/li&gt;\n",
       "                &lt;li&gt;&lt;span style=&#x27;background:#999999&#x27;&gt;&lt;/span&gt;Western&lt;/li&gt;\n",
       "            &lt;/ul&gt;\n",
       "        &lt;/div&gt;\n",
       "    &lt;/div&gt;\n",
       "    \n",
       "    \n",
       "            &lt;div class=&quot;folium-map&quot; id=&quot;map_9754377a1ebf82ecd70186fc5d2eef1a&quot; &gt;&lt;/div&gt;\n",
       "        \n",
       "&lt;/body&gt;\n",
       "&lt;script&gt;\n",
       "    \n",
       "    \n",
       "            var map_9754377a1ebf82ecd70186fc5d2eef1a = L.map(\n",
       "                &quot;map_9754377a1ebf82ecd70186fc5d2eef1a&quot;,\n",
       "                {\n",
       "                    center: [38.27465, -98.19925],\n",
       "                    crs: L.CRS.Simple,\n",
       "                    zoom: 10,\n",
       "                    zoomControl: true,\n",
       "                    preferCanvas: false,\n",
       "                }\n",
       "            );\n",
       "            L.control.scale().addTo(map_9754377a1ebf82ecd70186fc5d2eef1a);\n",
       "\n",
       "            \n",
       "\n",
       "        \n",
       "    \n",
       "            map_9754377a1ebf82ecd70186fc5d2eef1a.fitBounds(\n",
       "                [[27.5488, -122.22], [49.0005, -74.1785]],\n",
       "                {}\n",
       "            );\n",
       "        \n",
       "    \n",
       "        function geo_json_0e8c173b971a658c4b2314bf3dcda147_styler(feature) {\n",
       "            switch(feature.id) {\n",
       "                case &quot;3&quot;: case &quot;8&quot;: case &quot;20&quot;: case &quot;42&quot;: \n",
       "                    return {&quot;color&quot;: &quot;black&quot;, &quot;fillColor&quot;: &quot;#984ea3&quot;, &quot;fillOpacity&quot;: 0.5, &quot;weight&quot;: 2};\n",
       "                case &quot;4&quot;: case &quot;22&quot;: case &quot;23&quot;: case &quot;30&quot;: case &quot;31&quot;: case &quot;32&quot;: case &quot;53&quot;: \n",
       "                    return {&quot;color&quot;: &quot;black&quot;, &quot;fillColor&quot;: &quot;#ff7f00&quot;, &quot;fillOpacity&quot;: 0.5, &quot;weight&quot;: 2};\n",
       "                case &quot;21&quot;: case &quot;24&quot;: case &quot;25&quot;: case &quot;37&quot;: case &quot;39&quot;: case &quot;47&quot;: case &quot;51&quot;: case &quot;55&quot;: case &quot;56&quot;: \n",
       "                    return {&quot;color&quot;: &quot;black&quot;, &quot;fillColor&quot;: &quot;#377eb8&quot;, &quot;fillOpacity&quot;: 0.5, &quot;weight&quot;: 2};\n",
       "                case &quot;26&quot;: case &quot;27&quot;: case &quot;28&quot;: case &quot;33&quot;: case &quot;34&quot;: case &quot;41&quot;: case &quot;46&quot;: \n",
       "                    return {&quot;color&quot;: &quot;black&quot;, &quot;fillColor&quot;: &quot;#999999&quot;, &quot;fillOpacity&quot;: 0.5, &quot;weight&quot;: 2};\n",
       "                case &quot;35&quot;: \n",
       "                    return {&quot;color&quot;: &quot;black&quot;, &quot;fillColor&quot;: &quot;#e41a1c&quot;, &quot;fillOpacity&quot;: 0.5, &quot;weight&quot;: 2};\n",
       "                case &quot;38&quot;: case &quot;43&quot;: case &quot;45&quot;: case &quot;48&quot;: \n",
       "                    return {&quot;color&quot;: &quot;black&quot;, &quot;fillColor&quot;: &quot;#a65628&quot;, &quot;fillOpacity&quot;: 0.5, &quot;weight&quot;: 2};\n",
       "                default:\n",
       "                    return {&quot;color&quot;: &quot;black&quot;, &quot;fillColor&quot;: &quot;#f781bf&quot;, &quot;fillOpacity&quot;: 0.5, &quot;weight&quot;: 2};\n",
       "            }\n",
       "        }\n",
       "        function geo_json_0e8c173b971a658c4b2314bf3dcda147_highlighter(feature) {\n",
       "            switch(feature.id) {\n",
       "                default:\n",
       "                    return {&quot;fillOpacity&quot;: 0.75};\n",
       "            }\n",
       "        }\n",
       "        function geo_json_0e8c173b971a658c4b2314bf3dcda147_pointToLayer(feature, latlng) {\n",
       "            var opts = {&quot;bubblingMouseEvents&quot;: true, &quot;color&quot;: &quot;#3388ff&quot;, &quot;dashArray&quot;: null, &quot;dashOffset&quot;: null, &quot;fill&quot;: true, &quot;fillColor&quot;: &quot;#3388ff&quot;, &quot;fillOpacity&quot;: 0.2, &quot;fillRule&quot;: &quot;evenodd&quot;, &quot;lineCap&quot;: &quot;round&quot;, &quot;lineJoin&quot;: &quot;round&quot;, &quot;opacity&quot;: 1.0, &quot;radius&quot;: 2, &quot;stroke&quot;: true, &quot;weight&quot;: 3};\n",
       "            \n",
       "            let style = geo_json_0e8c173b971a658c4b2314bf3dcda147_styler(feature)\n",
       "            Object.assign(opts, style)\n",
       "            \n",
       "            return new L.CircleMarker(latlng, opts)\n",
       "        }\n",
       "\n",
       "        function geo_json_0e8c173b971a658c4b2314bf3dcda147_onEachFeature(feature, layer) {\n",
       "            layer.on({\n",
       "                mouseout: function(e) {\n",
       "                    if(typeof e.target.setStyle === &quot;function&quot;){\n",
       "                        geo_json_0e8c173b971a658c4b2314bf3dcda147.resetStyle(e.target);\n",
       "                    }\n",
       "                },\n",
       "                mouseover: function(e) {\n",
       "                    if(typeof e.target.setStyle === &quot;function&quot;){\n",
       "                        const highlightStyle = geo_json_0e8c173b971a658c4b2314bf3dcda147_highlighter(e.target.feature)\n",
       "                        e.target.setStyle(highlightStyle);\n",
       "                    }\n",
       "                },\n",
       "            });\n",
       "        };\n",
       "        var geo_json_0e8c173b971a658c4b2314bf3dcda147 = L.geoJson(null, {\n",
       "                onEachFeature: geo_json_0e8c173b971a658c4b2314bf3dcda147_onEachFeature,\n",
       "            \n",
       "                style: geo_json_0e8c173b971a658c4b2314bf3dcda147_styler,\n",
       "                pointToLayer: geo_json_0e8c173b971a658c4b2314bf3dcda147_pointToLayer\n",
       "        });\n",
       "\n",
       "        function geo_json_0e8c173b971a658c4b2314bf3dcda147_add (data) {\n",
       "            geo_json_0e8c173b971a658c4b2314bf3dcda147\n",
       "                .addData(data)\n",
       "                .addTo(map_9754377a1ebf82ecd70186fc5d2eef1a);\n",
       "        }\n",
       "            geo_json_0e8c173b971a658c4b2314bf3dcda147_add({&quot;bbox&quot;: [-122.22, 27.5488, -74.1785, 49.0005], &quot;features&quot;: [{&quot;bbox&quot;: [-107.957, 36.6864, -107.957, 36.6864], &quot;geometry&quot;: {&quot;coordinates&quot;: [-107.957, 36.6864], &quot;type&quot;: &quot;Point&quot;}, &quot;id&quot;: &quot;0&quot;, &quot;properties&quot;: {&quot;Adminstr&quot;: &quot;Transwestern Gas Pipeline Co&quot;, &quot;Authority&quot;: &quot;NGA Section 7&quot;, &quot;Avgdaily&quot;: 1200, &quot;City&quot;: &quot; &quot;, &quot;County_1&quot;: &quot;San Juan&quot;, &quot;County_2&quot;: &quot; &quot;, &quot;FID&quot;: 1, &quot;Hub_name&quot;: &quot;Blanco Hub&quot;, &quot;Latitude&quot;: 36.6864, &quot;Longitude&quot;: -107.957, &quot;Maxthru&quot;: 1600, &quot;Notes&quot;: &quot;Growth since 03: 77% in avg daily \\u0026 22% interconnect capacity. Customers:30-50 shippers, PG\\u0026E 25%, SOCAL 25%, rest Producers.  Not a \\&quot;HUB\\&quot; bur rather a receiver of gas from suppliers and deliver on behalf of shippers.&quot;, &quot;Numcust&quot;: 40, &quot;Operator&quot;: &quot;Transwestern Gas Pipeline Co&quot;, &quot;Platform&quot;: &quot;Intercontinental Exch (San Juan)&quot;, &quot;Rates&quot;: &quot;Max - Discount&quot;, &quot;Region&quot;: &quot;Southwest&quot;, &quot;State&quot;: &quot;NM&quot;, &quot;Status&quot;: &quot;Operational&quot;, &quot;Typeoper&quot;: &quot;Production Hub&quot;, &quot;X&quot;: -107.95698955196949, &quot;Y&quot;: 36.68639419900425, &quot;Yearofdata&quot;: 2009, &quot;Yr_activat&quot;: 1993, &quot;__folium_color&quot;: &quot;#f781bf&quot;}, &quot;type&quot;: &quot;Feature&quot;}, {&quot;bbox&quot;: [-100.459, 35.8337, -100.459, 35.8337], &quot;geometry&quot;: {&quot;coordinates&quot;: [-100.459, 35.8337], &quot;type&quot;: &quot;Point&quot;}, &quot;id&quot;: &quot;1&quot;, &quot;properties&quot;: {&quot;Adminstr&quot;: &quot;KM Interstate Gas Transmission co&quot;, &quot;Authority&quot;: &quot;FERC Section 311&quot;, &quot;Avgdaily&quot;: 0, &quot;City&quot;: &quot; &quot;, &quot;County_1&quot;: &quot;Hemphill&quot;, &quot;County_2&quot;: &quot; &quot;, &quot;FID&quot;: 2, &quot;Hub_name&quot;: &quot;Buffalo Wallow Center&quot;, &quot;Latitude&quot;: 35.8337, &quot;Longitude&quot;: -100.459, &quot;Maxthru&quot;: 250, &quot;Notes&quot;: &quot;Routes flows southward (through WAHA to East Texas) during non-peak periods and north during peak or cold periods. Operation is fiully booked in 1996. Upgrades, expansions and new connections being explored.&quot;, &quot;Numcust&quot;: 20, &quot;Operator&quot;: &quot;KM Interstate Gas Transmission co&quot;, &quot;Platform&quot;: &quot;No&quot;, &quot;Rates&quot;: &quot;Max - Discount&quot;, &quot;Region&quot;: &quot;Southwest&quot;, &quot;State&quot;: &quot;TX&quot;, &quot;Status&quot;: &quot;Inactive 99&quot;, &quot;Typeoper&quot;: &quot;Market Center&quot;, &quot;X&quot;: -100.45899135010892, &quot;Y&quot;: 35.83369389575649, &quot;Yearofdata&quot;: 1999, &quot;Yr_activat&quot;: 1994, &quot;__folium_color&quot;: &quot;#f781bf&quot;}, &quot;type&quot;: &quot;Feature&quot;}, {&quot;bbox&quot;: [-94.2789, 32.1596, -94.2789, 32.1596], &quot;geometry&quot;: {&quot;coordinates&quot;: [-94.2789, 32.1596], &quot;type&quot;: &quot;Point&quot;}, &quot;id&quot;: &quot;2&quot;, &quot;properties&quot;: {&quot;Adminstr&quot;: &quot;DCP Midstream Partners LP&quot;, &quot;Authority&quot;: &quot;FERC Section 311 \\u0026 State&quot;, &quot;Avgdaily&quot;: 600, &quot;City&quot;: &quot; &quot;, &quot;County_1&quot;: &quot;Panola&quot;, &quot;County_2&quot;: &quot; &quot;, &quot;FID&quot;: 3, &quot;Hub_name&quot;: &quot;Carthage Hub&quot;, &quot;Latitude&quot;: 32.1596, &quot;Longitude&quot;: -94.2789, &quot;Maxthru&quot;: 800, &quot;Notes&quot;: &quot;Site primarily delivers processed gas from East Texas Plant tailgate.  Most active hub site in East Texas with more than 200 per day trading on thier ETS.&quot;, &quot;Numcust&quot;: 200, &quot;Operator&quot;: &quot;DCP Midstream Inc&quot;, &quot;Platform&quot;: &quot;Intercontinental Exchange&quot;, &quot;Rates&quot;: &quot;Max - Discount&quot;, &quot;Region&quot;: &quot;Southwest&quot;, &quot;State&quot;: &quot;TX&quot;, &quot;Status&quot;: &quot;Operational&quot;, &quot;Typeoper&quot;: &quot;Production Hub&quot;, &quot;X&quot;: -94.27889315888032, &quot;Y&quot;: 32.159594277641744, &quot;Yearofdata&quot;: 2008, &quot;Yr_activat&quot;: 1990, &quot;__folium_color&quot;: &quot;#f781bf&quot;}, &quot;type&quot;: &quot;Feature&quot;}, {&quot;bbox&quot;: [-88.2639, 41.5002, -88.2639, 41.5002], &quot;geometry&quot;: {&quot;coordinates&quot;: [-88.2639, 41.5002], &quot;type&quot;: &quot;Point&quot;}, &quot;id&quot;: &quot;3&quot;, &quot;properties&quot;: {&quot;Adminstr&quot;: &quot;Enerchange Inc&quot;, &quot;Authority&quot;: &quot;FERC Section 311&quot;, &quot;Avgdaily&quot;: 100, &quot;City&quot;: null, &quot;County_1&quot;: &quot;Various&quot;, &quot;County_2&quot;: &quot; &quot;, &quot;FID&quot;: 4, &quot;Hub_name&quot;: &quot;Chicago Hub&quot;, &quot;Latitude&quot;: 41.5002, &quot;Longitude&quot;: -88.2639, &quot;Maxthru&quot;: 450, &quot;Notes&quot;: &quot;Nicor Enerchange Hub Administration, commonly referred to as the Chicago Hub. Storage service made possible through the use of under-utilized capacity at Nicor Gas\\u0027 seven underground storage facilities and its transmission network&quot;, &quot;Numcust&quot;: 10, &quot;Operator&quot;: &quot;Northern Illinois Gas Co  (Nicor)&quot;, &quot;Platform&quot;: &quot;NGX, Intercontinental Exchange&quot;, &quot;Rates&quot;: &quot;Max - Discount&quot;, &quot;Region&quot;: &quot;Midwest&quot;, &quot;State&quot;: &quot;IL&quot;, &quot;Status&quot;: &quot;Operational&quot;, &quot;Typeoper&quot;: &quot;Market Center&quot;, &quot;X&quot;: -88.26389410140656, &quot;Y&quot;: 41.50019224520628, &quot;Yearofdata&quot;: 2008, &quot;Yr_activat&quot;: 1993, &quot;__folium_color&quot;: &quot;#984ea3&quot;}, &quot;type&quot;: &quot;Feature&quot;}, {&quot;bbox&quot;: [-77.79, 41.3979, -77.79, 41.3979], &quot;geometry&quot;: {&quot;coordinates&quot;: [-77.79, 41.3979], &quot;type&quot;: &quot;Point&quot;}, &quot;id&quot;: &quot;4&quot;, &quot;properties&quot;: {&quot;Adminstr&quot;: &quot;National Fuel Gas Supply Co&quot;, &quot;Authority&quot;: &quot;FERC Section 311&quot;, &quot;Avgdaily&quot;: 432, &quot;City&quot;: &quot; &quot;, &quot;County_1&quot;: &quot;Potter&quot;, &quot;County_2&quot;: &quot;Clinton&quot;, &quot;FID&quot;: 5, &quot;Hub_name&quot;: &quot;Ellisburg-Leidy Center&quot;, &quot;Latitude&quot;: 41.3979, &quot;Longitude&quot;: -77.79, &quot;Maxthru&quot;: 520, &quot;Notes&quot;: &quot;No longer a formal market center although hub type services are offered by NFGS (08) as part of everyday business. .Marketers constitute about 40% of business, Cogens \\u0026 LDC\\u0027s 50%, pipelines 10%. Although 32 storage sites are available to the center&quot;, &quot;Numcust&quot;: 85, &quot;Operator&quot;: &quot;National Fuel Gas Supply Co&quot;, &quot;Platform&quot;: &quot;Gas Daily&quot;, &quot;Rates&quot;: &quot;Max - Discount&quot;, &quot;Region&quot;: &quot;Northeast&quot;, &quot;State&quot;: &quot;PA&quot;, &quot;Status&quot;: &quot;Inactive 08&quot;, &quot;Typeoper&quot;: &quot;Market Center&quot;, &quot;X&quot;: -77.78999730138227, &quot;Y&quot;: 41.397891755756, &quot;Yearofdata&quot;: 2008, &quot;Yr_activat&quot;: 1993, &quot;__folium_color&quot;: &quot;#ff7f00&quot;}, &quot;type&quot;: &quot;Feature&quot;}, {&quot;bbox&quot;: [-94.1679, 29.831, -94.1679, 29.831], &quot;geometry&quot;: {&quot;coordinates&quot;: [-94.1679, 29.831], &quot;type&quot;: &quot;Point&quot;}, &quot;id&quot;: &quot;5&quot;, &quot;properties&quot;: {&quot;Adminstr&quot;: &quot;Centana Intrastate Pipeline Co&quot;, &quot;Authority&quot;: &quot;FERC Section 311&quot;, &quot;Avgdaily&quot;: 700, &quot;City&quot;: &quot; &quot;, &quot;County_1&quot;: &quot;Jefferson&quot;, &quot;County_2&quot;: &quot; &quot;, &quot;FID&quot;: 6, &quot;Hub_name&quot;: &quot;Spindletop Storage Hub&quot;, &quot;Latitude&quot;: 29.831, &quot;Longitude&quot;: -94.1679, &quot;Maxthru&quot;: 750, &quot;Notes&quot;: &quot;DCP spokesperson: Spindletop not a true market center/hub. 10/08  Spindletop Hub provides storage in a salt dome caverns with 12.4 Bcf total capacity, 0.75 Bcf/day withdrawal capacity, and 0.37 Bcf/day injection capacity.&quot;, &quot;Numcust&quot;: 20, &quot;Operator&quot;: &quot;Centana Intrastate Pipeline Co&quot;, &quot;Platform&quot;: &quot;No&quot;, &quot;Rates&quot;: &quot;Max - Discount&quot;, &quot;Region&quot;: &quot;Southwest&quot;, &quot;State&quot;: &quot;TX&quot;, &quot;Status&quot;: &quot;Inactive 08&quot;, &quot;Typeoper&quot;: &quot;Storage Hub&quot;, &quot;X&quot;: -94.16789330331194, &quot;Y&quot;: 29.830994747312506, &quot;Yearofdata&quot;: 2008, &quot;Yr_activat&quot;: 1998, &quot;__folium_color&quot;: &quot;#f781bf&quot;}, &quot;type&quot;: &quot;Feature&quot;}, {&quot;bbox&quot;: [-95.3936, 29.774, -95.3936, 29.774], &quot;geometry&quot;: {&quot;coordinates&quot;: [-95.3936, 29.774], &quot;type&quot;: &quot;Point&quot;}, &quot;id&quot;: &quot;6&quot;, &quot;properties&quot;: {&quot;Adminstr&quot;: &quot;EL Paso Field Services Co&quot;, &quot;Authority&quot;: &quot;FERC Section 311&quot;, &quot;Avgdaily&quot;: 0, &quot;City&quot;: &quot;Houston&quot;, &quot;County_1&quot;: &quot;Harris&quot;, &quot;County_2&quot;: &quot; &quot;, &quot;FID&quot;: 7, &quot;Hub_name&quot;: &quot;Houston Hub&quot;, &quot;Latitude&quot;: 29.774, &quot;Longitude&quot;: -95.3936, &quot;Maxthru&quot;: 110, &quot;Notes&quot;: &quot;Rotherwood storage became inactive 9/2002. Five long-term customers, the rest short-term., interruptible day-to-day.&quot;, &quot;Numcust&quot;: 200, &quot;Operator&quot;: &quot;EL Paso Field Services Co&quot;, &quot;Platform&quot;: &quot;Not applicable&quot;, &quot;Rates&quot;: &quot;Max - Discount&quot;, &quot;Region&quot;: &quot;Southwest&quot;, &quot;State&quot;: &quot;TX&quot;, &quot;Status&quot;: &quot;Inactive 03&quot;, &quot;Typeoper&quot;: &quot;Market Hub&quot;, &quot;X&quot;: -95.39359299011149, &quot;Y&quot;: 29.773994800249284, &quot;Yearofdata&quot;: 2003, &quot;Yr_activat&quot;: 1992, &quot;__folium_color&quot;: &quot;#f781bf&quot;}, &quot;type&quot;: &quot;Feature&quot;}, {&quot;bbox&quot;: [-95.8512, 29.8331, -95.8512, 29.8331], &quot;geometry&quot;: {&quot;coordinates&quot;: [-95.8512, 29.8331], &quot;type&quot;: &quot;Point&quot;}, &quot;id&quot;: &quot;7&quot;, &quot;properties&quot;: {&quot;Adminstr&quot;: &quot;DCP Midstream LP&quot;, &quot;Authority&quot;: &quot;Texas Railroad Comm&quot;, &quot;Avgdaily&quot;: 300, &quot;City&quot;: &quot; &quot;, &quot;County_1&quot;: &quot;Waller&quot;, &quot;County_2&quot;: &quot; &quot;, &quot;FID&quot;: 8, &quot;Hub_name&quot;: &quot;Katy (DCP) Hub&quot;, &quot;Latitude&quot;: 29.8331, &quot;Longitude&quot;: -95.8512, &quot;Maxthru&quot;: 500, &quot;Notes&quot;: &quot;Transfer point primarily. Does not provide more than acces on/off GUADALUPE pipeline system from west to east Texas. Volume: 80% Producers, 20% Marketers. TECO not is upgrading system to include more services and interconnections and capacity. In 199&quot;, &quot;Numcust&quot;: 12, &quot;Operator&quot;: &quot;Guadalupe Pipeline Co&quot;, &quot;Platform&quot;: &quot;No&quot;, &quot;Rates&quot;: &quot;Market Based&quot;, &quot;Region&quot;: &quot;Southwest&quot;, &quot;State&quot;: &quot;TX&quot;, &quot;Status&quot;: &quot;Operational&quot;, &quot;Typeoper&quot;: &quot;Production Hub&quot;, &quot;X&quot;: -95.85119287075231, &quot;Y&quot;: 29.83309480340811, &quot;Yearofdata&quot;: 2003, &quot;Yr_activat&quot;: 1995, &quot;__folium_color&quot;: &quot;#f781bf&quot;}, &quot;type&quot;: &quot;Feature&quot;}, {&quot;bbox&quot;: [-84.1811, 39.4159, -84.1811, 39.4159], &quot;geometry&quot;: {&quot;coordinates&quot;: [-84.1811, 39.4159], &quot;type&quot;: &quot;Point&quot;}, &quot;id&quot;: &quot;8&quot;, &quot;properties&quot;: {&quot;Adminstr&quot;: &quot;East Ohio Gas Co&quot;, &quot;Authority&quot;: &quot;FERC Section 311&quot;, &quot;Avgdaily&quot;: 0, &quot;City&quot;: &quot; &quot;, &quot;County_1&quot;: &quot;Warren&quot;, &quot;County_2&quot;: &quot; &quot;, &quot;FID&quot;: 9, &quot;Hub_name&quot;: &quot;Lebanon Hub&quot;, &quot;Latitude&quot;: 39.4159, &quot;Longitude&quot;: -84.1811, &quot;Maxthru&quot;: 0, &quot;Notes&quot;: &quot;Closed in 1998 due to a lack of customer interest and liquidity.&quot;, &quot;Numcust&quot;: 0, &quot;Operator&quot;: &quot;East Ohio Gas Co&quot;, &quot;Platform&quot;: &quot;Not applicable&quot;, &quot;Rates&quot;: &quot;Max - Discount&quot;, &quot;Region&quot;: &quot;Midwest&quot;, &quot;State&quot;: &quot;OH&quot;, &quot;Status&quot;: &quot;Inactive 98&quot;, &quot;Typeoper&quot;: &quot;Market Hub&quot;, &quot;X&quot;: -84.18109548940046, &quot;Y&quot;: 39.41589241313563, &quot;Yearofdata&quot;: 1998, &quot;Yr_activat&quot;: 1994, &quot;__folium_color&quot;: &quot;#984ea3&quot;}, &quot;type&quot;: &quot;Feature&quot;}, {&quot;bbox&quot;: [-92.4296, 29.964, -92.4296, 29.964], &quot;geometry&quot;: {&quot;coordinates&quot;: [-92.4296, 29.964], &quot;type&quot;: &quot;Point&quot;}, &quot;id&quot;: &quot;9&quot;, &quot;properties&quot;: {&quot;Adminstr&quot;: &quot;Bridgeline Storage Co&quot;, &quot;Authority&quot;: &quot;FERC Section 311&quot;, &quot;Avgdaily&quot;: 0, &quot;City&quot;: &quot; &quot;, &quot;County_1&quot;: &quot;Assumption&quot;, &quot;County_2&quot;: &quot;Cameron&quot;, &quot;FID&quot;: 10, &quot;Hub_name&quot;: &quot;Louisiana Hub&quot;, &quot;Latitude&quot;: 29.964, &quot;Longitude&quot;: -92.4296, &quot;Maxthru&quot;: 400, &quot;Notes&quot;: &quot;System ties in with Henry Hub.&quot;, &quot;Numcust&quot;: 0, &quot;Operator&quot;: &quot;Bridgeline Storage Co&quot;, &quot;Platform&quot;: &quot;Not applicable&quot;, &quot;Rates&quot;: &quot;Market Based&quot;, &quot;Region&quot;: &quot;Southwest&quot;, &quot;State&quot;: &quot;LA&quot;, &quot;Status&quot;: &quot;Inactive 99&quot;, &quot;Typeoper&quot;: &quot;Market Center&quot;, &quot;X&quot;: -92.42959375467896, &quot;Y&quot;: 29.963994660516448, &quot;Yearofdata&quot;: 1996, &quot;Yr_activat&quot;: 1994, &quot;__folium_color&quot;: &quot;#f781bf&quot;}, &quot;type&quot;: &quot;Feature&quot;}, {&quot;bbox&quot;: [-94.8578, 30.1568, -94.8578, 30.1568], &quot;geometry&quot;: {&quot;coordinates&quot;: [-94.8578, 30.1568], &quot;type&quot;: &quot;Point&quot;}, &quot;id&quot;: &quot;10&quot;, &quot;properties&quot;: {&quot;Adminstr&quot;: &quot;Moss Bluff Hub Partners LP&quot;, &quot;Authority&quot;: &quot;NGA Section 7&quot;, &quot;Avgdaily&quot;: 1600, &quot;City&quot;: &quot; &quot;, &quot;County_1&quot;: &quot;Liberty&quot;, &quot;County_2&quot;: &quot; &quot;, &quot;FID&quot;: 11, &quot;Hub_name&quot;: &quot;Moss Bluff  Hub&quot;, &quot;Latitude&quot;: 30.1568, &quot;Longitude&quot;: -94.8578, &quot;Maxthru&quot;: 2000, &quot;Notes&quot;: &quot;Growth since 2003: Interconect capacity grew 70% (Texas East largest growth) while storage working gas capacity grew 30%. 8 long-term firm customers (75% of business), about 25-35 interrutipble customers (25% of business).&quot;, &quot;Numcust&quot;: 40, &quot;Operator&quot;: &quot;Market Hub Partners Inc&quot;, &quot;Platform&quot;: &quot;No&quot;, &quot;Rates&quot;: &quot;Market Based&quot;, &quot;Region&quot;: &quot;Southwest&quot;, &quot;State&quot;: &quot;TX&quot;, &quot;Status&quot;: &quot;Operational&quot;, &quot;Typeoper&quot;: &quot;Storage Hub&quot;, &quot;X&quot;: -94.85779311108791, &quot;Y&quot;: 30.15679470351389, &quot;Yearofdata&quot;: 2008, &quot;Yr_activat&quot;: 1994, &quot;__folium_color&quot;: &quot;#f781bf&quot;}, &quot;type&quot;: &quot;Feature&quot;}, {&quot;bbox&quot;: [-92.0616, 32.7035, -92.0616, 32.7035], &quot;geometry&quot;: {&quot;coordinates&quot;: [-92.0616, 32.7035], &quot;type&quot;: &quot;Point&quot;}, &quot;id&quot;: &quot;11&quot;, &quot;properties&quot;: {&quot;Adminstr&quot;: &quot;Ouachita River Gas Storage Co&quot;, &quot;Authority&quot;: &quot;NGA Section 7&quot;, &quot;Avgdaily&quot;: 0, &quot;City&quot;: &quot;Perryville&quot;, &quot;County_1&quot;: &quot;Quachita&quot;, &quot;County_2&quot;: &quot; &quot;, &quot;FID&quot;: 12, &quot;Hub_name&quot;: &quot;Perryville (Ouachita) Hub&quot;, &quot;Latitude&quot;: 32.7035, &quot;Longitude&quot;: -92.0616, &quot;Maxthru&quot;: 550, &quot;Notes&quot;: &quot; &quot;, &quot;Numcust&quot;: 0, &quot;Operator&quot;: &quot;Ouachita River Gas Storage Co&quot;, &quot;Platform&quot;: &quot;Not applicable&quot;, &quot;Rates&quot;: &quot; &quot;, &quot;Region&quot;: &quot;Southwest&quot;, &quot;State&quot;: &quot;LA&quot;, &quot;Status&quot;: &quot;Canceled 99&quot;, &quot;Typeoper&quot;: &quot;Market Hub&quot;, &quot;X&quot;: -92.06159371526019, &quot;Y&quot;: 32.703494080655204, &quot;Yearofdata&quot;: 1998, &quot;Yr_activat&quot;: 1997, &quot;__folium_color&quot;: &quot;#f781bf&quot;}, &quot;type&quot;: &quot;Feature&quot;}, {&quot;bbox&quot;: [-91.1768, 29.9707, -91.1768, 29.9707], &quot;geometry&quot;: {&quot;coordinates&quot;: [-91.1768, 29.9707], &quot;type&quot;: &quot;Point&quot;}, &quot;id&quot;: &quot;12&quot;, &quot;properties&quot;: {&quot;Adminstr&quot;: &quot;Texaco Inc&quot;, &quot;Authority&quot;: &quot;FERC Section 311&quot;, &quot;Avgdaily&quot;: 0, &quot;City&quot;: &quot; &quot;, &quot;County_1&quot;: null, &quot;County_2&quot;: &quot; &quot;, &quot;FID&quot;: 13, &quot;Hub_name&quot;: &quot;Texaco Gulf Star Center&quot;, &quot;Latitude&quot;: 29.9707, &quot;Longitude&quot;: -91.1768, &quot;Maxthru&quot;: 330, &quot;Notes&quot;: &quot;They also can provide access to 6 other plants from their system. Th ecenter operates over  500-800 miles of intrastate pipelines. Most of their business is buying and selling of gas on intrastate systems they are tied into, but, they also do a good&quot;, &quot;Numcust&quot;: 350, &quot;Operator&quot;: &quot;Texaco Inc&quot;, &quot;Platform&quot;: &quot;Not applicable&quot;, &quot;Rates&quot;: &quot;Max - Discount&quot;, &quot;Region&quot;: &quot;Southwest&quot;, &quot;State&quot;: &quot;LA&quot;, &quot;Status&quot;: &quot;Inactive 03&quot;, &quot;Typeoper&quot;: &quot;Market Center&quot;, &quot;X&quot;: -91.1767940876468, &quot;Y&quot;: 29.970694617159108, &quot;Yearofdata&quot;: 2003, &quot;Yr_activat&quot;: 1993, &quot;__folium_color&quot;: &quot;#f781bf&quot;}, &quot;type&quot;: &quot;Feature&quot;}, {&quot;bbox&quot;: [-103.109, 31.629, -103.109, 31.629], &quot;geometry&quot;: {&quot;coordinates&quot;: [-103.109, 31.629], &quot;type&quot;: &quot;Point&quot;}, &quot;id&quot;: &quot;13&quot;, &quot;properties&quot;: {&quot;Adminstr&quot;: &quot;Atmos Pipeline - Texas&quot;, &quot;Authority&quot;: &quot;FERC Section 311 \\u0026 State&quot;, &quot;Avgdaily&quot;: 300, &quot;City&quot;: &quot; &quot;, &quot;County_1&quot;: &quot;Pecos&quot;, &quot;County_2&quot;: &quot; &quot;, &quot;FID&quot;: 14, &quot;Hub_name&quot;: &quot;Waha (Atmos) Hub&quot;, &quot;Latitude&quot;: 31.629, &quot;Longitude&quot;: -103.109, &quot;Maxthru&quot;: 650, &quot;Notes&quot;: &quot;Transportation rates for intrastate and \\u00a7311 transportation from over 100 major interconnects on our system; negotiating Long Term and Short Term Storage Services and marketing our Parking and Lending Services.&quot;, &quot;Numcust&quot;: 50, &quot;Operator&quot;: &quot;Atmos Pipeline - Texas&quot;, &quot;Platform&quot;: &quot;No&quot;, &quot;Rates&quot;: &quot;Max - Discount&quot;, &quot;Region&quot;: &quot;Southwest&quot;, &quot;State&quot;: &quot;TX&quot;, &quot;Status&quot;: &quot;Inactive 05&quot;, &quot;Typeoper&quot;: &quot;Market Hub&quot;, &quot;X&quot;: -103.1089910150178, &quot;Y&quot;: 31.628994742181984, &quot;Yearofdata&quot;: 2008, &quot;Yr_activat&quot;: 1995, &quot;__folium_color&quot;: &quot;#f781bf&quot;}, &quot;type&quot;: &quot;Feature&quot;}, {&quot;bbox&quot;: [-103.113, 31.2251, -103.113, 31.2251], &quot;geometry&quot;: {&quot;coordinates&quot;: [-103.113, 31.2251], &quot;type&quot;: &quot;Point&quot;}, &quot;id&quot;: &quot;14&quot;, &quot;properties&quot;: {&quot;Adminstr&quot;: &quot;DCP Midstream LP&quot;, &quot;Authority&quot;: &quot;FERC Section 311 \\u0026 State&quot;, &quot;Avgdaily&quot;: 300, &quot;City&quot;: &quot; &quot;, &quot;County_1&quot;: &quot;Pecos&quot;, &quot;County_2&quot;: &quot; &quot;, &quot;FID&quot;: 15, &quot;Hub_name&quot;: &quot;Waha (DCP/Atmos) Hub&quot;, &quot;Latitude&quot;: 31.2251, &quot;Longitude&quot;: -103.113, &quot;Maxthru&quot;: 650, &quot;Notes&quot;: &quot;Growth since 2003: Little/no growth in thruput although interconnect capacity increased by 20%. Provides primary access to GUADALUPE  pipeline system flowing from west to east Texas.&quot;, &quot;Numcust&quot;: 62, &quot;Operator&quot;: &quot;Atmos Pipeline - Texas&quot;, &quot;Platform&quot;: &quot;No&quot;, &quot;Rates&quot;: &quot;Max - Discount&quot;, &quot;Region&quot;: &quot;Southwest&quot;, &quot;State&quot;: &quot;TX&quot;, &quot;Status&quot;: &quot;Operational&quot;, &quot;Typeoper&quot;: &quot;Production Hub&quot;, &quot;X&quot;: -103.11299103690818, &quot;Y&quot;: 31.225094813181094, &quot;Yearofdata&quot;: 2008, &quot;Yr_activat&quot;: 1995, &quot;__folium_color&quot;: &quot;#f781bf&quot;}, &quot;type&quot;: &quot;Feature&quot;}, {&quot;bbox&quot;: [-92.3574, 30.2695, -92.3574, 30.2695], &quot;geometry&quot;: {&quot;coordinates&quot;: [-92.3574, 30.2695], &quot;type&quot;: &quot;Point&quot;}, &quot;id&quot;: &quot;15&quot;, &quot;properties&quot;: {&quot;Adminstr&quot;: &quot;Egan Hub Partners LP&quot;, &quot;Authority&quot;: &quot;NGA Section 7&quot;, &quot;Avgdaily&quot;: 2000, &quot;City&quot;: &quot; &quot;, &quot;County_1&quot;: &quot;Acadia&quot;, &quot;County_2&quot;: &quot; &quot;, &quot;FID&quot;: 16, &quot;Hub_name&quot;: &quot;Egan Hub&quot;, &quot;Latitude&quot;: 30.2695, &quot;Longitude&quot;: -92.3574, &quot;Maxthru&quot;: 2500, &quot;Notes&quot;: &quot;Growth since 2003: 3 added interconnects, 160% increase in interconnect capacity, 110% increase in storage deliverability \\u0026 worging gas capacity.Market determination for pipeline interconnects - rates for interconnects are standalone, not rolled in.&quot;, &quot;Numcust&quot;: 40, &quot;Operator&quot;: &quot;Market Hub Partners Inc&quot;, &quot;Platform&quot;: &quot;No&quot;, &quot;Rates&quot;: &quot;Market Based&quot;, &quot;Region&quot;: &quot;Southwest&quot;, &quot;State&quot;: &quot;LA&quot;, &quot;Status&quot;: &quot;Operational&quot;, &quot;Typeoper&quot;: &quot;Storage Hub&quot;, &quot;X&quot;: -92.3573937594874, &quot;Y&quot;: 30.26949459355731, &quot;Yearofdata&quot;: 2008, &quot;Yr_activat&quot;: 1995, &quot;__folium_color&quot;: &quot;#f781bf&quot;}, &quot;type&quot;: &quot;Feature&quot;}, {&quot;bbox&quot;: [-92.5285, 30.9118, -92.5285, 30.9118], &quot;geometry&quot;: {&quot;coordinates&quot;: [-92.5285, 30.9118], &quot;type&quot;: &quot;Point&quot;}, &quot;id&quot;: &quot;16&quot;, &quot;properties&quot;: {&quot;Adminstr&quot;: &quot;Louisiana Intratstate Gas Co&quot;, &quot;Authority&quot;: &quot;Section 311 Cost&quot;, &quot;Avgdaily&quot;: 0, &quot;City&quot;: &quot; &quot;, &quot;County_1&quot;: &quot;Iberia&quot;, &quot;County_2&quot;: &quot;Vermillion&quot;, &quot;FID&quot;: 17, &quot;Hub_name&quot;: &quot;Louisiana Intrastate Gas Center&quot;, &quot;Latitude&quot;: 30.9118, &quot;Longitude&quot;: -92.5285, &quot;Maxthru&quot;: 360, &quot;Notes&quot;: &quot;Producers and Marketers about 45 percent each of business, the rest LDCs. 25 active firm customers,. Stoarge fully utilized currently. Located  very near the Henry Hub. Planning on an ETS in 1997 or earlier. Talking to MYMEX about becoming another de&quot;, &quot;Numcust&quot;: 50, &quot;Operator&quot;: &quot;Louisiana Intratstate Gas Co&quot;, &quot;Platform&quot;: &quot;Not applicable&quot;, &quot;Rates&quot;: &quot;Market Based&quot;, &quot;Region&quot;: &quot;Southwest&quot;, &quot;State&quot;: &quot;LA&quot;, &quot;Status&quot;: &quot;Inactive 99&quot;, &quot;Typeoper&quot;: &quot;Market Hub&quot;, &quot;X&quot;: -92.52849368425592, &quot;Y&quot;: 30.911794464976836, &quot;Yearofdata&quot;: 1996, &quot;Yr_activat&quot;: 1999, &quot;__folium_color&quot;: &quot;#f781bf&quot;}, &quot;type&quot;: &quot;Feature&quot;}, {&quot;bbox&quot;: [-95.7861, 29.7501, -95.7861, 29.7501], &quot;geometry&quot;: {&quot;coordinates&quot;: [-95.7861, 29.7501], &quot;type&quot;: &quot;Point&quot;}, &quot;id&quot;: &quot;17&quot;, &quot;properties&quot;: {&quot;Adminstr&quot;: &quot;ENSTOR Energy Inc&quot;, &quot;Authority&quot;: &quot;FERC Section 311&quot;, &quot;Avgdaily&quot;: 1400, &quot;City&quot;: &quot;Houston&quot;, &quot;County_1&quot;: &quot;Fort Bend&quot;, &quot;County_2&quot;: &quot;Weller&quot;, &quot;FID&quot;: 18, &quot;Hub_name&quot;: &quot;Katy Storage Center&quot;, &quot;Latitude&quot;: 29.7501, &quot;Longitude&quot;: -95.7861, &quot;Maxthru&quot;: 700, &quot;Notes&quot;: &quot;Growth since 2003: Daily thruput up only 15% while interconnect capacity grew only slightly. Pooling servive recently instituted. Market-based pricing granted by FERC 2/04. 8-MILE Header setup.&quot;, &quot;Numcust&quot;: 30, &quot;Operator&quot;: &quot;ENSTOR Energy Inc&quot;, &quot;Platform&quot;: &quot;Intercontinental Exchange&quot;, &quot;Rates&quot;: &quot;Max - Discount&quot;, &quot;Region&quot;: &quot;Southwest&quot;, &quot;State&quot;: &quot;TX&quot;, &quot;Status&quot;: &quot;Operational&quot;, &quot;Typeoper&quot;: &quot;Storage Hub&quot;, &quot;X&quot;: -95.78609289097017, &quot;Y&quot;: 29.75009481806577, &quot;Yearofdata&quot;: 2008, &quot;Yr_activat&quot;: 1993, &quot;__folium_color&quot;: &quot;#f781bf&quot;}, &quot;type&quot;: &quot;Feature&quot;}, {&quot;bbox&quot;: [-102.331, 30.8163, -102.331, 30.8163], &quot;geometry&quot;: {&quot;coordinates&quot;: [-102.331, 30.8163], &quot;type&quot;: &quot;Point&quot;}, &quot;id&quot;: &quot;18&quot;, &quot;properties&quot;: {&quot;Adminstr&quot;: &quot;ENSTOR Energy Inc&quot;, &quot;Authority&quot;: &quot;FERC Section 311 \\u0026 State&quot;, &quot;Avgdaily&quot;: 450, &quot;City&quot;: &quot; &quot;, &quot;County_1&quot;: &quot;Pecos&quot;, &quot;County_2&quot;: &quot; &quot;, &quot;FID&quot;: 19, &quot;Hub_name&quot;: &quot;Waha  (ENSTOR) Hub&quot;, &quot;Latitude&quot;: 30.8163, &quot;Longitude&quot;: -102.331, &quot;Maxthru&quot;: 800, &quot;Notes&quot;: &quot;The Waha project is expected to be developed in three phases over the next six years, with the first phase operational by 2009.&quot;, &quot;Numcust&quot;: 0, &quot;Operator&quot;: &quot;ENSTOR Energy Inc&quot;, &quot;Platform&quot;: &quot;No&quot;, &quot;Rates&quot;: &quot; &quot;, &quot;Region&quot;: &quot;Southwest&quot;, &quot;State&quot;: &quot;TX&quot;, &quot;Status&quot;: &quot;Proposed 09&quot;, &quot;Typeoper&quot;: &quot;Storage Hub&quot;, &quot;X&quot;: -102.33099123993048, &quot;Y&quot;: 30.81629485408428, &quot;Yearofdata&quot;: 2008, &quot;Yr_activat&quot;: 2009, &quot;__folium_color&quot;: &quot;#f781bf&quot;}, &quot;type&quot;: &quot;Feature&quot;}, {&quot;bbox&quot;: [-97.6003, 27.5488, -97.6003, 27.5488], &quot;geometry&quot;: {&quot;coordinates&quot;: [-97.6003, 27.5488], &quot;type&quot;: &quot;Point&quot;}, &quot;id&quot;: &quot;19&quot;, &quot;properties&quot;: {&quot;Adminstr&quot;: &quot;ConocoPhillips Inc&quot;, &quot;Authority&quot;: &quot;Texas Railroad Comm&quot;, &quot;Avgdaily&quot;: 400, &quot;City&quot;: &quot; &quot;, &quot;County_1&quot;: &quot;Nueces&quot;, &quot;County_2&quot;: &quot;Jim Wells&quot;, &quot;FID&quot;: 20, &quot;Hub_name&quot;: &quot;Aqua Dulce Hub&quot;, &quot;Latitude&quot;: 27.5488, &quot;Longitude&quot;: -97.6003, &quot;Maxthru&quot;: 600, &quot;Notes&quot;: &quot;No significant change since 2003. Hub only delivery their own and 6-7 area producers production  into the pipelines, no redirecting done. Section 311 transporter.They sell gas and delivery it to the proper pipe&quot;, &quot;Numcust&quot;: 0, &quot;Operator&quot;: &quot;ConocoPhillips Inc&quot;, &quot;Platform&quot;: &quot;No&quot;, &quot;Rates&quot;: &quot;State Tariff&quot;, &quot;Region&quot;: &quot;Southwest&quot;, &quot;State&quot;: &quot;TX&quot;, &quot;Status&quot;: &quot;Operational&quot;, &quot;Typeoper&quot;: &quot;Production Hub&quot;, &quot;X&quot;: -97.60029252268643, &quot;Y&quot;: 27.548795326157126, &quot;Yearofdata&quot;: 2008, &quot;Yr_activat&quot;: 1990, &quot;__folium_color&quot;: &quot;#f781bf&quot;}, &quot;type&quot;: &quot;Feature&quot;}, {&quot;bbox&quot;: [-83.4014, 42.2222, -83.4014, 42.2222], &quot;geometry&quot;: {&quot;coordinates&quot;: [-83.4014, 42.2222], &quot;type&quot;: &quot;Point&quot;}, &quot;id&quot;: &quot;20&quot;, &quot;properties&quot;: {&quot;Adminstr&quot;: &quot;CMS Gas Transmission and Storage&quot;, &quot;Authority&quot;: &quot; &quot;, &quot;Avgdaily&quot;: 0, &quot;City&quot;: &quot;Marysville&quot;, &quot;County_1&quot;: &quot;St Cair&quot;, &quot;County_2&quot;: &quot; &quot;, &quot;FID&quot;: 21, &quot;Hub_name&quot;: &quot;Grand Lacs Hub&quot;, &quot;Latitude&quot;: 42.2222, &quot;Longitude&quot;: -83.4014, &quot;Maxthru&quot;: 250, &quot;Notes&quot;: &quot;Storage only now. Storage contracted from Consumer Power which has 122 Bcf WKG and 2,199 Delv in total. Once planned as a Header type system, GRAND LACS is now primarily transport and storage hub services. No EBB/ETS available.&quot;, &quot;Numcust&quot;: 0, &quot;Operator&quot;: &quot;CMS Gas Transmission and Storage&quot;, &quot;Platform&quot;: &quot;Not applicable&quot;, &quot;Rates&quot;: &quot;Market Based&quot;, &quot;Region&quot;: &quot;Midwest&quot;, &quot;State&quot;: &quot;MI&quot;, &quot;Status&quot;: &quot;Inactive 99&quot;, &quot;Typeoper&quot;: &quot;Market Hub&quot;, &quot;X&quot;: -83.40139548824628, &quot;Y&quot;: 42.222191861293375, &quot;Yearofdata&quot;: 1999, &quot;Yr_activat&quot;: 1995, &quot;__folium_color&quot;: &quot;#984ea3&quot;}, &quot;type&quot;: &quot;Feature&quot;}, {&quot;bbox&quot;: [-97.7721, 37.8699, -97.7721, 37.8699], &quot;geometry&quot;: {&quot;coordinates&quot;: [-97.7721, 37.8699], &quot;type&quot;: &quot;Point&quot;}, &quot;id&quot;: &quot;21&quot;, &quot;properties&quot;: {&quot;Adminstr&quot;: &quot;Mid-Continent Market Services&quot;, &quot;Authority&quot;: &quot;FERC Section 311&quot;, &quot;Avgdaily&quot;: 340, &quot;City&quot;: &quot; &quot;, &quot;County_1&quot;: null, &quot;County_2&quot;: &quot; &quot;, &quot;FID&quot;: 22, &quot;Hub_name&quot;: &quot;Mid-Continent Center&quot;, &quot;Latitude&quot;: 37.8699, &quot;Longitude&quot;: -97.7721, &quot;Maxthru&quot;: 630, &quot;Notes&quot;: &quot;Much of assets went to an affilate in 2005. Transportation is the single service now provided. Lost Yaggy salt storage site in 2000.&quot;, &quot;Numcust&quot;: 10, &quot;Operator&quot;: &quot;Oneok Gas Transportation LLC&quot;, &quot;Platform&quot;: &quot;No&quot;, &quot;Rates&quot;: &quot;Max - Discount&quot;, &quot;Region&quot;: &quot;Central&quot;, &quot;State&quot;: &quot;KS&quot;, &quot;Status&quot;: &quot;Operational&quot;, &quot;Typeoper&quot;: &quot;Market Center&quot;, &quot;X&quot;: -97.77209184429417, &quot;Y&quot;: 37.8698934058232, &quot;Yearofdata&quot;: 2008, &quot;Yr_activat&quot;: 1995, &quot;__folium_color&quot;: &quot;#377eb8&quot;}, &quot;type&quot;: &quot;Feature&quot;}, {&quot;bbox&quot;: [-78.1274, 40.5819, -78.1274, 40.5819], &quot;geometry&quot;: {&quot;coordinates&quot;: [-78.1274, 40.5819], &quot;type&quot;: &quot;Point&quot;}, &quot;id&quot;: &quot;22&quot;, &quot;properties&quot;: {&quot;Adminstr&quot;: &quot;Dominion Transmission Inc&quot;, &quot;Authority&quot;: &quot;FERC Section 311&quot;, &quot;Avgdaily&quot;: 2500, &quot;City&quot;: &quot;Various&quot;, &quot;County_1&quot;: null, &quot;County_2&quot;: &quot; &quot;, &quot;FID&quot;: 23, &quot;Hub_name&quot;: &quot;Dominion Hub&quot;, &quot;Latitude&quot;: 40.5819, &quot;Longitude&quot;: -78.1274, &quot;Maxthru&quot;: 1745, &quot;Notes&quot;: &quot;Referred to as the North and South pricing points. About 80% of business with Marketers, the rest with LDCs. Mid-1996 running about 300 MMcf/d in Hub services. Peak day July 1995. Does not provide buy/sell services but does provide matching for long&quot;, &quot;Numcust&quot;: 250, &quot;Operator&quot;: &quot;Dominion Transmission Inc&quot;, &quot;Platform&quot;: &quot;Gas Daily, ICE&quot;, &quot;Rates&quot;: &quot;Market Based&quot;, &quot;Region&quot;: &quot;Northeast&quot;, &quot;State&quot;: &quot;PA&quot;, &quot;Status&quot;: &quot;Operational&quot;, &quot;Typeoper&quot;: &quot;Market Center&quot;, &quot;X&quot;: -78.12739725382859, &quot;Y&quot;: 40.58189192489993, &quot;Yearofdata&quot;: 2008, &quot;Yr_activat&quot;: 1994, &quot;__folium_color&quot;: &quot;#ff7f00&quot;}, &quot;type&quot;: &quot;Feature&quot;}, {&quot;bbox&quot;: [-78.9074, 41.1416, -78.9074, 41.1416], &quot;geometry&quot;: {&quot;coordinates&quot;: [-78.9074, 41.1416], &quot;type&quot;: &quot;Point&quot;}, &quot;id&quot;: &quot;23&quot;, &quot;properties&quot;: {&quot;Adminstr&quot;: &quot;Columbia Energy Services&quot;, &quot;Authority&quot;: &quot;NGA Section 7&quot;, &quot;Avgdaily&quot;: 0, &quot;City&quot;: &quot; &quot;, &quot;County_1&quot;: null, &quot;County_2&quot;: &quot; &quot;, &quot;FID&quot;: 24, &quot;Hub_name&quot;: &quot;Columbia Gas Center&quot;, &quot;Latitude&quot;: 41.1416, &quot;Longitude&quot;: -78.9074, &quot;Maxthru&quot;: 2010, &quot;Notes&quot;: &quot;No longer (2003) acts as a market center although parling/lending and some other services are provided to shippers via Naviagtor.&quot;, &quot;Numcust&quot;: 50, &quot;Operator&quot;: &quot;Columbia Energy Services (gone)&quot;, &quot;Platform&quot;: &quot;Not applicable&quot;, &quot;Rates&quot;: &quot;Max - Discount&quot;, &quot;Region&quot;: &quot;Northeast&quot;, &quot;State&quot;: &quot;PA&quot;, &quot;Status&quot;: &quot;Inactive 03&quot;, &quot;Typeoper&quot;: &quot;Market Center&quot;, &quot;X&quot;: -78.9073969697925, &quot;Y&quot;: 41.14159185051593, &quot;Yearofdata&quot;: 2003, &quot;Yr_activat&quot;: 1995, &quot;__folium_color&quot;: &quot;#ff7f00&quot;}, &quot;type&quot;: &quot;Feature&quot;}, {&quot;bbox&quot;: [-110.306, 41.7912, -110.306, 41.7912], &quot;geometry&quot;: {&quot;coordinates&quot;: [-110.306, 41.7912], &quot;type&quot;: &quot;Point&quot;}, &quot;id&quot;: &quot;24&quot;, &quot;properties&quot;: {&quot;Adminstr&quot;: &quot;Altra  Energy Technologies LLC&quot;, &quot;Authority&quot;: &quot;NGA Section 7&quot;, &quot;Avgdaily&quot;: 0, &quot;City&quot;: &quot;Opal&quot;, &quot;County_1&quot;: &quot;Lincoln&quot;, &quot;County_2&quot;: &quot; &quot;, &quot;FID&quot;: 25, &quot;Hub_name&quot;: &quot;Rocky Mountain Center&quot;, &quot;Latitude&quot;: 41.7912, &quot;Longitude&quot;: -110.306, &quot;Maxthru&quot;: 360, &quot;Notes&quot;: &quot;Closed 1998. Business was, and is minimal, so as of June 1995 Northwest Pipeline Co ceased administration of this Hub. Now Altra Energy Technologies runs the service as a gas trading service and Northwest merely performs the receipt/delivery of direc&quot;, &quot;Numcust&quot;: 0, &quot;Operator&quot;: &quot;Northwest Pipeline Co&quot;, &quot;Platform&quot;: &quot;Not applicable&quot;, &quot;Rates&quot;: &quot;Max - Discount&quot;, &quot;Region&quot;: &quot;Central&quot;, &quot;State&quot;: &quot;WY&quot;, &quot;Status&quot;: &quot;Inactive 99&quot;, &quot;Typeoper&quot;: &quot;Market Center&quot;, &quot;X&quot;: -110.30598844907728, &quot;Y&quot;: 41.79119371988836, &quot;Yearofdata&quot;: 1999, &quot;Yr_activat&quot;: 1995, &quot;__folium_color&quot;: &quot;#377eb8&quot;}, &quot;type&quot;: &quot;Feature&quot;}, {&quot;bbox&quot;: [-110.508, 41.2974, -110.508, 41.2974], &quot;geometry&quot;: {&quot;coordinates&quot;: [-110.508, 41.2974], &quot;type&quot;: &quot;Point&quot;}, &quot;id&quot;: &quot;25&quot;, &quot;properties&quot;: {&quot;Adminstr&quot;: &quot;Overland Trail Transmission Co&quot;, &quot;Authority&quot;: &quot;FERC Section 311&quot;, &quot;Avgdaily&quot;: 0, &quot;City&quot;: &quot;Muddy Creek&quot;, &quot;County_1&quot;: &quot;Unita&quot;, &quot;County_2&quot;: &quot;Sweetwater&quot;, &quot;FID&quot;: 26, &quot;Hub_name&quot;: &quot;Western Center&quot;, &quot;Latitude&quot;: 41.2974, &quot;Longitude&quot;: -110.508, &quot;Maxthru&quot;: 511, &quot;Notes&quot;: &quot;Lack of liquidity caused ceasation of hub service activity in 1999. Located near Muddy Creek Wyoming and  7 miles from the Opal Plant (600 mmcf/d) provides a complete EBB and ETS operation to its customers.&quot;, &quot;Numcust&quot;: 0, &quot;Operator&quot;: &quot;Overland Trail Transmission Co&quot;, &quot;Platform&quot;: &quot;Not applicable&quot;, &quot;Rates&quot;: &quot;Max - Discount&quot;, &quot;Region&quot;: &quot;Central&quot;, &quot;State&quot;: &quot;WY&quot;, &quot;Status&quot;: &quot;Inactive 99&quot;, &quot;Typeoper&quot;: &quot;Market Center&quot;, &quot;X&quot;: -110.50798847566524, &quot;Y&quot;: 41.297393792742255, &quot;Yearofdata&quot;: 1999, &quot;Yr_activat&quot;: 1995, &quot;__folium_color&quot;: &quot;#377eb8&quot;}, &quot;type&quot;: &quot;Feature&quot;}, {&quot;bbox&quot;: [-119.373, 35.8263, -119.373, 35.8263], &quot;geometry&quot;: {&quot;coordinates&quot;: [-119.373, 35.8263], &quot;type&quot;: &quot;Point&quot;}, &quot;id&quot;: &quot;26&quot;, &quot;properties&quot;: {&quot;Adminstr&quot;: &quot;Southern California Gas Co&quot;, &quot;Authority&quot;: &quot;FERC Section 311 \\u0026 State&quot;, &quot;Avgdaily&quot;: 900, &quot;City&quot;: null, &quot;County_1&quot;: null, &quot;County_2&quot;: &quot; &quot;, &quot;FID&quot;: 27, &quot;Hub_name&quot;: &quot;California Energy Hub&quot;, &quot;Latitude&quot;: 35.8263, &quot;Longitude&quot;: -119.373, &quot;Maxthru&quot;: 3000, &quot;Notes&quot;: &quot;Growth since 03: 63% in avg daily \\u0026 12% interconnect capacity, 3 new interconnects. Customers almost all marketing companies. Seaparate division within SoCal operates the hub itself and another administors, doing billing, invoicing and contracting.&quot;, &quot;Numcust&quot;: 60, &quot;Operator&quot;: &quot;Southern California Gas Co&quot;, &quot;Platform&quot;: &quot;No&quot;, &quot;Rates&quot;: &quot;FERC/State Tif&quot;, &quot;Region&quot;: &quot;Western&quot;, &quot;State&quot;: &quot;CA&quot;, &quot;Status&quot;: &quot;Operational&quot;, &quot;Typeoper&quot;: &quot;Market Center&quot;, &quot;X&quot;: -119.37298746791387, &quot;Y&quot;: 35.826295024031715, &quot;Yearofdata&quot;: 2008, &quot;Yr_activat&quot;: 1994, &quot;__folium_color&quot;: &quot;#999999&quot;}, &quot;type&quot;: &quot;Feature&quot;}, {&quot;bbox&quot;: [-121.002, 44.6846, -121.002, 44.6846], &quot;geometry&quot;: {&quot;coordinates&quot;: [-121.002, 44.6846], &quot;type&quot;: &quot;Point&quot;}, &quot;id&quot;: &quot;27&quot;, &quot;properties&quot;: {&quot;Adminstr&quot;: &quot;Gas Transmission - NW&quot;, &quot;Authority&quot;: &quot;FERC Section 311&quot;, &quot;Avgdaily&quot;: 2300, &quot;City&quot;: null, &quot;County_1&quot;: null, &quot;County_2&quot;: &quot; &quot;, &quot;FID&quot;: 28, &quot;Hub_name&quot;: &quot;GTNW Market Center&quot;, &quot;Latitude&quot;: 44.6846, &quot;Longitude&quot;: -121.002, &quot;Maxthru&quot;: 2820, &quot;Notes&quot;: &quot;Transportation and Title Transfer services are not provided. 90% of business is Marketer (Canadian aggregaters), rest large endusers. Customers PGT Market Center serves their customers primarily with pooling or aggregation services. Buying and selli&quot;, &quot;Numcust&quot;: 660, &quot;Operator&quot;: &quot;Gas Transmission - NW&quot;, &quot;Platform&quot;: &quot;Intercontinental Exch&quot;, &quot;Rates&quot;: &quot;FERC Tariff&quot;, &quot;Region&quot;: &quot;Western&quot;, &quot;State&quot;: &quot;OR&quot;, &quot;Status&quot;: &quot;Operational&quot;, &quot;Typeoper&quot;: &quot;Market Center&quot;, &quot;X&quot;: -121.00198595243585, &quot;Y&quot;: 44.68459441821571, &quot;Yearofdata&quot;: 2008, &quot;Yr_activat&quot;: 1994, &quot;__folium_color&quot;: &quot;#999999&quot;}, &quot;type&quot;: &quot;Feature&quot;}, {&quot;bbox&quot;: [-119.368, 34.6888, -119.368, 34.6888], &quot;geometry&quot;: {&quot;coordinates&quot;: [-119.368, 34.6888], &quot;type&quot;: &quot;Point&quot;}, &quot;id&quot;: &quot;28&quot;, &quot;properties&quot;: {&quot;Adminstr&quot;: &quot;Mcfarland Energy Co&quot;, &quot;Authority&quot;: &quot; &quot;, &quot;Avgdaily&quot;: 0, &quot;City&quot;: &quot; &quot;, &quot;County_1&quot;: &quot;Kern&quot;, &quot;County_2&quot;: &quot; &quot;, &quot;FID&quot;: 29, &quot;Hub_name&quot;: &quot;Ten Section Hub&quot;, &quot;Latitude&quot;: 34.6888, &quot;Longitude&quot;: -119.368, &quot;Maxthru&quot;: 0, &quot;Notes&quot;: &quot; &quot;, &quot;Numcust&quot;: 0, &quot;Operator&quot;: &quot;Mcfarland Energy Co&quot;, &quot;Platform&quot;: &quot;Not applicable&quot;, &quot;Rates&quot;: &quot; &quot;, &quot;Region&quot;: &quot;Western&quot;, &quot;State&quot;: &quot;CA&quot;, &quot;Status&quot;: &quot;Canceled 01&quot;, &quot;Typeoper&quot;: &quot;Market Hub&quot;, &quot;X&quot;: -119.36798757350157, &quot;Y&quot;: 34.68879513969518, &quot;Yearofdata&quot;: 1996, &quot;Yr_activat&quot;: 1998, &quot;__folium_color&quot;: &quot;#999999&quot;}, &quot;type&quot;: &quot;Feature&quot;}, {&quot;bbox&quot;: [-91.5186, 32.4354, -91.5186, 32.4354], &quot;geometry&quot;: {&quot;coordinates&quot;: [-91.5186, 32.4354], &quot;type&quot;: &quot;Point&quot;}, &quot;id&quot;: &quot;29&quot;, &quot;properties&quot;: {&quot;Adminstr&quot;: &quot;Centerpoint Energy Gas Trans co&quot;, &quot;Authority&quot;: &quot;FERC Section 311&quot;, &quot;Avgdaily&quot;: 1800, &quot;City&quot;: &quot;Perryville&quot;, &quot;County_1&quot;: &quot;Richland&quot;, &quot;County_2&quot;: &quot; &quot;, &quot;FID&quot;: 30, &quot;Hub_name&quot;: &quot;Perryville Hub&quot;, &quot;Latitude&quot;: 32.4354, &quot;Longitude&quot;: -91.5186, &quot;Maxthru&quot;: 2200, &quot;Notes&quot;: &quot;Underwent large expansion between 2007 and 2009. Has three storage sites tied in, treats all sites as one.&quot;, &quot;Numcust&quot;: 0, &quot;Operator&quot;: &quot;Centerpoint Energy Gas Trans co&quot;, &quot;Platform&quot;: &quot;No&quot;, &quot;Rates&quot;: &quot;Max - Discount&quot;, &quot;Region&quot;: &quot;Southwest&quot;, &quot;State&quot;: &quot;LA&quot;, &quot;Status&quot;: &quot;Operational&quot;, &quot;Typeoper&quot;: &quot;Market Center&quot;, &quot;X&quot;: -91.51859387516704, &quot;Y&quot;: 32.43539411298786, &quot;Yearofdata&quot;: 2008, &quot;Yr_activat&quot;: 1994, &quot;__folium_color&quot;: &quot;#f781bf&quot;}, &quot;type&quot;: &quot;Feature&quot;}, {&quot;bbox&quot;: [-77.461, 42.4401, -77.461, 42.4401], &quot;geometry&quot;: {&quot;coordinates&quot;: [-77.461, 42.4401], &quot;type&quot;: &quot;Point&quot;}, &quot;id&quot;: &quot;30&quot;, &quot;properties&quot;: {&quot;Adminstr&quot;: &quot;Bowdin Storage Services&quot;, &quot;Authority&quot;: &quot;NGA Section 7&quot;, &quot;Avgdaily&quot;: 0, &quot;City&quot;: &quot; &quot;, &quot;County_1&quot;: &quot;Steuben&quot;, &quot;County_2&quot;: &quot; &quot;, &quot;FID&quot;: 31, &quot;Hub_name&quot;: &quot;Avoca Hub&quot;, &quot;Latitude&quot;: 42.4401, &quot;Longitude&quot;: -77.461, &quot;Maxthru&quot;: 500, &quot;Notes&quot;: &quot; &quot;, &quot;Numcust&quot;: 0, &quot;Operator&quot;: &quot;Bowdin Storage Services&quot;, &quot;Platform&quot;: &quot;Not applicable&quot;, &quot;Rates&quot;: &quot;Market Based&quot;, &quot;Region&quot;: &quot;Northeast&quot;, &quot;State&quot;: &quot;PA&quot;, &quot;Status&quot;: &quot;Canceled 04&quot;, &quot;Typeoper&quot;: &quot;Market Hub&quot;, &quot;X&quot;: -77.46099732896941, &quot;Y&quot;: 42.44009154673133, &quot;Yearofdata&quot;: 1996, &quot;Yr_activat&quot;: 1997, &quot;__folium_color&quot;: &quot;#ff7f00&quot;}, &quot;type&quot;: &quot;Feature&quot;}, {&quot;bbox&quot;: [-74.1785, 42.6581, -74.1785, 42.6581], &quot;geometry&quot;: {&quot;coordinates&quot;: [-74.1785, 42.6581], &quot;type&quot;: &quot;Point&quot;}, &quot;id&quot;: &quot;31&quot;, &quot;properties&quot;: {&quot;Adminstr&quot;: &quot;Iroquois Gas Trans Co&quot;, &quot;Authority&quot;: &quot;NGA Section 284&quot;, &quot;Avgdaily&quot;: 1400, &quot;City&quot;: &quot; &quot;, &quot;County_1&quot;: null, &quot;County_2&quot;: &quot; &quot;, &quot;FID&quot;: 32, &quot;Hub_name&quot;: &quot;Iroquois Center&quot;, &quot;Latitude&quot;: 42.6581, &quot;Longitude&quot;: -74.1785, &quot;Maxthru&quot;: 1200, &quot;Notes&quot;: &quot;47% growth in average daily flow, from 950 to 1,400 mmbtu/d.Iroquois provides parking and loaning services utilizing line pack.  A shipper may nominate and receive advances or loans of gas in excess of scheduled/authorized volumes, with such advances&quot;, &quot;Numcust&quot;: 55, &quot;Operator&quot;: &quot;Iroquois Gas Trans Co&quot;, &quot;Platform&quot;: &quot;Gas Daily, NGX Trading System&quot;, &quot;Rates&quot;: &quot;Max - Discount&quot;, &quot;Region&quot;: &quot;Northeast&quot;, &quot;State&quot;: &quot;NY&quot;, &quot;Status&quot;: &quot;Operational&quot;, &quot;Typeoper&quot;: &quot;Market Center&quot;, &quot;X&quot;: -74.17849837037664, &quot;Y&quot;: 42.65809137697399, &quot;Yearofdata&quot;: 2008, &quot;Yr_activat&quot;: 1996, &quot;__folium_color&quot;: &quot;#ff7f00&quot;}, &quot;type&quot;: &quot;Feature&quot;}, {&quot;bbox&quot;: [-77.1315, 41.9222, -77.1315, 41.9222], &quot;geometry&quot;: {&quot;coordinates&quot;: [-77.1315, 41.9222], &quot;type&quot;: &quot;Point&quot;}, &quot;id&quot;: &quot;32&quot;, &quot;properties&quot;: {&quot;Adminstr&quot;: &quot;Northeast Hub Partners, LP&quot;, &quot;Authority&quot;: &quot;NGA Section 7&quot;, &quot;Avgdaily&quot;: 0, &quot;City&quot;: &quot; &quot;, &quot;County_1&quot;: &quot;Tioga&quot;, &quot;County_2&quot;: &quot; &quot;, &quot;FID&quot;: 33, &quot;Hub_name&quot;: &quot;Tioga Hub&quot;, &quot;Latitude&quot;: 41.9222, &quot;Longitude&quot;: -77.1315, &quot;Maxthru&quot;: 500, &quot;Notes&quot;: &quot;Unlikely to become a hub operation.&quot;, &quot;Numcust&quot;: 0, &quot;Operator&quot;: &quot;Northeast Hub Partners, LP&quot;, &quot;Platform&quot;: &quot;Not applicable&quot;, &quot;Rates&quot;: &quot;Max - Discount&quot;, &quot;Region&quot;: &quot;Northeast&quot;, &quot;State&quot;: &quot;PA&quot;, &quot;Status&quot;: &quot;Canceled 03&quot;, &quot;Typeoper&quot;: &quot;Market Hub&quot;, &quot;X&quot;: -77.13149747284704, &quot;Y&quot;: 41.92219162986733, &quot;Yearofdata&quot;: 1996, &quot;Yr_activat&quot;: 1997, &quot;__folium_color&quot;: &quot;#ff7f00&quot;}, &quot;type&quot;: &quot;Feature&quot;}, {&quot;bbox&quot;: [-114.513, 34.7244, -114.513, 34.7244], &quot;geometry&quot;: {&quot;coordinates&quot;: [-114.513, 34.7244], &quot;type&quot;: &quot;Point&quot;}, &quot;id&quot;: &quot;33&quot;, &quot;properties&quot;: {&quot;Adminstr&quot;: &quot;Mojave Pipeline Co&quot;, &quot;Authority&quot;: &quot;NGA Section 7&quot;, &quot;Avgdaily&quot;: 450, &quot;City&quot;: null, &quot;County_1&quot;: null, &quot;County_2&quot;: &quot; &quot;, &quot;FID&quot;: 34, &quot;Hub_name&quot;: &quot;Mojave Center&quot;, &quot;Latitude&quot;: 34.7244, &quot;Longitude&quot;: -114.513, &quot;Maxthru&quot;: 550, &quot;Notes&quot;: &quot;Provides some hub-like services but they do not consider their operation to be a market center. Services are very similar to those of PGT. 7 firm cust, 20+ interruptible. 75% business with large endusers, rest with Marketers. A shipper may nomina&quot;, &quot;Numcust&quot;: 7, &quot;Operator&quot;: &quot;Mojave Pipeline Co&quot;, &quot;Platform&quot;: &quot;No&quot;, &quot;Rates&quot;: &quot;Max - Discount&quot;, &quot;Region&quot;: &quot;Western&quot;, &quot;State&quot;: &quot;CA&quot;, &quot;Status&quot;: &quot;Inactive 03&quot;, &quot;Typeoper&quot;: &quot;Market Center&quot;, &quot;X&quot;: -114.51298841523501, &quot;Y&quot;: 34.72439485147877, &quot;Yearofdata&quot;: 2003, &quot;Yr_activat&quot;: 1996, &quot;__folium_color&quot;: &quot;#999999&quot;}, &quot;type&quot;: &quot;Feature&quot;}, {&quot;bbox&quot;: [-121.914, 38.4049, -121.914, 38.4049], &quot;geometry&quot;: {&quot;coordinates&quot;: [-121.914, 38.4049], &quot;type&quot;: &quot;Point&quot;}, &quot;id&quot;: &quot;34&quot;, &quot;properties&quot;: {&quot;Adminstr&quot;: &quot;California Gas Transmission Co&quot;, &quot;Authority&quot;: &quot;State&quot;, &quot;Avgdaily&quot;: 2000, &quot;City&quot;: null, &quot;County_1&quot;: &quot;Various&quot;, &quot;County_2&quot;: &quot; &quot;, &quot;FID&quot;: 35, &quot;Hub_name&quot;: &quot;Golden Gate Center&quot;, &quot;Latitude&quot;: 38.4049, &quot;Longitude&quot;: -121.914, &quot;Maxthru&quot;: 1881, &quot;Notes&quot;: &quot;Growth since 2003: 32% increase in interconnect capacity. As much as 300/400 MMcf/d Line Pack sometimes available, not included in storage fdeliverability.&quot;, &quot;Numcust&quot;: 20, &quot;Operator&quot;: &quot;California Gas Transmission Co&quot;, &quot;Platform&quot;: &quot;NGI, Gas Daily PG\\u0026E Citygate&quot;, &quot;Rates&quot;: &quot;Max - Discount&quot;, &quot;Region&quot;: &quot;Western&quot;, &quot;State&quot;: &quot;CA&quot;, &quot;Status&quot;: &quot;Operational&quot;, &quot;Typeoper&quot;: &quot;Market Center&quot;, &quot;X&quot;: -121.9139867869396, &quot;Y&quot;: 38.404894966078295, &quot;Yearofdata&quot;: 2008, &quot;Yr_activat&quot;: 1996, &quot;__folium_color&quot;: &quot;#999999&quot;}, &quot;type&quot;: &quot;Feature&quot;}, {&quot;bbox&quot;: [-122.22, 49.0005, -122.22, 49.0005], &quot;geometry&quot;: {&quot;coordinates&quot;: [-122.22, 49.0005], &quot;type&quot;: &quot;Point&quot;}, &quot;id&quot;: &quot;35&quot;, &quot;properties&quot;: {&quot;Adminstr&quot;: &quot;Spectra Energy Corp&quot;, &quot;Authority&quot;: &quot;NEB of Canada&quot;, &quot;Avgdaily&quot;: 1000, &quot;City&quot;: &quot;Sumas&quot;, &quot;County_1&quot;: &quot;British Columbia&quot;, &quot;County_2&quot;: &quot; &quot;, &quot;FID&quot;: 36, &quot;Hub_name&quot;: &quot;Sumas Center&quot;, &quot;Latitude&quot;: 49.0005, &quot;Longitude&quot;: -122.22, &quot;Maxthru&quot;: 1700, &quot;Notes&quot;: &quot;Growth since 03: Marginal drop in  thruput but average number of customers grew by 10% . Electronic trading only., no transportation. Pooling point primarily to move gas to US via Northwest Pipeline.. ETS and information services only.&quot;, &quot;Numcust&quot;: 120, &quot;Operator&quot;: &quot;Spectra Energy Transmission Co&quot;, &quot;Platform&quot;: &quot;Intercontinental Exch&quot;, &quot;Rates&quot;: &quot;NEB Tariff&quot;, &quot;Region&quot;: &quot;Canada&quot;, &quot;State&quot;: &quot;BC&quot;, &quot;Status&quot;: &quot;Operational&quot;, &quot;Typeoper&quot;: &quot;Market Hub&quot;, &quot;X&quot;: -122.21998477397008, &quot;Y&quot;: 49.00049429946512, &quot;Yearofdata&quot;: 2008, &quot;Yr_activat&quot;: 1994, &quot;__folium_color&quot;: &quot;#e41a1c&quot;}, &quot;type&quot;: &quot;Feature&quot;}, {&quot;bbox&quot;: [-103.169, 31.2367, -103.169, 31.2367], &quot;geometry&quot;: {&quot;coordinates&quot;: [-103.169, 31.2367], &quot;type&quot;: &quot;Point&quot;}, &quot;id&quot;: &quot;36&quot;, &quot;properties&quot;: {&quot;Adminstr&quot;: &quot;Sid Richardson Gas Co&quot;, &quot;Authority&quot;: &quot;FERC Section 311 \\u0026 State&quot;, &quot;Avgdaily&quot;: 25, &quot;City&quot;: &quot; &quot;, &quot;County_1&quot;: &quot;Reeves&quot;, &quot;County_2&quot;: &quot; &quot;, &quot;FID&quot;: 37, &quot;Hub_name&quot;: &quot;Waha (Encina) Hub&quot;, &quot;Latitude&quot;: 31.2367, &quot;Longitude&quot;: -103.169, &quot;Maxthru&quot;: 200, &quot;Notes&quot;: &quot;Sid Richardson Gas Co bought assets of pipeline in 2002. Their volume of trades is small. Used to transfer SID R volumes to other pipelines at several delivery points on the system.&quot;, &quot;Numcust&quot;: 0, &quot;Operator&quot;: &quot;Sid Richardson Gas Co&quot;, &quot;Platform&quot;: &quot;No&quot;, &quot;Rates&quot;: &quot;Max - Discount&quot;, &quot;Region&quot;: &quot;Southwest&quot;, &quot;State&quot;: &quot;TX&quot;, &quot;Status&quot;: &quot;Inactive 08&quot;, &quot;Typeoper&quot;: &quot;Production Hub&quot;, &quot;X&quot;: -103.16899102357335, &quot;Y&quot;: 31.23669481289485, &quot;Yearofdata&quot;: 2008, &quot;Yr_activat&quot;: 1995, &quot;__folium_color&quot;: &quot;#f781bf&quot;}, &quot;type&quot;: &quot;Feature&quot;}, {&quot;bbox&quot;: [-99.2558, 37.5565, -99.2558, 37.5565], &quot;geometry&quot;: {&quot;coordinates&quot;: [-99.2558, 37.5565], &quot;type&quot;: &quot;Point&quot;}, &quot;id&quot;: &quot;37&quot;, &quot;properties&quot;: {&quot;Adminstr&quot;: &quot;Williams Underground Gas Storage&quot;, &quot;Authority&quot;: &quot; &quot;, &quot;Avgdaily&quot;: 0, &quot;City&quot;: &quot; &quot;, &quot;County_1&quot;: &quot;Kiowa&quot;, &quot;County_2&quot;: &quot; &quot;, &quot;FID&quot;: 38, &quot;Hub_name&quot;: &quot;Kiowa Hub&quot;, &quot;Latitude&quot;: 37.5565, &quot;Longitude&quot;: -99.2558, &quot;Maxthru&quot;: 0, &quot;Notes&quot;: &quot;Project shelved due to lack of customers willing to enter 10 yr. contracts.&quot;, &quot;Numcust&quot;: 0, &quot;Operator&quot;: &quot;Williams Underground Gas Storage&quot;, &quot;Platform&quot;: &quot;Not applicable&quot;, &quot;Rates&quot;: &quot; &quot;, &quot;Region&quot;: &quot;Central&quot;, &quot;State&quot;: &quot;KS&quot;, &quot;Status&quot;: &quot;Canceled 02&quot;, &quot;Typeoper&quot;: &quot;Market Hub&quot;, &quot;X&quot;: -99.25579149853277, &quot;Y&quot;: 37.55649354398447, &quot;Yearofdata&quot;: 1999, &quot;Yr_activat&quot;: 0, &quot;__folium_color&quot;: &quot;#377eb8&quot;}, &quot;type&quot;: &quot;Feature&quot;}, {&quot;bbox&quot;: [-88.2277, 30.496, -88.2277, 30.496], &quot;geometry&quot;: {&quot;coordinates&quot;: [-88.2277, 30.496], &quot;type&quot;: &quot;Point&quot;}, &quot;id&quot;: &quot;38&quot;, &quot;properties&quot;: {&quot;Adminstr&quot;: &quot;Falcon Gas Storage Inc&quot;, &quot;Authority&quot;: &quot; &quot;, &quot;Avgdaily&quot;: 0, &quot;City&quot;: &quot; &quot;, &quot;County_1&quot;: &quot;Mobile&quot;, &quot;County_2&quot;: &quot; &quot;, &quot;FID&quot;: 39, &quot;Hub_name&quot;: &quot;Mobay Storage Hub&quot;, &quot;Latitude&quot;: 30.496, &quot;Longitude&quot;: -88.2277, &quot;Maxthru&quot;: 0, &quot;Notes&quot;: &quot;At earliest 2010.  Phase II in 2011 will offer the full 50 bcf of working gas capacity along with 450,000 Mcfd of injection and withdrawal capability. Falcon plans to expand the project in phases to up to a total of 60 Bcf of&quot;, &quot;Numcust&quot;: 0, &quot;Operator&quot;: &quot;Falcon Gas Storage Inc&quot;, &quot;Platform&quot;: &quot;Not applicable&quot;, &quot;Rates&quot;: &quot; &quot;, &quot;Region&quot;: &quot;Southeast&quot;, &quot;State&quot;: &quot;AL&quot;, &quot;Status&quot;: &quot;Proposed 10&quot;, &quot;Typeoper&quot;: &quot;Storage Hub&quot;, &quot;X&quot;: -88.22769487006546, &quot;Y&quot;: 30.495994406949144, &quot;Yearofdata&quot;: 2008, &quot;Yr_activat&quot;: 2012, &quot;__folium_color&quot;: &quot;#a65628&quot;}, &quot;type&quot;: &quot;Feature&quot;}, {&quot;bbox&quot;: [-104.796, 40.9407, -104.796, 40.9407], &quot;geometry&quot;: {&quot;coordinates&quot;: [-104.796, 40.9407], &quot;type&quot;: &quot;Point&quot;}, &quot;id&quot;: &quot;39&quot;, &quot;properties&quot;: {&quot;Adminstr&quot;: &quot;Colorado Interstate Gas Co&quot;, &quot;Authority&quot;: &quot;FERC Section 311&quot;, &quot;Avgdaily&quot;: 1800, &quot;City&quot;: &quot;Fort Collins&quot;, &quot;County_1&quot;: &quot;Weld&quot;, &quot;County_2&quot;: &quot; &quot;, &quot;FID&quot;: 40, &quot;Hub_name&quot;: &quot;Cheyenne Hub&quot;, &quot;Latitude&quot;: 40.9407, &quot;Longitude&quot;: -104.796, &quot;Maxthru&quot;: 2625, &quot;Notes&quot;: &quot;Growth since 2003: over 60% increase in thruput, double interconnect capacity. Located at the Cheyenne compressor station which has a throughput capacity of 1,500+ mmcf/d. 4 pipelines + CIG&quot;, &quot;Numcust&quot;: 40, &quot;Operator&quot;: &quot;Colorado Interstate Gas Co&quot;, &quot;Platform&quot;: &quot;Gas Daily, NGI, ICE&quot;, &quot;Rates&quot;: &quot;Max - Discount&quot;, &quot;Region&quot;: &quot;Central&quot;, &quot;State&quot;: &quot;CO&quot;, &quot;Status&quot;: &quot;Operational&quot;, &quot;Typeoper&quot;: &quot;Market Hub&quot;, &quot;X&quot;: -104.79598979000092, &quot;Y&quot;: 40.94069340381001, &quot;Yearofdata&quot;: 2008, &quot;Yr_activat&quot;: 2000, &quot;__folium_color&quot;: &quot;#377eb8&quot;}, &quot;type&quot;: &quot;Feature&quot;}, {&quot;bbox&quot;: [-91.4846, 29.7248, -91.4846, 29.7248], &quot;geometry&quot;: {&quot;coordinates&quot;: [-91.4846, 29.7248], &quot;type&quot;: &quot;Point&quot;}, &quot;id&quot;: &quot;40&quot;, &quot;properties&quot;: {&quot;Adminstr&quot;: &quot;Enbridge Offsore Pipelines&quot;, &quot;Authority&quot;: &quot;FERC Tariff&quot;, &quot;Avgdaily&quot;: 350, &quot;City&quot;: &quot; &quot;, &quot;County_1&quot;: &quot;St Mary&quot;, &quot;County_2&quot;: &quot; &quot;, &quot;FID&quot;: 41, &quot;Hub_name&quot;: &quot;Nautilus Hub&quot;, &quot;Latitude&quot;: 29.7248, &quot;Longitude&quot;: -91.4846, &quot;Maxthru&quot;: 600, &quot;Notes&quot;: &quot;Growth since 2003: Capacity and interconnects have remained the same but new production sources have become available adding 4 customers and greater average daily flows. Primarily a production hub providing interconnect for offshore gas production.&quot;, &quot;Numcust&quot;: 14, &quot;Operator&quot;: &quot;Nautilus Pipeline Co&quot;, &quot;Platform&quot;: &quot;No&quot;, &quot;Rates&quot;: &quot;Max - Discount&quot;, &quot;Region&quot;: &quot;Southwest&quot;, &quot;State&quot;: &quot;LA&quot;, &quot;Status&quot;: &quot;Operational&quot;, &quot;Typeoper&quot;: &quot;Production Hub&quot;, &quot;X&quot;: -91.4845940169838, &quot;Y&quot;: 29.724794680630488, &quot;Yearofdata&quot;: 2008, &quot;Yr_activat&quot;: 2000, &quot;__folium_color&quot;: &quot;#f781bf&quot;}, &quot;type&quot;: &quot;Feature&quot;}, {&quot;bbox&quot;: [-121.372, 42.0338, -121.372, 42.0338], &quot;geometry&quot;: {&quot;coordinates&quot;: [-121.372, 42.0338], &quot;type&quot;: &quot;Point&quot;}, &quot;id&quot;: &quot;41&quot;, &quot;properties&quot;: {&quot;Adminstr&quot;: &quot;Gas Transmission - NW&quot;, &quot;Authority&quot;: &quot;FERC Section 311&quot;, &quot;Avgdaily&quot;: 0, &quot;City&quot;: &quot;Malin&quot;, &quot;County_1&quot;: &quot;Klamath&quot;, &quot;County_2&quot;: &quot; &quot;, &quot;FID&quot;: 42, &quot;Hub_name&quot;: &quot;Malin Center&quot;, &quot;Latitude&quot;: 42.0338, &quot;Longitude&quot;: -121.372, &quot;Maxthru&quot;: 0, &quot;Notes&quot;: &quot;Customers sign a Market Center contract that allow pooling and transfers to others via Northwest, Pacific Gas \\u0026 Electric Co, Standard Pacific Gas Line Inc, Tuscarora will interconnect. Still meeds approval from FERC.&quot;, &quot;Numcust&quot;: 0, &quot;Operator&quot;: &quot;PG\\u0026E Gas Transmission - NW&quot;, &quot;Platform&quot;: &quot;Intercontinental Exch&quot;, &quot;Rates&quot;: &quot;FERC Tariff&quot;, &quot;Region&quot;: &quot;Western&quot;, &quot;State&quot;: &quot;OR&quot;, &quot;Status&quot;: &quot;Combined GTN&quot;, &quot;Typeoper&quot;: &quot;Market Center&quot;, &quot;X&quot;: -121.37198636032927, &quot;Y&quot;: 42.03379463772776, &quot;Yearofdata&quot;: 2008, &quot;Yr_activat&quot;: 1994, &quot;__folium_color&quot;: &quot;#999999&quot;}, &quot;type&quot;: &quot;Feature&quot;}, {&quot;bbox&quot;: [-88.132, 41.4577, -88.132, 41.4577], &quot;geometry&quot;: {&quot;coordinates&quot;: [-88.132, 41.4577], &quot;type&quot;: &quot;Point&quot;}, &quot;id&quot;: &quot;42&quot;, &quot;properties&quot;: {&quot;Adminstr&quot;: &quot;ANR Pipeline Co&quot;, &quot;Authority&quot;: &quot;FERC Section 311&quot;, &quot;Avgdaily&quot;: 600, &quot;City&quot;: &quot;Joliet&quot;, &quot;County_1&quot;: &quot;Will&quot;, &quot;County_2&quot;: &quot;Various&quot;, &quot;FID&quot;: 43, &quot;Hub_name&quot;: &quot;ANR Joliet Hub&quot;, &quot;Latitude&quot;: 41.4577, &quot;Longitude&quot;: -88.132, &quot;Maxthru&quot;: 1200, &quot;Notes&quot;: &quot;Growth since 03: 50% in avg daily \\u0026 38% interconnect capacity. ANR\\u0027s Joliet Hub is a collection of points located between the company\\u0027s Sandwich and St. John compressor stations (with the addition of NIPSCO\\u0027s Crown Point delivery point)&quot;, &quot;Numcust&quot;: 60, &quot;Operator&quot;: &quot;ANR Pipeline Co&quot;, &quot;Platform&quot;: &quot;Intercontinental Exch (San Juan)&quot;, &quot;Rates&quot;: &quot;Market \\u0026 Tarif&quot;, &quot;Region&quot;: &quot;Midwest&quot;, &quot;State&quot;: &quot;IL&quot;, &quot;Status&quot;: &quot;Operational&quot;, &quot;Typeoper&quot;: &quot;Market Center&quot;, &quot;X&quot;: -88.13199414394745, &quot;Y&quot;: 41.457692245294496, &quot;Yearofdata&quot;: 2008, &quot;Yr_activat&quot;: 2003, &quot;__folium_color&quot;: &quot;#984ea3&quot;}, &quot;type&quot;: &quot;Feature&quot;}, {&quot;bbox&quot;: [-88.0739, 31.2929, -88.0739, 31.2929], &quot;geometry&quot;: {&quot;coordinates&quot;: [-88.0739, 31.2929], &quot;type&quot;: &quot;Point&quot;}, &quot;id&quot;: &quot;43&quot;, &quot;properties&quot;: {&quot;Adminstr&quot;: &quot;Bay Gas Storage Co&quot;, &quot;Authority&quot;: &quot;FERC Section 7c&quot;, &quot;Avgdaily&quot;: 0, &quot;City&quot;: &quot; &quot;, &quot;County_1&quot;: &quot;Washington&quot;, &quot;County_2&quot;: &quot; &quot;, &quot;FID&quot;: 44, &quot;Hub_name&quot;: &quot;Mississippi Hub&quot;, &quot;Latitude&quot;: 31.2929, &quot;Longitude&quot;: -88.0739, &quot;Maxthru&quot;: 1200, &quot;Notes&quot;: &quot;At earliest 2009.  Phase II in 2010 will offer the full 12 bcf of working gas capacity along with 1,200 MMcfd of injection and withdrawal capability. Will not be a formal hub for several years or until additional interconnecting pipelines are built.&quot;, &quot;Numcust&quot;: 0, &quot;Operator&quot;: &quot;Bay Gas Storage Co&quot;, &quot;Platform&quot;: &quot;Not applicable&quot;, &quot;Rates&quot;: &quot;Market-based&quot;, &quot;Region&quot;: &quot;Southeast&quot;, &quot;State&quot;: &quot;MS&quot;, &quot;Status&quot;: &quot;Proposed 09&quot;, &quot;Typeoper&quot;: &quot;Storage Hub&quot;, &quot;X&quot;: -88.07389487620995, &quot;Y&quot;: 31.292894226644883, &quot;Yearofdata&quot;: 2008, &quot;Yr_activat&quot;: 2009, &quot;__folium_color&quot;: &quot;#a65628&quot;}, &quot;type&quot;: &quot;Feature&quot;}, {&quot;bbox&quot;: [-92.0631, 29.8955, -92.0631, 29.8955], &quot;geometry&quot;: {&quot;coordinates&quot;: [-92.0631, 29.8955], &quot;type&quot;: &quot;Point&quot;}, &quot;id&quot;: &quot;44&quot;, &quot;properties&quot;: {&quot;Adminstr&quot;: &quot;Sabine Hub Services Inc&quot;, &quot;Authority&quot;: &quot;FERC Section 311&quot;, &quot;Avgdaily&quot;: 600, &quot;City&quot;: &quot;Erath&quot;, &quot;County_1&quot;: &quot;Vermillion&quot;, &quot;County_2&quot;: &quot; &quot;, &quot;FID&quot;: 45, &quot;Hub_name&quot;: &quot;Henry Hub&quot;, &quot;Latitude&quot;: 29.8955, &quot;Longitude&quot;: -92.0631, &quot;Maxthru&quot;: 2500, &quot;Notes&quot;: &quot;Business: 60% Marketers, 40% Producers. Sabine Pipeline Co provides the wheeling services. The Henry Hub is the official delivery mechanism for natural gas futures contracts traded on the New York Mercantile Exchange (NYMEX).  It was introduced in Ap&quot;, &quot;Numcust&quot;: 180, &quot;Operator&quot;: &quot;Sabine Pipeline Co&quot;, &quot;Platform&quot;: &quot;Intercontinental Exchange&quot;, &quot;Rates&quot;: &quot;Max - Discount&quot;, &quot;Region&quot;: &quot;Southwest&quot;, &quot;State&quot;: &quot;LA&quot;, &quot;Status&quot;: &quot;Operational&quot;, &quot;Typeoper&quot;: &quot;Market Center&quot;, &quot;X&quot;: -92.06309385417396, &quot;Y&quot;: 29.895494663345996, &quot;Yearofdata&quot;: 2008, &quot;Yr_activat&quot;: 1988, &quot;__folium_color&quot;: &quot;#f781bf&quot;}, &quot;type&quot;: &quot;Feature&quot;}, {&quot;bbox&quot;: [-90.5876, 31.9134, -90.5876, 31.9134], &quot;geometry&quot;: {&quot;coordinates&quot;: [-90.5876, 31.9134], &quot;type&quot;: &quot;Point&quot;}, &quot;id&quot;: &quot;45&quot;, &quot;properties&quot;: {&quot;Adminstr&quot;: &quot;Market Hub Partners Inc&quot;, &quot;Authority&quot;: &quot; &quot;, &quot;Avgdaily&quot;: 0, &quot;City&quot;: &quot; &quot;, &quot;County_1&quot;: &quot;Copiah&quot;, &quot;County_2&quot;: &quot; &quot;, &quot;FID&quot;: 46, &quot;Hub_name&quot;: &quot;Copiah Storage Hub&quot;, &quot;Latitude&quot;: 31.9134, &quot;Longitude&quot;: -90.5876, &quot;Maxthru&quot;: 1300, &quot;Notes&quot;: &quot;Delayed until at least 2011.  This new salt cavern storage will interconnect with Texas Eastern Transmission (near Union Church, Miss.) and potentially other pipelines in the area.&quot;, &quot;Numcust&quot;: 0, &quot;Operator&quot;: &quot;Market Hub Partners Inc&quot;, &quot;Platform&quot;: &quot;Not applicable&quot;, &quot;Rates&quot;: &quot; &quot;, &quot;Region&quot;: &quot;Southeast&quot;, &quot;State&quot;: &quot;MS&quot;, &quot;Status&quot;: &quot;Proposed 11&quot;, &quot;Typeoper&quot;: &quot;Storage Hub&quot;, &quot;X&quot;: -90.58759415569776, &quot;Y&quot;: 31.913394185977815, &quot;Yearofdata&quot;: 2008, &quot;Yr_activat&quot;: 2012, &quot;__folium_color&quot;: &quot;#a65628&quot;}, &quot;type&quot;: &quot;Feature&quot;}, {&quot;bbox&quot;: [-116.188, 48.9958, -116.188, 48.9958], &quot;geometry&quot;: {&quot;coordinates&quot;: [-116.188, 48.9958], &quot;type&quot;: &quot;Point&quot;}, &quot;id&quot;: &quot;46&quot;, &quot;properties&quot;: {&quot;Adminstr&quot;: &quot;Gas Transmission - NW&quot;, &quot;Authority&quot;: &quot;FERC Section 311&quot;, &quot;Avgdaily&quot;: 0, &quot;City&quot;: &quot;Kingsgate&quot;, &quot;County_1&quot;: &quot;Boundary&quot;, &quot;County_2&quot;: &quot; &quot;, &quot;FID&quot;: 47, &quot;Hub_name&quot;: &quot;Kingsgate Center&quot;, &quot;Latitude&quot;: 48.9958, &quot;Longitude&quot;: -116.188, &quot;Maxthru&quot;: 0, &quot;Notes&quot;: &quot;Customers sign a Market Center contract that allow pooling and transfers to others via Northwest, Pacific Gas \\u0026 Electric Co, Standard Pacific Gas Line Inc, Tuscarora will interconnect. Still meeds approval from FERC.&quot;, &quot;Numcust&quot;: 0, &quot;Operator&quot;: &quot;Gas Transmission - NW&quot;, &quot;Platform&quot;: &quot;Gas Daily&quot;, &quot;Rates&quot;: &quot;FERC Tariff&quot;, &quot;Region&quot;: &quot;Western&quot;, &quot;State&quot;: &quot;ID&quot;, &quot;Status&quot;: &quot;Combined GTN&quot;, &quot;Typeoper&quot;: &quot;Market Center&quot;, &quot;X&quot;: -116.1879858606174, &quot;Y&quot;: 48.99579362609743, &quot;Yearofdata&quot;: 2009, &quot;Yr_activat&quot;: 1994, &quot;__folium_color&quot;: &quot;#999999&quot;}, &quot;type&quot;: &quot;Feature&quot;}, {&quot;bbox&quot;: [-110.399, 41.7684, -110.399, 41.7684], &quot;geometry&quot;: {&quot;coordinates&quot;: [-110.399, 41.7684], &quot;type&quot;: &quot;Point&quot;}, &quot;id&quot;: &quot;47&quot;, &quot;properties&quot;: {&quot;Adminstr&quot;: &quot;Williams Field Services Co&quot;, &quot;Authority&quot;: &quot;State of Wyoming&quot;, &quot;Avgdaily&quot;: 1450, &quot;City&quot;: &quot; &quot;, &quot;County_1&quot;: &quot;Lincoln&quot;, &quot;County_2&quot;: &quot; &quot;, &quot;FID&quot;: 48, &quot;Hub_name&quot;: &quot;Opal Hub&quot;, &quot;Latitude&quot;: 41.7684, &quot;Longitude&quot;: -110.399, &quot;Maxthru&quot;: 3100, &quot;Notes&quot;: &quot;Located at the Opal Plant run by Williams Field Services&quot;, &quot;Numcust&quot;: 80, &quot;Operator&quot;: &quot;Williams Field Services Co&quot;, &quot;Platform&quot;: &quot;Company&quot;, &quot;Rates&quot;: null, &quot;Region&quot;: &quot;Central&quot;, &quot;State&quot;: &quot;WY&quot;, &quot;Status&quot;: &quot;Operational&quot;, &quot;Typeoper&quot;: &quot;Production Hub&quot;, &quot;X&quot;: -110.39898843161608, &quot;Y&quot;: 41.76839373075019, &quot;Yearofdata&quot;: 2008, &quot;Yr_activat&quot;: 1999, &quot;__folium_color&quot;: &quot;#377eb8&quot;}, &quot;type&quot;: &quot;Feature&quot;}, {&quot;bbox&quot;: [-88.6853, 31.3184, -88.6853, 31.3184], &quot;geometry&quot;: {&quot;coordinates&quot;: [-88.6853, 31.3184], &quot;type&quot;: &quot;Point&quot;}, &quot;id&quot;: &quot;48&quot;, &quot;properties&quot;: {&quot;Adminstr&quot;: &quot;Spectra Energy Corp&quot;, &quot;Authority&quot;: &quot;FERC Section 7c&quot;, &quot;Avgdaily&quot;: 600, &quot;City&quot;: &quot; &quot;, &quot;County_1&quot;: &quot;Greene&quot;, &quot;County_2&quot;: &quot; &quot;, &quot;FID&quot;: 49, &quot;Hub_name&quot;: &quot;Southeast Storage Hub&quot;, &quot;Latitude&quot;: 31.3184, &quot;Longitude&quot;: -88.6853, &quot;Maxthru&quot;: 600, &quot;Notes&quot;: &quot;High-deliverability natural gas storage facility and pipeline supply header system to provide hub services in the Florida, Alabama and Mississippi market area.&quot;, &quot;Numcust&quot;: 0, &quot;Operator&quot;: &quot;Spectra Energy Corp&quot;, &quot;Platform&quot;: &quot;No&quot;, &quot;Rates&quot;: &quot; &quot;, &quot;Region&quot;: &quot;Southeast&quot;, &quot;State&quot;: &quot;MS&quot;, &quot;Status&quot;: &quot;Canceled 07&quot;, &quot;Typeoper&quot;: &quot;Market Center&quot;, &quot;X&quot;: -88.68529470579051, &quot;Y&quot;: 31.31839424279004, &quot;Yearofdata&quot;: 2008, &quot;Yr_activat&quot;: 2007, &quot;__folium_color&quot;: &quot;#a65628&quot;}, &quot;type&quot;: &quot;Feature&quot;}, {&quot;bbox&quot;: [-94.7793, 30.1063, -94.7793, 30.1063], &quot;geometry&quot;: {&quot;coordinates&quot;: [-94.7793, 30.1063], &quot;type&quot;: &quot;Point&quot;}, &quot;id&quot;: &quot;49&quot;, &quot;properties&quot;: {&quot;Adminstr&quot;: &quot;ENSTOR Energy Inc&quot;, &quot;Authority&quot;: &quot;FERC/TX RRC&quot;, &quot;Avgdaily&quot;: 1000, &quot;City&quot;: &quot;Houston&quot;, &quot;County_1&quot;: &quot;Liberty&quot;, &quot;County_2&quot;: &quot; &quot;, &quot;FID&quot;: 50, &quot;Hub_name&quot;: &quot;Houston Hub \\u0026 Transportation&quot;, &quot;Latitude&quot;: 30.1063, &quot;Longitude&quot;: -94.7793, &quot;Maxthru&quot;: 1000, &quot;Notes&quot;: &quot;First 7.5 bcf of working gas in 2010, second in 2012. Originally set for 2008. Located about 35 miles northeast of Houston, would interconnect with up to 4 interstate and intrastate pipelines and provide firm storage services of 10 annual cycles.&quot;, &quot;Numcust&quot;: 0, &quot;Operator&quot;: &quot;ENSTOR Energy Inc&quot;, &quot;Platform&quot;: &quot; &quot;, &quot;Rates&quot;: &quot; &quot;, &quot;Region&quot;: &quot;Southwest&quot;, &quot;State&quot;: &quot;TX&quot;, &quot;Status&quot;: &quot;Proposed 10&quot;, &quot;Typeoper&quot;: &quot;Storage Hub&quot;, &quot;X&quot;: -94.77929313289246, &quot;Y&quot;: 30.106294711157027, &quot;Yearofdata&quot;: 2008, &quot;Yr_activat&quot;: 2010, &quot;__folium_color&quot;: &quot;#f781bf&quot;}, &quot;type&quot;: &quot;Feature&quot;}, {&quot;bbox&quot;: [-102.842, 31.0533, -102.842, 31.0533], &quot;geometry&quot;: {&quot;coordinates&quot;: [-102.842, 31.0533], &quot;type&quot;: &quot;Point&quot;}, &quot;id&quot;: &quot;50&quot;, &quot;properties&quot;: {&quot;Adminstr&quot;: &quot;Enterprise Products Pipeline LP&quot;, &quot;Authority&quot;: &quot;FERC Section 311 \\u0026 State&quot;, &quot;Avgdaily&quot;: 250, &quot;City&quot;: &quot; &quot;, &quot;County_1&quot;: &quot;Pecos&quot;, &quot;County_2&quot;: &quot; &quot;, &quot;FID&quot;: 51, &quot;Hub_name&quot;: &quot;Waha  (EPGT) Texas Hub&quot;, &quot;Latitude&quot;: 31.0533, &quot;Longitude&quot;: -102.842, &quot;Maxthru&quot;: 300, &quot;Notes&quot;: &quot;Growth since 2003: operational profile remained the same. Little change in volumes sent from west to east texas over time.&quot;, &quot;Numcust&quot;: 30, &quot;Operator&quot;: &quot;Enterprise Products Pipeline LP&quot;, &quot;Platform&quot;: &quot;No&quot;, &quot;Rates&quot;: &quot;Max - Discount&quot;, &quot;Region&quot;: &quot;Southwest&quot;, &quot;State&quot;: &quot;TX&quot;, &quot;Status&quot;: &quot;Operational&quot;, &quot;Typeoper&quot;: &quot;Production Hub&quot;, &quot;X&quot;: -102.84199110971645, &quot;Y&quot;: 31.053294831807094, &quot;Yearofdata&quot;: 2008, &quot;Yr_activat&quot;: 1995, &quot;__folium_color&quot;: &quot;#f781bf&quot;}, &quot;type&quot;: &quot;Feature&quot;}, {&quot;bbox&quot;: [-108.17, 40.0895, -108.17, 40.0895], &quot;geometry&quot;: {&quot;coordinates&quot;: [-108.17, 40.0895], &quot;type&quot;: &quot;Point&quot;}, &quot;id&quot;: &quot;51&quot;, &quot;properties&quot;: {&quot;Adminstr&quot;: &quot;White River Hub LLC&quot;, &quot;Authority&quot;: &quot;FERC Section 311&quot;, &quot;Avgdaily&quot;: 0, &quot;City&quot;: &quot;Meeker&quot;, &quot;County_1&quot;: &quot;Rio Blanco&quot;, &quot;County_2&quot;: &quot; &quot;, &quot;FID&quot;: 52, &quot;Hub_name&quot;: &quot;White River Hub&quot;, &quot;Latitude&quot;: 40.0895, &quot;Longitude&quot;: -108.17, &quot;Maxthru&quot;: 2025, &quot;Notes&quot;: &quot;30-inch, 7-mile Header system that will be owned equally by the Questar and Enerprise Products. The facilities would connect Enterprise\\u0027s gas processing complex near Meeker, CO, with up to six interstate pipelines in the Piceance Basin area, includin&quot;, &quot;Numcust&quot;: 6, &quot;Operator&quot;: &quot;Questar Pipeline Co&quot;, &quot;Platform&quot;: &quot; &quot;, &quot;Rates&quot;: &quot;Market Based&quot;, &quot;Region&quot;: &quot;Central&quot;, &quot;State&quot;: &quot;CO&quot;, &quot;Status&quot;: &quot;Operational&quot;, &quot;Typeoper&quot;: &quot;Production Hub&quot;, &quot;X&quot;: -108.16998913480116, &quot;Y&quot;: 40.089493760025775, &quot;Yearofdata&quot;: 2008, &quot;Yr_activat&quot;: 2008, &quot;__folium_color&quot;: &quot;#377eb8&quot;}, &quot;type&quot;: &quot;Feature&quot;}, {&quot;bbox&quot;: [-91.591, 32.5077, -91.591, 32.5077], &quot;geometry&quot;: {&quot;coordinates&quot;: [-91.591, 32.5077], &quot;type&quot;: &quot;Point&quot;}, &quot;id&quot;: &quot;52&quot;, &quot;properties&quot;: {&quot;Adminstr&quot;: &quot;Electricite de France&quot;, &quot;Authority&quot;: &quot;FERC Section 7c&quot;, &quot;Avgdaily&quot;: 2000, &quot;City&quot;: &quot;Perryville&quot;, &quot;County_1&quot;: &quot;Richland&quot;, &quot;County_2&quot;: &quot; &quot;, &quot;FID&quot;: 53, &quot;Hub_name&quot;: &quot;Eagle Hub&quot;, &quot;Latitude&quot;: 32.5077, &quot;Longitude&quot;: -91.591, &quot;Maxthru&quot;: 2000, &quot;Notes&quot;: &quot;Lehman went bankrupt in 2008. Lost contact with project contact person. File with FERC in 4Q2007 to build a 40-mile header between Perryville and Delhi, LA, to connect 12 gas pipelines with a 2 Bcf/d capacity.&quot;, &quot;Numcust&quot;: 0, &quot;Operator&quot;: &quot;Eagle Energy Partners&quot;, &quot;Platform&quot;: &quot;No&quot;, &quot;Rates&quot;: &quot; &quot;, &quot;Region&quot;: &quot;Southwest&quot;, &quot;State&quot;: &quot;LA&quot;, &quot;Status&quot;: &quot;Canceled 08&quot;, &quot;Typeoper&quot;: &quot;Market Hub&quot;, &quot;X&quot;: -91.59099385240883, &quot;Y&quot;: 32.50769410114279, &quot;Yearofdata&quot;: 2007, &quot;Yr_activat&quot;: 0, &quot;__folium_color&quot;: &quot;#f781bf&quot;}, &quot;type&quot;: &quot;Feature&quot;}, {&quot;bbox&quot;: [-80.0855, 40.6563, -80.0855, 40.6563], &quot;geometry&quot;: {&quot;coordinates&quot;: [-80.0855, 40.6563], &quot;type&quot;: &quot;Point&quot;}, &quot;id&quot;: &quot;53&quot;, &quot;properties&quot;: {&quot;Adminstr&quot;: &quot;Equitable Midstream LP&quot;, &quot;Authority&quot;: &quot; &quot;, &quot;Avgdaily&quot;: 0, &quot;City&quot;: &quot; &quot;, &quot;County_1&quot;: &quot; &quot;, &quot;County_2&quot;: &quot; &quot;, &quot;FID&quot;: 54, &quot;Hub_name&quot;: &quot;Marcellus Eastern Access Hub&quot;, &quot;Latitude&quot;: 40.6563, &quot;Longitude&quot;: -80.0855, &quot;Maxthru&quot;: 0, &quot;Notes&quot;: &quot;Future activation depends on development of shale gas in the area of PA and WV. Access to NFGS, Tennco, TETCO, CGT, \\u0026 Domminion&quot;, &quot;Numcust&quot;: 0, &quot;Operator&quot;: &quot;Equitable Midstream LP&quot;, &quot;Platform&quot;: &quot; &quot;, &quot;Rates&quot;: &quot; &quot;, &quot;Region&quot;: &quot;Northeast&quot;, &quot;State&quot;: &quot;PA&quot;, &quot;Status&quot;: &quot;Proposed 11&quot;, &quot;Typeoper&quot;: &quot;Market Center&quot;, &quot;X&quot;: -80.08549663918055, &quot;Y&quot;: 40.6562919929912, &quot;Yearofdata&quot;: 2008, &quot;Yr_activat&quot;: 2011, &quot;__folium_color&quot;: &quot;#ff7f00&quot;}, &quot;type&quot;: &quot;Feature&quot;}, {&quot;bbox&quot;: [-93.8421, 30.1297, -93.8421, 30.1297], &quot;geometry&quot;: {&quot;coordinates&quot;: [-93.8421, 30.1297], &quot;type&quot;: &quot;Point&quot;}, &quot;id&quot;: &quot;54&quot;, &quot;properties&quot;: {&quot;Adminstr&quot;: &quot;Enbridge Pipelines Inc&quot;, &quot;Authority&quot;: &quot;FERC Section 311&quot;, &quot;Avgdaily&quot;: 0, &quot;City&quot;: &quot; &quot;, &quot;County_1&quot;: &quot;Orange&quot;, &quot;County_2&quot;: &quot; &quot;, &quot;FID&quot;: 55, &quot;Hub_name&quot;: &quot;Southeast Hub&quot;, &quot;Latitude&quot;: 30.1297, &quot;Longitude&quot;: -93.8421, &quot;Maxthru&quot;: 0, &quot;Notes&quot;: &quot;Open season in early 2008 unsuccessful. Might be a possibility in future if market develops.&quot;, &quot;Numcust&quot;: 0, &quot;Operator&quot;: &quot;Enbridge Pipelines Inc&quot;, &quot;Platform&quot;: &quot;No&quot;, &quot;Rates&quot;: &quot;Max - Discount&quot;, &quot;Region&quot;: &quot;Southwest&quot;, &quot;State&quot;: &quot;TX&quot;, &quot;Status&quot;: &quot;Canceled 08&quot;, &quot;Typeoper&quot;: &quot;Market Hub&quot;, &quot;X&quot;: -93.84209337518116, &quot;Y&quot;: 30.129694673745888, &quot;Yearofdata&quot;: 2008, &quot;Yr_activat&quot;: 0, &quot;__folium_color&quot;: &quot;#f781bf&quot;}, &quot;type&quot;: &quot;Feature&quot;}, {&quot;bbox&quot;: [-108.2, 40.0377, -108.2, 40.0377], &quot;geometry&quot;: {&quot;coordinates&quot;: [-108.2, 40.0377], &quot;type&quot;: &quot;Point&quot;}, &quot;id&quot;: &quot;55&quot;, &quot;properties&quot;: {&quot;Adminstr&quot;: &quot;Various&quot;, &quot;Authority&quot;: &quot;FERC Section 311&quot;, &quot;Avgdaily&quot;: 0, &quot;City&quot;: &quot;Meeker&quot;, &quot;County_1&quot;: &quot;Rio Blanco&quot;, &quot;County_2&quot;: &quot; &quot;, &quot;FID&quot;: 56, &quot;Hub_name&quot;: &quot;Greasewood Hub&quot;, &quot;Latitude&quot;: 40.0377, &quot;Longitude&quot;: -108.2, &quot;Maxthru&quot;: 2025, &quot;Notes&quot;: &quot;Not a formal MC or Hub. Convergence point for various interstate pipelines and numerous pipeline gathering systems located in the Piceance Basin area including the Wamsutter Compressor station in Sweetwater County, WY&quot;, &quot;Numcust&quot;: 0, &quot;Operator&quot;: null, &quot;Platform&quot;: &quot; &quot;, &quot;Rates&quot;: &quot;Market Based&quot;, &quot;Region&quot;: &quot;Central&quot;, &quot;State&quot;: &quot;CO&quot;, &quot;Status&quot;: &quot;Informal Ops&quot;, &quot;Typeoper&quot;: &quot;Market Hub&quot;, &quot;X&quot;: -108.19998913458738, &quot;Y&quot;: 40.0376937688605, &quot;Yearofdata&quot;: 2008, &quot;Yr_activat&quot;: 0, &quot;__folium_color&quot;: &quot;#377eb8&quot;}, &quot;type&quot;: &quot;Feature&quot;}, {&quot;bbox&quot;: [-108.189, 39.9523, -108.189, 39.9523], &quot;geometry&quot;: {&quot;coordinates&quot;: [-108.189, 39.9523], &quot;type&quot;: &quot;Point&quot;}, &quot;id&quot;: &quot;56&quot;, &quot;properties&quot;: {&quot;Adminstr&quot;: &quot;Various&quot;, &quot;Authority&quot;: &quot; &quot;, &quot;Avgdaily&quot;: 0, &quot;City&quot;: &quot;Meeker&quot;, &quot;County_1&quot;: &quot;Rio Blanco&quot;, &quot;County_2&quot;: &quot; &quot;, &quot;FID&quot;: 57, &quot;Hub_name&quot;: &quot;Meeker Hub&quot;, &quot;Latitude&quot;: 39.9523, &quot;Longitude&quot;: -108.189, &quot;Maxthru&quot;: 0, &quot;Notes&quot;: &quot;Not a formal MC or Hub. The facilities  connects Enterprise\\u0027s gas processing complex near Meeker, CO, with up to  interstate pipelines in the Piceance Basin area.&quot;, &quot;Numcust&quot;: 0, &quot;Operator&quot;: null, &quot;Platform&quot;: &quot; &quot;, &quot;Rates&quot;: &quot;Market Based&quot;, &quot;Region&quot;: &quot;Central&quot;, &quot;State&quot;: &quot;CO&quot;, &quot;Status&quot;: &quot;Informal Ops&quot;, &quot;Typeoper&quot;: &quot;Market Hub&quot;, &quot;X&quot;: -108.18898914715234, &quot;Y&quot;: 39.95229377902795, &quot;Yearofdata&quot;: 2008, &quot;Yr_activat&quot;: 0, &quot;__folium_color&quot;: &quot;#377eb8&quot;}, &quot;type&quot;: &quot;Feature&quot;}, {&quot;bbox&quot;: [-91.9863, 29.9762, -91.9863, 29.9762], &quot;geometry&quot;: {&quot;coordinates&quot;: [-91.9863, 29.9762], &quot;type&quot;: &quot;Point&quot;}, &quot;id&quot;: &quot;57&quot;, &quot;properties&quot;: {&quot;Adminstr&quot;: &quot;Jefferson Island Storage \\u0026 Hub LLC&quot;, &quot;Authority&quot;: &quot;FERC Section 311&quot;, &quot;Avgdaily&quot;: 500, &quot;City&quot;: &quot;Delcambre&quot;, &quot;County_1&quot;: &quot;Iberia&quot;, &quot;County_2&quot;: &quot; &quot;, &quot;FID&quot;: 58, &quot;Hub_name&quot;: &quot;Jefferson Island Storage Hub&quot;, &quot;Latitude&quot;: 29.9762, &quot;Longitude&quot;: -91.9863, &quot;Maxthru&quot;: 720, &quot;Notes&quot;: &quot; Growth since 2003 - 20% increase in average daily thruput.&quot;, &quot;Numcust&quot;: 0, &quot;Operator&quot;: &quot;Jefferson Island Storage \\u0026 Hub&quot;, &quot;Platform&quot;: &quot; &quot;, &quot;Rates&quot;: &quot;Market Based R&quot;, &quot;Region&quot;: &quot;Southwest&quot;, &quot;State&quot;: &quot;LA&quot;, &quot;Status&quot;: &quot;Operational&quot;, &quot;Typeoper&quot;: &quot;Storage Hub&quot;, &quot;X&quot;: -91.98629387207671, &quot;Y&quot;: 29.976194643103888, &quot;Yearofdata&quot;: 2008, &quot;Yr_activat&quot;: 1998, &quot;__folium_color&quot;: &quot;#f781bf&quot;}, &quot;type&quot;: &quot;Feature&quot;}], &quot;type&quot;: &quot;FeatureCollection&quot;});\n",
       "\n",
       "        \n",
       "    \n",
       "    geo_json_0e8c173b971a658c4b2314bf3dcda147.bindTooltip(\n",
       "    function(layer){\n",
       "    let div = L.DomUtil.create(&#x27;div&#x27;);\n",
       "    \n",
       "    let handleObject = feature=&gt;typeof(feature)==&#x27;object&#x27; ? JSON.stringify(feature) : feature;\n",
       "    let fields = [&quot;Hub_name&quot;];\n",
       "    let aliases = [&quot;Hub_name&quot;];\n",
       "    let table = &#x27;&lt;table&gt;&#x27; +\n",
       "        String(\n",
       "        fields.map(\n",
       "        (v,i)=&gt;\n",
       "        `&lt;tr&gt;\n",
       "            &lt;th&gt;${aliases[i]}&lt;/th&gt;\n",
       "            \n",
       "            &lt;td&gt;${handleObject(layer.feature.properties[v])}&lt;/td&gt;\n",
       "        &lt;/tr&gt;`).join(&#x27;&#x27;))\n",
       "    +&#x27;&lt;/table&gt;&#x27;;\n",
       "    div.innerHTML=table;\n",
       "    \n",
       "    return div\n",
       "    }\n",
       "    ,{&quot;className&quot;: &quot;foliumtooltip&quot;, &quot;sticky&quot;: true});\n",
       "                     \n",
       "    \n",
       "    geo_json_0e8c173b971a658c4b2314bf3dcda147.bindPopup(\n",
       "    function(layer){\n",
       "    let div = L.DomUtil.create(&#x27;div&#x27;);\n",
       "    \n",
       "    let handleObject = feature=&gt;typeof(feature)==&#x27;object&#x27; ? JSON.stringify(feature) : feature;\n",
       "    let fields = [&quot;X&quot;, &quot;Y&quot;, &quot;FID&quot;, &quot;Region&quot;, &quot;State&quot;, &quot;Hub_name&quot;, &quot;Adminstr&quot;, &quot;Operator&quot;, &quot;Typeoper&quot;, &quot;Yr_activat&quot;, &quot;Maxthru&quot;, &quot;Avgdaily&quot;, &quot;Numcust&quot;, &quot;Status&quot;, &quot;Notes&quot;, &quot;City&quot;, &quot;County_1&quot;, &quot;County_2&quot;, &quot;Authority&quot;, &quot;Rates&quot;, &quot;Platform&quot;, &quot;Yearofdata&quot;, &quot;Latitude&quot;, &quot;Longitude&quot;];\n",
       "    let aliases = [&quot;X&quot;, &quot;Y&quot;, &quot;FID&quot;, &quot;Region&quot;, &quot;State&quot;, &quot;Hub_name&quot;, &quot;Adminstr&quot;, &quot;Operator&quot;, &quot;Typeoper&quot;, &quot;Yr_activat&quot;, &quot;Maxthru&quot;, &quot;Avgdaily&quot;, &quot;Numcust&quot;, &quot;Status&quot;, &quot;Notes&quot;, &quot;City&quot;, &quot;County_1&quot;, &quot;County_2&quot;, &quot;Authority&quot;, &quot;Rates&quot;, &quot;Platform&quot;, &quot;Yearofdata&quot;, &quot;Latitude&quot;, &quot;Longitude&quot;];\n",
       "    let table = &#x27;&lt;table&gt;&#x27; +\n",
       "        String(\n",
       "        fields.map(\n",
       "        (v,i)=&gt;\n",
       "        `&lt;tr&gt;\n",
       "            &lt;th&gt;${aliases[i].toLocaleString()}&lt;/th&gt;\n",
       "            \n",
       "            &lt;td&gt;${handleObject(layer.feature.properties[v]).toLocaleString()}&lt;/td&gt;\n",
       "        &lt;/tr&gt;`).join(&#x27;&#x27;))\n",
       "    +&#x27;&lt;/table&gt;&#x27;;\n",
       "    div.innerHTML=table;\n",
       "    \n",
       "    return div\n",
       "    }\n",
       "    ,{&quot;className&quot;: &quot;foliumpopup&quot;});\n",
       "                     \n",
       "&lt;/script&gt;\n",
       "&lt;/html&gt;\" style=\"position:absolute;width:100%;height:100%;left:0;top:0;border:none !important;\" allowfullscreen webkitallowfullscreen mozallowfullscreen></iframe></div></div>"
      ],
      "text/plain": [
       "<folium.folium.Map at 0x1a5c74fb6d0>"
      ]
     },
     "execution_count": 190,
     "metadata": {},
     "output_type": "execute_result"
    }
   ],
   "source": [
    "gdf.explore(\n",
    "     column=\"Region\", # make choropleth based on \"BoroName\" column\n",
    "     tooltip=\"Hub_name\", # show \"BoroName\" value in tooltip (on hover)\n",
    "     popup=True, # show all values in popup (on click)\n",
    "     tiles=\"CartoDB positron\", # use \"CartoDB positron\" tiles\n",
    "     cmap=\"Set1\", # use \"Set1\" matplotlib colormap\n",
    "     style_kwds=dict(color=\"black\") # use black outline\n",
    "    )"
   ]
  },
  {
   "cell_type": "code",
   "execution_count": 180,
   "id": "9b4567b9",
   "metadata": {},
   "outputs": [
    {
     "data": {
      "text/html": [
       "<div style=\"width:100%;\"><div style=\"position:relative;width:100%;height:0;padding-bottom:60%;\"><span style=\"color:#565656\">Make this Notebook Trusted to load map: File -> Trust Notebook</span><iframe srcdoc=\"&lt;!DOCTYPE html&gt;\n",
       "&lt;html&gt;\n",
       "&lt;head&gt;\n",
       "    \n",
       "    &lt;meta http-equiv=&quot;content-type&quot; content=&quot;text/html; charset=UTF-8&quot; /&gt;\n",
       "    \n",
       "        &lt;script&gt;\n",
       "            L_NO_TOUCH = false;\n",
       "            L_DISABLE_3D = false;\n",
       "        &lt;/script&gt;\n",
       "    \n",
       "    &lt;style&gt;html, body {width: 100%;height: 100%;margin: 0;padding: 0;}&lt;/style&gt;\n",
       "    &lt;style&gt;#map {position:absolute;top:0;bottom:0;right:0;left:0;}&lt;/style&gt;\n",
       "    &lt;script src=&quot;https://cdn.jsdelivr.net/npm/leaflet@1.9.3/dist/leaflet.js&quot;&gt;&lt;/script&gt;\n",
       "    &lt;script src=&quot;https://code.jquery.com/jquery-1.12.4.min.js&quot;&gt;&lt;/script&gt;\n",
       "    &lt;script src=&quot;https://cdn.jsdelivr.net/npm/bootstrap@5.2.2/dist/js/bootstrap.bundle.min.js&quot;&gt;&lt;/script&gt;\n",
       "    &lt;script src=&quot;https://cdnjs.cloudflare.com/ajax/libs/Leaflet.awesome-markers/2.0.2/leaflet.awesome-markers.js&quot;&gt;&lt;/script&gt;\n",
       "    &lt;link rel=&quot;stylesheet&quot; href=&quot;https://cdn.jsdelivr.net/npm/leaflet@1.9.3/dist/leaflet.css&quot;/&gt;\n",
       "    &lt;link rel=&quot;stylesheet&quot; href=&quot;https://cdn.jsdelivr.net/npm/bootstrap@5.2.2/dist/css/bootstrap.min.css&quot;/&gt;\n",
       "    &lt;link rel=&quot;stylesheet&quot; href=&quot;https://netdna.bootstrapcdn.com/bootstrap/3.0.0/css/bootstrap.min.css&quot;/&gt;\n",
       "    &lt;link rel=&quot;stylesheet&quot; href=&quot;https://cdn.jsdelivr.net/npm/@fortawesome/fontawesome-free@6.2.0/css/all.min.css&quot;/&gt;\n",
       "    &lt;link rel=&quot;stylesheet&quot; href=&quot;https://cdnjs.cloudflare.com/ajax/libs/Leaflet.awesome-markers/2.0.2/leaflet.awesome-markers.css&quot;/&gt;\n",
       "    &lt;link rel=&quot;stylesheet&quot; href=&quot;https://cdn.jsdelivr.net/gh/python-visualization/folium/folium/templates/leaflet.awesome.rotate.min.css&quot;/&gt;\n",
       "    \n",
       "            &lt;meta name=&quot;viewport&quot; content=&quot;width=device-width,\n",
       "                initial-scale=1.0, maximum-scale=1.0, user-scalable=no&quot; /&gt;\n",
       "            &lt;style&gt;\n",
       "                #map_aab494158be21d71f2d181608fe0757c {\n",
       "                    position: relative;\n",
       "                    width: 100.0%;\n",
       "                    height: 100.0%;\n",
       "                    left: 0.0%;\n",
       "                    top: 0.0%;\n",
       "                }\n",
       "                .leaflet-container { font-size: 1rem; }\n",
       "            &lt;/style&gt;\n",
       "        \n",
       "    \n",
       "                    &lt;style&gt;\n",
       "                        .foliumtooltip {\n",
       "                            \n",
       "                        }\n",
       "                       .foliumtooltip table{\n",
       "                            margin: auto;\n",
       "                        }\n",
       "                        .foliumtooltip tr{\n",
       "                            text-align: left;\n",
       "                        }\n",
       "                        .foliumtooltip th{\n",
       "                            padding: 2px; padding-right: 8px;\n",
       "                        }\n",
       "                    &lt;/style&gt;\n",
       "            \n",
       "&lt;/head&gt;\n",
       "&lt;body&gt;\n",
       "    \n",
       "    \n",
       "            &lt;div class=&quot;folium-map&quot; id=&quot;map_aab494158be21d71f2d181608fe0757c&quot; &gt;&lt;/div&gt;\n",
       "        \n",
       "&lt;/body&gt;\n",
       "&lt;script&gt;\n",
       "    \n",
       "    \n",
       "            var map_aab494158be21d71f2d181608fe0757c = L.map(\n",
       "                &quot;map_aab494158be21d71f2d181608fe0757c&quot;,\n",
       "                {\n",
       "                    center: [45.43283574504827, -91.99983030144561],\n",
       "                    crs: L.CRS.EPSG3857,\n",
       "                    zoom: 10,\n",
       "                    zoomControl: true,\n",
       "                    preferCanvas: false,\n",
       "                }\n",
       "            );\n",
       "            L.control.scale().addTo(map_aab494158be21d71f2d181608fe0757c);\n",
       "\n",
       "            \n",
       "\n",
       "        \n",
       "    \n",
       "            var tile_layer_5bc4330e920a3ffe9f4faf87b01918fe = L.tileLayer(\n",
       "                &quot;https://{s}.tile.openstreetmap.org/{z}/{x}/{y}.png&quot;,\n",
       "                {&quot;attribution&quot;: &quot;Data by \\u0026copy; \\u003ca target=\\&quot;_blank\\&quot; href=\\&quot;http://openstreetmap.org\\&quot;\\u003eOpenStreetMap\\u003c/a\\u003e, under \\u003ca target=\\&quot;_blank\\&quot; href=\\&quot;http://www.openstreetmap.org/copyright\\&quot;\\u003eODbL\\u003c/a\\u003e.&quot;, &quot;detectRetina&quot;: false, &quot;maxNativeZoom&quot;: 18, &quot;maxZoom&quot;: 18, &quot;minZoom&quot;: 0, &quot;noWrap&quot;: false, &quot;opacity&quot;: 1, &quot;subdomains&quot;: &quot;abc&quot;, &quot;tms&quot;: false}\n",
       "            ).addTo(map_aab494158be21d71f2d181608fe0757c);\n",
       "        \n",
       "    \n",
       "            map_aab494158be21d71f2d181608fe0757c.fitBounds(\n",
       "                [[7.220541490096537, -171.79111060289122], [83.64513000000001, -12.20855]],\n",
       "                {}\n",
       "            );\n",
       "        \n",
       "    \n",
       "        function geo_json_1fa02ad5e705dbe90085877daa4850d0_styler(feature) {\n",
       "            switch(feature.id) {\n",
       "                default:\n",
       "                    return {&quot;fillOpacity&quot;: 0.5, &quot;weight&quot;: 2};\n",
       "            }\n",
       "        }\n",
       "        function geo_json_1fa02ad5e705dbe90085877daa4850d0_highlighter(feature) {\n",
       "            switch(feature.id) {\n",
       "                default:\n",
       "                    return {&quot;fillOpacity&quot;: 0.75};\n",
       "            }\n",
       "        }\n",
       "        function geo_json_1fa02ad5e705dbe90085877daa4850d0_pointToLayer(feature, latlng) {\n",
       "            var opts = {&quot;bubblingMouseEvents&quot;: true, &quot;color&quot;: &quot;#3388ff&quot;, &quot;dashArray&quot;: null, &quot;dashOffset&quot;: null, &quot;fill&quot;: true, &quot;fillColor&quot;: &quot;#3388ff&quot;, &quot;fillOpacity&quot;: 0.2, &quot;fillRule&quot;: &quot;evenodd&quot;, &quot;lineCap&quot;: &quot;round&quot;, &quot;lineJoin&quot;: &quot;round&quot;, &quot;opacity&quot;: 1.0, &quot;radius&quot;: 2, &quot;stroke&quot;: true, &quot;weight&quot;: 3};\n",
       "            \n",
       "            let style = geo_json_1fa02ad5e705dbe90085877daa4850d0_styler(feature)\n",
       "            Object.assign(opts, style)\n",
       "            \n",
       "            return new L.CircleMarker(latlng, opts)\n",
       "        }\n",
       "\n",
       "        function geo_json_1fa02ad5e705dbe90085877daa4850d0_onEachFeature(feature, layer) {\n",
       "            layer.on({\n",
       "                mouseout: function(e) {\n",
       "                    if(typeof e.target.setStyle === &quot;function&quot;){\n",
       "                        geo_json_1fa02ad5e705dbe90085877daa4850d0.resetStyle(e.target);\n",
       "                    }\n",
       "                },\n",
       "                mouseover: function(e) {\n",
       "                    if(typeof e.target.setStyle === &quot;function&quot;){\n",
       "                        const highlightStyle = geo_json_1fa02ad5e705dbe90085877daa4850d0_highlighter(e.target.feature)\n",
       "                        e.target.setStyle(highlightStyle);\n",
       "                    }\n",
       "                },\n",
       "            });\n",
       "        };\n",
       "        var geo_json_1fa02ad5e705dbe90085877daa4850d0 = L.geoJson(null, {\n",
       "                onEachFeature: geo_json_1fa02ad5e705dbe90085877daa4850d0_onEachFeature,\n",
       "            \n",
       "                style: geo_json_1fa02ad5e705dbe90085877daa4850d0_styler,\n",
       "                pointToLayer: geo_json_1fa02ad5e705dbe90085877daa4850d0_pointToLayer\n",
       "        });\n",
       "\n",
       "        function geo_json_1fa02ad5e705dbe90085877daa4850d0_add (data) {\n",
       "            geo_json_1fa02ad5e705dbe90085877daa4850d0\n",
       "                .addData(data)\n",
       "                .addTo(map_aab494158be21d71f2d181608fe0757c);\n",
       "        }\n",
       "            geo_json_1fa02ad5e705dbe90085877daa4850d0_add({&quot;bbox&quot;: [-171.79111060289122, 7.220541490096537, -12.20855, 83.64513000000001], &quot;features&quot;: [{&quot;bbox&quot;: [-140.99778, 41.675105088867326, -52.64809872090421, 83.23324000000001], &quot;geometry&quot;: {&quot;coordinates&quot;: [[[[-122.84000000000003, 49.000000000000114], [-122.97421000000001, 49.00253777777778], [-124.91024, 49.98456], [-125.62461, 50.416560000000004], [-127.43561000000001, 50.83061], [-127.99276, 51.71583], [-127.85032, 52.32961], [-129.12979, 52.75538], [-129.30523, 53.561589999999995], [-130.51497, 54.28757], [-130.53610895273684, 54.80275447679924], [-130.53611, 54.802780000000006], [-129.98, 55.285000000000004], [-130.00778000000003, 55.915830000000085], [-131.70781, 56.55212], [-132.73042, 57.692890000000006], [-133.35556000000003, 58.41028000000001], [-134.27111000000002, 58.86111000000005], [-134.94500000000005, 59.2705600000001], [-135.47583, 59.787780000000005], [-136.47972000000004, 59.46389000000005], [-137.4525, 58.905], [-138.34089, 59.562110000000004], [-139.03900000000002, 60.0], [-140.013, 60.27682000000001], [-140.99778, 60.30639000000001], [-140.9925, 66.00003000000001], [-140.986, 69.712], [-140.98598761037601, 69.71199839952635], [-139.12052, 69.47102], [-137.54636000000002, 68.99002], [-136.50358, 68.89804], [-135.62576, 69.31512000000001], [-134.41464000000002, 69.62743], [-132.92925000000002, 69.50534], [-131.43135999999998, 69.94451], [-129.79471, 70.19369], [-129.10773, 69.77927000000001], [-128.36156, 70.01286], [-128.13817, 70.48384], [-127.44712000000001, 70.37721], [-125.75632000000002, 69.48058], [-124.42483, 70.1584], [-124.28968, 69.39968999999999], [-123.06108, 69.56372], [-122.6835, 69.85553], [-121.47226, 69.79778], [-119.94288, 69.37786], [-117.60268, 69.01128], [-116.22643, 68.84151], [-115.24690000000001, 68.90591], [-113.89793999999999, 68.3989], [-115.30489, 67.90261000000001], [-113.49727, 67.68815000000001], [-110.798, 67.80611999999999], [-109.94619, 67.98104000000001], [-108.8802, 67.38144], [-107.79239, 67.88736], [-108.81299, 68.31164], [-108.16721000000001, 68.65392], [-106.95, 68.7], [-106.15, 68.8], [-105.34282000000002, 68.56122], [-104.33791000000001, 68.018], [-103.22115000000001, 68.09775], [-101.45433, 67.64689], [-99.90195, 67.80566], [-98.4432, 67.78165], [-98.5586, 68.40394], [-97.66948000000001, 68.57864000000001], [-96.11991, 68.23939], [-96.12588, 67.29338], [-95.48943, 68.0907], [-94.685, 68.06383], [-94.23282000000002, 69.06903000000001], [-95.30408, 69.68571], [-96.47131, 70.08976], [-96.39115, 71.19482], [-95.2088, 71.92053], [-93.88997, 71.76015], [-92.87818, 71.31869], [-91.51964000000001, 70.19129000000001], [-92.40692000000001, 69.69997000000001], [-90.5471, 69.49766], [-90.55151000000001, 68.47499], [-89.21515, 69.25873], [-88.01966, 68.61508], [-88.31748999999999, 67.87338000000001], [-87.35017, 67.19872], [-86.30606999999999, 67.92146], [-85.57664, 68.78456], [-85.52197, 69.88211], [-84.10081000000001, 69.80539], [-82.62258, 69.65826], [-81.28043000000001, 69.16202000000001], [-81.22019999999999, 68.66567], [-81.96436000000001, 68.13253], [-81.25928, 67.59716], [-81.38653000000001, 67.11078], [-83.34456, 66.41154], [-84.73542, 66.2573], [-85.76943, 66.55833], [-86.06760000000001, 66.05625], [-87.03143, 65.21297], [-87.32324, 64.77563], [-88.48296, 64.09897000000001], [-89.91444, 64.03273], [-90.70398, 63.610170000000004], [-90.77004000000001, 62.960210000000004], [-91.93342, 62.83508], [-93.15698, 62.02469000000001], [-94.24153, 60.89865], [-94.62930999999999, 60.11021], [-94.6846, 58.94882], [-93.21502000000001, 58.78212], [-92.76462000000001, 57.84571], [-92.29702999999999, 57.08709], [-90.89769, 57.28468], [-89.03953, 56.85172], [-88.03978000000001, 56.47162], [-87.32421, 55.999140000000004], [-86.07121, 55.72383], [-85.01181000000001, 55.302600000000005], [-83.36055, 55.24489], [-82.27285, 55.14832], [-82.43620000000001, 54.282270000000004], [-82.12502, 53.27703], [-81.40075, 52.157880000000006], [-79.91289, 51.208420000000004], [-79.14301, 51.533930000000005], [-78.60191, 52.56208], [-79.12421, 54.14145], [-79.82958, 54.66772], [-78.22874, 55.136449999999996], [-77.0956, 55.83741], [-76.54137, 56.53423000000001], [-76.62319000000001, 57.20263], [-77.30226, 58.05209], [-78.51688, 58.80458], [-77.33676, 59.852610000000006], [-77.77272, 60.75788000000001], [-78.10687, 62.31964000000001], [-77.41067, 62.55053], [-75.69621000000001, 62.2784], [-74.6682, 62.181110000000004], [-73.83988000000001, 62.4438], [-72.90853, 62.10507], [-71.67708, 61.52535], [-71.37369000000001, 61.137170000000005], [-69.59042, 61.06141], [-69.62033, 60.221250000000005], [-69.28790000000001, 58.95736], [-68.37455, 58.80106], [-67.64976, 58.21206], [-66.20178, 58.76731], [-65.24517, 59.87071], [-64.58352000000001, 60.33558], [-63.804750000000006, 59.442600000000006], [-62.502359999999996, 58.16708], [-61.396550000000005, 56.96745000000001], [-61.798660000000005, 56.33945], [-60.46853, 55.775479999999995], [-59.56962, 55.20407], [-57.97508, 54.94549000000001], [-57.3332, 54.6265], [-56.93689, 53.780319999999996], [-56.15811, 53.647490000000005], [-55.75632, 53.27036], [-55.68338, 52.146640000000005], [-56.40916000000001, 51.770700000000005], [-57.12691, 51.419720000000005], [-58.77482, 51.0643], [-60.03309000000001, 50.24277], [-61.72366, 50.08046], [-63.86251, 50.29099], [-65.36331, 50.2982], [-66.39905, 50.228970000000004], [-67.23631, 49.511559999999996], [-68.51114, 49.068360000000006], [-69.95362, 47.74488], [-71.10458, 46.82171], [-70.25522, 46.986059999999995], [-68.65, 48.3], [-66.55243, 49.1331], [-65.05626, 49.232780000000005], [-64.17099, 48.74248], [-65.11545000000001, 48.07085], [-64.79854, 46.99297], [-64.47219, 46.238490000000006], [-63.17329000000001, 45.73902], [-61.520720000000004, 45.883770000000005], [-60.518150000000006, 47.00793], [-60.448600000000006, 46.28264], [-59.80287, 45.9204], [-61.03988, 45.265249999999995], [-63.254709999999996, 44.67014], [-64.24656, 44.265530000000005], [-65.36406000000001, 43.54523], [-66.1234, 43.61867], [-66.16173, 44.46512], [-64.42549, 45.29204], [-66.02605000000001, 45.25931], [-67.13741, 45.13753], [-67.79134, 45.70281000000001], [-67.79046000000001, 47.066359999999996], [-68.23444, 47.354859999999974], [-68.90500000000003, 47.18500000000006], [-69.237216, 47.447781], [-69.99997, 46.69307], [-70.305, 45.915], [-70.66, 45.46], [-71.08482000000004, 45.30524000000014], [-71.405, 45.254999999999995], [-71.50506, 45.0082], [-73.34783, 45.00738], [-74.86700000000002, 45.000480000000096], [-75.31821000000001, 44.81645], [-76.375, 44.09631], [-76.50000000000001, 44.01845889375865], [-76.82003414580558, 43.628784288093755], [-77.7378850979577, 43.62905558936328], [-78.72027991404235, 43.62508942318493], [-79.17167355011186, 43.46633942318426], [-79.01, 43.27], [-78.92, 42.964999999999996], [-78.93936214874375, 42.86361135514798], [-80.24744767934794, 42.36619985612255], [-81.27774654816716, 42.209025987306816], [-82.4392777167916, 41.675105088867326], [-82.69008928092023, 41.675105088867326], [-83.029810146807, 41.83279572200598], [-83.14199968131264, 41.975681057292874], [-83.12, 42.08], [-82.9, 42.43], [-82.42999999999999, 42.980000000000004], [-82.13764238150395, 43.57108755143997], [-82.33776312543114, 44.440000000000055], [-82.55092464875821, 45.34751658790543], [-83.59285071484311, 45.81689362241252], [-83.46955074739469, 45.994686387712534], [-83.61613094759059, 46.116926988299014], [-83.89076534700574, 46.116926988299014], [-84.0918512641615, 46.27541860613826], [-84.1421195136734, 46.51222585711571], [-84.33670000000001, 46.408770000000004], [-84.60490000000004, 46.439599999999984], [-84.54374874544584, 46.538684190449146], [-84.77923824739992, 46.63710195574902], [-84.8760798815149, 46.90008331968238], [-85.65236324740341, 47.22021881773051], [-86.46199083122826, 47.553338019392], [-87.43979262330028, 47.94], [-88.37811418328671, 48.302917588893706], [-89.27291744663665, 48.01980825458281], [-89.60000000000002, 48.010000000000105], [-90.83, 48.27], [-91.64, 48.14], [-92.61000000000001, 48.44999999999993], [-93.63087000000002, 48.609260000000006], [-94.32914000000001, 48.67074], [-94.64, 48.84], [-94.81758000000002, 49.38905], [-95.15609, 49.38425000000001], [-95.15906950917206, 49.0], [-97.2287200000048, 49.0007], [-100.65000000000003, 49.000000000000114], [-104.04826000000003, 48.99986000000007], [-107.05000000000001, 49.0], [-110.05000000000001, 49.0], [-113.0, 49.0], [-116.04818, 49.0], [-117.03121, 49.0], [-120.0, 49.000000000000114], [-122.84000000000003, 49.000000000000114]]], [[[-83.99367000000001, 62.452799999999996], [-83.25048, 62.91409], [-81.87699, 62.90458], [-81.89825, 62.7108], [-83.06857000000001, 62.159220000000005], [-83.77462000000001, 62.18231], [-83.99367000000001, 62.452799999999996]]], [[[-79.77583312988281, 72.8029022216797], [-80.87609863281251, 73.33318328857422], [-80.83388519287111, 73.69318389892578], [-80.35305786132812, 73.75971984863281], [-78.06443786621094, 73.65193176269531], [-76.34, 73.10268498995305], [-76.25140380859375, 72.82638549804688], [-77.31443786621094, 72.85554504394531], [-78.39167022705078, 72.87665557861328], [-79.4862518310547, 72.74220275878906], [-79.77583312988281, 72.8029022216797]]], [[[-80.315395, 62.08556500000001], [-79.92939, 62.3856], [-79.52002, 62.363710000000005], [-79.26582, 62.158674999999995], [-79.65752, 61.63308], [-80.09956000000001, 61.71810000000001], [-80.36215, 62.016490000000005], [-80.315395, 62.08556500000001]]], [[[-93.61275590694046, 74.97999726022438], [-94.15690873897391, 74.59234650338688], [-95.60868058956564, 74.66686391875176], [-96.82093217648455, 74.92762319609658], [-96.28858740922982, 75.37782827422338], [-94.85081987178917, 75.64721751576089], [-93.97774654821797, 75.29648956979595], [-93.61275590694046, 74.97999726022438]]], [[[-93.84000301794399, 77.51999726023455], [-94.29560828324529, 77.49134267852868], [-96.16965410031007, 77.55511139597685], [-96.43630449093614, 77.83462921824362], [-94.42257727738641, 77.820004787905], [-93.7206562975659, 77.63433136668031], [-93.84000301794399, 77.51999726023455]]], [[[-96.75439876990876, 78.76581268992702], [-95.5592779202946, 78.41831452098033], [-95.83029496944934, 78.05694122996324], [-97.30984290239799, 77.85059723582181], [-98.12428931353404, 78.08285696075761], [-98.55286780474668, 78.45810537384507], [-98.63198442258553, 78.87193024363837], [-97.33723141151266, 78.83198436147676], [-96.75439876990876, 78.76581268992702]]], [[[-88.15035030796028, 74.39230703398503], [-89.7647220527584, 74.51555532500116], [-92.42244096552946, 74.83775788034099], [-92.76828548864282, 75.38681997344214], [-92.88990597204175, 75.88265534128267], [-93.89382402217599, 76.31924367950056], [-95.9624574450358, 76.4413809272224], [-97.1213789538295, 76.7510777859476], [-96.74512285031237, 77.16138865834507], [-94.68408586299944, 77.09787832305837], [-93.57392106807313, 76.77629588490605], [-91.6050231595366, 76.7785179714946], [-90.7418458727493, 76.44959747995681], [-90.96966142450802, 76.07401317005947], [-89.82223792189926, 75.84777374948565], [-89.18708289259985, 75.61016551380762], [-87.83827633334965, 75.56618886992725], [-86.37919226758864, 75.4824213731821], [-84.78962521029058, 75.69920400664653], [-82.75344458691006, 75.78431509063124], [-81.12853084992436, 75.71398346628199], [-80.05751095245915, 75.33684886341591], [-79.83393286814837, 74.92312734648716], [-80.45777075877587, 74.65730377877777], [-81.94884253612557, 74.44245901152432], [-83.22889360221143, 74.56402781849094], [-86.09745235873332, 74.41003205026117], [-88.15035030796028, 74.39230703398503]]], [[[-111.26444332563088, 78.15295604116154], [-109.85445187054711, 77.99632477488488], [-110.18693803591302, 77.69701487905034], [-112.0511911690585, 77.4092288276169], [-113.53427893761912, 77.73220652944111], [-112.7245867582539, 78.05105011668196], [-111.26444332563088, 78.15295604116154]]], [[[-110.96366065147602, 78.8044408230652], [-109.6631457182026, 78.60197256134565], [-110.88131425661892, 78.40691986765997], [-112.54209143761516, 78.4079017198735], [-112.52589087609164, 78.55055451121522], [-111.5000103422334, 78.8499935981305], [-110.96366065147602, 78.8044408230652]]], [[[-55.600218268442056, 51.31707469339794], [-56.13403581401709, 50.68700979267928], [-56.795881720595276, 49.81230866149089], [-56.14310502788433, 50.15011749938286], [-55.471492275603, 49.93581533466846], [-55.82240108908096, 49.58712860777905], [-54.935142584845636, 49.3130109726868], [-54.473775397343786, 49.556691189159125], [-53.47654944519137, 49.24913890237404], [-53.786013759971254, 48.516780503933624], [-53.08613399922626, 48.68780365660358], [-52.958648240762216, 48.15716421161447], [-52.64809872090421, 47.53554840757552], [-53.069158291218386, 46.65549876564492], [-53.521456264853, 46.61829173439477], [-54.17893551290251, 46.80706574155698], [-53.9618686590605, 47.62520701760193], [-54.24048214376214, 47.752279364607645], [-55.40077307801157, 46.884993801453135], [-55.99748084168583, 46.919720363953275], [-55.29121904155279, 47.38956248635099], [-56.250798712780586, 47.632545070987376], [-57.32522925477708, 47.57280711525797], [-59.26601518414682, 47.60334788674247], [-59.419494188053676, 47.899453843774886], [-58.79658647320744, 48.25152537697942], [-59.23162451845657, 48.52318838153781], [-58.3918049790652, 49.12558055276418], [-57.35868974468606, 50.71827403421587], [-56.738650071832026, 51.28743825947855], [-55.87097693543532, 51.63209422464921], [-55.40697424988659, 51.5882726100657], [-55.600218268442056, 51.31707469339794]]], [[[-83.88262630891977, 65.10961782496354], [-82.78757687043883, 64.76669302027467], [-81.6420137193926, 64.45513580998697], [-81.55344031444432, 63.97960928003714], [-80.81736121287886, 64.057485663501], [-80.10345130076664, 63.72598135034862], [-80.99101986359572, 63.41124603947496], [-82.54717810741704, 63.65172231714521], [-83.10879757356511, 64.10187571883971], [-84.10041663281388, 63.569711819098], [-85.52340471061905, 63.052379055424055], [-85.8667687649824, 63.63725291610349], [-87.22198320183678, 63.54123810490519], [-86.35275977247133, 64.0358332383707], [-86.2248864407651, 64.82291697860823], [-85.88384782585486, 65.7387783881171], [-85.1613079495499, 65.6572846543928], [-84.97576371940592, 65.21751821558898], [-84.4640120104195, 65.37177236598022], [-83.88262630891977, 65.10961782496354]]], [[[-78.77063859731078, 72.35217316353418], [-77.8246239895596, 72.74961660429098], [-75.60584469267573, 72.2436784939374], [-74.228616095665, 71.76714427355789], [-74.09914079455771, 71.33084015571758], [-72.24222571479768, 71.55692454699452], [-71.20001542833518, 70.92001251899718], [-68.7860542466849, 70.52502370877427], [-67.91497046575694, 70.12194753689765], [-66.9690333726542, 69.18608734809182], [-68.8051228502006, 68.72019847276444], [-66.4498660956339, 68.06716339789203], [-64.86231441919524, 67.84753856065159], [-63.424934454996794, 66.92847321234059], [-61.851981370680605, 66.86212067327783], [-62.16317684594226, 66.16025136988962], [-63.918444383384184, 64.9986685248329], [-65.14886023625368, 65.42603261988667], [-66.72121904159852, 66.38804108343219], [-68.015016038674, 66.26272573512439], [-68.1412874009792, 65.68978913030439], [-67.08964616562342, 65.10845510523696], [-65.73208045109976, 64.64840566675856], [-65.32016760930125, 64.38273712834605], [-64.66940629744968, 63.392926744227495], [-65.01380388045888, 62.67418508569598], [-66.27504472519048, 62.94509878198612], [-68.7831862046927, 63.74567007105183], [-67.36968075221309, 62.88396556258484], [-66.32829728866726, 62.28007477482201], [-66.16556820338015, 61.93089712182582], [-68.87736650254465, 62.330149237712824], [-71.02343705919385, 62.91070811629588], [-72.23537858751902, 63.39783600529522], [-71.88627844917127, 63.67998932560887], [-73.37830624051838, 64.19396312118384], [-74.83441891142263, 64.6790756293238], [-74.81850257027673, 64.38909332951793], [-77.70997982452008, 64.22954234481678], [-78.5559488593542, 64.57290639918013], [-77.89728105336198, 65.30919220647475], [-76.01827429879717, 65.32696889918314], [-73.95979529488268, 65.45476471624094], [-74.29388342964964, 65.81177134872938], [-73.94491248238262, 66.31057811142666], [-72.65116716173942, 67.28457550726391], [-72.92605994331605, 67.72692576768235], [-73.31161780464572, 68.06943716091287], [-74.84330725777684, 68.55462718370127], [-76.86910091826672, 68.89473562283025], [-76.22864905465738, 69.14776927354741], [-77.28736996123715, 69.76954010688321], [-78.1686339993266, 69.82648753526887], [-78.95724219431673, 70.16688019477543], [-79.49245500356366, 69.87180776638884], [-81.30547095409176, 69.74318512641436], [-84.94470618359851, 69.96663401964442], [-87.06000342481789, 70.26000112576538], [-88.68171322300148, 70.4107412787608], [-89.51341956252303, 70.76203766548095], [-88.46772111688082, 71.21818553332132], [-89.88815121128755, 71.22255219184997], [-90.20516028518205, 72.23507436796079], [-89.436576707705, 73.12946421985238], [-88.40824154331287, 73.53788890247121], [-85.82615108920098, 73.80381582304518], [-86.56217851433412, 73.15744700793844], [-85.77437130404454, 72.53412588163387], [-84.85011247428822, 73.34027822538708], [-82.31559017610101, 73.7509508328106], [-80.60008765330768, 72.71654368762417], [-80.74894161652443, 72.06190664335072], [-78.77063859731078, 72.35217316353418]]], [[[-94.50365759965237, 74.13490672473922], [-92.42001217321173, 74.1000251329422], [-90.50979285354263, 73.85673248971206], [-92.00396521682987, 72.96624420845852], [-93.19629553910026, 72.77199249947334], [-94.26904659704726, 72.02459625923599], [-95.40985551632266, 72.06188080513458], [-96.03374508338244, 72.94027680123183], [-96.01826799191102, 73.43742991809582], [-95.49579342322404, 73.86241689726417], [-94.50365759965237, 74.13490672473922]]], [[[-122.85492448615902, 76.11654287383568], [-122.85492529360326, 76.11654287383568], [-121.15753536032824, 76.86450755482828], [-119.1039389718211, 77.51221995717462], [-117.570130784966, 77.4983189968881], [-116.19858659550738, 77.6452867703262], [-116.33581336145845, 76.87696157501061], [-117.10605058476882, 76.53003184681911], [-118.04041215703819, 76.48117178008714], [-119.89931758688572, 76.053213406062], [-121.49999507712648, 75.90001862253276], [-122.85492448615902, 76.11654287383568]]], [[[-132.71000788443126, 54.04000931542356], [-131.74998958400334, 54.12000438090922], [-132.049480347351, 52.98462148702447], [-131.1790425218266, 52.180432847698285], [-131.57782954982298, 52.18237071390928], [-132.18042842677852, 52.639707139692405], [-132.54999243231384, 53.100014960332146], [-133.05461117875552, 53.411468817755406], [-133.2396644827927, 53.851080227262344], [-133.1800040417117, 54.169975490935315], [-132.71000788443126, 54.04000931542356]]], [[[-105.4922891914932, 79.30159393992916], [-103.52928239623795, 79.16534902619163], [-100.8251580472688, 78.80046173777872], [-100.0601918200522, 78.32475434031589], [-99.67093909381364, 77.90754466420744], [-101.30394019245301, 78.01898489044486], [-102.94980872273302, 78.34322866486023], [-105.17613277873151, 78.3803323432458], [-104.21042945027713, 78.67742015249176], [-105.41958045125853, 78.91833567983649], [-105.4922891914932, 79.30159393992916]]], [[[-123.51000158755119, 48.51001089130341], [-124.01289078839955, 48.37084625914139], [-125.65501277733838, 48.8250045843385], [-125.95499446679275, 49.17999583596759], [-126.85000443587185, 49.53000031188043], [-127.02999344954443, 49.81499583597008], [-128.0593363043662, 49.9949590114266], [-128.44458410710214, 50.539137681676095], [-128.35841365625546, 50.77064809834371], [-127.30858109602994, 50.552573554071955], [-126.69500097721235, 50.400903225295394], [-125.7550066738232, 50.29501821552935], [-125.4150015875588, 49.95000051533259], [-124.92076818911934, 49.475274970083376], [-123.92250870832106, 49.06248362893581], [-123.51000158755119, 48.51001089130341]]], [[[-121.53787999999997, 74.44893000000002], [-120.10978, 74.24135000000001], [-117.55563999999993, 74.18576999999993], [-116.58442000000002, 73.89607000000007], [-115.51080999999999, 73.47519], [-116.76793999999995, 73.22291999999999], [-119.22000000000003, 72.51999999999998], [-120.45999999999998, 71.82000000000005], [-120.45999999999998, 71.38360179308756], [-123.09218999999996, 70.90164000000004], [-123.62, 71.34000000000009], [-125.92894873747338, 71.86868846301138], [-125.49999999999994, 72.29226081179502], [-124.80729000000002, 73.02255999999994], [-123.93999999999994, 73.68000000000012], [-124.91774999999996, 74.29275000000013], [-121.53787999999997, 74.44893000000002]]], [[[-107.81943000000001, 75.84552000000001], [-106.92893000000001, 76.01282], [-105.881, 75.96940000000001], [-105.70498, 75.47951], [-106.31347000000001, 75.00527], [-109.70000000000002, 74.85000000000001], [-112.22306999999999, 74.41696], [-113.74381, 74.39427], [-113.87135, 74.72029], [-111.79420999999999, 75.16250000000001], [-116.31221, 75.04343], [-117.7104, 75.2222], [-116.34602000000001, 76.19903000000001], [-115.40487, 76.47887], [-112.59056000000001, 76.14134], [-110.81422, 75.54919], [-109.06710000000001, 75.47321000000001], [-110.49726000000001, 76.42982], [-109.58109999999999, 76.79417], [-108.54858999999999, 76.67832000000001], [-108.21141, 76.20168000000001], [-107.81943000000001, 75.84552000000001]]], [[[-106.52258999999992, 73.07601], [-105.40245999999996, 72.67259000000007], [-104.77484000000004, 71.6984000000001], [-104.4647599999999, 70.99297000000007], [-102.78537, 70.49776000000003], [-100.98077999999992, 70.02431999999999], [-101.08928999999995, 69.58447000000012], [-102.73115999999993, 69.50402000000003], [-102.09329000000002, 69.11962000000011], [-102.43024000000003, 68.75281999999999], [-104.24000000000001, 68.91000000000008], [-105.96000000000004, 69.18000000000012], [-107.12254000000001, 69.11922000000004], [-108.99999999999994, 68.78000000000003], [-111.53414887520017, 68.63005915681794], [-113.31320000000005, 68.53553999999997], [-113.85495999999989, 69.00744000000009], [-115.22000000000003, 69.28000000000009], [-116.10793999999999, 69.16821000000004], [-117.34000000000003, 69.9600000000001], [-116.67472999999995, 70.06655], [-115.13112000000001, 70.23730000000006], [-113.72140999999999, 70.1923700000001], [-112.41610000000003, 70.36637999999999], [-114.35000000000002, 70.60000000000002], [-116.48684000000003, 70.52044999999998], [-117.90480000000002, 70.54056000000014], [-118.43238000000002, 70.90920000000006], [-116.11311, 71.30917999999997], [-117.65567999999996, 71.29520000000002], [-119.40199000000001, 71.55858999999998], [-118.56266999999997, 72.30785000000003], [-117.86641999999995, 72.70594000000006], [-115.18909000000002, 73.31459000000012], [-114.16716999999994, 73.1214500000001], [-114.66633999999999, 72.65277000000009], [-112.44101999999992, 72.95540000000011], [-111.05039, 72.45040000000006], [-109.92034999999993, 72.96113000000008], [-109.00653999999997, 72.63335000000001], [-108.18834999999996, 71.65089], [-107.68599, 72.0654800000001], [-108.39639, 73.08953000000008], [-107.51645000000002, 73.23597999999998], [-106.52258999999992, 73.07601]]], [[[-100.43836, 72.70588000000001], [-101.54, 73.36], [-100.35642000000001, 73.84389], [-99.16387, 73.63339], [-97.38, 73.76], [-97.12, 73.47], [-98.05359, 72.99052], [-96.54, 72.56], [-96.72000000000001, 71.66], [-98.35966, 71.27284999999999], [-99.32286, 71.35639], [-100.01482, 71.73827], [-102.5, 72.51], [-102.48000000000002, 72.83000000000001], [-100.43836, 72.70588000000001]]], [[[-106.6, 73.60000000000001], [-105.26, 73.64], [-104.5, 73.42], [-105.38000000000001, 72.76], [-106.94, 73.46000000000001], [-106.6, 73.60000000000001]]], [[[-98.50000000000001, 76.72], [-97.735585, 76.25656000000001], [-97.70441500000001, 75.74344], [-98.16000000000001, 75.0], [-99.80874, 74.89744], [-100.88365999999999, 75.05736], [-100.86292000000002, 75.64075], [-102.50209, 75.5638], [-102.56552, 76.3366], [-101.48973, 76.30537], [-99.98349, 76.64634], [-98.57699, 76.58859], [-98.50000000000001, 76.72]]], [[[-96.01644, 80.60233000000001], [-95.32345000000001, 80.90729], [-94.29843, 80.97727], [-94.73542, 81.20646000000002], [-92.40983999999999, 81.25739000000003], [-91.13288999999999, 80.72345000000003], [-89.45000000000002, 80.50932203389831], [-87.81, 80.32000000000001], [-87.02000000000001, 79.66000000000001], [-85.81435, 79.3369], [-87.18755999999999, 79.0393], [-89.03535000000001, 78.28723], [-90.80436, 78.21533000000001], [-92.87669000000001, 78.34333000000001], [-93.95116000000002, 78.75099], [-93.93574, 79.11373], [-93.14524, 79.3801], [-94.974, 79.37248], [-96.07614000000001, 79.70502], [-96.70972, 80.15777], [-96.01644, 80.60233000000001]]], [[[-91.58702000000001, 81.89429000000001], [-90.10000000000001, 82.08500000000004], [-88.93227, 82.11751000000001], [-86.97024, 82.27961], [-85.5, 82.65227345805702], [-84.260005, 82.60000000000001], [-83.18, 82.32], [-82.42, 82.86000000000001], [-81.1, 83.02], [-79.30664, 83.13056], [-76.25, 83.17205882352941], [-75.71878000000001, 83.06404000000002], [-72.83153, 83.23324000000001], [-70.66576500000001, 83.16978075838284], [-68.50000000000001, 83.10632151676572], [-65.82735, 83.02801000000001], [-63.68, 82.9], [-61.85, 82.62860000000002], [-61.89388, 82.36165000000001], [-64.334, 81.92775000000002], [-66.75342, 81.72527000000001], [-67.65755, 81.50141], [-65.48031, 81.50657000000002], [-67.84, 80.90000000000003], [-69.4697, 80.61683000000001], [-71.18, 79.8], [-73.2428, 79.63415], [-73.88000000000001, 79.43016220480206], [-76.90773, 79.32309000000001], [-75.52924, 79.19766000000001], [-76.22046, 79.01907], [-75.39345, 78.52581], [-76.34354, 78.18296000000001], [-77.88851000000001, 77.89991], [-78.36269, 77.50859000000001], [-79.75951, 77.20967999999999], [-79.61965000000001, 76.98336], [-77.91089000000001, 77.022045], [-77.88911, 76.777955], [-80.56125, 76.17812], [-83.17439, 76.45403], [-86.11184, 76.29901000000001], [-87.60000000000001, 76.42], [-89.49068, 76.47239], [-89.6161, 76.95213000000001], [-87.76739, 77.17833], [-88.26, 77.9], [-87.65, 77.97022222222223], [-84.97634, 77.53873], [-86.34, 78.18], [-87.96191999999999, 78.37181], [-87.15198000000001, 78.75867], [-85.37868, 78.99690000000001], [-85.09495, 79.34543000000001], [-86.50734, 79.73624], [-86.93179, 80.25145], [-84.19844, 80.20836], [-83.40869565217389, 80.10000000000001], [-81.84823, 80.46442], [-84.1, 80.58], [-87.59895, 80.51627], [-89.36663, 80.85569000000001], [-90.2, 81.26], [-91.36786000000001, 81.5531], [-91.58702000000001, 81.89429000000001]]], [[[-75.21597, 67.44425], [-75.86588, 67.14886], [-76.98687, 67.09873], [-77.2364, 67.58809000000001], [-76.81166, 68.14856], [-75.89521, 68.28721], [-75.11449999999999, 68.01035999999999], [-75.10333, 67.58202], [-75.21597, 67.44425]]], [[[-96.25740120380055, 69.49003035832177], [-95.64768120380054, 69.10769035832178], [-96.26952120380055, 68.75704035832177], [-97.61740120380055, 69.06003035832177], [-98.43180120380055, 68.95070035832177], [-99.79740120380055, 69.40003035832177], [-98.91740120380055, 69.71003035832177], [-98.21826120380055, 70.14354035832177], [-97.15740120380055, 69.86003035832177], [-96.55740120380055, 69.68003035832177], [-96.25740120380055, 69.49003035832177]]], [[[-64.51912, 49.87304], [-64.17322, 49.95718], [-62.858290000000004, 49.70641], [-61.835584999999995, 49.28855], [-61.806304999999995, 49.10506000000001], [-62.29318, 49.08717], [-63.589259999999996, 49.400690000000004], [-64.51912, 49.87304]]], [[[-64.01486, 47.03601], [-63.6645, 46.55001], [-62.9393, 46.41587], [-62.012080000000005, 46.44314], [-62.503910000000005, 46.033390000000004], [-62.87433, 45.968180000000004], [-64.14280000000001, 46.39265], [-64.39261, 46.72747], [-64.01486, 47.03601]]]], &quot;type&quot;: &quot;MultiPolygon&quot;}, &quot;id&quot;: &quot;3&quot;, &quot;properties&quot;: {&quot;continent&quot;: &quot;North America&quot;, &quot;gdp_md_est&quot;: 1736425, &quot;iso_a3&quot;: &quot;CAN&quot;, &quot;name&quot;: &quot;Canada&quot;, &quot;pop_est&quot;: 37589262.0}, &quot;type&quot;: &quot;Feature&quot;}, {&quot;bbox&quot;: [-171.79111060289122, 18.91619, -66.96465999999998, 71.35776357694175], &quot;geometry&quot;: {&quot;coordinates&quot;: [[[[-122.84000000000003, 49.000000000000114], [-120.0, 49.000000000000114], [-117.03121, 49.0], [-116.04818, 49.0], [-113.0, 49.0], [-110.05000000000001, 49.0], [-107.05000000000001, 49.0], [-104.04826000000003, 48.99986000000007], [-100.65000000000003, 49.000000000000114], [-97.2287200000048, 49.0007], [-95.15906950917206, 49.0], [-95.15609, 49.38425000000001], [-94.81758000000002, 49.38905], [-94.64, 48.84], [-94.32914000000001, 48.67074], [-93.63087000000002, 48.609260000000006], [-92.61000000000001, 48.44999999999993], [-91.64, 48.14], [-90.83, 48.27], [-89.60000000000002, 48.010000000000105], [-89.27291744663665, 48.01980825458281], [-88.37811418328671, 48.302917588893706], [-87.43979262330028, 47.94], [-86.46199083122826, 47.553338019392], [-85.65236324740341, 47.22021881773051], [-84.8760798815149, 46.90008331968238], [-84.77923824739992, 46.63710195574902], [-84.54374874544584, 46.538684190449146], [-84.60490000000004, 46.439599999999984], [-84.33670000000001, 46.408770000000004], [-84.1421195136734, 46.51222585711571], [-84.0918512641615, 46.27541860613826], [-83.89076534700574, 46.116926988299014], [-83.61613094759059, 46.116926988299014], [-83.46955074739469, 45.994686387712534], [-83.59285071484311, 45.81689362241252], [-82.55092464875821, 45.34751658790543], [-82.33776312543114, 44.440000000000055], [-82.13764238150395, 43.57108755143997], [-82.42999999999999, 42.980000000000004], [-82.9, 42.43], [-83.12, 42.08], [-83.14199968131264, 41.975681057292874], [-83.029810146807, 41.83279572200598], [-82.69008928092023, 41.675105088867326], [-82.4392777167916, 41.675105088867326], [-81.27774654816716, 42.209025987306816], [-80.24744767934794, 42.36619985612255], [-78.93936214874375, 42.86361135514798], [-78.92, 42.964999999999996], [-79.01, 43.27], [-79.17167355011186, 43.46633942318426], [-78.72027991404235, 43.62508942318493], [-77.7378850979577, 43.62905558936328], [-76.82003414580558, 43.628784288093755], [-76.50000000000001, 44.01845889375865], [-76.375, 44.09631], [-75.31821000000001, 44.81645], [-74.86700000000002, 45.000480000000096], [-73.34783, 45.00738], [-71.50506, 45.0082], [-71.405, 45.254999999999995], [-71.08482000000004, 45.30524000000014], [-70.66, 45.46], [-70.305, 45.915], [-69.99997, 46.69307], [-69.237216, 47.447781], [-68.90500000000003, 47.18500000000006], [-68.23444, 47.354859999999974], [-67.79046000000001, 47.066359999999996], [-67.79134, 45.70281000000001], [-67.13741, 45.13753], [-66.96465999999998, 44.809700000000134], [-68.03251999999998, 44.325199999999995], [-69.05999999999995, 43.980000000000075], [-70.11616999999995, 43.68405000000013], [-70.64547563341102, 43.09023834896402], [-70.81488999999999, 42.865299999999934], [-70.82499999999999, 42.33499999999998], [-70.49499999999995, 41.80500000000001], [-70.07999999999998, 41.78000000000003], [-70.185, 42.145000000000095], [-69.88496999999995, 41.92283000000009], [-69.96502999999996, 41.63717000000014], [-70.63999999999999, 41.47500000000002], [-71.12039000000004, 41.49445000000014], [-71.8599999999999, 41.32000000000005], [-72.29500000000002, 41.26999999999998], [-72.87643000000003, 41.220650000000035], [-73.71000000000004, 40.93110235165449], [-72.24125999999995, 41.119480000000124], [-71.94499999999988, 40.930000000000064], [-73.34499999999997, 40.63000000000005], [-73.98200000000003, 40.62799999999993], [-73.95232499999997, 40.75075000000004], [-74.25671, 40.47351000000003], [-73.96243999999996, 40.42763000000002], [-74.17838, 39.70925999999997], [-74.90603999999996, 38.93954000000002], [-74.98041, 39.19640000000004], [-75.20002, 39.248450000000105], [-75.52805000000001, 39.49850000000009], [-75.32, 38.960000000000036], [-75.07183476478986, 38.782032230179254], [-75.05672999999996, 38.40412000000009], [-75.37746999999996, 38.015510000000006], [-75.94022999999999, 37.21689000000009], [-76.03126999999995, 37.25659999999999], [-75.72204999999985, 37.93705000000011], [-76.23286999999999, 38.319214999999986], [-76.35000000000002, 39.14999999999998], [-76.54272499999996, 38.71761500000008], [-76.32933000000003, 38.08326000000005], [-76.98999793161352, 38.23999176691336], [-76.30161999999996, 37.91794499999992], [-76.25873999999999, 36.96640000000008], [-75.97179999999997, 36.89726000000002], [-75.8680399999999, 36.55125000000004], [-75.72748999999999, 35.55074000000013], [-76.36318, 34.80854000000011], [-77.39763499999992, 34.512009999999975], [-78.05496, 33.92547000000002], [-78.55434999999989, 33.86133000000012], [-79.06067000000002, 33.493949999999984], [-79.20357000000001, 33.158390000000054], [-80.30132499999996, 32.509355000000085], [-80.86498, 32.033300000000054], [-81.33629000000002, 31.44049000000001], [-81.49041999999997, 30.7299900000001], [-81.31371000000001, 30.035520000000076], [-80.97999999999996, 29.18000000000012], [-80.53558499999991, 28.472129999999993], [-80.52999999999986, 28.040000000000077], [-80.05653928497759, 26.88000000000011], [-80.08801499999998, 26.205764999999985], [-80.13155999999992, 25.816775000000064], [-80.38103000000001, 25.20616000000001], [-80.67999999999995, 25.08000000000004], [-81.17212999999998, 25.201260000000104], [-81.33000000000004, 25.639999999999986], [-81.70999999999987, 25.870000000000005], [-82.23999999999995, 26.730000000000132], [-82.70515, 27.495040000000074], [-82.85525999999999, 27.886240000000043], [-82.64999999999998, 28.550000000000125], [-82.92999999999995, 29.10000000000008], [-83.70958999999999, 29.936560000000043], [-84.09999999999997, 30.09000000000009], [-85.10881999999998, 29.636150000000043], [-85.28784000000002, 29.68612000000013], [-85.7731, 30.152610000000095], [-86.39999999999992, 30.40000000000009], [-87.53035999999992, 30.27433000000002], [-88.41781999999995, 30.384900000000016], [-89.1804899999999, 30.315980000000025], [-89.5938311784198, 30.159994004836847], [-89.41373499999997, 29.89418999999998], [-89.43, 29.488639999999975], [-89.21767, 29.291080000000022], [-89.40822999999995, 29.159610000000043], [-89.77927999999997, 29.307140000000118], [-90.15463, 29.11743000000007], [-90.88022499999994, 29.148535000000095], [-91.62678499999993, 29.677000000000135], [-92.49905999999999, 29.552300000000002], [-93.22636999999997, 29.783750000000055], [-93.84841999999998, 29.71363000000008], [-94.69, 29.480000000000132], [-95.60025999999999, 28.738630000000057], [-96.59403999999995, 28.307480000000055], [-97.13999999999987, 27.83000000000004], [-97.36999999999995, 27.380000000000052], [-97.37999999999994, 26.690000000000055], [-97.32999999999998, 26.210000000000093], [-97.13999999999987, 25.870000000000005], [-97.52999999999992, 25.84000000000009], [-98.23999999999995, 26.06000000000006], [-99.01999999999992, 26.37000000000006], [-99.30000000000001, 26.840000000000032], [-99.51999999999992, 27.54000000000002], [-100.10999999999996, 28.110000000000127], [-100.45584000000002, 28.69612000000012], [-100.95759999999996, 29.380710000000136], [-101.66239999999999, 29.77930000000009], [-102.48000000000002, 29.75999999999999], [-103.11000000000001, 28.970000000000027], [-103.94, 29.27000000000004], [-104.4569699999999, 29.571960000000047], [-104.70574999999997, 30.121730000000014], [-105.03737000000001, 30.644019999999955], [-105.63159000000002, 31.08383000000009], [-106.1429, 31.399950000000047], [-106.50758999999988, 31.754520000000014], [-108.24000000000001, 31.754853718166373], [-108.24193999999994, 31.342220000000054], [-109.03500000000003, 31.341940000000136], [-111.02361000000002, 31.334719999999948], [-113.30498, 32.03914000000009], [-114.815, 32.52528000000001], [-114.72138999999993, 32.72082999999992], [-115.99134999999995, 32.61239000000012], [-117.12775999999985, 32.53533999999996], [-117.29593769127393, 33.04622461520387], [-117.94400000000002, 33.621236431201396], [-118.41060227589753, 33.74090922312445], [-118.51989482279976, 34.02778157757575], [-119.08100000000002, 34.07799999999992], [-119.43884064201671, 34.34847717828427], [-120.36777999999998, 34.447110000000066], [-120.62286, 34.60854999999998], [-120.74432999999999, 35.15686000000011], [-121.71456999999992, 36.161529999999914], [-122.54746999999998, 37.551760000000115], [-122.51201000000003, 37.78339000000011], [-122.95319, 38.11371000000008], [-123.72720000000004, 38.95166000000012], [-123.86516999999998, 39.76699000000008], [-124.39807000000002, 40.313199999999995], [-124.17885999999999, 41.142020000000116], [-124.21370000000002, 41.99964000000011], [-124.53283999999996, 42.7659900000001], [-124.14213999999998, 43.708380000000034], [-124.020535, 44.615894999999966], [-123.89892999999995, 45.52341000000007], [-124.079635, 46.864750000000015], [-124.39566999999994, 47.72017000000011], [-124.68721008300781, 48.18443298339855], [-124.56610107421875, 48.37971496582037], [-123.12, 48.04000000000002], [-122.58735999999993, 47.09600000000006], [-122.34000000000003, 47.360000000000014], [-122.5, 48.180000000000064], [-122.84000000000003, 49.000000000000114]]], [[[-155.40214, 20.07975], [-155.22452, 19.99302], [-155.06226, 19.8591], [-154.80741, 19.50871], [-154.83147, 19.453280000000003], [-155.22217, 19.23972], [-155.54211, 19.08348], [-155.68817, 18.91619], [-155.93665, 19.05939], [-155.90806, 19.33888], [-156.07347000000001, 19.70294], [-156.02368, 19.81422], [-155.85008000000002, 19.97729], [-155.91907, 20.17395], [-155.86108000000002, 20.267210000000002], [-155.78505, 20.2487], [-155.40214, 20.07975]]], [[[-155.99566000000002, 20.76404], [-156.07926, 20.643970000000003], [-156.41445, 20.57241], [-156.58673, 20.783], [-156.70167, 20.8643], [-156.71054999999998, 20.92676], [-156.61258, 21.01249], [-156.25711, 20.917450000000002], [-155.99566000000002, 20.76404]]], [[[-156.75824, 21.176840000000002], [-156.78933, 21.068730000000002], [-157.32521, 21.097770000000004], [-157.25027, 21.219579999999997], [-156.75824, 21.176840000000002]]], [[[-158.0252, 21.71696], [-157.94161, 21.65272], [-157.65283000000002, 21.322170000000003], [-157.70703, 21.26442], [-157.7786, 21.27729], [-158.12667000000002, 21.31244], [-158.2538, 21.53919], [-158.29265, 21.57912], [-158.0252, 21.71696]]], [[[-159.36569, 22.21494], [-159.34512, 21.982000000000003], [-159.46372, 21.88299], [-159.80051, 22.065330000000003], [-159.74877, 22.1382], [-159.5962, 22.236179999999997], [-159.36569, 22.21494]]], [[[-166.46779212142462, 60.384169826897754], [-165.67442969466364, 60.29360687930625], [-165.57916419173358, 59.90998688418753], [-166.19277014876727, 59.75444082298899], [-166.84833736882197, 59.941406155020985], [-167.45527706609008, 60.21306915957936], [-166.46779212142462, 60.384169826897754]]], [[[-153.22872941792113, 57.96896841087248], [-152.56479061583514, 57.901427313866996], [-152.1411472239064, 57.591058661522], [-153.00631405333692, 57.11584219016593], [-154.0050902984581, 56.734676825581076], [-154.51640275777004, 56.99274892844669], [-154.67099280497118, 57.46119578717253], [-153.7627795074415, 57.81657461204373], [-153.22872941792113, 57.96896841087248]]], [[[-140.98598761037601, 69.71199839952635], [-140.986, 69.712], [-140.9925, 66.00003000000001], [-140.99778, 60.30639000000001], [-140.013, 60.27682000000001], [-139.03900000000002, 60.0], [-138.34089, 59.562110000000004], [-137.4525, 58.905], [-136.47972000000004, 59.46389000000005], [-135.47583, 59.787780000000005], [-134.94500000000005, 59.2705600000001], [-134.27111000000002, 58.86111000000005], [-133.35556000000003, 58.41028000000001], [-132.73042, 57.692890000000006], [-131.70781, 56.55212], [-130.00778000000003, 55.915830000000085], [-129.98, 55.285000000000004], [-130.53611, 54.802780000000006], [-130.53610895273684, 54.80275447679924], [-130.5361101894673, 54.8027534043494], [-131.08581823797215, 55.17890615500204], [-131.9672114671423, 55.497775580459006], [-132.2500107428595, 56.3699962428974], [-133.53918108435641, 57.17888743756214], [-134.07806292029608, 58.12306753196691], [-135.0382110322791, 58.18771474876394], [-136.62806230995471, 58.21220937767043], [-137.800006279686, 58.49999542910376], [-139.867787041413, 59.53776154238915], [-140.825273817133, 59.727517401765056], [-142.57444353556446, 60.08444651960497], [-143.9588809948799, 59.999180406323376], [-145.92555681682788, 60.45860972761426], [-147.11437394914665, 60.884656073644635], [-148.22430620012761, 60.67298940697714], [-148.01806555885082, 59.97832896589364], [-148.57082251686086, 59.914172675203304], [-149.72785783587585, 59.70565827090553], [-150.60824337461642, 59.368211168039466], [-151.7163927886833, 59.15582103131993], [-151.85943315326722, 59.744984035879554], [-151.40971900124717, 60.72580272077937], [-150.3469414947325, 61.03358755150987], [-150.62111080625704, 61.2844249538544], [-151.89583919981683, 60.727197984451266], [-152.57832984109558, 60.061657212964235], [-154.01917212625764, 59.35027944603428], [-153.28751135965317, 58.86472768821977], [-154.23249243875847, 58.14637360293051], [-155.3074914215102, 57.727794501366304], [-156.30833472392305, 57.422774359763594], [-156.55609737854638, 56.97998484967064], [-158.11721655986779, 56.46360809999419], [-158.43332129619714, 55.99415355083852], [-159.60332739971741, 55.56668610292013], [-160.28971961163427, 55.643580634170576], [-161.22304765525777, 55.364734605523495], [-162.23776607974105, 55.02418691672011], [-163.06944658104638, 54.68973704692712], [-164.78556922102717, 54.40417308208214], [-164.94222632552007, 54.57222483989534], [-163.84833960676565, 55.03943146424609], [-162.87000139061595, 55.34804311789321], [-161.80417497459607, 55.89498647727038], [-160.5636047027812, 56.00805451112501], [-160.07055986228448, 56.41805532492873], [-158.6844429189195, 57.01667511659787], [-158.46109737855403, 57.21692129172885], [-157.72277035218391, 57.57000051536306], [-157.55027442119362, 58.328326321030204], [-157.04167497457698, 58.91888458926172], [-158.19473120830554, 58.61580231386978], [-158.51721798402303, 58.78778148053732], [-159.0586061269288, 58.42418610293163], [-159.71166704001737, 58.93139028587632], [-159.98128882550017, 58.572549140041644], [-160.3552711659965, 59.07112335879361], [-161.3550034251151, 58.670837714260756], [-161.96889360252632, 58.67166453717738], [-162.05498653872465, 59.26692536074745], [-161.8741707021354, 59.63362132429057], [-162.51805904849212, 59.98972361921386], [-163.8183414378202, 59.79805573184336], [-164.66221757714652, 60.26748444278263], [-165.3463877024748, 60.50749563256238], [-165.3508318756519, 61.073895168697504], [-166.12137915755602, 61.50001902937623], [-165.73445187077058, 62.074996853271784], [-164.9191786367179, 62.63307648380794], [-164.56250790103934, 63.14637848576302], [-163.75333248599708, 63.21944896102377], [-163.06722449445786, 63.05945872664802], [-162.26055538638175, 63.54193573674115], [-161.53444983624863, 63.455816962326764], [-160.7725066803211, 63.766108100023246], [-160.9583351308426, 64.22279857040274], [-161.51806840721218, 64.40278758407527], [-160.77777767641481, 64.78860382756642], [-161.39192623598765, 64.77723501246231], [-162.4530500966689, 64.55944468856819], [-162.75778601789415, 64.33860545516876], [-163.54639421288428, 64.5591604681905], [-164.96082984114514, 64.44694509546883], [-166.42528825586447, 64.68667206487066], [-166.8450042389391, 65.08889557561452], [-168.11056006576715, 65.66999705673675], [-166.70527116602193, 66.08831777613938], [-164.47470964257548, 66.5766600612975], [-163.65251176659564, 66.5766600612975], [-163.78860165103623, 66.07720734319668], [-161.67777442121013, 66.11611969671242], [-162.48971452538004, 66.73556509059512], [-163.71971696679117, 67.11639455837008], [-164.4309913808565, 67.61633820257777], [-165.39028683170673, 68.04277212185025], [-166.76444068099605, 68.35887685817966], [-166.20470740462667, 68.88303091091615], [-164.43081051334346, 68.91553538682774], [-163.1686136546145, 69.37111481391287], [-162.930566169262, 69.85806183539927], [-161.90889726463556, 70.33332998318764], [-160.93479651593367, 70.44768992784958], [-159.03917578838713, 70.89164215766891], [-158.11972286683394, 70.82472117785102], [-156.58082455139808, 71.35776357694175], [-155.06779029032427, 71.14777639432367], [-154.3441652089412, 70.69640859647018], [-153.9000062733926, 70.88998851183567], [-152.21000606993528, 70.82999217394485], [-152.27000240782613, 70.60000621202983], [-150.73999243874448, 70.43001658800569], [-149.7200030181675, 70.53001048449045], [-147.61336157935705, 70.2140349392418], [-145.68998980022533, 70.12000967068673], [-144.9200109590764, 69.98999176704046], [-143.58944618042523, 70.15251414659832], [-142.07251034871348, 69.85193817817265], [-140.98598752156073, 69.71199839952635], [-140.98598761037601, 69.71199839952635]]], [[[-171.73165686753944, 63.782515367275934], [-171.1144335602453, 63.59219106714495], [-170.4911124339407, 63.694975490973505], [-169.6825054596536, 63.43111562769119], [-168.6894394603007, 63.297506212000556], [-168.77194088445466, 63.18859813094544], [-169.5294398672051, 62.97693146427792], [-170.29055620021595, 63.194437567794424], [-170.67138566799093, 63.3758218451389], [-171.55306311753873, 63.317789211675105], [-171.79111060289122, 63.40584585230046], [-171.73165686753944, 63.782515367275934]]]], &quot;type&quot;: &quot;MultiPolygon&quot;}, &quot;id&quot;: &quot;4&quot;, &quot;properties&quot;: {&quot;continent&quot;: &quot;North America&quot;, &quot;gdp_md_est&quot;: 21433226, &quot;iso_a3&quot;: &quot;USA&quot;, &quot;name&quot;: &quot;United States of America&quot;, &quot;pop_est&quot;: 328239523.0}, &quot;type&quot;: &quot;Feature&quot;}, {&quot;bbox&quot;: [-74.45803361682478, 18.030992743395004, -71.62487321642283, 19.915683905511912], &quot;geometry&quot;: {&quot;coordinates&quot;: [[[-71.71236141629296, 19.714455878167357], [-71.62487321642283, 19.169837958243306], [-71.7013026597825, 18.785416978424053], [-71.94511206733556, 18.61690013272026], [-71.68773759630588, 18.31666006110447], [-71.70830481635805, 18.044997056546094], [-72.37247616238935, 18.21496084235406], [-72.84441118029488, 18.145611070218365], [-73.45455481636503, 18.2179063989947], [-73.92243323433566, 18.030992743395004], [-74.45803361682478, 18.342549953682706], [-74.36992529976713, 18.66490753831941], [-73.44954220243272, 18.526052964751145], [-72.69493709989064, 18.445799465401862], [-72.334881557897, 18.668421535715254], [-72.79164954292489, 19.10162506761803], [-72.78410478381028, 19.48359141690341], [-73.41502234566175, 19.639550889560283], [-73.18979061551762, 19.915683905511912], [-72.57967281766362, 19.871500555902358], [-71.71236141629296, 19.714455878167357]]], &quot;type&quot;: &quot;Polygon&quot;}, &quot;id&quot;: &quot;16&quot;, &quot;properties&quot;: {&quot;continent&quot;: &quot;North America&quot;, &quot;gdp_md_est&quot;: 14332, &quot;iso_a3&quot;: &quot;HTI&quot;, &quot;name&quot;: &quot;Haiti&quot;, &quot;pop_est&quot;: 11263077.0}, &quot;type&quot;: &quot;Feature&quot;}, {&quot;bbox&quot;: [-71.94511206733556, 17.5985643579766, -68.31794328476897, 19.8849105900821], &quot;geometry&quot;: {&quot;coordinates&quot;: [[[-71.70830481635805, 18.044997056546094], [-71.68773759630588, 18.31666006110447], [-71.94511206733556, 18.61690013272026], [-71.7013026597825, 18.785416978424053], [-71.62487321642283, 19.169837958243306], [-71.71236141629296, 19.714455878167357], [-71.58730445014663, 19.8849105900821], [-70.80670610216174, 19.880285549391985], [-70.21436499701613, 19.62288524014616], [-69.95081519232758, 19.64799998624001], [-69.76925004747008, 19.29326711677244], [-69.22212582057988, 19.313214219637103], [-69.25434607611385, 19.015196234609874], [-68.80941199408083, 18.979074408437853], [-68.31794328476897, 18.612197577381693], [-68.68931596543452, 18.205142320218613], [-69.16494584824892, 18.42264842373511], [-69.62398759629764, 18.38071299893025], [-69.95293392605154, 18.42830699307106], [-70.1332329983179, 18.245915025296895], [-70.51713721381422, 18.184290879788833], [-70.66929846869763, 18.426885891183034], [-70.99995012071719, 18.283328762276213], [-71.4002099270339, 17.5985643579766], [-71.65766191271202, 17.7575727401387], [-71.70830481635805, 18.044997056546094]]], &quot;type&quot;: &quot;Polygon&quot;}, &quot;id&quot;: &quot;17&quot;, &quot;properties&quot;: {&quot;continent&quot;: &quot;North America&quot;, &quot;gdp_md_est&quot;: 88941, &quot;iso_a3&quot;: &quot;DOM&quot;, &quot;name&quot;: &quot;Dominican Rep.&quot;, &quot;pop_est&quot;: 10738958.0}, &quot;type&quot;: &quot;Feature&quot;}, {&quot;bbox&quot;: [-78.98, 23.710000000000004, -77.0, 27.040000000000003], &quot;geometry&quot;: {&quot;coordinates&quot;: [[[[-78.98, 26.790000000000003], [-78.51, 26.870000000000005], [-77.85000000000001, 26.84], [-77.82000000000001, 26.580000000000005], [-78.91000000000001, 26.42], [-78.98, 26.790000000000003]]], [[[-77.79, 27.040000000000003], [-77.0, 26.59], [-77.17255, 25.87918], [-77.35641, 26.00735], [-77.34, 26.53], [-77.78802, 26.925159999999998], [-77.79, 27.040000000000003]]], [[[-78.19087, 25.210300000000004], [-77.89, 25.17], [-77.54, 24.34], [-77.53466, 23.759750000000004], [-77.78, 23.710000000000004], [-78.03405000000001, 24.28615], [-78.40848, 24.575640000000003], [-78.19087, 25.210300000000004]]]], &quot;type&quot;: &quot;MultiPolygon&quot;}, &quot;id&quot;: &quot;19&quot;, &quot;properties&quot;: {&quot;continent&quot;: &quot;North America&quot;, &quot;gdp_md_est&quot;: 13578, &quot;iso_a3&quot;: &quot;BHS&quot;, &quot;name&quot;: &quot;Bahamas&quot;, &quot;pop_est&quot;: 389482.0}, &quot;type&quot;: &quot;Feature&quot;}, {&quot;bbox&quot;: [-73.297, 60.03676000000001, -12.20855, 83.64513000000001], &quot;geometry&quot;: {&quot;coordinates&quot;: [[[-46.76379, 82.62796], [-43.40644, 83.22516000000002], [-39.89753, 83.18018], [-38.62214, 83.54905], [-35.08787, 83.64513000000001], [-27.10046, 83.51966], [-20.84539, 82.72668999999999], [-22.69182, 82.34165], [-26.51753, 82.29765], [-31.900000000000002, 82.2], [-31.396459999999998, 82.02154], [-27.85666, 82.13177999999999], [-24.84448, 81.78697], [-22.90328, 82.09317], [-22.071749999999998, 81.73449000000001], [-23.169610000000002, 81.15271], [-20.62363, 81.52462], [-15.768180000000001, 81.91245], [-12.77018, 81.71885], [-12.20855, 81.29154], [-16.285330000000002, 80.58004], [-16.85, 80.35], [-20.04624, 80.17708], [-17.73035, 80.12912], [-18.900000000000002, 79.4], [-19.70499, 78.75128000000001], [-19.67353, 77.63859000000001], [-18.47285, 76.98565], [-20.03503, 76.94434000000001], [-21.679440000000003, 76.62795], [-19.83407, 76.09808], [-19.59896, 75.24838], [-20.66818, 75.15585], [-19.37281, 74.29561000000001], [-21.594220000000004, 74.22382], [-20.434540000000002, 73.81713], [-20.762340000000002, 73.46436], [-22.17221, 73.30955], [-23.56593, 73.30663], [-22.313109999999998, 72.62928], [-22.29954, 72.18409], [-24.278340000000004, 72.59788], [-24.79296, 72.3302], [-23.442960000000003, 72.08015999999999], [-22.13281, 71.46898], [-21.753560000000004, 70.66369], [-23.53603, 70.471], [-24.307019999999998, 70.85649000000001], [-25.543409999999998, 71.43093999999999], [-25.20135, 70.75225999999999], [-26.36276, 70.22646], [-23.727420000000002, 70.18401], [-22.349020000000003, 70.12946000000001], [-25.029270000000004, 69.25880000000001], [-27.74737, 68.47046], [-30.67371, 68.12503], [-31.77665, 68.12078000000001], [-32.81105, 67.73547], [-34.20196, 66.67974], [-36.35284, 65.9789], [-37.043780000000005, 65.93768], [-38.37505, 65.69213], [-39.81222, 65.45848], [-40.66899, 64.83997000000001], [-40.68281, 64.13902], [-41.188700000000004, 63.482459999999996], [-42.819379999999995, 62.68233], [-42.41666000000001, 61.90093], [-42.86619, 61.074040000000004], [-43.3784, 60.09772], [-44.7875, 60.03676000000001], [-46.26364, 60.85328], [-48.26294000000001, 60.858430000000006], [-49.23308000000001, 61.40681000000001], [-49.90039, 62.38336], [-51.63325, 63.62691], [-52.140139999999995, 64.27842], [-52.27659, 65.17670000000001], [-53.66166, 66.09957], [-53.30161, 66.8365], [-53.96911, 67.18899], [-52.9804, 68.35759], [-51.47536, 68.72958000000001], [-51.08041, 69.14781], [-50.87122, 69.9291], [-52.013585, 69.574925], [-52.55792, 69.42616], [-53.456289999999996, 69.283625], [-54.68336, 69.61003], [-54.750009999999996, 70.28932], [-54.35884, 70.82131500000001], [-53.431315000000005, 70.835755], [-51.39014, 70.56978], [-53.109370000000006, 71.20485000000001], [-54.00422, 71.54719], [-55.0, 71.40653696727257], [-55.83468, 71.65444000000001], [-54.71819000000001, 72.58625], [-55.32634, 72.95861000000001], [-56.12003, 73.64977], [-57.32363, 74.71026], [-58.59679, 75.09861000000001], [-58.58516, 75.51727], [-61.26861, 76.10238000000001], [-63.39165, 76.1752], [-66.06427, 76.13486], [-68.50438, 76.06141000000001], [-69.66485, 76.37975], [-71.40257, 77.00857], [-68.77671, 77.32312], [-66.76397, 77.37595], [-71.04293, 77.63595], [-73.297, 78.04419], [-73.15938, 78.43271], [-69.37345, 78.91388], [-65.7107, 79.39436], [-65.3239, 79.75814], [-68.02298, 80.11721], [-67.15129, 80.51582], [-63.68925, 81.21396000000001], [-62.234440000000006, 81.3211], [-62.65116, 81.77042], [-60.28249, 82.03363000000002], [-57.207440000000005, 82.19074], [-54.13442, 82.19962], [-53.043279999999996, 81.88833], [-50.39061, 82.43883], [-48.003859999999996, 82.06481000000001], [-46.59984000000001, 81.985945], [-44.523, 81.6607], [-46.9007, 82.19979000000001], [-46.76379, 82.62796]]], &quot;type&quot;: &quot;Polygon&quot;}, &quot;id&quot;: &quot;22&quot;, &quot;properties&quot;: {&quot;continent&quot;: &quot;North America&quot;, &quot;gdp_md_est&quot;: 3051, &quot;iso_a3&quot;: &quot;GRL&quot;, &quot;name&quot;: &quot;Greenland&quot;, &quot;pop_est&quot;: 56225.0}, &quot;type&quot;: &quot;Feature&quot;}, {&quot;bbox&quot;: [-117.12775999999985, 14.538828640190928, -86.81198238803296, 32.72082999999992], &quot;geometry&quot;: {&quot;coordinates&quot;: [[[-117.12775999999985, 32.53533999999996], [-115.99134999999995, 32.61239000000012], [-114.72138999999993, 32.72082999999992], [-114.815, 32.52528000000001], [-113.30498, 32.03914000000009], [-111.02361000000002, 31.334719999999948], [-109.03500000000003, 31.341940000000136], [-108.24193999999994, 31.342220000000054], [-108.24000000000001, 31.754853718166373], [-106.50758999999988, 31.754520000000014], [-106.1429, 31.399950000000047], [-105.63159000000002, 31.08383000000009], [-105.03737000000001, 30.644019999999955], [-104.70574999999997, 30.121730000000014], [-104.4569699999999, 29.571960000000047], [-103.94, 29.27000000000004], [-103.11000000000001, 28.970000000000027], [-102.48000000000002, 29.75999999999999], [-101.66239999999999, 29.77930000000009], [-100.95759999999996, 29.380710000000136], [-100.45584000000002, 28.69612000000012], [-100.10999999999996, 28.110000000000127], [-99.51999999999992, 27.54000000000002], [-99.30000000000001, 26.840000000000032], [-99.01999999999992, 26.37000000000006], [-98.23999999999995, 26.06000000000006], [-97.52999999999992, 25.84000000000009], [-97.14000830767071, 25.8699974634784], [-97.52807247596655, 24.9921440699203], [-97.70294552284224, 24.272343044526735], [-97.77604183631905, 22.93257986092766], [-97.87236670611111, 22.44421173755336], [-97.69904395220419, 21.898689480064263], [-97.38895952023677, 21.411018988525825], [-97.18933346229329, 20.635433254473128], [-96.52557552772032, 19.890930894444068], [-96.29212724484177, 19.320371405509547], [-95.90088497595997, 18.82802419684873], [-94.83906348344271, 18.562717393462208], [-94.42572953975622, 18.144370835843347], [-93.5486512926824, 18.423836981677937], [-92.7861138577835, 18.52483856859226], [-92.0373481920904, 18.704569200103435], [-91.40790340855926, 18.87608327888023], [-90.77186987991087, 19.28412038825678], [-90.53358985061305, 19.8674181177513], [-90.45147599970124, 20.707521877520435], [-90.2786183336849, 20.999855454995554], [-89.60132117385149, 21.26172577563449], [-88.54386633986286, 21.49367544197662], [-87.65841651075772, 21.45884552661198], [-87.05189022494807, 21.5435431991383], [-86.81198238803296, 21.331514797444754], [-86.84590796583262, 20.849864610268355], [-87.38329118523586, 20.25540477139873], [-87.62105445021075, 19.64655304613592], [-87.43675045444178, 19.47240346931227], [-87.58656043165593, 19.04013011319074], [-87.83719112827151, 18.25981598558343], [-88.09066402866318, 18.51664785407405], [-88.3000310940937, 18.4999822046599], [-88.49012285027935, 18.486830552641607], [-88.84834387892661, 17.883198147040233], [-89.02985734735182, 18.001511338772488], [-89.15090938999553, 17.95546763760042], [-89.14308041050333, 17.808318996649405], [-90.06793351923098, 17.819326076727478], [-91.00151994501596, 17.81759491624571], [-91.00226925328421, 17.25465770107418], [-91.45392127151516, 17.252177232324172], [-91.08167009150065, 16.918476670799407], [-90.71182186558772, 16.687483018454728], [-90.60084672724093, 16.47077789963879], [-90.43886695022204, 16.410109768128095], [-90.46447262242266, 16.069562079324655], [-91.74796017125595, 16.066564846251765], [-92.2292486234063, 15.251446641495875], [-92.08721594925207, 15.064584662328441], [-92.20322953974733, 14.830102850804069], [-92.22775000686983, 14.538828640190928], [-93.35946387406176, 15.615429592343673], [-93.87516883011853, 15.940164292865916], [-94.69165646033014, 16.200975246642884], [-95.25022701697304, 16.128318182840644], [-96.05338212765332, 15.752087917539598], [-96.55743404822829, 15.653515122942792], [-97.26359249549665, 15.917064927631316], [-98.01302995480961, 16.107311713113916], [-98.94767574745651, 16.566043402568766], [-99.69739742714705, 16.70616404872817], [-100.82949886758132, 17.17107107184205], [-101.66608862995446, 17.649026394109626], [-101.91852800170022, 17.916090196193977], [-102.47813208698892, 17.975750637275098], [-103.50098954955808, 18.29229462327885], [-103.91752743204682, 18.74857168220001], [-104.9920096504755, 19.316133938061682], [-105.49303849976144, 19.946767279535436], [-105.73139604370766, 20.434101874264115], [-105.39777299683135, 20.531718654863425], [-105.50066077352443, 20.81689504646613], [-105.27075232625793, 21.07628489835514], [-105.26581722697404, 21.42210358325235], [-105.6031609769754, 21.87114594165257], [-105.69341386597313, 22.269080308516152], [-106.02871639689897, 22.773752346278627], [-106.90998043498837, 23.767774359628902], [-107.91544877809139, 24.54891531015295], [-108.40190487347098, 25.172313951105934], [-109.26019873740665, 25.58060944264406], [-109.44408932171734, 25.82488393808768], [-109.29164384645628, 26.442934068298428], [-109.80145768923182, 26.676175645447927], [-110.3917317370857, 27.16211497650454], [-110.64101884646163, 27.859876003525528], [-111.17891883018785, 27.94124054616907], [-111.75960689985163, 28.46795258230395], [-112.2282346260904, 28.95440867768349], [-112.27182369672869, 29.266844387320077], [-112.80959448937398, 30.02111359305235], [-113.16381059451868, 30.786880804969428], [-113.14866939985717, 31.170965887978923], [-113.87188106978186, 31.567608344035193], [-114.20573666060352, 31.524045111613134], [-114.77645117883503, 31.79953217216115], [-114.93669979537214, 31.393484605427602], [-114.7712318591735, 30.913617255165263], [-114.67389929895177, 30.162681179315996], [-114.33097449426293, 29.750432440707414], [-113.58887508833544, 29.061611436473015], [-113.42405310754054, 28.82617361095123], [-113.27196936730553, 28.7547826197399], [-113.14003943566439, 28.41128937429596], [-112.9622983467965, 28.42519033458251], [-112.76158708377488, 27.780216783147523], [-112.45791052941166, 27.52581370697476], [-112.2449519519368, 27.17172679291076], [-111.61648902061921, 26.662817287700477], [-111.28467464887302, 25.732589830014433], [-110.9878193835724, 25.294606228124564], [-110.71000688357134, 24.82600434010186], [-110.65504899782889, 24.298594672131117], [-110.17285620811344, 24.265547593680424], [-109.77184709352855, 23.811182562754198], [-109.40910437705571, 23.36467234953625], [-109.43339230023292, 23.1855876734287], [-109.85421932660171, 22.818271592698068], [-110.03139197471444, 22.823077500901206], [-110.29507097048366, 23.43097321216669], [-110.94950130902805, 24.000964260345995], [-111.6705684070127, 24.484423122652515], [-112.18203589562148, 24.738412787367167], [-112.14898881717085, 25.47012523040405], [-112.3007108223797, 26.012004299416617], [-112.77729671919155, 26.32195954030317], [-113.46467078332194, 26.768185533143424], [-113.59672990604383, 26.639459540304472], [-113.84893673384425, 26.90006378835244], [-114.46574662968004, 27.142090358991368], [-115.05514217818501, 27.72272675222291], [-114.98225257043742, 27.798200181585116], [-114.57036556685495, 27.74148529714489], [-114.19932878299926, 28.115002549750557], [-114.16201839888464, 28.566111965442303], [-114.93184221073665, 29.27947927501549], [-115.518653937627, 29.5563615992354], [-115.88736528202958, 30.180793768834178], [-116.25835038945291, 30.836464341753583], [-116.72152625208497, 31.635743720012044], [-117.12775999999985, 32.53533999999996]]], &quot;type&quot;: &quot;Polygon&quot;}, &quot;id&quot;: &quot;27&quot;, &quot;properties&quot;: {&quot;continent&quot;: &quot;North America&quot;, &quot;gdp_md_est&quot;: 1268870, &quot;iso_a3&quot;: &quot;MEX&quot;, &quot;name&quot;: &quot;Mexico&quot;, &quot;pop_est&quot;: 127575529.0}, &quot;type&quot;: &quot;Feature&quot;}, {&quot;bbox&quot;: [-82.96578304719736, 7.220541490096537, -77.24256649444008, 9.611610012241528], &quot;geometry&quot;: {&quot;coordinates&quot;: [[[-77.35336076527386, 8.67050466555807], [-77.47472286651133, 8.524286200388218], [-77.24256649444008, 7.935278225125444], [-77.43110795765699, 7.638061224798734], [-77.7534138658614, 7.709839789252143], [-77.88157141794525, 7.223771267114785], [-78.21493608266012, 7.512254950384161], [-78.42916073272607, 8.052041123888927], [-78.18209570993864, 8.319182440621773], [-78.4354652574657, 8.38770538984079], [-78.62212053090394, 8.718124497915028], [-79.12030717641375, 8.996092027213024], [-79.55787736684519, 8.932374986197146], [-79.76057817251005, 8.5845150822244], [-80.16448116730334, 8.333315944853595], [-80.38265906443962, 8.298408514840432], [-80.4806892564973, 8.09030752200107], [-80.00368994822716, 7.547524115423372], [-80.276670701809, 7.419754136581716], [-80.42115800649708, 7.271571966984765], [-80.8864009264208, 7.220541490096537], [-81.05954281281473, 7.817921047390597], [-81.18971574575795, 7.64790558515034], [-81.51951473664468, 7.706610012233909], [-81.72131120474447, 8.108962714058435], [-82.13144120962892, 8.175392767769637], [-82.39093441438257, 8.29236237226229], [-82.82008134635042, 8.290863755725823], [-82.85095801464482, 8.073822740099956], [-82.96578304719736, 8.225027980985985], [-82.91317643912421, 8.42351715741907], [-82.82977067740516, 8.62629547773237], [-82.86865719270477, 8.807266343618522], [-82.71918311230053, 8.925708726431495], [-82.92715491405916, 9.074330145702916], [-82.93289099804358, 9.476812038608173], [-82.54619625520348, 9.566134751824677], [-82.18712256542341, 9.20744863528678], [-82.20758643261097, 8.9955752628901], [-81.80856686066929, 8.950616766796173], [-81.71415401887204, 9.031955471223583], [-81.43928707551154, 8.786234035675719], [-80.94730160187676, 8.858503526235907], [-80.52190121125008, 9.111072089062432], [-79.91459977895599, 9.31276520429762], [-79.57330278188431, 9.611610012241528], [-79.02119177927793, 9.552931423374105], [-79.05845048696037, 9.454565334506526], [-78.50088762074719, 9.420458889193881], [-78.05592770049802, 9.2477304142583], [-77.72951351592641, 8.946844387238869], [-77.35336076527386, 8.67050466555807]]], &quot;type&quot;: &quot;Polygon&quot;}, &quot;id&quot;: &quot;33&quot;, &quot;properties&quot;: {&quot;continent&quot;: &quot;North America&quot;, &quot;gdp_md_est&quot;: 66800, &quot;iso_a3&quot;: &quot;PAN&quot;, &quot;name&quot;: &quot;Panama&quot;, &quot;pop_est&quot;: 4246439.0}, &quot;type&quot;: &quot;Feature&quot;}, {&quot;bbox&quot;: [-85.94172543002176, 8.225027980985985, -82.54619625520348, 11.217119248901597], &quot;geometry&quot;: {&quot;coordinates&quot;: [[[-82.54619625520348, 9.566134751824677], [-82.93289099804358, 9.476812038608173], [-82.92715491405916, 9.074330145702916], [-82.71918311230053, 8.925708726431495], [-82.86865719270477, 8.807266343618522], [-82.82977067740516, 8.62629547773237], [-82.91317643912421, 8.42351715741907], [-82.96578304719736, 8.225027980985985], [-83.50843726269431, 8.446926581247283], [-83.71147396516908, 8.656836249216866], [-83.59631303580665, 8.830443223501419], [-83.63264156770784, 9.051385809765321], [-83.90988562695374, 9.29080272057358], [-84.30340165885636, 9.487354030795714], [-84.64764421256866, 9.61553742109571], [-84.71335079622777, 9.908051866083852], [-84.97566036654133, 10.086723130733006], [-84.91137488477024, 9.795991522658923], [-85.11092342806532, 9.55703969974131], [-85.33948828809227, 9.83454214114866], [-85.66078650586698, 9.933347479690724], [-85.79744483106285, 10.134885565629034], [-85.79170874707843, 10.439337266476613], [-85.65931372754667, 10.75433095951172], [-85.94172543002176, 10.895278428587801], [-85.7125404528073, 11.088444932494824], [-85.5618519762442, 11.217119248901597], [-84.90300330273895, 10.952303371621896], [-84.67306901725627, 11.082657172078143], [-84.35593075228104, 10.999225572142905], [-84.19017859570485, 10.793450018756674], [-83.89505449088595, 10.726839097532446], [-83.65561174186158, 10.938764146361422], [-83.40231970898296, 10.395438137244653], [-83.01567664257517, 9.992982082555557], [-82.54619625520348, 9.566134751824677]]], &quot;type&quot;: &quot;Polygon&quot;}, &quot;id&quot;: &quot;34&quot;, &quot;properties&quot;: {&quot;continent&quot;: &quot;North America&quot;, &quot;gdp_md_est&quot;: 61801, &quot;iso_a3&quot;: &quot;CRI&quot;, &quot;name&quot;: &quot;Costa Rica&quot;, &quot;pop_est&quot;: 5047561.0}, &quot;type&quot;: &quot;Feature&quot;}, {&quot;bbox&quot;: [-87.66849341505471, 10.726839097532446, -83.14721900097413, 15.016267198135537], &quot;geometry&quot;: {&quot;coordinates&quot;: [[[-83.65561174186158, 10.938764146361422], [-83.89505449088595, 10.726839097532446], [-84.19017859570485, 10.793450018756674], [-84.35593075228104, 10.999225572142905], [-84.67306901725627, 11.082657172078143], [-84.90300330273895, 10.952303371621896], [-85.5618519762442, 11.217119248901597], [-85.7125404528073, 11.088444932494824], [-86.05848832878526, 11.403438625529944], [-86.52584998243296, 11.806876532432597], [-86.74599158399633, 12.143961900272487], [-87.16751624220116, 12.458257961471658], [-87.66849341505471, 12.909909979702633], [-87.55746660027562, 13.064551703336065], [-87.39238623731923, 12.914018256069838], [-87.31665442579549, 12.984685777228975], [-87.00576900912758, 13.025794379117158], [-86.88055701368438, 13.254204209847217], [-86.7338217841916, 13.263092556201443], [-86.75508663607971, 13.754845485890913], [-86.52070817741992, 13.778487453664468], [-86.31214209668993, 13.77135610600817], [-86.09626380079061, 14.038187364147234], [-85.80129472526859, 13.83605499923759], [-85.69866533073696, 13.960078436738002], [-85.51441301140028, 14.079011745657908], [-85.16536454948482, 14.354369615125051], [-85.14875057650296, 14.560196844943617], [-85.05278744173694, 14.551541042534723], [-84.9245006985724, 14.79049286545235], [-84.82003679069436, 14.81958669683267], [-84.64958207877964, 14.666805324761867], [-84.4493359036486, 14.621614284722511], [-84.22834164095241, 14.74876414637663], [-83.97572140169359, 14.749435939996488], [-83.62858496777292, 14.880073960830302], [-83.48998877636612, 15.016267198135537], [-83.14721900097413, 14.99582916916411], [-83.23323442252394, 14.899866034398102], [-83.2841615465476, 14.6766238468972], [-83.18212643098728, 14.31070302983845], [-83.41249996614445, 13.970077826386557], [-83.51983191601468, 13.567699286345883], [-83.55220720084554, 13.127054348193086], [-83.49851538769427, 12.869292303921227], [-83.47332312695198, 12.419087225794428], [-83.62610449902292, 12.320850328007566], [-83.71961300325506, 11.893124497927728], [-83.65085751009072, 11.62903209070012], [-83.8554703437504, 11.373311265503787], [-83.80893571647155, 11.103043524617275], [-83.65561174186158, 10.938764146361422]]], &quot;type&quot;: &quot;Polygon&quot;}, &quot;id&quot;: &quot;35&quot;, &quot;properties&quot;: {&quot;continent&quot;: &quot;North America&quot;, &quot;gdp_md_est&quot;: 12520, &quot;iso_a3&quot;: &quot;NIC&quot;, &quot;name&quot;: &quot;Nicaragua&quot;, &quot;pop_est&quot;: 6545502.0}, &quot;type&quot;: &quot;Feature&quot;}, {&quot;bbox&quot;: [-89.35332597528281, 12.984685777228975, -83.14721900097413, 16.00540578863439], &quot;geometry&quot;: {&quot;coordinates&quot;: [[[-83.14721900097413, 14.99582916916411], [-83.48998877636612, 15.016267198135537], [-83.62858496777292, 14.880073960830302], [-83.97572140169359, 14.749435939996488], [-84.22834164095241, 14.74876414637663], [-84.4493359036486, 14.621614284722511], [-84.64958207877964, 14.666805324761867], [-84.82003679069436, 14.81958669683267], [-84.9245006985724, 14.79049286545235], [-85.05278744173694, 14.551541042534723], [-85.14875057650296, 14.560196844943617], [-85.16536454948482, 14.354369615125051], [-85.51441301140028, 14.079011745657908], [-85.69866533073696, 13.960078436738002], [-85.80129472526859, 13.83605499923759], [-86.09626380079061, 14.038187364147234], [-86.31214209668993, 13.77135610600817], [-86.52070817741992, 13.778487453664468], [-86.75508663607971, 13.754845485890913], [-86.7338217841916, 13.263092556201443], [-86.88055701368438, 13.254204209847217], [-87.00576900912758, 13.025794379117158], [-87.31665442579549, 12.984685777228975], [-87.48940873894713, 13.297534898323931], [-87.79311113152657, 13.384480495655055], [-87.7235029772294, 13.785050360565506], [-87.85951534702161, 13.893312486217098], [-88.06534257684014, 13.964625962779778], [-88.50399797234971, 13.845485948130857], [-88.541230841816, 13.980154730683479], [-88.84307288283284, 14.14050670008517], [-89.05851192905766, 14.340029405164087], [-89.35332597528281, 14.424132798719086], [-89.14553504103719, 14.678019110569153], [-89.22522009963127, 14.874286200413621], [-89.15481096063357, 15.06641917567481], [-88.68067969435563, 15.346247056535304], [-88.22502275262202, 15.727722479713904], [-88.12115312371537, 15.688655096901357], [-87.90181250685242, 15.864458319558196], [-87.61568010125234, 15.878798529519202], [-87.52292090528846, 15.797278957578783], [-87.36776241733213, 15.846940009011291], [-86.90319129102818, 15.75671295822957], [-86.44094560417739, 15.782835394753192], [-86.11923397494434, 15.893448798073962], [-86.00195431185784, 16.00540578863439], [-85.68331743034628, 15.953651841693954], [-85.44400387240256, 15.885749009662447], [-85.18244361035721, 15.909158433490632], [-84.98372188997882, 15.995923163308703], [-84.52697974316715, 15.857223619037427], [-84.36825558138258, 15.835157782448732], [-84.06305457226682, 15.648244126849136], [-83.77397661002612, 15.424071763566872], [-83.41038123242038, 15.270902818253774], [-83.14721900097413, 14.99582916916411]]], &quot;type&quot;: &quot;Polygon&quot;}, &quot;id&quot;: &quot;36&quot;, &quot;properties&quot;: {&quot;continent&quot;: &quot;North America&quot;, &quot;gdp_md_est&quot;: 25095, &quot;iso_a3&quot;: &quot;HND&quot;, &quot;name&quot;: &quot;Honduras&quot;, &quot;pop_est&quot;: 9746117.0}, &quot;type&quot;: &quot;Feature&quot;}, {&quot;bbox&quot;: [-90.09555457229098, 13.149016831917137, -87.7235029772294, 14.424132798719086], &quot;geometry&quot;: {&quot;coordinates&quot;: [[[-89.35332597528281, 14.424132798719086], [-89.05851192905766, 14.340029405164087], [-88.84307288283284, 14.14050670008517], [-88.541230841816, 13.980154730683479], [-88.50399797234971, 13.845485948130857], [-88.06534257684014, 13.964625962779778], [-87.85951534702161, 13.893312486217098], [-87.7235029772294, 13.785050360565506], [-87.79311113152657, 13.384480495655055], [-87.90411210808952, 13.149016831917137], [-88.48330156121682, 13.163951320849492], [-88.84322791212972, 13.259733588102478], [-89.2567427233293, 13.458532823129303], [-89.81239356154767, 13.520622056527998], [-90.09555457229098, 13.735337632700734], [-90.0646779039966, 13.881969509328925], [-89.72193396682073, 14.134228013561696], [-89.53421932652051, 14.244815578666305], [-89.58734269891656, 14.36258616785949], [-89.35332597528281, 14.424132798719086]]], &quot;type&quot;: &quot;Polygon&quot;}, &quot;id&quot;: &quot;37&quot;, &quot;properties&quot;: {&quot;continent&quot;: &quot;North America&quot;, &quot;gdp_md_est&quot;: 27022, &quot;iso_a3&quot;: &quot;SLV&quot;, &quot;name&quot;: &quot;El Salvador&quot;, &quot;pop_est&quot;: 6453553.0}, &quot;type&quot;: &quot;Feature&quot;}, {&quot;bbox&quot;: [-92.2292486234063, 13.735337632700734, -88.22502275262202, 17.819326076727478], &quot;geometry&quot;: {&quot;coordinates&quot;: [[[-92.22775000686983, 14.538828640190928], [-92.20322953974733, 14.830102850804069], [-92.08721594925207, 15.064584662328441], [-92.2292486234063, 15.251446641495875], [-91.74796017125595, 16.066564846251765], [-90.46447262242266, 16.069562079324655], [-90.43886695022204, 16.410109768128095], [-90.60084672724093, 16.47077789963879], [-90.71182186558772, 16.687483018454728], [-91.08167009150065, 16.918476670799407], [-91.45392127151516, 17.252177232324172], [-91.00226925328421, 17.25465770107418], [-91.00151994501596, 17.81759491624571], [-90.06793351923098, 17.819326076727478], [-89.14308041050333, 17.808318996649405], [-89.15080603713095, 17.015576687075836], [-89.22912167026928, 15.886937567605171], [-88.93061275913527, 15.887273464415076], [-88.60458614780585, 15.70638011317736], [-88.51836402052686, 15.855389105690975], [-88.22502275262202, 15.727722479713904], [-88.68067969435563, 15.346247056535304], [-89.15481096063357, 15.06641917567481], [-89.22522009963127, 14.874286200413621], [-89.14553504103719, 14.678019110569153], [-89.35332597528281, 14.424132798719086], [-89.58734269891656, 14.36258616785949], [-89.53421932652051, 14.244815578666305], [-89.72193396682073, 14.134228013561696], [-90.0646779039966, 13.881969509328925], [-90.09555457229098, 13.735337632700734], [-90.60862403030085, 13.909771429901951], [-91.23241024449605, 13.927832342987957], [-91.68974667027913, 14.126218166556455], [-92.22775000686983, 14.538828640190928]]], &quot;type&quot;: &quot;Polygon&quot;}, &quot;id&quot;: &quot;38&quot;, &quot;properties&quot;: {&quot;continent&quot;: &quot;North America&quot;, &quot;gdp_md_est&quot;: 76710, &quot;iso_a3&quot;: &quot;GTM&quot;, &quot;name&quot;: &quot;Guatemala&quot;, &quot;pop_est&quot;: 16604026.0}, &quot;type&quot;: &quot;Feature&quot;}, {&quot;bbox&quot;: [-89.22912167026928, 15.886937567605171, -88.10681291375438, 18.4999822046599], &quot;geometry&quot;: {&quot;coordinates&quot;: [[[-89.14308041050333, 17.808318996649405], [-89.15090938999553, 17.95546763760042], [-89.02985734735182, 18.001511338772488], [-88.84834387892661, 17.883198147040233], [-88.49012285027935, 18.486830552641607], [-88.3000310940937, 18.4999822046599], [-88.29633622918482, 18.35327281338327], [-88.10681291375438, 18.348673610909287], [-88.1234785631685, 18.07667470954101], [-88.2853549873228, 17.644142971258034], [-88.19786678745265, 17.489475409408456], [-88.30264075392444, 17.131693630435663], [-88.23951799187991, 17.036066392479555], [-88.35542822951057, 16.530774237529627], [-88.55182451043585, 16.265467434143147], [-88.73243364129594, 16.233634751851355], [-88.93061275913527, 15.887273464415076], [-89.22912167026928, 15.886937567605171], [-89.15080603713095, 17.015576687075836], [-89.14308041050333, 17.808318996649405]]], &quot;type&quot;: &quot;Polygon&quot;}, &quot;id&quot;: &quot;39&quot;, &quot;properties&quot;: {&quot;continent&quot;: &quot;North America&quot;, &quot;gdp_md_est&quot;: 1879, &quot;iso_a3&quot;: &quot;BLZ&quot;, &quot;name&quot;: &quot;Belize&quot;, &quot;pop_est&quot;: 390353.0}, &quot;type&quot;: &quot;Feature&quot;}, {&quot;bbox&quot;: [-67.24242753769435, 17.946553453030077, -65.59100379094295, 18.52060110114435], &quot;geometry&quot;: {&quot;coordinates&quot;: [[[-66.28243445500821, 18.514761664295364], [-65.7713028632093, 18.426679185453878], [-65.59100379094295, 18.228034979723915], [-65.84716386581377, 17.97590566657186], [-66.59993445500949, 17.981822618069273], [-67.18416236028527, 17.946553453030077], [-67.24242753769435, 18.374460150622937], [-67.10067908391774, 18.52060110114435], [-66.28243445500821, 18.514761664295364]]], &quot;type&quot;: &quot;Polygon&quot;}, &quot;id&quot;: &quot;45&quot;, &quot;properties&quot;: {&quot;continent&quot;: &quot;North America&quot;, &quot;gdp_md_est&quot;: 104988, &quot;iso_a3&quot;: &quot;PRI&quot;, &quot;name&quot;: &quot;Puerto Rico&quot;, &quot;pop_est&quot;: 3193694.0}, &quot;type&quot;: &quot;Feature&quot;}, {&quot;bbox&quot;: [-78.33771928578561, 17.70111623785982, -76.19965857614164, 18.524218451404778], &quot;geometry&quot;: {&quot;coordinates&quot;: [[[-77.56960079619921, 18.490525417550487], [-76.89661861846213, 18.400866807524082], [-76.36535905628554, 18.160700588447597], [-76.19965857614164, 17.886867173732966], [-76.9025614081757, 17.868237819891746], [-77.20634131540348, 17.70111623785982], [-77.76602291534061, 17.86159739834224], [-78.33771928578561, 18.225967922432233], [-78.21772661000388, 18.454532782459196], [-77.79736467152563, 18.524218451404778], [-77.56960079619921, 18.490525417550487]]], &quot;type&quot;: &quot;Polygon&quot;}, &quot;id&quot;: &quot;46&quot;, &quot;properties&quot;: {&quot;continent&quot;: &quot;North America&quot;, &quot;gdp_md_est&quot;: 16458, &quot;iso_a3&quot;: &quot;JAM&quot;, &quot;name&quot;: &quot;Jamaica&quot;, &quot;pop_est&quot;: 2948279.0}, &quot;type&quot;: &quot;Feature&quot;}, {&quot;bbox&quot;: [-84.97491105827311, 19.855480861891877, -74.17802486845126, 23.188610744717707], &quot;geometry&quot;: {&quot;coordinates&quot;: [[[-82.26815121125706, 23.188610744717707], [-81.40445716014683, 23.117271429938782], [-80.6187686835812, 23.105980129483], [-79.67952368846025, 22.76530324959883], [-79.28148596873208, 22.399201565027056], [-78.34743445505649, 22.512166246017088], [-77.99329586456028, 22.277193508385935], [-77.14642249216105, 21.657851467367834], [-76.52382483590856, 21.206819566324373], [-76.19462012399319, 21.220565497314013], [-75.59822241891267, 21.016624457274133], [-75.67106035022806, 20.735091254148003], [-74.9338960435845, 20.693905137611385], [-74.17802486845126, 20.28462779385974], [-74.29664811877726, 20.05037852628068], [-74.96159461129294, 19.92343537035569], [-75.63468014189459, 19.873774318923196], [-76.323656175426, 19.95289093676206], [-77.75548092315307, 19.855480861891877], [-77.08510840524674, 20.413353786698792], [-77.49265458851661, 20.673105373613893], [-78.13729224314159, 20.739948838783434], [-78.48282670766119, 21.02861338956585], [-78.71986650258401, 21.598113511638434], [-79.28499996612794, 21.5591753199065], [-80.21747534861865, 21.827324327069036], [-80.51753455272141, 22.03707896574176], [-81.82094336620318, 22.19205658618507], [-82.16999182811864, 22.387109279870753], [-81.79500179719267, 22.636964830001958], [-82.77589799674085, 22.688150336187064], [-83.49445878775936, 22.16851797127613], [-83.90880042187563, 22.154565334557333], [-84.05215084505326, 21.910575059491254], [-84.54703019889638, 21.801227728761646], [-84.97491105827311, 21.89602814380109], [-84.44706214062776, 22.204949856041907], [-84.23035702181178, 22.565754706303764], [-83.7782399156902, 22.788118394455694], [-83.26754757356575, 22.983041897060644], [-82.51043616405751, 23.078746649665188], [-82.26815121125706, 23.188610744717707]]], &quot;type&quot;: &quot;Polygon&quot;}, &quot;id&quot;: &quot;47&quot;, &quot;properties&quot;: {&quot;continent&quot;: &quot;North America&quot;, &quot;gdp_md_est&quot;: 100023, &quot;iso_a3&quot;: &quot;CUB&quot;, &quot;name&quot;: &quot;Cuba&quot;, &quot;pop_est&quot;: 11333483.0}, &quot;type&quot;: &quot;Feature&quot;}, {&quot;bbox&quot;: [-61.95, 10.0, -60.895, 10.89], &quot;geometry&quot;: {&quot;coordinates&quot;: [[[-61.68000000000001, 10.760000000000002], [-61.105000000000004, 10.89], [-60.895, 10.855], [-60.935, 10.11], [-61.77000000000001, 10.0], [-61.95, 10.09], [-61.660000000000004, 10.365000000000002], [-61.68000000000001, 10.760000000000002]]], &quot;type&quot;: &quot;Polygon&quot;}, &quot;id&quot;: &quot;175&quot;, &quot;properties&quot;: {&quot;continent&quot;: &quot;North America&quot;, &quot;gdp_md_est&quot;: 24269, &quot;iso_a3&quot;: &quot;TTO&quot;, &quot;name&quot;: &quot;Trinidad and Tobago&quot;, &quot;pop_est&quot;: 1394973.0}, &quot;type&quot;: &quot;Feature&quot;}], &quot;type&quot;: &quot;FeatureCollection&quot;});\n",
       "\n",
       "        \n",
       "    \n",
       "    geo_json_1fa02ad5e705dbe90085877daa4850d0.bindTooltip(\n",
       "    function(layer){\n",
       "    let div = L.DomUtil.create(&#x27;div&#x27;);\n",
       "    \n",
       "    let handleObject = feature=&gt;typeof(feature)==&#x27;object&#x27; ? JSON.stringify(feature) : feature;\n",
       "    let fields = [&quot;pop_est&quot;, &quot;continent&quot;, &quot;name&quot;, &quot;iso_a3&quot;, &quot;gdp_md_est&quot;];\n",
       "    let aliases = [&quot;pop_est&quot;, &quot;continent&quot;, &quot;name&quot;, &quot;iso_a3&quot;, &quot;gdp_md_est&quot;];\n",
       "    let table = &#x27;&lt;table&gt;&#x27; +\n",
       "        String(\n",
       "        fields.map(\n",
       "        (v,i)=&gt;\n",
       "        `&lt;tr&gt;\n",
       "            &lt;th&gt;${aliases[i]}&lt;/th&gt;\n",
       "            \n",
       "            &lt;td&gt;${handleObject(layer.feature.properties[v])}&lt;/td&gt;\n",
       "        &lt;/tr&gt;`).join(&#x27;&#x27;))\n",
       "    +&#x27;&lt;/table&gt;&#x27;;\n",
       "    div.innerHTML=table;\n",
       "    \n",
       "    return div\n",
       "    }\n",
       "    ,{&quot;className&quot;: &quot;foliumtooltip&quot;, &quot;sticky&quot;: true});\n",
       "                     \n",
       "&lt;/script&gt;\n",
       "&lt;/html&gt;\" style=\"position:absolute;width:100%;height:100%;left:0;top:0;border:none !important;\" allowfullscreen webkitallowfullscreen mozallowfullscreen></iframe></div></div>"
      ],
      "text/plain": [
       "<folium.folium.Map at 0x1a5c791aaf0>"
      ]
     },
     "execution_count": 180,
     "metadata": {},
     "output_type": "execute_result"
    }
   ],
   "source": [
    "america = world[world['continent'] =='North America']\n",
    "\n",
    "america.explore()"
   ]
  },
  {
   "cell_type": "code",
   "execution_count": null,
   "id": "8f011ea3",
   "metadata": {},
   "outputs": [],
   "source": []
  }
 ],
 "metadata": {
  "kernelspec": {
   "display_name": "Python (dojo-env)",
   "language": "python",
   "name": "dojo-env"
  },
  "language_info": {
   "codemirror_mode": {
    "name": "ipython",
    "version": 3
   },
   "file_extension": ".py",
   "mimetype": "text/x-python",
   "name": "python",
   "nbconvert_exporter": "python",
   "pygments_lexer": "ipython3",
   "version": "3.8.13"
  },
  "toc": {
   "base_numbering": 1,
   "nav_menu": {},
   "number_sections": false,
   "sideBar": true,
   "skip_h1_title": false,
   "title_cell": "Table of Contents",
   "title_sidebar": "Contents",
   "toc_cell": false,
   "toc_position": {
    "height": "calc(100% - 180px)",
    "left": "10px",
    "top": "150px",
    "width": "165px"
   },
   "toc_section_display": true,
   "toc_window_display": true
  }
 },
 "nbformat": 4,
 "nbformat_minor": 5
}
