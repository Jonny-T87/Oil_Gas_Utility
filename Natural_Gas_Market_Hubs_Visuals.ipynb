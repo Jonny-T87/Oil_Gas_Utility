{
 "cells": [
  {
   "cell_type": "markdown",
   "id": "5489cb4d",
   "metadata": {},
   "source": [
    "# Import Libraries "
   ]
  },
  {
   "cell_type": "code",
   "execution_count": 1,
   "id": "c0ebe1d9",
   "metadata": {},
   "outputs": [],
   "source": [
    "import pandas as pd\n",
    "import numpy as np\n",
    "import matplotlib.pyplot as plt\n",
    "import plotly.express as px"
   ]
  },
  {
   "cell_type": "markdown",
   "id": "b63db754",
   "metadata": {},
   "source": [
    "# Load DataSet"
   ]
  },
  {
   "cell_type": "code",
   "execution_count": 2,
   "id": "ac49002f",
   "metadata": {},
   "outputs": [
    {
     "data": {
      "text/html": [
       "<div>\n",
       "<style scoped>\n",
       "    .dataframe tbody tr th:only-of-type {\n",
       "        vertical-align: middle;\n",
       "    }\n",
       "\n",
       "    .dataframe tbody tr th {\n",
       "        vertical-align: top;\n",
       "    }\n",
       "\n",
       "    .dataframe thead th {\n",
       "        text-align: right;\n",
       "    }\n",
       "</style>\n",
       "<table border=\"1\" class=\"dataframe\">\n",
       "  <thead>\n",
       "    <tr style=\"text-align: right;\">\n",
       "      <th></th>\n",
       "      <th>X</th>\n",
       "      <th>Y</th>\n",
       "      <th>FID</th>\n",
       "      <th>Region</th>\n",
       "      <th>State</th>\n",
       "      <th>Hub_name</th>\n",
       "      <th>Adminstr</th>\n",
       "      <th>Operator</th>\n",
       "      <th>Typeoper</th>\n",
       "      <th>Yr_activat</th>\n",
       "      <th>...</th>\n",
       "      <th>Notes</th>\n",
       "      <th>City</th>\n",
       "      <th>County_1</th>\n",
       "      <th>County_2</th>\n",
       "      <th>Authority</th>\n",
       "      <th>Rates</th>\n",
       "      <th>Platform</th>\n",
       "      <th>Yearofdata</th>\n",
       "      <th>Latitude</th>\n",
       "      <th>Longitude</th>\n",
       "    </tr>\n",
       "  </thead>\n",
       "  <tbody>\n",
       "    <tr>\n",
       "      <th>0</th>\n",
       "      <td>-107.956990</td>\n",
       "      <td>36.686394</td>\n",
       "      <td>1</td>\n",
       "      <td>Southwest</td>\n",
       "      <td>NM</td>\n",
       "      <td>Blanco Hub</td>\n",
       "      <td>Transwestern Gas Pipeline Co</td>\n",
       "      <td>Transwestern Gas Pipeline Co</td>\n",
       "      <td>Production Hub</td>\n",
       "      <td>1993</td>\n",
       "      <td>...</td>\n",
       "      <td>Growth since 03: 77% in avg daily &amp; 22% interc...</td>\n",
       "      <td></td>\n",
       "      <td>San Juan</td>\n",
       "      <td></td>\n",
       "      <td>NGA Section 7</td>\n",
       "      <td>Max - Discount</td>\n",
       "      <td>Intercontinental Exch (San Juan)</td>\n",
       "      <td>2009</td>\n",
       "      <td>36.6864</td>\n",
       "      <td>-107.9570</td>\n",
       "    </tr>\n",
       "    <tr>\n",
       "      <th>1</th>\n",
       "      <td>-100.458991</td>\n",
       "      <td>35.833694</td>\n",
       "      <td>2</td>\n",
       "      <td>Southwest</td>\n",
       "      <td>TX</td>\n",
       "      <td>Buffalo Wallow Center</td>\n",
       "      <td>KM Interstate Gas Transmission co</td>\n",
       "      <td>KM Interstate Gas Transmission co</td>\n",
       "      <td>Market Center</td>\n",
       "      <td>1994</td>\n",
       "      <td>...</td>\n",
       "      <td>Routes flows southward (through WAHA to East T...</td>\n",
       "      <td></td>\n",
       "      <td>Hemphill</td>\n",
       "      <td></td>\n",
       "      <td>FERC Section 311</td>\n",
       "      <td>Max - Discount</td>\n",
       "      <td>No</td>\n",
       "      <td>1999</td>\n",
       "      <td>35.8337</td>\n",
       "      <td>-100.4590</td>\n",
       "    </tr>\n",
       "    <tr>\n",
       "      <th>2</th>\n",
       "      <td>-94.278893</td>\n",
       "      <td>32.159594</td>\n",
       "      <td>3</td>\n",
       "      <td>Southwest</td>\n",
       "      <td>TX</td>\n",
       "      <td>Carthage Hub</td>\n",
       "      <td>DCP Midstream Partners LP</td>\n",
       "      <td>DCP Midstream Inc</td>\n",
       "      <td>Production Hub</td>\n",
       "      <td>1990</td>\n",
       "      <td>...</td>\n",
       "      <td>Site primarily delivers processed gas from Eas...</td>\n",
       "      <td></td>\n",
       "      <td>Panola</td>\n",
       "      <td></td>\n",
       "      <td>FERC Section 311 &amp; State</td>\n",
       "      <td>Max - Discount</td>\n",
       "      <td>Intercontinental Exchange</td>\n",
       "      <td>2008</td>\n",
       "      <td>32.1596</td>\n",
       "      <td>-94.2789</td>\n",
       "    </tr>\n",
       "    <tr>\n",
       "      <th>3</th>\n",
       "      <td>-88.263894</td>\n",
       "      <td>41.500192</td>\n",
       "      <td>4</td>\n",
       "      <td>Midwest</td>\n",
       "      <td>IL</td>\n",
       "      <td>Chicago Hub</td>\n",
       "      <td>Enerchange Inc</td>\n",
       "      <td>Northern Illinois Gas Co  (Nicor)</td>\n",
       "      <td>Market Center</td>\n",
       "      <td>1993</td>\n",
       "      <td>...</td>\n",
       "      <td>Nicor Enerchange Hub Administration, commonly ...</td>\n",
       "      <td>NaN</td>\n",
       "      <td>Various</td>\n",
       "      <td></td>\n",
       "      <td>FERC Section 311</td>\n",
       "      <td>Max - Discount</td>\n",
       "      <td>NGX, Intercontinental Exchange</td>\n",
       "      <td>2008</td>\n",
       "      <td>41.5002</td>\n",
       "      <td>-88.2639</td>\n",
       "    </tr>\n",
       "    <tr>\n",
       "      <th>4</th>\n",
       "      <td>-77.789997</td>\n",
       "      <td>41.397892</td>\n",
       "      <td>5</td>\n",
       "      <td>Northeast</td>\n",
       "      <td>PA</td>\n",
       "      <td>Ellisburg-Leidy Center</td>\n",
       "      <td>National Fuel Gas Supply Co</td>\n",
       "      <td>National Fuel Gas Supply Co</td>\n",
       "      <td>Market Center</td>\n",
       "      <td>1993</td>\n",
       "      <td>...</td>\n",
       "      <td>No longer a formal market center although hub ...</td>\n",
       "      <td></td>\n",
       "      <td>Potter</td>\n",
       "      <td>Clinton</td>\n",
       "      <td>FERC Section 311</td>\n",
       "      <td>Max - Discount</td>\n",
       "      <td>Gas Daily</td>\n",
       "      <td>2008</td>\n",
       "      <td>41.3979</td>\n",
       "      <td>-77.7900</td>\n",
       "    </tr>\n",
       "  </tbody>\n",
       "</table>\n",
       "<p>5 rows × 24 columns</p>\n",
       "</div>"
      ],
      "text/plain": [
       "            X          Y  FID     Region State                Hub_name  \\\n",
       "0 -107.956990  36.686394    1  Southwest    NM              Blanco Hub   \n",
       "1 -100.458991  35.833694    2  Southwest    TX   Buffalo Wallow Center   \n",
       "2  -94.278893  32.159594    3  Southwest    TX            Carthage Hub   \n",
       "3  -88.263894  41.500192    4    Midwest    IL             Chicago Hub   \n",
       "4  -77.789997  41.397892    5  Northeast    PA  Ellisburg-Leidy Center   \n",
       "\n",
       "                            Adminstr                           Operator  \\\n",
       "0       Transwestern Gas Pipeline Co       Transwestern Gas Pipeline Co   \n",
       "1  KM Interstate Gas Transmission co  KM Interstate Gas Transmission co   \n",
       "2          DCP Midstream Partners LP                  DCP Midstream Inc   \n",
       "3                     Enerchange Inc  Northern Illinois Gas Co  (Nicor)   \n",
       "4        National Fuel Gas Supply Co        National Fuel Gas Supply Co   \n",
       "\n",
       "         Typeoper  Yr_activat  ...  \\\n",
       "0  Production Hub        1993  ...   \n",
       "1   Market Center        1994  ...   \n",
       "2  Production Hub        1990  ...   \n",
       "3   Market Center        1993  ...   \n",
       "4   Market Center        1993  ...   \n",
       "\n",
       "                                               Notes  City  County_1 County_2  \\\n",
       "0  Growth since 03: 77% in avg daily & 22% interc...        San Juan            \n",
       "1  Routes flows southward (through WAHA to East T...        Hemphill            \n",
       "2  Site primarily delivers processed gas from Eas...          Panola            \n",
       "3  Nicor Enerchange Hub Administration, commonly ...   NaN   Various            \n",
       "4  No longer a formal market center although hub ...          Potter  Clinton   \n",
       "\n",
       "                  Authority           Rates                          Platform  \\\n",
       "0             NGA Section 7  Max - Discount  Intercontinental Exch (San Juan)   \n",
       "1          FERC Section 311  Max - Discount                                No   \n",
       "2  FERC Section 311 & State  Max - Discount         Intercontinental Exchange   \n",
       "3          FERC Section 311  Max - Discount    NGX, Intercontinental Exchange   \n",
       "4          FERC Section 311  Max - Discount                         Gas Daily   \n",
       "\n",
       "  Yearofdata Latitude Longitude  \n",
       "0       2009  36.6864 -107.9570  \n",
       "1       1999  35.8337 -100.4590  \n",
       "2       2008  32.1596  -94.2789  \n",
       "3       2008  41.5002  -88.2639  \n",
       "4       2008  41.3979  -77.7900  \n",
       "\n",
       "[5 rows x 24 columns]"
      ]
     },
     "execution_count": 2,
     "metadata": {},
     "output_type": "execute_result"
    }
   ],
   "source": [
    "df = pd.read_csv('Data/Natural_Gas_Market_Hubs.csv')\n",
    "df.head()"
   ]
  },
  {
   "cell_type": "markdown",
   "id": "68b3f7e9",
   "metadata": {},
   "source": [
    "# Data Analysis "
   ]
  },
  {
   "cell_type": "code",
   "execution_count": 3,
   "id": "7d9ceb35",
   "metadata": {},
   "outputs": [
    {
     "name": "stdout",
     "output_type": "stream",
     "text": [
      "<class 'pandas.core.frame.DataFrame'>\n",
      "RangeIndex: 58 entries, 0 to 57\n",
      "Data columns (total 24 columns):\n",
      " #   Column      Non-Null Count  Dtype  \n",
      "---  ------      --------------  -----  \n",
      " 0   X           58 non-null     float64\n",
      " 1   Y           58 non-null     float64\n",
      " 2   FID         58 non-null     int64  \n",
      " 3   Region      58 non-null     object \n",
      " 4   State       58 non-null     object \n",
      " 5   Hub_name    58 non-null     object \n",
      " 6   Adminstr    58 non-null     object \n",
      " 7   Operator    56 non-null     object \n",
      " 8   Typeoper    58 non-null     object \n",
      " 9   Yr_activat  58 non-null     int64  \n",
      " 10  Maxthru     58 non-null     int64  \n",
      " 11  Avgdaily    58 non-null     int64  \n",
      " 12  Numcust     58 non-null     int64  \n",
      " 13  Status      58 non-null     object \n",
      " 14  Notes       58 non-null     object \n",
      " 15  City        53 non-null     object \n",
      " 16  County_1    50 non-null     object \n",
      " 17  County_2    58 non-null     object \n",
      " 18  Authority   58 non-null     object \n",
      " 19  Rates       57 non-null     object \n",
      " 20  Platform    58 non-null     object \n",
      " 21  Yearofdata  58 non-null     int64  \n",
      " 22  Latitude    58 non-null     float64\n",
      " 23  Longitude   58 non-null     float64\n",
      "dtypes: float64(4), int64(6), object(14)\n",
      "memory usage: 11.0+ KB\n"
     ]
    }
   ],
   "source": [
    "df.info()"
   ]
  },
  {
   "cell_type": "code",
   "execution_count": 4,
   "id": "a74b0f82",
   "metadata": {
    "scrolled": true
   },
   "outputs": [
    {
     "data": {
      "text/html": [
       "<div>\n",
       "<style scoped>\n",
       "    .dataframe tbody tr th:only-of-type {\n",
       "        vertical-align: middle;\n",
       "    }\n",
       "\n",
       "    .dataframe tbody tr th {\n",
       "        vertical-align: top;\n",
       "    }\n",
       "\n",
       "    .dataframe thead th {\n",
       "        text-align: right;\n",
       "    }\n",
       "</style>\n",
       "<table border=\"1\" class=\"dataframe\">\n",
       "  <thead>\n",
       "    <tr style=\"text-align: right;\">\n",
       "      <th></th>\n",
       "      <th>X</th>\n",
       "      <th>Y</th>\n",
       "      <th>FID</th>\n",
       "      <th>Yr_activat</th>\n",
       "      <th>Maxthru</th>\n",
       "      <th>Avgdaily</th>\n",
       "      <th>Numcust</th>\n",
       "      <th>Yearofdata</th>\n",
       "      <th>Latitude</th>\n",
       "      <th>Longitude</th>\n",
       "    </tr>\n",
       "  </thead>\n",
       "  <tbody>\n",
       "    <tr>\n",
       "      <th>count</th>\n",
       "      <td>58.000000</td>\n",
       "      <td>58.000000</td>\n",
       "      <td>58.000000</td>\n",
       "      <td>58.000000</td>\n",
       "      <td>58.000000</td>\n",
       "      <td>58.000000</td>\n",
       "      <td>58.000000</td>\n",
       "      <td>58.000000</td>\n",
       "      <td>58.000000</td>\n",
       "      <td>58.000000</td>\n",
       "    </tr>\n",
       "    <tr>\n",
       "      <th>mean</th>\n",
       "      <td>-97.508868</td>\n",
       "      <td>35.796658</td>\n",
       "      <td>29.500000</td>\n",
       "      <td>1825.103448</td>\n",
       "      <td>961.586207</td>\n",
       "      <td>545.637931</td>\n",
       "      <td>49.155172</td>\n",
       "      <td>2005.431034</td>\n",
       "      <td>35.796664</td>\n",
       "      <td>-97.508876</td>\n",
       "    </tr>\n",
       "    <tr>\n",
       "      <th>std</th>\n",
       "      <td>12.623782</td>\n",
       "      <td>5.605500</td>\n",
       "      <td>16.886879</td>\n",
       "      <td>565.500173</td>\n",
       "      <td>883.622886</td>\n",
       "      <td>714.481107</td>\n",
       "      <td>106.990539</td>\n",
       "      <td>4.333112</td>\n",
       "      <td>5.605500</td>\n",
       "      <td>12.623786</td>\n",
       "    </tr>\n",
       "    <tr>\n",
       "      <th>min</th>\n",
       "      <td>-122.219985</td>\n",
       "      <td>27.548795</td>\n",
       "      <td>1.000000</td>\n",
       "      <td>0.000000</td>\n",
       "      <td>0.000000</td>\n",
       "      <td>0.000000</td>\n",
       "      <td>0.000000</td>\n",
       "      <td>1996.000000</td>\n",
       "      <td>27.548800</td>\n",
       "      <td>-122.220000</td>\n",
       "    </tr>\n",
       "    <tr>\n",
       "      <th>25%</th>\n",
       "      <td>-107.166740</td>\n",
       "      <td>30.576070</td>\n",
       "      <td>15.250000</td>\n",
       "      <td>1994.000000</td>\n",
       "      <td>337.500000</td>\n",
       "      <td>0.000000</td>\n",
       "      <td>0.000000</td>\n",
       "      <td>2003.000000</td>\n",
       "      <td>30.576075</td>\n",
       "      <td>-107.166750</td>\n",
       "    </tr>\n",
       "    <tr>\n",
       "      <th>50%</th>\n",
       "      <td>-94.818543</td>\n",
       "      <td>34.706595</td>\n",
       "      <td>29.500000</td>\n",
       "      <td>1995.000000</td>\n",
       "      <td>615.000000</td>\n",
       "      <td>300.000000</td>\n",
       "      <td>8.500000</td>\n",
       "      <td>2008.000000</td>\n",
       "      <td>34.706600</td>\n",
       "      <td>-94.818550</td>\n",
       "    </tr>\n",
       "    <tr>\n",
       "      <th>75%</th>\n",
       "      <td>-90.734894</td>\n",
       "      <td>41.091367</td>\n",
       "      <td>43.750000</td>\n",
       "      <td>1998.000000</td>\n",
       "      <td>1675.000000</td>\n",
       "      <td>850.000000</td>\n",
       "      <td>50.000000</td>\n",
       "      <td>2008.000000</td>\n",
       "      <td>41.091375</td>\n",
       "      <td>-90.734900</td>\n",
       "    </tr>\n",
       "    <tr>\n",
       "      <th>max</th>\n",
       "      <td>-74.178498</td>\n",
       "      <td>49.000494</td>\n",
       "      <td>58.000000</td>\n",
       "      <td>2012.000000</td>\n",
       "      <td>3100.000000</td>\n",
       "      <td>2500.000000</td>\n",
       "      <td>660.000000</td>\n",
       "      <td>2009.000000</td>\n",
       "      <td>49.000500</td>\n",
       "      <td>-74.178500</td>\n",
       "    </tr>\n",
       "  </tbody>\n",
       "</table>\n",
       "</div>"
      ],
      "text/plain": [
       "                X          Y        FID   Yr_activat      Maxthru  \\\n",
       "count   58.000000  58.000000  58.000000    58.000000    58.000000   \n",
       "mean   -97.508868  35.796658  29.500000  1825.103448   961.586207   \n",
       "std     12.623782   5.605500  16.886879   565.500173   883.622886   \n",
       "min   -122.219985  27.548795   1.000000     0.000000     0.000000   \n",
       "25%   -107.166740  30.576070  15.250000  1994.000000   337.500000   \n",
       "50%    -94.818543  34.706595  29.500000  1995.000000   615.000000   \n",
       "75%    -90.734894  41.091367  43.750000  1998.000000  1675.000000   \n",
       "max    -74.178498  49.000494  58.000000  2012.000000  3100.000000   \n",
       "\n",
       "          Avgdaily     Numcust   Yearofdata   Latitude   Longitude  \n",
       "count    58.000000   58.000000    58.000000  58.000000   58.000000  \n",
       "mean    545.637931   49.155172  2005.431034  35.796664  -97.508876  \n",
       "std     714.481107  106.990539     4.333112   5.605500   12.623786  \n",
       "min       0.000000    0.000000  1996.000000  27.548800 -122.220000  \n",
       "25%       0.000000    0.000000  2003.000000  30.576075 -107.166750  \n",
       "50%     300.000000    8.500000  2008.000000  34.706600  -94.818550  \n",
       "75%     850.000000   50.000000  2008.000000  41.091375  -90.734900  \n",
       "max    2500.000000  660.000000  2009.000000  49.000500  -74.178500  "
      ]
     },
     "execution_count": 4,
     "metadata": {},
     "output_type": "execute_result"
    }
   ],
   "source": [
    "df.describe()"
   ]
  },
  {
   "cell_type": "code",
   "execution_count": 5,
   "id": "22d23518",
   "metadata": {},
   "outputs": [
    {
     "data": {
      "text/plain": [
       "Region\n",
       "Southwest    26\n",
       "Central       9\n",
       "Northeast     7\n",
       "Western       7\n",
       "Midwest       4\n",
       "Southeast     4\n",
       "Canada        1\n",
       "dtype: int64"
      ]
     },
     "execution_count": 5,
     "metadata": {},
     "output_type": "execute_result"
    }
   ],
   "source": [
    "df.value_counts('Region')"
   ]
  },
  {
   "cell_type": "code",
   "execution_count": 6,
   "id": "b83ccee2",
   "metadata": {},
   "outputs": [
    {
     "data": {
      "text/plain": [
       "State\n",
       "TX    15\n",
       "LA    10\n",
       "PA     6\n",
       "CA     4\n",
       "CO     4\n",
       "WY     3\n",
       "MS     3\n",
       "IL     2\n",
       "KS     2\n",
       "OR     2\n",
       "OH     1\n",
       "AL     1\n",
       "NY     1\n",
       "NM     1\n",
       "BC     1\n",
       "ID     1\n",
       "MI     1\n",
       "dtype: int64"
      ]
     },
     "execution_count": 6,
     "metadata": {},
     "output_type": "execute_result"
    }
   ],
   "source": [
    "df.value_counts('State')"
   ]
  },
  {
   "cell_type": "code",
   "execution_count": 7,
   "id": "55280126",
   "metadata": {},
   "outputs": [
    {
     "data": {
      "text/plain": [
       "Rates\n",
       "Max - Discount    27\n",
       "Market Based      11\n",
       "                  10\n",
       "FERC Tariff        3\n",
       "FERC/State Tif     1\n",
       "Market & Tarif     1\n",
       "Market Based R     1\n",
       "Market-based       1\n",
       "NEB Tariff         1\n",
       "State Tariff       1\n",
       "dtype: int64"
      ]
     },
     "execution_count": 7,
     "metadata": {},
     "output_type": "execute_result"
    }
   ],
   "source": [
    "df.value_counts('Rates')"
   ]
  },
  {
   "cell_type": "code",
   "execution_count": 8,
   "id": "0d4bfbc2",
   "metadata": {},
   "outputs": [
    {
     "data": {
      "text/plain": [
       "X             0\n",
       "Y             0\n",
       "FID           0\n",
       "Region        0\n",
       "State         0\n",
       "Hub_name      0\n",
       "Adminstr      0\n",
       "Operator      2\n",
       "Typeoper      0\n",
       "Yr_activat    0\n",
       "Maxthru       0\n",
       "Avgdaily      0\n",
       "Numcust       0\n",
       "Status        0\n",
       "Notes         0\n",
       "City          5\n",
       "County_1      8\n",
       "County_2      0\n",
       "Authority     0\n",
       "Rates         1\n",
       "Platform      0\n",
       "Yearofdata    0\n",
       "Latitude      0\n",
       "Longitude     0\n",
       "dtype: int64"
      ]
     },
     "execution_count": 8,
     "metadata": {},
     "output_type": "execute_result"
    }
   ],
   "source": [
    "df.isnull().sum()"
   ]
  },
  {
   "cell_type": "code",
   "execution_count": 9,
   "id": "cc2e63d2",
   "metadata": {},
   "outputs": [
    {
     "data": {
      "text/plain": [
       "0"
      ]
     },
     "execution_count": 9,
     "metadata": {},
     "output_type": "execute_result"
    }
   ],
   "source": [
    "df.duplicated().sum()"
   ]
  },
  {
   "cell_type": "markdown",
   "id": "18f3e947",
   "metadata": {},
   "source": [
    "# Visuals\n"
   ]
  },
  {
   "cell_type": "code",
   "execution_count": 59,
   "id": "a6e98400",
   "metadata": {},
   "outputs": [
    {
     "data": {
      "application/vnd.plotly.v1+json": {
       "config": {
        "plotlyServerURL": "https://plot.ly"
       },
       "data": [
        {
         "geo": "geo",
         "hovertemplate": "<b>%{hovertext}</b><br><br>Region=Southwest<br>Avgdaily=%{marker.size}<br>Latitude=%{lat}<br>Longitude=%{lon}<extra></extra>",
         "hovertext": [
          "Blanco Hub",
          "Buffalo Wallow Center",
          "Carthage Hub",
          "Spindletop Storage Hub",
          "Houston Hub",
          "Katy (DCP) Hub",
          "Louisiana Hub",
          "Moss Bluff  Hub",
          "Perryville (Ouachita) Hub",
          "Texaco Gulf Star Center",
          "Waha (Atmos) Hub",
          "Waha (DCP/Atmos) Hub",
          "Egan Hub",
          "Louisiana Intrastate Gas Center",
          "Katy Storage Center",
          "Waha  (ENSTOR) Hub",
          "Aqua Dulce Hub",
          "Perryville Hub",
          "Waha (Encina) Hub",
          "Nautilus Hub",
          "Henry Hub",
          "Houston Hub & Transportation",
          "Waha  (EPGT) Texas Hub",
          "Eagle Hub",
          "Southeast Hub",
          "Jefferson Island Storage Hub"
         ],
         "lat": [
          36.6864,
          35.8337,
          32.1596,
          29.831,
          29.774,
          29.8331,
          29.964,
          30.1568,
          32.7035,
          29.9707,
          31.629,
          31.2251,
          30.2695,
          30.9118,
          29.7501,
          30.8163,
          27.5488,
          32.4354,
          31.2367,
          29.7248,
          29.8955,
          30.1063,
          31.0533,
          32.5077,
          30.1297,
          29.9762
         ],
         "legendgroup": "Southwest",
         "lon": [
          -107.957,
          -100.459,
          -94.2789,
          -94.1679,
          -95.3936,
          -95.8512,
          -92.4296,
          -94.8578,
          -92.0616,
          -91.1768,
          -103.109,
          -103.113,
          -92.3574,
          -92.5285,
          -95.7861,
          -102.331,
          -97.6003,
          -91.5186,
          -103.169,
          -91.4846,
          -92.0631,
          -94.7793,
          -102.842,
          -91.591,
          -93.8421,
          -91.9863
         ],
         "marker": {
          "color": "#636efa",
          "size": [
           1200,
           0,
           600,
           700,
           0,
           300,
           0,
           1600,
           0,
           0,
           300,
           300,
           2000,
           0,
           1400,
           450,
           400,
           1800,
           25,
           350,
           600,
           1000,
           250,
           2000,
           0,
           500
          ],
          "sizemode": "area",
          "sizeref": 6.25,
          "symbol": "circle"
         },
         "mode": "markers",
         "name": "Southwest",
         "showlegend": true,
         "type": "scattergeo"
        },
        {
         "geo": "geo",
         "hovertemplate": "<b>%{hovertext}</b><br><br>Region=Midwest<br>Avgdaily=%{marker.size}<br>Latitude=%{lat}<br>Longitude=%{lon}<extra></extra>",
         "hovertext": [
          "Chicago Hub",
          "Lebanon Hub",
          "Grand Lacs Hub",
          "ANR Joliet Hub"
         ],
         "lat": [
          41.5002,
          39.4159,
          42.2222,
          41.4577
         ],
         "legendgroup": "Midwest",
         "lon": [
          -88.2639,
          -84.1811,
          -83.4014,
          -88.132
         ],
         "marker": {
          "color": "#EF553B",
          "size": [
           100,
           0,
           0,
           600
          ],
          "sizemode": "area",
          "sizeref": 6.25,
          "symbol": "circle"
         },
         "mode": "markers",
         "name": "Midwest",
         "showlegend": true,
         "type": "scattergeo"
        },
        {
         "geo": "geo",
         "hovertemplate": "<b>%{hovertext}</b><br><br>Region=Northeast<br>Avgdaily=%{marker.size}<br>Latitude=%{lat}<br>Longitude=%{lon}<extra></extra>",
         "hovertext": [
          "Ellisburg-Leidy Center",
          "Dominion Hub",
          "Columbia Gas Center",
          "Avoca Hub",
          "Iroquois Center",
          "Tioga Hub",
          "Marcellus Eastern Access Hub"
         ],
         "lat": [
          41.3979,
          40.5819,
          41.1416,
          42.4401,
          42.6581,
          41.9222,
          40.6563
         ],
         "legendgroup": "Northeast",
         "lon": [
          -77.79,
          -78.1274,
          -78.9074,
          -77.461,
          -74.1785,
          -77.1315,
          -80.0855
         ],
         "marker": {
          "color": "#00cc96",
          "size": [
           432,
           2500,
           0,
           0,
           1400,
           0,
           0
          ],
          "sizemode": "area",
          "sizeref": 6.25,
          "symbol": "circle"
         },
         "mode": "markers",
         "name": "Northeast",
         "showlegend": true,
         "type": "scattergeo"
        },
        {
         "geo": "geo",
         "hovertemplate": "<b>%{hovertext}</b><br><br>Region=Central<br>Avgdaily=%{marker.size}<br>Latitude=%{lat}<br>Longitude=%{lon}<extra></extra>",
         "hovertext": [
          "Mid-Continent Center",
          "Rocky Mountain Center",
          "Western Center",
          "Kiowa Hub",
          "Cheyenne Hub",
          "Opal Hub",
          "White River Hub",
          "Greasewood Hub",
          "Meeker Hub"
         ],
         "lat": [
          37.8699,
          41.7912,
          41.2974,
          37.5565,
          40.9407,
          41.7684,
          40.0895,
          40.0377,
          39.9523
         ],
         "legendgroup": "Central",
         "lon": [
          -97.7721,
          -110.306,
          -110.508,
          -99.2558,
          -104.796,
          -110.399,
          -108.17,
          -108.2,
          -108.189
         ],
         "marker": {
          "color": "#ab63fa",
          "size": [
           340,
           0,
           0,
           0,
           1800,
           1450,
           0,
           0,
           0
          ],
          "sizemode": "area",
          "sizeref": 6.25,
          "symbol": "circle"
         },
         "mode": "markers",
         "name": "Central",
         "showlegend": true,
         "type": "scattergeo"
        },
        {
         "geo": "geo",
         "hovertemplate": "<b>%{hovertext}</b><br><br>Region=Western<br>Avgdaily=%{marker.size}<br>Latitude=%{lat}<br>Longitude=%{lon}<extra></extra>",
         "hovertext": [
          "California Energy Hub",
          "GTNW Market Center",
          "Ten Section Hub",
          "Mojave Center",
          "Golden Gate Center",
          "Malin Center",
          "Kingsgate Center"
         ],
         "lat": [
          35.8263,
          44.6846,
          34.6888,
          34.7244,
          38.4049,
          42.0338,
          48.9958
         ],
         "legendgroup": "Western",
         "lon": [
          -119.373,
          -121.002,
          -119.368,
          -114.513,
          -121.914,
          -121.372,
          -116.188
         ],
         "marker": {
          "color": "#FFA15A",
          "size": [
           900,
           2300,
           0,
           450,
           2000,
           0,
           0
          ],
          "sizemode": "area",
          "sizeref": 6.25,
          "symbol": "circle"
         },
         "mode": "markers",
         "name": "Western",
         "showlegend": true,
         "type": "scattergeo"
        },
        {
         "geo": "geo",
         "hovertemplate": "<b>%{hovertext}</b><br><br>Region=Canada<br>Avgdaily=%{marker.size}<br>Latitude=%{lat}<br>Longitude=%{lon}<extra></extra>",
         "hovertext": [
          "Sumas Center"
         ],
         "lat": [
          49.0005
         ],
         "legendgroup": "Canada",
         "lon": [
          -122.22
         ],
         "marker": {
          "color": "#19d3f3",
          "size": [
           1000
          ],
          "sizemode": "area",
          "sizeref": 6.25,
          "symbol": "circle"
         },
         "mode": "markers",
         "name": "Canada",
         "showlegend": true,
         "type": "scattergeo"
        },
        {
         "geo": "geo",
         "hovertemplate": "<b>%{hovertext}</b><br><br>Region=Southeast<br>Avgdaily=%{marker.size}<br>Latitude=%{lat}<br>Longitude=%{lon}<extra></extra>",
         "hovertext": [
          "Mobay Storage Hub",
          "Mississippi Hub",
          "Copiah Storage Hub",
          "Southeast Storage Hub"
         ],
         "lat": [
          30.496,
          31.2929,
          31.9134,
          31.3184
         ],
         "legendgroup": "Southeast",
         "lon": [
          -88.2277,
          -88.0739,
          -90.5876,
          -88.6853
         ],
         "marker": {
          "color": "#FF6692",
          "size": [
           0,
           0,
           0,
           600
          ],
          "sizemode": "area",
          "sizeref": 6.25,
          "symbol": "circle"
         },
         "mode": "markers",
         "name": "Southeast",
         "showlegend": true,
         "type": "scattergeo"
        }
       ],
       "layout": {
        "geo": {
         "center": {},
         "domain": {
          "x": [
           0,
           1
          ],
          "y": [
           0,
           1
          ]
         },
         "scope": "usa"
        },
        "legend": {
         "itemsizing": "constant",
         "title": {
          "text": "Region"
         },
         "tracegroupgap": 0
        },
        "margin": {
         "t": 60
        },
        "template": {
         "data": {
          "bar": [
           {
            "error_x": {
             "color": "#2a3f5f"
            },
            "error_y": {
             "color": "#2a3f5f"
            },
            "marker": {
             "line": {
              "color": "#E5ECF6",
              "width": 0.5
             },
             "pattern": {
              "fillmode": "overlay",
              "size": 10,
              "solidity": 0.2
             }
            },
            "type": "bar"
           }
          ],
          "barpolar": [
           {
            "marker": {
             "line": {
              "color": "#E5ECF6",
              "width": 0.5
             },
             "pattern": {
              "fillmode": "overlay",
              "size": 10,
              "solidity": 0.2
             }
            },
            "type": "barpolar"
           }
          ],
          "carpet": [
           {
            "aaxis": {
             "endlinecolor": "#2a3f5f",
             "gridcolor": "white",
             "linecolor": "white",
             "minorgridcolor": "white",
             "startlinecolor": "#2a3f5f"
            },
            "baxis": {
             "endlinecolor": "#2a3f5f",
             "gridcolor": "white",
             "linecolor": "white",
             "minorgridcolor": "white",
             "startlinecolor": "#2a3f5f"
            },
            "type": "carpet"
           }
          ],
          "choropleth": [
           {
            "colorbar": {
             "outlinewidth": 0,
             "ticks": ""
            },
            "type": "choropleth"
           }
          ],
          "contour": [
           {
            "colorbar": {
             "outlinewidth": 0,
             "ticks": ""
            },
            "colorscale": [
             [
              0,
              "#0d0887"
             ],
             [
              0.1111111111111111,
              "#46039f"
             ],
             [
              0.2222222222222222,
              "#7201a8"
             ],
             [
              0.3333333333333333,
              "#9c179e"
             ],
             [
              0.4444444444444444,
              "#bd3786"
             ],
             [
              0.5555555555555556,
              "#d8576b"
             ],
             [
              0.6666666666666666,
              "#ed7953"
             ],
             [
              0.7777777777777778,
              "#fb9f3a"
             ],
             [
              0.8888888888888888,
              "#fdca26"
             ],
             [
              1,
              "#f0f921"
             ]
            ],
            "type": "contour"
           }
          ],
          "contourcarpet": [
           {
            "colorbar": {
             "outlinewidth": 0,
             "ticks": ""
            },
            "type": "contourcarpet"
           }
          ],
          "heatmap": [
           {
            "colorbar": {
             "outlinewidth": 0,
             "ticks": ""
            },
            "colorscale": [
             [
              0,
              "#0d0887"
             ],
             [
              0.1111111111111111,
              "#46039f"
             ],
             [
              0.2222222222222222,
              "#7201a8"
             ],
             [
              0.3333333333333333,
              "#9c179e"
             ],
             [
              0.4444444444444444,
              "#bd3786"
             ],
             [
              0.5555555555555556,
              "#d8576b"
             ],
             [
              0.6666666666666666,
              "#ed7953"
             ],
             [
              0.7777777777777778,
              "#fb9f3a"
             ],
             [
              0.8888888888888888,
              "#fdca26"
             ],
             [
              1,
              "#f0f921"
             ]
            ],
            "type": "heatmap"
           }
          ],
          "heatmapgl": [
           {
            "colorbar": {
             "outlinewidth": 0,
             "ticks": ""
            },
            "colorscale": [
             [
              0,
              "#0d0887"
             ],
             [
              0.1111111111111111,
              "#46039f"
             ],
             [
              0.2222222222222222,
              "#7201a8"
             ],
             [
              0.3333333333333333,
              "#9c179e"
             ],
             [
              0.4444444444444444,
              "#bd3786"
             ],
             [
              0.5555555555555556,
              "#d8576b"
             ],
             [
              0.6666666666666666,
              "#ed7953"
             ],
             [
              0.7777777777777778,
              "#fb9f3a"
             ],
             [
              0.8888888888888888,
              "#fdca26"
             ],
             [
              1,
              "#f0f921"
             ]
            ],
            "type": "heatmapgl"
           }
          ],
          "histogram": [
           {
            "marker": {
             "pattern": {
              "fillmode": "overlay",
              "size": 10,
              "solidity": 0.2
             }
            },
            "type": "histogram"
           }
          ],
          "histogram2d": [
           {
            "colorbar": {
             "outlinewidth": 0,
             "ticks": ""
            },
            "colorscale": [
             [
              0,
              "#0d0887"
             ],
             [
              0.1111111111111111,
              "#46039f"
             ],
             [
              0.2222222222222222,
              "#7201a8"
             ],
             [
              0.3333333333333333,
              "#9c179e"
             ],
             [
              0.4444444444444444,
              "#bd3786"
             ],
             [
              0.5555555555555556,
              "#d8576b"
             ],
             [
              0.6666666666666666,
              "#ed7953"
             ],
             [
              0.7777777777777778,
              "#fb9f3a"
             ],
             [
              0.8888888888888888,
              "#fdca26"
             ],
             [
              1,
              "#f0f921"
             ]
            ],
            "type": "histogram2d"
           }
          ],
          "histogram2dcontour": [
           {
            "colorbar": {
             "outlinewidth": 0,
             "ticks": ""
            },
            "colorscale": [
             [
              0,
              "#0d0887"
             ],
             [
              0.1111111111111111,
              "#46039f"
             ],
             [
              0.2222222222222222,
              "#7201a8"
             ],
             [
              0.3333333333333333,
              "#9c179e"
             ],
             [
              0.4444444444444444,
              "#bd3786"
             ],
             [
              0.5555555555555556,
              "#d8576b"
             ],
             [
              0.6666666666666666,
              "#ed7953"
             ],
             [
              0.7777777777777778,
              "#fb9f3a"
             ],
             [
              0.8888888888888888,
              "#fdca26"
             ],
             [
              1,
              "#f0f921"
             ]
            ],
            "type": "histogram2dcontour"
           }
          ],
          "mesh3d": [
           {
            "colorbar": {
             "outlinewidth": 0,
             "ticks": ""
            },
            "type": "mesh3d"
           }
          ],
          "parcoords": [
           {
            "line": {
             "colorbar": {
              "outlinewidth": 0,
              "ticks": ""
             }
            },
            "type": "parcoords"
           }
          ],
          "pie": [
           {
            "automargin": true,
            "type": "pie"
           }
          ],
          "scatter": [
           {
            "fillpattern": {
             "fillmode": "overlay",
             "size": 10,
             "solidity": 0.2
            },
            "type": "scatter"
           }
          ],
          "scatter3d": [
           {
            "line": {
             "colorbar": {
              "outlinewidth": 0,
              "ticks": ""
             }
            },
            "marker": {
             "colorbar": {
              "outlinewidth": 0,
              "ticks": ""
             }
            },
            "type": "scatter3d"
           }
          ],
          "scattercarpet": [
           {
            "marker": {
             "colorbar": {
              "outlinewidth": 0,
              "ticks": ""
             }
            },
            "type": "scattercarpet"
           }
          ],
          "scattergeo": [
           {
            "marker": {
             "colorbar": {
              "outlinewidth": 0,
              "ticks": ""
             }
            },
            "type": "scattergeo"
           }
          ],
          "scattergl": [
           {
            "marker": {
             "colorbar": {
              "outlinewidth": 0,
              "ticks": ""
             }
            },
            "type": "scattergl"
           }
          ],
          "scattermapbox": [
           {
            "marker": {
             "colorbar": {
              "outlinewidth": 0,
              "ticks": ""
             }
            },
            "type": "scattermapbox"
           }
          ],
          "scatterpolar": [
           {
            "marker": {
             "colorbar": {
              "outlinewidth": 0,
              "ticks": ""
             }
            },
            "type": "scatterpolar"
           }
          ],
          "scatterpolargl": [
           {
            "marker": {
             "colorbar": {
              "outlinewidth": 0,
              "ticks": ""
             }
            },
            "type": "scatterpolargl"
           }
          ],
          "scatterternary": [
           {
            "marker": {
             "colorbar": {
              "outlinewidth": 0,
              "ticks": ""
             }
            },
            "type": "scatterternary"
           }
          ],
          "surface": [
           {
            "colorbar": {
             "outlinewidth": 0,
             "ticks": ""
            },
            "colorscale": [
             [
              0,
              "#0d0887"
             ],
             [
              0.1111111111111111,
              "#46039f"
             ],
             [
              0.2222222222222222,
              "#7201a8"
             ],
             [
              0.3333333333333333,
              "#9c179e"
             ],
             [
              0.4444444444444444,
              "#bd3786"
             ],
             [
              0.5555555555555556,
              "#d8576b"
             ],
             [
              0.6666666666666666,
              "#ed7953"
             ],
             [
              0.7777777777777778,
              "#fb9f3a"
             ],
             [
              0.8888888888888888,
              "#fdca26"
             ],
             [
              1,
              "#f0f921"
             ]
            ],
            "type": "surface"
           }
          ],
          "table": [
           {
            "cells": {
             "fill": {
              "color": "#EBF0F8"
             },
             "line": {
              "color": "white"
             }
            },
            "header": {
             "fill": {
              "color": "#C8D4E3"
             },
             "line": {
              "color": "white"
             }
            },
            "type": "table"
           }
          ]
         },
         "layout": {
          "annotationdefaults": {
           "arrowcolor": "#2a3f5f",
           "arrowhead": 0,
           "arrowwidth": 1
          },
          "autotypenumbers": "strict",
          "coloraxis": {
           "colorbar": {
            "outlinewidth": 0,
            "ticks": ""
           }
          },
          "colorscale": {
           "diverging": [
            [
             0,
             "#8e0152"
            ],
            [
             0.1,
             "#c51b7d"
            ],
            [
             0.2,
             "#de77ae"
            ],
            [
             0.3,
             "#f1b6da"
            ],
            [
             0.4,
             "#fde0ef"
            ],
            [
             0.5,
             "#f7f7f7"
            ],
            [
             0.6,
             "#e6f5d0"
            ],
            [
             0.7,
             "#b8e186"
            ],
            [
             0.8,
             "#7fbc41"
            ],
            [
             0.9,
             "#4d9221"
            ],
            [
             1,
             "#276419"
            ]
           ],
           "sequential": [
            [
             0,
             "#0d0887"
            ],
            [
             0.1111111111111111,
             "#46039f"
            ],
            [
             0.2222222222222222,
             "#7201a8"
            ],
            [
             0.3333333333333333,
             "#9c179e"
            ],
            [
             0.4444444444444444,
             "#bd3786"
            ],
            [
             0.5555555555555556,
             "#d8576b"
            ],
            [
             0.6666666666666666,
             "#ed7953"
            ],
            [
             0.7777777777777778,
             "#fb9f3a"
            ],
            [
             0.8888888888888888,
             "#fdca26"
            ],
            [
             1,
             "#f0f921"
            ]
           ],
           "sequentialminus": [
            [
             0,
             "#0d0887"
            ],
            [
             0.1111111111111111,
             "#46039f"
            ],
            [
             0.2222222222222222,
             "#7201a8"
            ],
            [
             0.3333333333333333,
             "#9c179e"
            ],
            [
             0.4444444444444444,
             "#bd3786"
            ],
            [
             0.5555555555555556,
             "#d8576b"
            ],
            [
             0.6666666666666666,
             "#ed7953"
            ],
            [
             0.7777777777777778,
             "#fb9f3a"
            ],
            [
             0.8888888888888888,
             "#fdca26"
            ],
            [
             1,
             "#f0f921"
            ]
           ]
          },
          "colorway": [
           "#636efa",
           "#EF553B",
           "#00cc96",
           "#ab63fa",
           "#FFA15A",
           "#19d3f3",
           "#FF6692",
           "#B6E880",
           "#FF97FF",
           "#FECB52"
          ],
          "font": {
           "color": "#2a3f5f"
          },
          "geo": {
           "bgcolor": "white",
           "lakecolor": "white",
           "landcolor": "#E5ECF6",
           "showlakes": true,
           "showland": true,
           "subunitcolor": "white"
          },
          "hoverlabel": {
           "align": "left"
          },
          "hovermode": "closest",
          "mapbox": {
           "style": "light"
          },
          "paper_bgcolor": "white",
          "plot_bgcolor": "#E5ECF6",
          "polar": {
           "angularaxis": {
            "gridcolor": "white",
            "linecolor": "white",
            "ticks": ""
           },
           "bgcolor": "#E5ECF6",
           "radialaxis": {
            "gridcolor": "white",
            "linecolor": "white",
            "ticks": ""
           }
          },
          "scene": {
           "xaxis": {
            "backgroundcolor": "#E5ECF6",
            "gridcolor": "white",
            "gridwidth": 2,
            "linecolor": "white",
            "showbackground": true,
            "ticks": "",
            "zerolinecolor": "white"
           },
           "yaxis": {
            "backgroundcolor": "#E5ECF6",
            "gridcolor": "white",
            "gridwidth": 2,
            "linecolor": "white",
            "showbackground": true,
            "ticks": "",
            "zerolinecolor": "white"
           },
           "zaxis": {
            "backgroundcolor": "#E5ECF6",
            "gridcolor": "white",
            "gridwidth": 2,
            "linecolor": "white",
            "showbackground": true,
            "ticks": "",
            "zerolinecolor": "white"
           }
          },
          "shapedefaults": {
           "line": {
            "color": "#2a3f5f"
           }
          },
          "ternary": {
           "aaxis": {
            "gridcolor": "white",
            "linecolor": "white",
            "ticks": ""
           },
           "baxis": {
            "gridcolor": "white",
            "linecolor": "white",
            "ticks": ""
           },
           "bgcolor": "#E5ECF6",
           "caxis": {
            "gridcolor": "white",
            "linecolor": "white",
            "ticks": ""
           }
          },
          "title": {
           "x": 0.05
          },
          "xaxis": {
           "automargin": true,
           "gridcolor": "white",
           "linecolor": "white",
           "ticks": "",
           "title": {
            "standoff": 15
           },
           "zerolinecolor": "white",
           "zerolinewidth": 2
          },
          "yaxis": {
           "automargin": true,
           "gridcolor": "white",
           "linecolor": "white",
           "ticks": "",
           "title": {
            "standoff": 15
           },
           "zerolinecolor": "white",
           "zerolinewidth": 2
          }
         }
        },
        "title": {
         "font": {
          "family": "Overpass",
          "size": 21
         },
         "text": "Natural Gas Transmission Hubs in the United States (2009)<br><sup>(Size based on avg. daily usage. Hover for info.</sup>"
        }
       }
      },
      "text/html": [
       "<div>                            <div id=\"955eefac-4a84-45e7-903b-3eca75a3c433\" class=\"plotly-graph-div\" style=\"height:525px; width:100%;\"></div>            <script type=\"text/javascript\">                require([\"plotly\"], function(Plotly) {                    window.PLOTLYENV=window.PLOTLYENV || {};                                    if (document.getElementById(\"955eefac-4a84-45e7-903b-3eca75a3c433\")) {                    Plotly.newPlot(                        \"955eefac-4a84-45e7-903b-3eca75a3c433\",                        [{\"geo\":\"geo\",\"hovertemplate\":\"<b>%{hovertext}</b><br><br>Region=Southwest<br>Avgdaily=%{marker.size}<br>Latitude=%{lat}<br>Longitude=%{lon}<extra></extra>\",\"hovertext\":[\"Blanco Hub\",\"Buffalo Wallow Center\",\"Carthage Hub\",\"Spindletop Storage Hub\",\"Houston Hub\",\"Katy (DCP) Hub\",\"Louisiana Hub\",\"Moss Bluff  Hub\",\"Perryville (Ouachita) Hub\",\"Texaco Gulf Star Center\",\"Waha (Atmos) Hub\",\"Waha (DCP/Atmos) Hub\",\"Egan Hub\",\"Louisiana Intrastate Gas Center\",\"Katy Storage Center\",\"Waha  (ENSTOR) Hub\",\"Aqua Dulce Hub\",\"Perryville Hub\",\"Waha (Encina) Hub\",\"Nautilus Hub\",\"Henry Hub\",\"Houston Hub & Transportation\",\"Waha  (EPGT) Texas Hub\",\"Eagle Hub\",\"Southeast Hub\",\"Jefferson Island Storage Hub\"],\"lat\":[36.6864,35.8337,32.1596,29.831,29.774,29.8331,29.964,30.1568,32.7035,29.9707,31.629,31.2251,30.2695,30.9118,29.7501,30.8163,27.5488,32.4354,31.2367,29.7248,29.8955,30.1063,31.0533,32.5077,30.1297,29.9762],\"legendgroup\":\"Southwest\",\"lon\":[-107.957,-100.459,-94.2789,-94.1679,-95.3936,-95.8512,-92.4296,-94.8578,-92.0616,-91.1768,-103.109,-103.113,-92.3574,-92.5285,-95.7861,-102.331,-97.6003,-91.5186,-103.169,-91.4846,-92.0631,-94.7793,-102.842,-91.591,-93.8421,-91.9863],\"marker\":{\"color\":\"#636efa\",\"size\":[1200,0,600,700,0,300,0,1600,0,0,300,300,2000,0,1400,450,400,1800,25,350,600,1000,250,2000,0,500],\"sizemode\":\"area\",\"sizeref\":6.25,\"symbol\":\"circle\"},\"mode\":\"markers\",\"name\":\"Southwest\",\"showlegend\":true,\"type\":\"scattergeo\"},{\"geo\":\"geo\",\"hovertemplate\":\"<b>%{hovertext}</b><br><br>Region=Midwest<br>Avgdaily=%{marker.size}<br>Latitude=%{lat}<br>Longitude=%{lon}<extra></extra>\",\"hovertext\":[\"Chicago Hub\",\"Lebanon Hub\",\"Grand Lacs Hub\",\"ANR Joliet Hub\"],\"lat\":[41.5002,39.4159,42.2222,41.4577],\"legendgroup\":\"Midwest\",\"lon\":[-88.2639,-84.1811,-83.4014,-88.132],\"marker\":{\"color\":\"#EF553B\",\"size\":[100,0,0,600],\"sizemode\":\"area\",\"sizeref\":6.25,\"symbol\":\"circle\"},\"mode\":\"markers\",\"name\":\"Midwest\",\"showlegend\":true,\"type\":\"scattergeo\"},{\"geo\":\"geo\",\"hovertemplate\":\"<b>%{hovertext}</b><br><br>Region=Northeast<br>Avgdaily=%{marker.size}<br>Latitude=%{lat}<br>Longitude=%{lon}<extra></extra>\",\"hovertext\":[\"Ellisburg-Leidy Center\",\"Dominion Hub\",\"Columbia Gas Center\",\"Avoca Hub\",\"Iroquois Center\",\"Tioga Hub\",\"Marcellus Eastern Access Hub\"],\"lat\":[41.3979,40.5819,41.1416,42.4401,42.6581,41.9222,40.6563],\"legendgroup\":\"Northeast\",\"lon\":[-77.79,-78.1274,-78.9074,-77.461,-74.1785,-77.1315,-80.0855],\"marker\":{\"color\":\"#00cc96\",\"size\":[432,2500,0,0,1400,0,0],\"sizemode\":\"area\",\"sizeref\":6.25,\"symbol\":\"circle\"},\"mode\":\"markers\",\"name\":\"Northeast\",\"showlegend\":true,\"type\":\"scattergeo\"},{\"geo\":\"geo\",\"hovertemplate\":\"<b>%{hovertext}</b><br><br>Region=Central<br>Avgdaily=%{marker.size}<br>Latitude=%{lat}<br>Longitude=%{lon}<extra></extra>\",\"hovertext\":[\"Mid-Continent Center\",\"Rocky Mountain Center\",\"Western Center\",\"Kiowa Hub\",\"Cheyenne Hub\",\"Opal Hub\",\"White River Hub\",\"Greasewood Hub\",\"Meeker Hub\"],\"lat\":[37.8699,41.7912,41.2974,37.5565,40.9407,41.7684,40.0895,40.0377,39.9523],\"legendgroup\":\"Central\",\"lon\":[-97.7721,-110.306,-110.508,-99.2558,-104.796,-110.399,-108.17,-108.2,-108.189],\"marker\":{\"color\":\"#ab63fa\",\"size\":[340,0,0,0,1800,1450,0,0,0],\"sizemode\":\"area\",\"sizeref\":6.25,\"symbol\":\"circle\"},\"mode\":\"markers\",\"name\":\"Central\",\"showlegend\":true,\"type\":\"scattergeo\"},{\"geo\":\"geo\",\"hovertemplate\":\"<b>%{hovertext}</b><br><br>Region=Western<br>Avgdaily=%{marker.size}<br>Latitude=%{lat}<br>Longitude=%{lon}<extra></extra>\",\"hovertext\":[\"California Energy Hub\",\"GTNW Market Center\",\"Ten Section Hub\",\"Mojave Center\",\"Golden Gate Center\",\"Malin Center\",\"Kingsgate Center\"],\"lat\":[35.8263,44.6846,34.6888,34.7244,38.4049,42.0338,48.9958],\"legendgroup\":\"Western\",\"lon\":[-119.373,-121.002,-119.368,-114.513,-121.914,-121.372,-116.188],\"marker\":{\"color\":\"#FFA15A\",\"size\":[900,2300,0,450,2000,0,0],\"sizemode\":\"area\",\"sizeref\":6.25,\"symbol\":\"circle\"},\"mode\":\"markers\",\"name\":\"Western\",\"showlegend\":true,\"type\":\"scattergeo\"},{\"geo\":\"geo\",\"hovertemplate\":\"<b>%{hovertext}</b><br><br>Region=Canada<br>Avgdaily=%{marker.size}<br>Latitude=%{lat}<br>Longitude=%{lon}<extra></extra>\",\"hovertext\":[\"Sumas Center\"],\"lat\":[49.0005],\"legendgroup\":\"Canada\",\"lon\":[-122.22],\"marker\":{\"color\":\"#19d3f3\",\"size\":[1000],\"sizemode\":\"area\",\"sizeref\":6.25,\"symbol\":\"circle\"},\"mode\":\"markers\",\"name\":\"Canada\",\"showlegend\":true,\"type\":\"scattergeo\"},{\"geo\":\"geo\",\"hovertemplate\":\"<b>%{hovertext}</b><br><br>Region=Southeast<br>Avgdaily=%{marker.size}<br>Latitude=%{lat}<br>Longitude=%{lon}<extra></extra>\",\"hovertext\":[\"Mobay Storage Hub\",\"Mississippi Hub\",\"Copiah Storage Hub\",\"Southeast Storage Hub\"],\"lat\":[30.496,31.2929,31.9134,31.3184],\"legendgroup\":\"Southeast\",\"lon\":[-88.2277,-88.0739,-90.5876,-88.6853],\"marker\":{\"color\":\"#FF6692\",\"size\":[0,0,0,600],\"sizemode\":\"area\",\"sizeref\":6.25,\"symbol\":\"circle\"},\"mode\":\"markers\",\"name\":\"Southeast\",\"showlegend\":true,\"type\":\"scattergeo\"}],                        {\"template\":{\"data\":{\"histogram2dcontour\":[{\"type\":\"histogram2dcontour\",\"colorbar\":{\"outlinewidth\":0,\"ticks\":\"\"},\"colorscale\":[[0.0,\"#0d0887\"],[0.1111111111111111,\"#46039f\"],[0.2222222222222222,\"#7201a8\"],[0.3333333333333333,\"#9c179e\"],[0.4444444444444444,\"#bd3786\"],[0.5555555555555556,\"#d8576b\"],[0.6666666666666666,\"#ed7953\"],[0.7777777777777778,\"#fb9f3a\"],[0.8888888888888888,\"#fdca26\"],[1.0,\"#f0f921\"]]}],\"choropleth\":[{\"type\":\"choropleth\",\"colorbar\":{\"outlinewidth\":0,\"ticks\":\"\"}}],\"histogram2d\":[{\"type\":\"histogram2d\",\"colorbar\":{\"outlinewidth\":0,\"ticks\":\"\"},\"colorscale\":[[0.0,\"#0d0887\"],[0.1111111111111111,\"#46039f\"],[0.2222222222222222,\"#7201a8\"],[0.3333333333333333,\"#9c179e\"],[0.4444444444444444,\"#bd3786\"],[0.5555555555555556,\"#d8576b\"],[0.6666666666666666,\"#ed7953\"],[0.7777777777777778,\"#fb9f3a\"],[0.8888888888888888,\"#fdca26\"],[1.0,\"#f0f921\"]]}],\"heatmap\":[{\"type\":\"heatmap\",\"colorbar\":{\"outlinewidth\":0,\"ticks\":\"\"},\"colorscale\":[[0.0,\"#0d0887\"],[0.1111111111111111,\"#46039f\"],[0.2222222222222222,\"#7201a8\"],[0.3333333333333333,\"#9c179e\"],[0.4444444444444444,\"#bd3786\"],[0.5555555555555556,\"#d8576b\"],[0.6666666666666666,\"#ed7953\"],[0.7777777777777778,\"#fb9f3a\"],[0.8888888888888888,\"#fdca26\"],[1.0,\"#f0f921\"]]}],\"heatmapgl\":[{\"type\":\"heatmapgl\",\"colorbar\":{\"outlinewidth\":0,\"ticks\":\"\"},\"colorscale\":[[0.0,\"#0d0887\"],[0.1111111111111111,\"#46039f\"],[0.2222222222222222,\"#7201a8\"],[0.3333333333333333,\"#9c179e\"],[0.4444444444444444,\"#bd3786\"],[0.5555555555555556,\"#d8576b\"],[0.6666666666666666,\"#ed7953\"],[0.7777777777777778,\"#fb9f3a\"],[0.8888888888888888,\"#fdca26\"],[1.0,\"#f0f921\"]]}],\"contourcarpet\":[{\"type\":\"contourcarpet\",\"colorbar\":{\"outlinewidth\":0,\"ticks\":\"\"}}],\"contour\":[{\"type\":\"contour\",\"colorbar\":{\"outlinewidth\":0,\"ticks\":\"\"},\"colorscale\":[[0.0,\"#0d0887\"],[0.1111111111111111,\"#46039f\"],[0.2222222222222222,\"#7201a8\"],[0.3333333333333333,\"#9c179e\"],[0.4444444444444444,\"#bd3786\"],[0.5555555555555556,\"#d8576b\"],[0.6666666666666666,\"#ed7953\"],[0.7777777777777778,\"#fb9f3a\"],[0.8888888888888888,\"#fdca26\"],[1.0,\"#f0f921\"]]}],\"surface\":[{\"type\":\"surface\",\"colorbar\":{\"outlinewidth\":0,\"ticks\":\"\"},\"colorscale\":[[0.0,\"#0d0887\"],[0.1111111111111111,\"#46039f\"],[0.2222222222222222,\"#7201a8\"],[0.3333333333333333,\"#9c179e\"],[0.4444444444444444,\"#bd3786\"],[0.5555555555555556,\"#d8576b\"],[0.6666666666666666,\"#ed7953\"],[0.7777777777777778,\"#fb9f3a\"],[0.8888888888888888,\"#fdca26\"],[1.0,\"#f0f921\"]]}],\"mesh3d\":[{\"type\":\"mesh3d\",\"colorbar\":{\"outlinewidth\":0,\"ticks\":\"\"}}],\"scatter\":[{\"fillpattern\":{\"fillmode\":\"overlay\",\"size\":10,\"solidity\":0.2},\"type\":\"scatter\"}],\"parcoords\":[{\"type\":\"parcoords\",\"line\":{\"colorbar\":{\"outlinewidth\":0,\"ticks\":\"\"}}}],\"scatterpolargl\":[{\"type\":\"scatterpolargl\",\"marker\":{\"colorbar\":{\"outlinewidth\":0,\"ticks\":\"\"}}}],\"bar\":[{\"error_x\":{\"color\":\"#2a3f5f\"},\"error_y\":{\"color\":\"#2a3f5f\"},\"marker\":{\"line\":{\"color\":\"#E5ECF6\",\"width\":0.5},\"pattern\":{\"fillmode\":\"overlay\",\"size\":10,\"solidity\":0.2}},\"type\":\"bar\"}],\"scattergeo\":[{\"type\":\"scattergeo\",\"marker\":{\"colorbar\":{\"outlinewidth\":0,\"ticks\":\"\"}}}],\"scatterpolar\":[{\"type\":\"scatterpolar\",\"marker\":{\"colorbar\":{\"outlinewidth\":0,\"ticks\":\"\"}}}],\"histogram\":[{\"marker\":{\"pattern\":{\"fillmode\":\"overlay\",\"size\":10,\"solidity\":0.2}},\"type\":\"histogram\"}],\"scattergl\":[{\"type\":\"scattergl\",\"marker\":{\"colorbar\":{\"outlinewidth\":0,\"ticks\":\"\"}}}],\"scatter3d\":[{\"type\":\"scatter3d\",\"line\":{\"colorbar\":{\"outlinewidth\":0,\"ticks\":\"\"}},\"marker\":{\"colorbar\":{\"outlinewidth\":0,\"ticks\":\"\"}}}],\"scattermapbox\":[{\"type\":\"scattermapbox\",\"marker\":{\"colorbar\":{\"outlinewidth\":0,\"ticks\":\"\"}}}],\"scatterternary\":[{\"type\":\"scatterternary\",\"marker\":{\"colorbar\":{\"outlinewidth\":0,\"ticks\":\"\"}}}],\"scattercarpet\":[{\"type\":\"scattercarpet\",\"marker\":{\"colorbar\":{\"outlinewidth\":0,\"ticks\":\"\"}}}],\"carpet\":[{\"aaxis\":{\"endlinecolor\":\"#2a3f5f\",\"gridcolor\":\"white\",\"linecolor\":\"white\",\"minorgridcolor\":\"white\",\"startlinecolor\":\"#2a3f5f\"},\"baxis\":{\"endlinecolor\":\"#2a3f5f\",\"gridcolor\":\"white\",\"linecolor\":\"white\",\"minorgridcolor\":\"white\",\"startlinecolor\":\"#2a3f5f\"},\"type\":\"carpet\"}],\"table\":[{\"cells\":{\"fill\":{\"color\":\"#EBF0F8\"},\"line\":{\"color\":\"white\"}},\"header\":{\"fill\":{\"color\":\"#C8D4E3\"},\"line\":{\"color\":\"white\"}},\"type\":\"table\"}],\"barpolar\":[{\"marker\":{\"line\":{\"color\":\"#E5ECF6\",\"width\":0.5},\"pattern\":{\"fillmode\":\"overlay\",\"size\":10,\"solidity\":0.2}},\"type\":\"barpolar\"}],\"pie\":[{\"automargin\":true,\"type\":\"pie\"}]},\"layout\":{\"autotypenumbers\":\"strict\",\"colorway\":[\"#636efa\",\"#EF553B\",\"#00cc96\",\"#ab63fa\",\"#FFA15A\",\"#19d3f3\",\"#FF6692\",\"#B6E880\",\"#FF97FF\",\"#FECB52\"],\"font\":{\"color\":\"#2a3f5f\"},\"hovermode\":\"closest\",\"hoverlabel\":{\"align\":\"left\"},\"paper_bgcolor\":\"white\",\"plot_bgcolor\":\"#E5ECF6\",\"polar\":{\"bgcolor\":\"#E5ECF6\",\"angularaxis\":{\"gridcolor\":\"white\",\"linecolor\":\"white\",\"ticks\":\"\"},\"radialaxis\":{\"gridcolor\":\"white\",\"linecolor\":\"white\",\"ticks\":\"\"}},\"ternary\":{\"bgcolor\":\"#E5ECF6\",\"aaxis\":{\"gridcolor\":\"white\",\"linecolor\":\"white\",\"ticks\":\"\"},\"baxis\":{\"gridcolor\":\"white\",\"linecolor\":\"white\",\"ticks\":\"\"},\"caxis\":{\"gridcolor\":\"white\",\"linecolor\":\"white\",\"ticks\":\"\"}},\"coloraxis\":{\"colorbar\":{\"outlinewidth\":0,\"ticks\":\"\"}},\"colorscale\":{\"sequential\":[[0.0,\"#0d0887\"],[0.1111111111111111,\"#46039f\"],[0.2222222222222222,\"#7201a8\"],[0.3333333333333333,\"#9c179e\"],[0.4444444444444444,\"#bd3786\"],[0.5555555555555556,\"#d8576b\"],[0.6666666666666666,\"#ed7953\"],[0.7777777777777778,\"#fb9f3a\"],[0.8888888888888888,\"#fdca26\"],[1.0,\"#f0f921\"]],\"sequentialminus\":[[0.0,\"#0d0887\"],[0.1111111111111111,\"#46039f\"],[0.2222222222222222,\"#7201a8\"],[0.3333333333333333,\"#9c179e\"],[0.4444444444444444,\"#bd3786\"],[0.5555555555555556,\"#d8576b\"],[0.6666666666666666,\"#ed7953\"],[0.7777777777777778,\"#fb9f3a\"],[0.8888888888888888,\"#fdca26\"],[1.0,\"#f0f921\"]],\"diverging\":[[0,\"#8e0152\"],[0.1,\"#c51b7d\"],[0.2,\"#de77ae\"],[0.3,\"#f1b6da\"],[0.4,\"#fde0ef\"],[0.5,\"#f7f7f7\"],[0.6,\"#e6f5d0\"],[0.7,\"#b8e186\"],[0.8,\"#7fbc41\"],[0.9,\"#4d9221\"],[1,\"#276419\"]]},\"xaxis\":{\"gridcolor\":\"white\",\"linecolor\":\"white\",\"ticks\":\"\",\"title\":{\"standoff\":15},\"zerolinecolor\":\"white\",\"automargin\":true,\"zerolinewidth\":2},\"yaxis\":{\"gridcolor\":\"white\",\"linecolor\":\"white\",\"ticks\":\"\",\"title\":{\"standoff\":15},\"zerolinecolor\":\"white\",\"automargin\":true,\"zerolinewidth\":2},\"scene\":{\"xaxis\":{\"backgroundcolor\":\"#E5ECF6\",\"gridcolor\":\"white\",\"linecolor\":\"white\",\"showbackground\":true,\"ticks\":\"\",\"zerolinecolor\":\"white\",\"gridwidth\":2},\"yaxis\":{\"backgroundcolor\":\"#E5ECF6\",\"gridcolor\":\"white\",\"linecolor\":\"white\",\"showbackground\":true,\"ticks\":\"\",\"zerolinecolor\":\"white\",\"gridwidth\":2},\"zaxis\":{\"backgroundcolor\":\"#E5ECF6\",\"gridcolor\":\"white\",\"linecolor\":\"white\",\"showbackground\":true,\"ticks\":\"\",\"zerolinecolor\":\"white\",\"gridwidth\":2}},\"shapedefaults\":{\"line\":{\"color\":\"#2a3f5f\"}},\"annotationdefaults\":{\"arrowcolor\":\"#2a3f5f\",\"arrowhead\":0,\"arrowwidth\":1},\"geo\":{\"bgcolor\":\"white\",\"landcolor\":\"#E5ECF6\",\"subunitcolor\":\"white\",\"showland\":true,\"showlakes\":true,\"lakecolor\":\"white\"},\"title\":{\"x\":0.05},\"mapbox\":{\"style\":\"light\"}}},\"geo\":{\"domain\":{\"x\":[0.0,1.0],\"y\":[0.0,1.0]},\"center\":{},\"scope\":\"usa\"},\"legend\":{\"title\":{\"text\":\"Region\"},\"tracegroupgap\":0,\"itemsizing\":\"constant\"},\"margin\":{\"t\":60},\"title\":{\"text\":\"Natural Gas Transmission Hubs in the United States (2009)<br><sup>(Size based on avg. daily usage. Hover for info.</sup>\",\"font\":{\"family\":\"Overpass\",\"size\":21}}},                        {\"responsive\": true}                    ).then(function(){\n",
       "                            \n",
       "var gd = document.getElementById('955eefac-4a84-45e7-903b-3eca75a3c433');\n",
       "var x = new MutationObserver(function (mutations, observer) {{\n",
       "        var display = window.getComputedStyle(gd).display;\n",
       "        if (!display || display === 'none') {{\n",
       "            console.log([gd, 'removed!']);\n",
       "            Plotly.purge(gd);\n",
       "            observer.disconnect();\n",
       "        }}\n",
       "}});\n",
       "\n",
       "// Listen for the removal of the full notebook cells\n",
       "var notebookContainer = gd.closest('#notebook-container');\n",
       "if (notebookContainer) {{\n",
       "    x.observe(notebookContainer, {childList: true});\n",
       "}}\n",
       "\n",
       "// Listen for the clearing of the current output cell\n",
       "var outputEl = gd.closest('.output');\n",
       "if (outputEl) {{\n",
       "    x.observe(outputEl, {childList: true});\n",
       "}}\n",
       "\n",
       "                        })                };                });            </script>        </div>"
      ]
     },
     "metadata": {},
     "output_type": "display_data"
    }
   ],
   "source": [
    "fig = px.scatter_geo(df, lat='Latitude', lon='Longitude', \n",
    "                     scope = 'usa', hover_name='Hub_name', \n",
    "                     size='Avgdaily', color='Region')\n",
    "\n",
    "fig.update_layout(\n",
    "        title = 'Natural Gas Transmission Hubs in the United States (2009)<br><sup>(Size based on avg. daily usage. Hover for info.</sup>'\n",
    "    , title_font_family=\"Overpass\", title_font_size=21,)\n",
    "\n",
    "\n",
    "fig.show()\n",
    "\n"
   ]
  },
  {
   "cell_type": "code",
   "execution_count": 109,
   "id": "72adf824",
   "metadata": {},
   "outputs": [
    {
     "data": {
      "application/vnd.plotly.v1+json": {
       "config": {
        "plotlyServerURL": "https://plot.ly"
       },
       "data": [
        {
         "geo": "geo",
         "hovertemplate": "<b>%{hovertext}</b><br><br>Numcust=%{marker.size}<br>Latitude=%{lat}<br>Longitude=%{lon}<br>Avgdaily=%{marker.color}<extra></extra>",
         "hovertext": [
          "Blanco Hub",
          "Buffalo Wallow Center",
          "Carthage Hub",
          "Chicago Hub",
          "Ellisburg-Leidy Center",
          "Spindletop Storage Hub",
          "Houston Hub",
          "Katy (DCP) Hub",
          "Lebanon Hub",
          "Louisiana Hub",
          "Moss Bluff  Hub",
          "Perryville (Ouachita) Hub",
          "Texaco Gulf Star Center",
          "Waha (Atmos) Hub",
          "Waha (DCP/Atmos) Hub",
          "Egan Hub",
          "Louisiana Intrastate Gas Center",
          "Katy Storage Center",
          "Waha  (ENSTOR) Hub",
          "Aqua Dulce Hub",
          "Grand Lacs Hub",
          "Mid-Continent Center",
          "Dominion Hub",
          "Columbia Gas Center",
          "Rocky Mountain Center",
          "Western Center",
          "California Energy Hub",
          "GTNW Market Center",
          "Ten Section Hub",
          "Perryville Hub",
          "Avoca Hub",
          "Iroquois Center",
          "Tioga Hub",
          "Mojave Center",
          "Golden Gate Center",
          "Sumas Center",
          "Waha (Encina) Hub",
          "Kiowa Hub",
          "Mobay Storage Hub",
          "Cheyenne Hub",
          "Nautilus Hub",
          "Malin Center",
          "ANR Joliet Hub",
          "Mississippi Hub",
          "Henry Hub",
          "Copiah Storage Hub",
          "Kingsgate Center",
          "Opal Hub",
          "Southeast Storage Hub",
          "Houston Hub & Transportation",
          "Waha  (EPGT) Texas Hub",
          "White River Hub",
          "Eagle Hub",
          "Marcellus Eastern Access Hub",
          "Southeast Hub",
          "Greasewood Hub",
          "Meeker Hub",
          "Jefferson Island Storage Hub"
         ],
         "lat": [
          36.6864,
          35.8337,
          32.1596,
          41.5002,
          41.3979,
          29.831,
          29.774,
          29.8331,
          39.4159,
          29.964,
          30.1568,
          32.7035,
          29.9707,
          31.629,
          31.2251,
          30.2695,
          30.9118,
          29.7501,
          30.8163,
          27.5488,
          42.2222,
          37.8699,
          40.5819,
          41.1416,
          41.7912,
          41.2974,
          35.8263,
          44.6846,
          34.6888,
          32.4354,
          42.4401,
          42.6581,
          41.9222,
          34.7244,
          38.4049,
          49.0005,
          31.2367,
          37.5565,
          30.496,
          40.9407,
          29.7248,
          42.0338,
          41.4577,
          31.2929,
          29.8955,
          31.9134,
          48.9958,
          41.7684,
          31.3184,
          30.1063,
          31.0533,
          40.0895,
          32.5077,
          40.6563,
          30.1297,
          40.0377,
          39.9523,
          29.9762
         ],
         "legendgroup": "",
         "lon": [
          -107.957,
          -100.459,
          -94.2789,
          -88.2639,
          -77.79,
          -94.1679,
          -95.3936,
          -95.8512,
          -84.1811,
          -92.4296,
          -94.8578,
          -92.0616,
          -91.1768,
          -103.109,
          -103.113,
          -92.3574,
          -92.5285,
          -95.7861,
          -102.331,
          -97.6003,
          -83.4014,
          -97.7721,
          -78.1274,
          -78.9074,
          -110.306,
          -110.508,
          -119.373,
          -121.002,
          -119.368,
          -91.5186,
          -77.461,
          -74.1785,
          -77.1315,
          -114.513,
          -121.914,
          -122.22,
          -103.169,
          -99.2558,
          -88.2277,
          -104.796,
          -91.4846,
          -121.372,
          -88.132,
          -88.0739,
          -92.0631,
          -90.5876,
          -116.188,
          -110.399,
          -88.6853,
          -94.7793,
          -102.842,
          -108.17,
          -91.591,
          -80.0855,
          -93.8421,
          -108.2,
          -108.189,
          -91.9863
         ],
         "marker": {
          "color": [
           1200,
           0,
           600,
           100,
           432,
           700,
           0,
           300,
           0,
           0,
           1600,
           0,
           0,
           300,
           300,
           2000,
           0,
           1400,
           450,
           400,
           0,
           340,
           2500,
           0,
           0,
           0,
           900,
           2300,
           0,
           1800,
           0,
           1400,
           0,
           450,
           2000,
           1000,
           25,
           0,
           0,
           1800,
           350,
           0,
           600,
           0,
           600,
           0,
           0,
           1450,
           600,
           1000,
           250,
           0,
           2000,
           0,
           0,
           0,
           0,
           500
          ],
          "coloraxis": "coloraxis",
          "size": [
           40,
           20,
           200,
           10,
           85,
           20,
           200,
           12,
           0,
           0,
           40,
           0,
           350,
           50,
           62,
           40,
           50,
           30,
           0,
           0,
           0,
           10,
           250,
           50,
           0,
           0,
           60,
           660,
           0,
           0,
           0,
           55,
           0,
           7,
           20,
           120,
           0,
           0,
           0,
           40,
           14,
           0,
           60,
           0,
           180,
           0,
           0,
           80,
           0,
           0,
           30,
           6,
           0,
           0,
           0,
           0,
           0,
           0
          ],
          "sizemode": "area",
          "sizeref": 1.65,
          "symbol": "circle"
         },
         "mode": "markers",
         "name": "",
         "showlegend": false,
         "type": "scattergeo"
        }
       ],
       "layout": {
        "coloraxis": {
         "colorbar": {
          "title": {
           "text": "Avgdaily"
          }
         },
         "colorscale": [
          [
           0,
           "#0d0887"
          ],
          [
           0.1111111111111111,
           "#46039f"
          ],
          [
           0.2222222222222222,
           "#7201a8"
          ],
          [
           0.3333333333333333,
           "#9c179e"
          ],
          [
           0.4444444444444444,
           "#bd3786"
          ],
          [
           0.5555555555555556,
           "#d8576b"
          ],
          [
           0.6666666666666666,
           "#ed7953"
          ],
          [
           0.7777777777777778,
           "#fb9f3a"
          ],
          [
           0.8888888888888888,
           "#fdca26"
          ],
          [
           1,
           "#f0f921"
          ]
         ]
        },
        "geo": {
         "center": {},
         "countrycolor": "Black",
         "domain": {
          "x": [
           0,
           1
          ],
          "y": [
           0,
           1
          ]
         },
         "landcolor": "LightGreen",
         "lataxis": {
          "showgrid": true
         },
         "lonaxis": {
          "showgrid": true
         },
         "resolution": 110,
         "scope": "usa",
         "showcountries": true,
         "showland": true,
         "showsubunits": true,
         "subunitcolor": "Black",
         "visible": false
        },
        "legend": {
         "itemsizing": "constant",
         "tracegroupgap": 0
        },
        "margin": {
         "t": 60
        },
        "template": {
         "data": {
          "bar": [
           {
            "error_x": {
             "color": "#2a3f5f"
            },
            "error_y": {
             "color": "#2a3f5f"
            },
            "marker": {
             "line": {
              "color": "#E5ECF6",
              "width": 0.5
             },
             "pattern": {
              "fillmode": "overlay",
              "size": 10,
              "solidity": 0.2
             }
            },
            "type": "bar"
           }
          ],
          "barpolar": [
           {
            "marker": {
             "line": {
              "color": "#E5ECF6",
              "width": 0.5
             },
             "pattern": {
              "fillmode": "overlay",
              "size": 10,
              "solidity": 0.2
             }
            },
            "type": "barpolar"
           }
          ],
          "carpet": [
           {
            "aaxis": {
             "endlinecolor": "#2a3f5f",
             "gridcolor": "white",
             "linecolor": "white",
             "minorgridcolor": "white",
             "startlinecolor": "#2a3f5f"
            },
            "baxis": {
             "endlinecolor": "#2a3f5f",
             "gridcolor": "white",
             "linecolor": "white",
             "minorgridcolor": "white",
             "startlinecolor": "#2a3f5f"
            },
            "type": "carpet"
           }
          ],
          "choropleth": [
           {
            "colorbar": {
             "outlinewidth": 0,
             "ticks": ""
            },
            "type": "choropleth"
           }
          ],
          "contour": [
           {
            "colorbar": {
             "outlinewidth": 0,
             "ticks": ""
            },
            "colorscale": [
             [
              0,
              "#0d0887"
             ],
             [
              0.1111111111111111,
              "#46039f"
             ],
             [
              0.2222222222222222,
              "#7201a8"
             ],
             [
              0.3333333333333333,
              "#9c179e"
             ],
             [
              0.4444444444444444,
              "#bd3786"
             ],
             [
              0.5555555555555556,
              "#d8576b"
             ],
             [
              0.6666666666666666,
              "#ed7953"
             ],
             [
              0.7777777777777778,
              "#fb9f3a"
             ],
             [
              0.8888888888888888,
              "#fdca26"
             ],
             [
              1,
              "#f0f921"
             ]
            ],
            "type": "contour"
           }
          ],
          "contourcarpet": [
           {
            "colorbar": {
             "outlinewidth": 0,
             "ticks": ""
            },
            "type": "contourcarpet"
           }
          ],
          "heatmap": [
           {
            "colorbar": {
             "outlinewidth": 0,
             "ticks": ""
            },
            "colorscale": [
             [
              0,
              "#0d0887"
             ],
             [
              0.1111111111111111,
              "#46039f"
             ],
             [
              0.2222222222222222,
              "#7201a8"
             ],
             [
              0.3333333333333333,
              "#9c179e"
             ],
             [
              0.4444444444444444,
              "#bd3786"
             ],
             [
              0.5555555555555556,
              "#d8576b"
             ],
             [
              0.6666666666666666,
              "#ed7953"
             ],
             [
              0.7777777777777778,
              "#fb9f3a"
             ],
             [
              0.8888888888888888,
              "#fdca26"
             ],
             [
              1,
              "#f0f921"
             ]
            ],
            "type": "heatmap"
           }
          ],
          "heatmapgl": [
           {
            "colorbar": {
             "outlinewidth": 0,
             "ticks": ""
            },
            "colorscale": [
             [
              0,
              "#0d0887"
             ],
             [
              0.1111111111111111,
              "#46039f"
             ],
             [
              0.2222222222222222,
              "#7201a8"
             ],
             [
              0.3333333333333333,
              "#9c179e"
             ],
             [
              0.4444444444444444,
              "#bd3786"
             ],
             [
              0.5555555555555556,
              "#d8576b"
             ],
             [
              0.6666666666666666,
              "#ed7953"
             ],
             [
              0.7777777777777778,
              "#fb9f3a"
             ],
             [
              0.8888888888888888,
              "#fdca26"
             ],
             [
              1,
              "#f0f921"
             ]
            ],
            "type": "heatmapgl"
           }
          ],
          "histogram": [
           {
            "marker": {
             "pattern": {
              "fillmode": "overlay",
              "size": 10,
              "solidity": 0.2
             }
            },
            "type": "histogram"
           }
          ],
          "histogram2d": [
           {
            "colorbar": {
             "outlinewidth": 0,
             "ticks": ""
            },
            "colorscale": [
             [
              0,
              "#0d0887"
             ],
             [
              0.1111111111111111,
              "#46039f"
             ],
             [
              0.2222222222222222,
              "#7201a8"
             ],
             [
              0.3333333333333333,
              "#9c179e"
             ],
             [
              0.4444444444444444,
              "#bd3786"
             ],
             [
              0.5555555555555556,
              "#d8576b"
             ],
             [
              0.6666666666666666,
              "#ed7953"
             ],
             [
              0.7777777777777778,
              "#fb9f3a"
             ],
             [
              0.8888888888888888,
              "#fdca26"
             ],
             [
              1,
              "#f0f921"
             ]
            ],
            "type": "histogram2d"
           }
          ],
          "histogram2dcontour": [
           {
            "colorbar": {
             "outlinewidth": 0,
             "ticks": ""
            },
            "colorscale": [
             [
              0,
              "#0d0887"
             ],
             [
              0.1111111111111111,
              "#46039f"
             ],
             [
              0.2222222222222222,
              "#7201a8"
             ],
             [
              0.3333333333333333,
              "#9c179e"
             ],
             [
              0.4444444444444444,
              "#bd3786"
             ],
             [
              0.5555555555555556,
              "#d8576b"
             ],
             [
              0.6666666666666666,
              "#ed7953"
             ],
             [
              0.7777777777777778,
              "#fb9f3a"
             ],
             [
              0.8888888888888888,
              "#fdca26"
             ],
             [
              1,
              "#f0f921"
             ]
            ],
            "type": "histogram2dcontour"
           }
          ],
          "mesh3d": [
           {
            "colorbar": {
             "outlinewidth": 0,
             "ticks": ""
            },
            "type": "mesh3d"
           }
          ],
          "parcoords": [
           {
            "line": {
             "colorbar": {
              "outlinewidth": 0,
              "ticks": ""
             }
            },
            "type": "parcoords"
           }
          ],
          "pie": [
           {
            "automargin": true,
            "type": "pie"
           }
          ],
          "scatter": [
           {
            "fillpattern": {
             "fillmode": "overlay",
             "size": 10,
             "solidity": 0.2
            },
            "type": "scatter"
           }
          ],
          "scatter3d": [
           {
            "line": {
             "colorbar": {
              "outlinewidth": 0,
              "ticks": ""
             }
            },
            "marker": {
             "colorbar": {
              "outlinewidth": 0,
              "ticks": ""
             }
            },
            "type": "scatter3d"
           }
          ],
          "scattercarpet": [
           {
            "marker": {
             "colorbar": {
              "outlinewidth": 0,
              "ticks": ""
             }
            },
            "type": "scattercarpet"
           }
          ],
          "scattergeo": [
           {
            "marker": {
             "colorbar": {
              "outlinewidth": 0,
              "ticks": ""
             }
            },
            "type": "scattergeo"
           }
          ],
          "scattergl": [
           {
            "marker": {
             "colorbar": {
              "outlinewidth": 0,
              "ticks": ""
             }
            },
            "type": "scattergl"
           }
          ],
          "scattermapbox": [
           {
            "marker": {
             "colorbar": {
              "outlinewidth": 0,
              "ticks": ""
             }
            },
            "type": "scattermapbox"
           }
          ],
          "scatterpolar": [
           {
            "marker": {
             "colorbar": {
              "outlinewidth": 0,
              "ticks": ""
             }
            },
            "type": "scatterpolar"
           }
          ],
          "scatterpolargl": [
           {
            "marker": {
             "colorbar": {
              "outlinewidth": 0,
              "ticks": ""
             }
            },
            "type": "scatterpolargl"
           }
          ],
          "scatterternary": [
           {
            "marker": {
             "colorbar": {
              "outlinewidth": 0,
              "ticks": ""
             }
            },
            "type": "scatterternary"
           }
          ],
          "surface": [
           {
            "colorbar": {
             "outlinewidth": 0,
             "ticks": ""
            },
            "colorscale": [
             [
              0,
              "#0d0887"
             ],
             [
              0.1111111111111111,
              "#46039f"
             ],
             [
              0.2222222222222222,
              "#7201a8"
             ],
             [
              0.3333333333333333,
              "#9c179e"
             ],
             [
              0.4444444444444444,
              "#bd3786"
             ],
             [
              0.5555555555555556,
              "#d8576b"
             ],
             [
              0.6666666666666666,
              "#ed7953"
             ],
             [
              0.7777777777777778,
              "#fb9f3a"
             ],
             [
              0.8888888888888888,
              "#fdca26"
             ],
             [
              1,
              "#f0f921"
             ]
            ],
            "type": "surface"
           }
          ],
          "table": [
           {
            "cells": {
             "fill": {
              "color": "#EBF0F8"
             },
             "line": {
              "color": "white"
             }
            },
            "header": {
             "fill": {
              "color": "#C8D4E3"
             },
             "line": {
              "color": "white"
             }
            },
            "type": "table"
           }
          ]
         },
         "layout": {
          "annotationdefaults": {
           "arrowcolor": "#2a3f5f",
           "arrowhead": 0,
           "arrowwidth": 1
          },
          "autotypenumbers": "strict",
          "coloraxis": {
           "colorbar": {
            "outlinewidth": 0,
            "ticks": ""
           }
          },
          "colorscale": {
           "diverging": [
            [
             0,
             "#8e0152"
            ],
            [
             0.1,
             "#c51b7d"
            ],
            [
             0.2,
             "#de77ae"
            ],
            [
             0.3,
             "#f1b6da"
            ],
            [
             0.4,
             "#fde0ef"
            ],
            [
             0.5,
             "#f7f7f7"
            ],
            [
             0.6,
             "#e6f5d0"
            ],
            [
             0.7,
             "#b8e186"
            ],
            [
             0.8,
             "#7fbc41"
            ],
            [
             0.9,
             "#4d9221"
            ],
            [
             1,
             "#276419"
            ]
           ],
           "sequential": [
            [
             0,
             "#0d0887"
            ],
            [
             0.1111111111111111,
             "#46039f"
            ],
            [
             0.2222222222222222,
             "#7201a8"
            ],
            [
             0.3333333333333333,
             "#9c179e"
            ],
            [
             0.4444444444444444,
             "#bd3786"
            ],
            [
             0.5555555555555556,
             "#d8576b"
            ],
            [
             0.6666666666666666,
             "#ed7953"
            ],
            [
             0.7777777777777778,
             "#fb9f3a"
            ],
            [
             0.8888888888888888,
             "#fdca26"
            ],
            [
             1,
             "#f0f921"
            ]
           ],
           "sequentialminus": [
            [
             0,
             "#0d0887"
            ],
            [
             0.1111111111111111,
             "#46039f"
            ],
            [
             0.2222222222222222,
             "#7201a8"
            ],
            [
             0.3333333333333333,
             "#9c179e"
            ],
            [
             0.4444444444444444,
             "#bd3786"
            ],
            [
             0.5555555555555556,
             "#d8576b"
            ],
            [
             0.6666666666666666,
             "#ed7953"
            ],
            [
             0.7777777777777778,
             "#fb9f3a"
            ],
            [
             0.8888888888888888,
             "#fdca26"
            ],
            [
             1,
             "#f0f921"
            ]
           ]
          },
          "colorway": [
           "#636efa",
           "#EF553B",
           "#00cc96",
           "#ab63fa",
           "#FFA15A",
           "#19d3f3",
           "#FF6692",
           "#B6E880",
           "#FF97FF",
           "#FECB52"
          ],
          "font": {
           "color": "#2a3f5f"
          },
          "geo": {
           "bgcolor": "white",
           "lakecolor": "white",
           "landcolor": "#E5ECF6",
           "showlakes": true,
           "showland": true,
           "subunitcolor": "white"
          },
          "hoverlabel": {
           "align": "left"
          },
          "hovermode": "closest",
          "mapbox": {
           "style": "light"
          },
          "paper_bgcolor": "white",
          "plot_bgcolor": "#E5ECF6",
          "polar": {
           "angularaxis": {
            "gridcolor": "white",
            "linecolor": "white",
            "ticks": ""
           },
           "bgcolor": "#E5ECF6",
           "radialaxis": {
            "gridcolor": "white",
            "linecolor": "white",
            "ticks": ""
           }
          },
          "scene": {
           "xaxis": {
            "backgroundcolor": "#E5ECF6",
            "gridcolor": "white",
            "gridwidth": 2,
            "linecolor": "white",
            "showbackground": true,
            "ticks": "",
            "zerolinecolor": "white"
           },
           "yaxis": {
            "backgroundcolor": "#E5ECF6",
            "gridcolor": "white",
            "gridwidth": 2,
            "linecolor": "white",
            "showbackground": true,
            "ticks": "",
            "zerolinecolor": "white"
           },
           "zaxis": {
            "backgroundcolor": "#E5ECF6",
            "gridcolor": "white",
            "gridwidth": 2,
            "linecolor": "white",
            "showbackground": true,
            "ticks": "",
            "zerolinecolor": "white"
           }
          },
          "shapedefaults": {
           "line": {
            "color": "#2a3f5f"
           }
          },
          "ternary": {
           "aaxis": {
            "gridcolor": "white",
            "linecolor": "white",
            "ticks": ""
           },
           "baxis": {
            "gridcolor": "white",
            "linecolor": "white",
            "ticks": ""
           },
           "bgcolor": "#E5ECF6",
           "caxis": {
            "gridcolor": "white",
            "linecolor": "white",
            "ticks": ""
           }
          },
          "title": {
           "x": 0.05
          },
          "xaxis": {
           "automargin": true,
           "gridcolor": "white",
           "linecolor": "white",
           "ticks": "",
           "title": {
            "standoff": 15
           },
           "zerolinecolor": "white",
           "zerolinewidth": 2
          },
          "yaxis": {
           "automargin": true,
           "gridcolor": "white",
           "linecolor": "white",
           "ticks": "",
           "title": {
            "standoff": 15
           },
           "zerolinecolor": "white",
           "zerolinewidth": 2
          }
         }
        },
        "title": {
         "font": {
          "color": "Purple",
          "family": "PT Sans Narrow",
          "size": 21
         },
         "text": "Natural Gas Transmission Hubs in the United States (2009)<br><sup>(Size based on num. of customers. Hover for info.</sup>"
        }
       }
      },
      "text/html": [
       "<div>                            <div id=\"55bc5ee7-2df6-4cfa-8e12-317ee26f3d99\" class=\"plotly-graph-div\" style=\"height:525px; width:100%;\"></div>            <script type=\"text/javascript\">                require([\"plotly\"], function(Plotly) {                    window.PLOTLYENV=window.PLOTLYENV || {};                                    if (document.getElementById(\"55bc5ee7-2df6-4cfa-8e12-317ee26f3d99\")) {                    Plotly.newPlot(                        \"55bc5ee7-2df6-4cfa-8e12-317ee26f3d99\",                        [{\"geo\":\"geo\",\"hovertemplate\":\"<b>%{hovertext}</b><br><br>Numcust=%{marker.size}<br>Latitude=%{lat}<br>Longitude=%{lon}<br>Avgdaily=%{marker.color}<extra></extra>\",\"hovertext\":[\"Blanco Hub\",\"Buffalo Wallow Center\",\"Carthage Hub\",\"Chicago Hub\",\"Ellisburg-Leidy Center\",\"Spindletop Storage Hub\",\"Houston Hub\",\"Katy (DCP) Hub\",\"Lebanon Hub\",\"Louisiana Hub\",\"Moss Bluff  Hub\",\"Perryville (Ouachita) Hub\",\"Texaco Gulf Star Center\",\"Waha (Atmos) Hub\",\"Waha (DCP/Atmos) Hub\",\"Egan Hub\",\"Louisiana Intrastate Gas Center\",\"Katy Storage Center\",\"Waha  (ENSTOR) Hub\",\"Aqua Dulce Hub\",\"Grand Lacs Hub\",\"Mid-Continent Center\",\"Dominion Hub\",\"Columbia Gas Center\",\"Rocky Mountain Center\",\"Western Center\",\"California Energy Hub\",\"GTNW Market Center\",\"Ten Section Hub\",\"Perryville Hub\",\"Avoca Hub\",\"Iroquois Center\",\"Tioga Hub\",\"Mojave Center\",\"Golden Gate Center\",\"Sumas Center\",\"Waha (Encina) Hub\",\"Kiowa Hub\",\"Mobay Storage Hub\",\"Cheyenne Hub\",\"Nautilus Hub\",\"Malin Center\",\"ANR Joliet Hub\",\"Mississippi Hub\",\"Henry Hub\",\"Copiah Storage Hub\",\"Kingsgate Center\",\"Opal Hub\",\"Southeast Storage Hub\",\"Houston Hub & Transportation\",\"Waha  (EPGT) Texas Hub\",\"White River Hub\",\"Eagle Hub\",\"Marcellus Eastern Access Hub\",\"Southeast Hub\",\"Greasewood Hub\",\"Meeker Hub\",\"Jefferson Island Storage Hub\"],\"lat\":[36.6864,35.8337,32.1596,41.5002,41.3979,29.831,29.774,29.8331,39.4159,29.964,30.1568,32.7035,29.9707,31.629,31.2251,30.2695,30.9118,29.7501,30.8163,27.5488,42.2222,37.8699,40.5819,41.1416,41.7912,41.2974,35.8263,44.6846,34.6888,32.4354,42.4401,42.6581,41.9222,34.7244,38.4049,49.0005,31.2367,37.5565,30.496,40.9407,29.7248,42.0338,41.4577,31.2929,29.8955,31.9134,48.9958,41.7684,31.3184,30.1063,31.0533,40.0895,32.5077,40.6563,30.1297,40.0377,39.9523,29.9762],\"legendgroup\":\"\",\"lon\":[-107.957,-100.459,-94.2789,-88.2639,-77.79,-94.1679,-95.3936,-95.8512,-84.1811,-92.4296,-94.8578,-92.0616,-91.1768,-103.109,-103.113,-92.3574,-92.5285,-95.7861,-102.331,-97.6003,-83.4014,-97.7721,-78.1274,-78.9074,-110.306,-110.508,-119.373,-121.002,-119.368,-91.5186,-77.461,-74.1785,-77.1315,-114.513,-121.914,-122.22,-103.169,-99.2558,-88.2277,-104.796,-91.4846,-121.372,-88.132,-88.0739,-92.0631,-90.5876,-116.188,-110.399,-88.6853,-94.7793,-102.842,-108.17,-91.591,-80.0855,-93.8421,-108.2,-108.189,-91.9863],\"marker\":{\"color\":[1200,0,600,100,432,700,0,300,0,0,1600,0,0,300,300,2000,0,1400,450,400,0,340,2500,0,0,0,900,2300,0,1800,0,1400,0,450,2000,1000,25,0,0,1800,350,0,600,0,600,0,0,1450,600,1000,250,0,2000,0,0,0,0,500],\"coloraxis\":\"coloraxis\",\"size\":[40,20,200,10,85,20,200,12,0,0,40,0,350,50,62,40,50,30,0,0,0,10,250,50,0,0,60,660,0,0,0,55,0,7,20,120,0,0,0,40,14,0,60,0,180,0,0,80,0,0,30,6,0,0,0,0,0,0],\"sizemode\":\"area\",\"sizeref\":1.65,\"symbol\":\"circle\"},\"mode\":\"markers\",\"name\":\"\",\"showlegend\":false,\"type\":\"scattergeo\"}],                        {\"template\":{\"data\":{\"histogram2dcontour\":[{\"type\":\"histogram2dcontour\",\"colorbar\":{\"outlinewidth\":0,\"ticks\":\"\"},\"colorscale\":[[0.0,\"#0d0887\"],[0.1111111111111111,\"#46039f\"],[0.2222222222222222,\"#7201a8\"],[0.3333333333333333,\"#9c179e\"],[0.4444444444444444,\"#bd3786\"],[0.5555555555555556,\"#d8576b\"],[0.6666666666666666,\"#ed7953\"],[0.7777777777777778,\"#fb9f3a\"],[0.8888888888888888,\"#fdca26\"],[1.0,\"#f0f921\"]]}],\"choropleth\":[{\"type\":\"choropleth\",\"colorbar\":{\"outlinewidth\":0,\"ticks\":\"\"}}],\"histogram2d\":[{\"type\":\"histogram2d\",\"colorbar\":{\"outlinewidth\":0,\"ticks\":\"\"},\"colorscale\":[[0.0,\"#0d0887\"],[0.1111111111111111,\"#46039f\"],[0.2222222222222222,\"#7201a8\"],[0.3333333333333333,\"#9c179e\"],[0.4444444444444444,\"#bd3786\"],[0.5555555555555556,\"#d8576b\"],[0.6666666666666666,\"#ed7953\"],[0.7777777777777778,\"#fb9f3a\"],[0.8888888888888888,\"#fdca26\"],[1.0,\"#f0f921\"]]}],\"heatmap\":[{\"type\":\"heatmap\",\"colorbar\":{\"outlinewidth\":0,\"ticks\":\"\"},\"colorscale\":[[0.0,\"#0d0887\"],[0.1111111111111111,\"#46039f\"],[0.2222222222222222,\"#7201a8\"],[0.3333333333333333,\"#9c179e\"],[0.4444444444444444,\"#bd3786\"],[0.5555555555555556,\"#d8576b\"],[0.6666666666666666,\"#ed7953\"],[0.7777777777777778,\"#fb9f3a\"],[0.8888888888888888,\"#fdca26\"],[1.0,\"#f0f921\"]]}],\"heatmapgl\":[{\"type\":\"heatmapgl\",\"colorbar\":{\"outlinewidth\":0,\"ticks\":\"\"},\"colorscale\":[[0.0,\"#0d0887\"],[0.1111111111111111,\"#46039f\"],[0.2222222222222222,\"#7201a8\"],[0.3333333333333333,\"#9c179e\"],[0.4444444444444444,\"#bd3786\"],[0.5555555555555556,\"#d8576b\"],[0.6666666666666666,\"#ed7953\"],[0.7777777777777778,\"#fb9f3a\"],[0.8888888888888888,\"#fdca26\"],[1.0,\"#f0f921\"]]}],\"contourcarpet\":[{\"type\":\"contourcarpet\",\"colorbar\":{\"outlinewidth\":0,\"ticks\":\"\"}}],\"contour\":[{\"type\":\"contour\",\"colorbar\":{\"outlinewidth\":0,\"ticks\":\"\"},\"colorscale\":[[0.0,\"#0d0887\"],[0.1111111111111111,\"#46039f\"],[0.2222222222222222,\"#7201a8\"],[0.3333333333333333,\"#9c179e\"],[0.4444444444444444,\"#bd3786\"],[0.5555555555555556,\"#d8576b\"],[0.6666666666666666,\"#ed7953\"],[0.7777777777777778,\"#fb9f3a\"],[0.8888888888888888,\"#fdca26\"],[1.0,\"#f0f921\"]]}],\"surface\":[{\"type\":\"surface\",\"colorbar\":{\"outlinewidth\":0,\"ticks\":\"\"},\"colorscale\":[[0.0,\"#0d0887\"],[0.1111111111111111,\"#46039f\"],[0.2222222222222222,\"#7201a8\"],[0.3333333333333333,\"#9c179e\"],[0.4444444444444444,\"#bd3786\"],[0.5555555555555556,\"#d8576b\"],[0.6666666666666666,\"#ed7953\"],[0.7777777777777778,\"#fb9f3a\"],[0.8888888888888888,\"#fdca26\"],[1.0,\"#f0f921\"]]}],\"mesh3d\":[{\"type\":\"mesh3d\",\"colorbar\":{\"outlinewidth\":0,\"ticks\":\"\"}}],\"scatter\":[{\"fillpattern\":{\"fillmode\":\"overlay\",\"size\":10,\"solidity\":0.2},\"type\":\"scatter\"}],\"parcoords\":[{\"type\":\"parcoords\",\"line\":{\"colorbar\":{\"outlinewidth\":0,\"ticks\":\"\"}}}],\"scatterpolargl\":[{\"type\":\"scatterpolargl\",\"marker\":{\"colorbar\":{\"outlinewidth\":0,\"ticks\":\"\"}}}],\"bar\":[{\"error_x\":{\"color\":\"#2a3f5f\"},\"error_y\":{\"color\":\"#2a3f5f\"},\"marker\":{\"line\":{\"color\":\"#E5ECF6\",\"width\":0.5},\"pattern\":{\"fillmode\":\"overlay\",\"size\":10,\"solidity\":0.2}},\"type\":\"bar\"}],\"scattergeo\":[{\"type\":\"scattergeo\",\"marker\":{\"colorbar\":{\"outlinewidth\":0,\"ticks\":\"\"}}}],\"scatterpolar\":[{\"type\":\"scatterpolar\",\"marker\":{\"colorbar\":{\"outlinewidth\":0,\"ticks\":\"\"}}}],\"histogram\":[{\"marker\":{\"pattern\":{\"fillmode\":\"overlay\",\"size\":10,\"solidity\":0.2}},\"type\":\"histogram\"}],\"scattergl\":[{\"type\":\"scattergl\",\"marker\":{\"colorbar\":{\"outlinewidth\":0,\"ticks\":\"\"}}}],\"scatter3d\":[{\"type\":\"scatter3d\",\"line\":{\"colorbar\":{\"outlinewidth\":0,\"ticks\":\"\"}},\"marker\":{\"colorbar\":{\"outlinewidth\":0,\"ticks\":\"\"}}}],\"scattermapbox\":[{\"type\":\"scattermapbox\",\"marker\":{\"colorbar\":{\"outlinewidth\":0,\"ticks\":\"\"}}}],\"scatterternary\":[{\"type\":\"scatterternary\",\"marker\":{\"colorbar\":{\"outlinewidth\":0,\"ticks\":\"\"}}}],\"scattercarpet\":[{\"type\":\"scattercarpet\",\"marker\":{\"colorbar\":{\"outlinewidth\":0,\"ticks\":\"\"}}}],\"carpet\":[{\"aaxis\":{\"endlinecolor\":\"#2a3f5f\",\"gridcolor\":\"white\",\"linecolor\":\"white\",\"minorgridcolor\":\"white\",\"startlinecolor\":\"#2a3f5f\"},\"baxis\":{\"endlinecolor\":\"#2a3f5f\",\"gridcolor\":\"white\",\"linecolor\":\"white\",\"minorgridcolor\":\"white\",\"startlinecolor\":\"#2a3f5f\"},\"type\":\"carpet\"}],\"table\":[{\"cells\":{\"fill\":{\"color\":\"#EBF0F8\"},\"line\":{\"color\":\"white\"}},\"header\":{\"fill\":{\"color\":\"#C8D4E3\"},\"line\":{\"color\":\"white\"}},\"type\":\"table\"}],\"barpolar\":[{\"marker\":{\"line\":{\"color\":\"#E5ECF6\",\"width\":0.5},\"pattern\":{\"fillmode\":\"overlay\",\"size\":10,\"solidity\":0.2}},\"type\":\"barpolar\"}],\"pie\":[{\"automargin\":true,\"type\":\"pie\"}]},\"layout\":{\"autotypenumbers\":\"strict\",\"colorway\":[\"#636efa\",\"#EF553B\",\"#00cc96\",\"#ab63fa\",\"#FFA15A\",\"#19d3f3\",\"#FF6692\",\"#B6E880\",\"#FF97FF\",\"#FECB52\"],\"font\":{\"color\":\"#2a3f5f\"},\"hovermode\":\"closest\",\"hoverlabel\":{\"align\":\"left\"},\"paper_bgcolor\":\"white\",\"plot_bgcolor\":\"#E5ECF6\",\"polar\":{\"bgcolor\":\"#E5ECF6\",\"angularaxis\":{\"gridcolor\":\"white\",\"linecolor\":\"white\",\"ticks\":\"\"},\"radialaxis\":{\"gridcolor\":\"white\",\"linecolor\":\"white\",\"ticks\":\"\"}},\"ternary\":{\"bgcolor\":\"#E5ECF6\",\"aaxis\":{\"gridcolor\":\"white\",\"linecolor\":\"white\",\"ticks\":\"\"},\"baxis\":{\"gridcolor\":\"white\",\"linecolor\":\"white\",\"ticks\":\"\"},\"caxis\":{\"gridcolor\":\"white\",\"linecolor\":\"white\",\"ticks\":\"\"}},\"coloraxis\":{\"colorbar\":{\"outlinewidth\":0,\"ticks\":\"\"}},\"colorscale\":{\"sequential\":[[0.0,\"#0d0887\"],[0.1111111111111111,\"#46039f\"],[0.2222222222222222,\"#7201a8\"],[0.3333333333333333,\"#9c179e\"],[0.4444444444444444,\"#bd3786\"],[0.5555555555555556,\"#d8576b\"],[0.6666666666666666,\"#ed7953\"],[0.7777777777777778,\"#fb9f3a\"],[0.8888888888888888,\"#fdca26\"],[1.0,\"#f0f921\"]],\"sequentialminus\":[[0.0,\"#0d0887\"],[0.1111111111111111,\"#46039f\"],[0.2222222222222222,\"#7201a8\"],[0.3333333333333333,\"#9c179e\"],[0.4444444444444444,\"#bd3786\"],[0.5555555555555556,\"#d8576b\"],[0.6666666666666666,\"#ed7953\"],[0.7777777777777778,\"#fb9f3a\"],[0.8888888888888888,\"#fdca26\"],[1.0,\"#f0f921\"]],\"diverging\":[[0,\"#8e0152\"],[0.1,\"#c51b7d\"],[0.2,\"#de77ae\"],[0.3,\"#f1b6da\"],[0.4,\"#fde0ef\"],[0.5,\"#f7f7f7\"],[0.6,\"#e6f5d0\"],[0.7,\"#b8e186\"],[0.8,\"#7fbc41\"],[0.9,\"#4d9221\"],[1,\"#276419\"]]},\"xaxis\":{\"gridcolor\":\"white\",\"linecolor\":\"white\",\"ticks\":\"\",\"title\":{\"standoff\":15},\"zerolinecolor\":\"white\",\"automargin\":true,\"zerolinewidth\":2},\"yaxis\":{\"gridcolor\":\"white\",\"linecolor\":\"white\",\"ticks\":\"\",\"title\":{\"standoff\":15},\"zerolinecolor\":\"white\",\"automargin\":true,\"zerolinewidth\":2},\"scene\":{\"xaxis\":{\"backgroundcolor\":\"#E5ECF6\",\"gridcolor\":\"white\",\"linecolor\":\"white\",\"showbackground\":true,\"ticks\":\"\",\"zerolinecolor\":\"white\",\"gridwidth\":2},\"yaxis\":{\"backgroundcolor\":\"#E5ECF6\",\"gridcolor\":\"white\",\"linecolor\":\"white\",\"showbackground\":true,\"ticks\":\"\",\"zerolinecolor\":\"white\",\"gridwidth\":2},\"zaxis\":{\"backgroundcolor\":\"#E5ECF6\",\"gridcolor\":\"white\",\"linecolor\":\"white\",\"showbackground\":true,\"ticks\":\"\",\"zerolinecolor\":\"white\",\"gridwidth\":2}},\"shapedefaults\":{\"line\":{\"color\":\"#2a3f5f\"}},\"annotationdefaults\":{\"arrowcolor\":\"#2a3f5f\",\"arrowhead\":0,\"arrowwidth\":1},\"geo\":{\"bgcolor\":\"white\",\"landcolor\":\"#E5ECF6\",\"subunitcolor\":\"white\",\"showland\":true,\"showlakes\":true,\"lakecolor\":\"white\"},\"title\":{\"x\":0.05},\"mapbox\":{\"style\":\"light\"}}},\"geo\":{\"domain\":{\"x\":[0.0,1.0],\"y\":[0.0,1.0]},\"center\":{},\"scope\":\"usa\",\"lataxis\":{\"showgrid\":true},\"lonaxis\":{\"showgrid\":true},\"visible\":false,\"resolution\":110,\"showcountries\":true,\"countrycolor\":\"Black\",\"showsubunits\":true,\"subunitcolor\":\"Black\",\"showland\":true,\"landcolor\":\"LightGreen\"},\"coloraxis\":{\"colorbar\":{\"title\":{\"text\":\"Avgdaily\"}},\"colorscale\":[[0.0,\"#0d0887\"],[0.1111111111111111,\"#46039f\"],[0.2222222222222222,\"#7201a8\"],[0.3333333333333333,\"#9c179e\"],[0.4444444444444444,\"#bd3786\"],[0.5555555555555556,\"#d8576b\"],[0.6666666666666666,\"#ed7953\"],[0.7777777777777778,\"#fb9f3a\"],[0.8888888888888888,\"#fdca26\"],[1.0,\"#f0f921\"]]},\"legend\":{\"tracegroupgap\":0,\"itemsizing\":\"constant\"},\"margin\":{\"t\":60},\"title\":{\"text\":\"Natural Gas Transmission Hubs in the United States (2009)<br><sup>(Size based on num. of customers. Hover for info.</sup>\",\"font\":{\"family\":\"PT Sans Narrow\",\"size\":21,\"color\":\"Purple\"}}},                        {\"responsive\": true}                    ).then(function(){\n",
       "                            \n",
       "var gd = document.getElementById('55bc5ee7-2df6-4cfa-8e12-317ee26f3d99');\n",
       "var x = new MutationObserver(function (mutations, observer) {{\n",
       "        var display = window.getComputedStyle(gd).display;\n",
       "        if (!display || display === 'none') {{\n",
       "            console.log([gd, 'removed!']);\n",
       "            Plotly.purge(gd);\n",
       "            observer.disconnect();\n",
       "        }}\n",
       "}});\n",
       "\n",
       "// Listen for the removal of the full notebook cells\n",
       "var notebookContainer = gd.closest('#notebook-container');\n",
       "if (notebookContainer) {{\n",
       "    x.observe(notebookContainer, {childList: true});\n",
       "}}\n",
       "\n",
       "// Listen for the clearing of the current output cell\n",
       "var outputEl = gd.closest('.output');\n",
       "if (outputEl) {{\n",
       "    x.observe(outputEl, {childList: true});\n",
       "}}\n",
       "\n",
       "                        })                };                });            </script>        </div>"
      ]
     },
     "metadata": {},
     "output_type": "display_data"
    }
   ],
   "source": [
    "fig = px.scatter_geo(df, lat='Latitude', lon='Longitude', \n",
    "                     scope = 'usa', hover_name='Hub_name', \n",
    "                     size='Numcust', color='Avgdaily')\n",
    "\n",
    "fig.update_geos(\n",
    "    visible=False, resolution=110, scope=\"usa\",\n",
    "    showcountries=True, countrycolor=\"Black\",\n",
    "    showsubunits=True, subunitcolor=\"Black\", \n",
    "    lataxis_showgrid=True, lonaxis_showgrid=True,\n",
    "    showland=True, landcolor=\"LightGreen\")\n",
    "\n",
    "fig.update_layout(\n",
    "        title = 'Natural Gas Transmission Hubs in the United States (2009)<br><sup>(Size based on num. of customers. Hover for info.</sup>'\n",
    "    , title_font_family=\"PT Sans Narrow\", title_font_size=21, title_font_color='Purple')\n",
    "\n",
    "fig.show()"
   ]
  },
  {
   "cell_type": "code",
   "execution_count": null,
   "id": "e00498d0",
   "metadata": {},
   "outputs": [],
   "source": []
  }
 ],
 "metadata": {
  "kernelspec": {
   "display_name": "Python (dojo-env)",
   "language": "python",
   "name": "dojo-env"
  },
  "language_info": {
   "codemirror_mode": {
    "name": "ipython",
    "version": 3
   },
   "file_extension": ".py",
   "mimetype": "text/x-python",
   "name": "python",
   "nbconvert_exporter": "python",
   "pygments_lexer": "ipython3",
   "version": "3.8.13"
  },
  "toc": {
   "base_numbering": 1,
   "nav_menu": {},
   "number_sections": false,
   "sideBar": true,
   "skip_h1_title": false,
   "title_cell": "Table of Contents",
   "title_sidebar": "Contents",
   "toc_cell": false,
   "toc_position": {},
   "toc_section_display": true,
   "toc_window_display": true
  }
 },
 "nbformat": 4,
 "nbformat_minor": 5
}
